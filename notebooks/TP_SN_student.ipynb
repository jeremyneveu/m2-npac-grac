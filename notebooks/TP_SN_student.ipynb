{
 "cells": [
  {
   "cell_type": "markdown",
   "metadata": {},
   "source": [
    "# Type Ia supernovae and data analysis\n",
    "\n",
    "## Python syntax\n",
    "\n",
    "* Indentations are mandatory in Python\n",
    "* Common mathematical operations are :\n",
    "    + `+,-,*,/` and `**`\n",
    "    + can be combined with `=` for instance to increment a variable `i += 1`\n",
    "* Numpy library contains a lot of useful mathematical functions such as :\n",
    "    + `np.sqrt(  )`, `np.exp(   )`, `np.log(  )`, `np.log10(   )` \n",
    "    + statistics of an array : `np.mean(  )`, `np.std(   )`\n",
    "    + sum of array elements : `np.sum(   )`\n",
    "\n",
    "## Magnitudes and standard candles\n",
    "\n",
    "The magnitude is a logarithmic scale that measures the brightness of an object observed from Earth. It is based on the measurement of flux $F_{\\rm obs}$ measured with a telescope and compared with a reference flux $F_{\\rm ref}$ that fixes the scale. The latter generally relies on a standard star, Vega in the Lyra constellation. The notion of magnitude is linked to the spectral bandwidth of the instrument.\n",
    "\n",
    "The brightness of an object can be expressed in terms of its absolute magnitude. This quantity is derived from the logarithm of its luminosity $L$ as seen from a distance of $10\\,$parsecs."
   ]
  },
  {
   "cell_type": "markdown",
   "metadata": {},
   "source": [
    "The apparent magnitude $m_B(z)$ in the filter $b$, or the magnitude as seen by the observer, is defined for historical reasons as:\n",
    "\\begin{equation}\n",
    "m_b(z) = -2.5\\log_{10} \\left[\\frac{F_{\\rm obs}}{F_{\\rm ref}} \\right]\n",
    "\\end{equation}\n"
   ]
  },
  {
   "cell_type": "markdown",
   "metadata": {},
   "source": [
    "The absolute magnitude $m_B(z)$ in the filter $B$, or the magnitude as seen by the observer, is defined for historical reasons as:\n",
    "\\begin{equation}\n",
    "M_B = -2.5 \\log_{10} \\frac{F_{\\rm obs}(10\\,\\mathrm{pc})}{F_{\\rm ref}} =  -2.5 \\log_{10} \\frac{L}{4\\pi (10\\,\\mathrm{pc})^2 F_{\\rm ref}}\n",
    "\\end{equation}\n",
    "\n",
    "\\begin{align*}\n",
    "m_B(z) & = -2.5\\log_{10} \\left[\\frac{F_{\\rm obs}}{F_{\\rm ref}} \\right] =  5 \\log_{10} \\frac{D_L(z)}{10\\,\\mathrm{pc}}  + M_B  + K_{bB} \\\\\n",
    "\\end{align*}\n",
    "\n",
    "We define the B-band rest-frame magnitude as:\n",
    "\\begin{align*}\n",
    "m_B^* = m_b - K_{bB}\n",
    "\\end{align*}\n",
    "and the luminosity distance:\n",
    "\\begin{equation}\n",
    "D_L(z) =  \\left\\lbrace\\begin{array}{cl}\n",
    "    \\displaystyle{\\frac{(1+z)c}{H_0\\sqrt{-\\Omega_k^0}}\\sin\\left[H_0\\sqrt{-\\Omega_k^0}\\int_0^z\\frac{dz}{H(z)}\\right]}  & \\text{ if } k=+1 \\\\\n",
    "    \\displaystyle{(1+z)\\int_0^z\\frac{cdz}{H(z)}} & \\text{ if } k=0 \\\\\n",
    "    \\displaystyle{\\frac{(1+z)c}{H_0\\sqrt{\\Omega_k^0}}\\sinh\\left[H_0\\sqrt{\\Omega_k^0}\\int_0^z\\frac{dz}{H(z)}\\right] }  & \\text{ if } k=-1\n",
    "\\end{array}\n",
    "\\right.\n",
    "\\end{equation}"
   ]
  },
  {
   "cell_type": "markdown",
   "source": [
    "We give $M_B = -19.08$ mag."
   ],
   "metadata": {
    "collapsed": false
   }
  },
  {
   "cell_type": "markdown",
   "metadata": {},
   "source": [
    "## A simple Hubble diagram\n",
    "\n",
    "\n",
    "In the joined data file, the most recent type Ia supernovae measurements from SNLS collaboration have been reported Betoule et al. 2014. 740 good quality supernovae are present with their name, their redshift $z$ (`zcmb`) and their rest-frame $B$ band peak magnitude $m_B^*$ (`mb`) with its uncertainty $\\delta m_B^*$ (`dmb`). The column `set` gives a label for each data set among SNLS, low-z, SDSSS and HST. They are sorted by redshift in ascending order. See Figure 8 in https://arxiv.org/abs/1401.4064 .\n",
    "\n",
    "**First, initialize the notebook and make the plot $m_B^*(z)$ so as it looks like the one in quoted figure above.**"
   ]
  },
  {
   "cell_type": "code",
   "execution_count": 2,
   "metadata": {},
   "outputs": [],
   "source": [
    "# initialisation of the notebook\n",
    "%matplotlib ipympl\n",
    "import numpy as np\n",
    "import matplotlib.pylab as plt\n",
    "import pandas as pd\n",
    "import astropy.units as u"
   ]
  },
  {
   "cell_type": "code",
   "execution_count": 3,
   "metadata": {},
   "outputs": [
    {
     "data": {
      "text/plain": "         #name      zcmb      zhel        dz         mb       dmb        x1  \\\n0     sn1999ac  0.010060  0.009500  0.000236  14.148421  0.174566  0.202688   \n1      sn2004s  0.010291  0.009370  0.000428  14.157498  0.173593 -0.117402   \n2     sn1997do  0.010550  0.010120  0.000077  14.449314  0.173090  0.791332   \n3     sn2002dp  0.010888  0.011638  0.000448  14.557203  0.169021 -0.316464   \n4     sn2006bh  0.011184  0.010900  0.000634  14.342973  0.166533 -1.648794   \n..         ...       ...       ...       ...        ...       ...       ...   \n735     06D3en  1.060801  1.060000  0.000000  24.707870  0.132013 -0.952679   \n736       Gabi  1.120850  1.120000  0.000000  25.147113  0.121686  0.620453   \n737  Lancaster  1.230892  1.230000  0.000000  26.046776  0.128558 -0.077374   \n738  Torngasek  1.265901  1.265000  0.000000  25.735598  0.128614  0.286816   \n739  Aphrodite  1.299106  1.300000  0.000000  25.691231  0.128055  0.664323   \n\n          dx1     color    dcolor     3rdvar   d3rdvar   cov_m_s   cov_m_c  \\\n0    0.068440  0.048593  0.025981   9.917000  0.128500  0.000244  0.000652   \n1    0.082511  0.022258  0.024846   9.708903  0.280891 -0.000483  0.000665   \n2    0.187870  0.118415  0.030547   9.941915  0.280891  0.003521  0.000989   \n3    0.184325  0.054095  0.023005  10.470000  0.363500  0.001596  0.000487   \n4    0.032216 -0.083155  0.019407  10.915000  0.352000 -0.000039  0.000286   \n..        ...       ...       ...        ...       ...       ...       ...   \n735  0.412773 -0.158207  0.061030   7.715000  0.935000  0.010444 -0.003050   \n736  0.307485 -0.075491  0.053200   8.335000  0.296000  0.004032  0.000388   \n737  0.690464  0.087011  0.048271  10.134000  0.194500  0.003542  0.000211   \n738  0.559546  0.021062  0.047718  10.834000  0.391000 -0.003817 -0.000169   \n739  0.357559  0.009896  0.036862   9.381000  0.368000  0.004579  0.000365   \n\n      cov_s_c  set   mb_corr  \n0   -0.000154    3  14.05227  \n1   -0.000348    3  14.08718  \n2    0.001322    3  14.25219  \n3    0.001020    3  14.38241  \n4   -0.000115    3  14.34476  \n..        ...  ...       ...  \n735  0.004456    1  24.98430  \n736  0.005988    4  25.41340  \n737  0.008241    4  25.81958  \n738  0.003064    4  25.71880  \n739  0.006110    4  25.74953  \n\n[740 rows x 17 columns]",
      "text/html": "<div>\n<style scoped>\n    .dataframe tbody tr th:only-of-type {\n        vertical-align: middle;\n    }\n\n    .dataframe tbody tr th {\n        vertical-align: top;\n    }\n\n    .dataframe thead th {\n        text-align: right;\n    }\n</style>\n<table border=\"1\" class=\"dataframe\">\n  <thead>\n    <tr style=\"text-align: right;\">\n      <th></th>\n      <th>#name</th>\n      <th>zcmb</th>\n      <th>zhel</th>\n      <th>dz</th>\n      <th>mb</th>\n      <th>dmb</th>\n      <th>x1</th>\n      <th>dx1</th>\n      <th>color</th>\n      <th>dcolor</th>\n      <th>3rdvar</th>\n      <th>d3rdvar</th>\n      <th>cov_m_s</th>\n      <th>cov_m_c</th>\n      <th>cov_s_c</th>\n      <th>set</th>\n      <th>mb_corr</th>\n    </tr>\n  </thead>\n  <tbody>\n    <tr>\n      <th>0</th>\n      <td>sn1999ac</td>\n      <td>0.010060</td>\n      <td>0.009500</td>\n      <td>0.000236</td>\n      <td>14.148421</td>\n      <td>0.174566</td>\n      <td>0.202688</td>\n      <td>0.068440</td>\n      <td>0.048593</td>\n      <td>0.025981</td>\n      <td>9.917000</td>\n      <td>0.128500</td>\n      <td>0.000244</td>\n      <td>0.000652</td>\n      <td>-0.000154</td>\n      <td>3</td>\n      <td>14.05227</td>\n    </tr>\n    <tr>\n      <th>1</th>\n      <td>sn2004s</td>\n      <td>0.010291</td>\n      <td>0.009370</td>\n      <td>0.000428</td>\n      <td>14.157498</td>\n      <td>0.173593</td>\n      <td>-0.117402</td>\n      <td>0.082511</td>\n      <td>0.022258</td>\n      <td>0.024846</td>\n      <td>9.708903</td>\n      <td>0.280891</td>\n      <td>-0.000483</td>\n      <td>0.000665</td>\n      <td>-0.000348</td>\n      <td>3</td>\n      <td>14.08718</td>\n    </tr>\n    <tr>\n      <th>2</th>\n      <td>sn1997do</td>\n      <td>0.010550</td>\n      <td>0.010120</td>\n      <td>0.000077</td>\n      <td>14.449314</td>\n      <td>0.173090</td>\n      <td>0.791332</td>\n      <td>0.187870</td>\n      <td>0.118415</td>\n      <td>0.030547</td>\n      <td>9.941915</td>\n      <td>0.280891</td>\n      <td>0.003521</td>\n      <td>0.000989</td>\n      <td>0.001322</td>\n      <td>3</td>\n      <td>14.25219</td>\n    </tr>\n    <tr>\n      <th>3</th>\n      <td>sn2002dp</td>\n      <td>0.010888</td>\n      <td>0.011638</td>\n      <td>0.000448</td>\n      <td>14.557203</td>\n      <td>0.169021</td>\n      <td>-0.316464</td>\n      <td>0.184325</td>\n      <td>0.054095</td>\n      <td>0.023005</td>\n      <td>10.470000</td>\n      <td>0.363500</td>\n      <td>0.001596</td>\n      <td>0.000487</td>\n      <td>0.001020</td>\n      <td>3</td>\n      <td>14.38241</td>\n    </tr>\n    <tr>\n      <th>4</th>\n      <td>sn2006bh</td>\n      <td>0.011184</td>\n      <td>0.010900</td>\n      <td>0.000634</td>\n      <td>14.342973</td>\n      <td>0.166533</td>\n      <td>-1.648794</td>\n      <td>0.032216</td>\n      <td>-0.083155</td>\n      <td>0.019407</td>\n      <td>10.915000</td>\n      <td>0.352000</td>\n      <td>-0.000039</td>\n      <td>0.000286</td>\n      <td>-0.000115</td>\n      <td>3</td>\n      <td>14.34476</td>\n    </tr>\n    <tr>\n      <th>...</th>\n      <td>...</td>\n      <td>...</td>\n      <td>...</td>\n      <td>...</td>\n      <td>...</td>\n      <td>...</td>\n      <td>...</td>\n      <td>...</td>\n      <td>...</td>\n      <td>...</td>\n      <td>...</td>\n      <td>...</td>\n      <td>...</td>\n      <td>...</td>\n      <td>...</td>\n      <td>...</td>\n      <td>...</td>\n    </tr>\n    <tr>\n      <th>735</th>\n      <td>06D3en</td>\n      <td>1.060801</td>\n      <td>1.060000</td>\n      <td>0.000000</td>\n      <td>24.707870</td>\n      <td>0.132013</td>\n      <td>-0.952679</td>\n      <td>0.412773</td>\n      <td>-0.158207</td>\n      <td>0.061030</td>\n      <td>7.715000</td>\n      <td>0.935000</td>\n      <td>0.010444</td>\n      <td>-0.003050</td>\n      <td>0.004456</td>\n      <td>1</td>\n      <td>24.98430</td>\n    </tr>\n    <tr>\n      <th>736</th>\n      <td>Gabi</td>\n      <td>1.120850</td>\n      <td>1.120000</td>\n      <td>0.000000</td>\n      <td>25.147113</td>\n      <td>0.121686</td>\n      <td>0.620453</td>\n      <td>0.307485</td>\n      <td>-0.075491</td>\n      <td>0.053200</td>\n      <td>8.335000</td>\n      <td>0.296000</td>\n      <td>0.004032</td>\n      <td>0.000388</td>\n      <td>0.005988</td>\n      <td>4</td>\n      <td>25.41340</td>\n    </tr>\n    <tr>\n      <th>737</th>\n      <td>Lancaster</td>\n      <td>1.230892</td>\n      <td>1.230000</td>\n      <td>0.000000</td>\n      <td>26.046776</td>\n      <td>0.128558</td>\n      <td>-0.077374</td>\n      <td>0.690464</td>\n      <td>0.087011</td>\n      <td>0.048271</td>\n      <td>10.134000</td>\n      <td>0.194500</td>\n      <td>0.003542</td>\n      <td>0.000211</td>\n      <td>0.008241</td>\n      <td>4</td>\n      <td>25.81958</td>\n    </tr>\n    <tr>\n      <th>738</th>\n      <td>Torngasek</td>\n      <td>1.265901</td>\n      <td>1.265000</td>\n      <td>0.000000</td>\n      <td>25.735598</td>\n      <td>0.128614</td>\n      <td>0.286816</td>\n      <td>0.559546</td>\n      <td>0.021062</td>\n      <td>0.047718</td>\n      <td>10.834000</td>\n      <td>0.391000</td>\n      <td>-0.003817</td>\n      <td>-0.000169</td>\n      <td>0.003064</td>\n      <td>4</td>\n      <td>25.71880</td>\n    </tr>\n    <tr>\n      <th>739</th>\n      <td>Aphrodite</td>\n      <td>1.299106</td>\n      <td>1.300000</td>\n      <td>0.000000</td>\n      <td>25.691231</td>\n      <td>0.128055</td>\n      <td>0.664323</td>\n      <td>0.357559</td>\n      <td>0.009896</td>\n      <td>0.036862</td>\n      <td>9.381000</td>\n      <td>0.368000</td>\n      <td>0.004579</td>\n      <td>0.000365</td>\n      <td>0.006110</td>\n      <td>4</td>\n      <td>25.74953</td>\n    </tr>\n  </tbody>\n</table>\n<p>740 rows × 17 columns</p>\n</div>"
     },
     "execution_count": 3,
     "metadata": {},
     "output_type": "execute_result"
    }
   ],
   "source": [
    "# import data\n",
    "df = pd.read_csv(\"data/sne_data_zsorted.txt\", delimiter=\"\\t\")\n",
    "df"
   ]
  },
  {
   "cell_type": "markdown",
   "source": [
    "**Define a function `mB_f(z, OmegaM, OmegaL, MB)` that returns an array of distance modules $\\mu(z)+M_B$ given an array of redshifts `z`, and values for $\\Omega_m^0$, $\\Omega_\\Lambda^0$ and $M_B$.** \n",
    "\n",
    "**Hint: Use the [`astropy.cosmology`](https://docs.astropy.org/en/stable/cosmology/) library to set a `LambdaCDM` cosmology with common values for cosmological parameters and get the luminosity distance. If needed, to set a `Quantity` of 1 parcec, use `1e-6 * u.megaparsec` thanks to [astropy.units](https://docs.astropy.org/en/stable/units/) or to set quantities in magnitude use `u.mag`.**"
   ],
   "metadata": {
    "collapsed": false
   }
  },
  {
   "cell_type": "code",
   "execution_count": 3,
   "outputs": [],
   "source": [],
   "metadata": {
    "collapsed": false
   }
  },
  {
   "cell_type": "markdown",
   "source": [
    "**Superimpose your prediction for $m^*_{B}$ on the Hubble diagram. Be curious and test other models, like ones without dark energy. Comment.**"
   ],
   "metadata": {
    "collapsed": false
   }
  },
  {
   "cell_type": "code",
   "execution_count": 3,
   "metadata": {},
   "outputs": [],
   "source": []
  },
  {
   "cell_type": "markdown",
   "source": [
    "**Use the `scipy.optimize` function [`curve_fit`](https://docs.scipy.org/doc/scipy/reference/generated/scipy.optimize.curve_fit.html) to adjust your model to data.**"
   ],
   "metadata": {
    "collapsed": false
   }
  },
  {
   "cell_type": "code",
   "execution_count": 3,
   "outputs": [],
   "source": [],
   "metadata": {
    "collapsed": false
   }
  },
  {
   "cell_type": "markdown",
   "metadata": {},
   "source": [
    "**To check the quality of the fit, compute the array of residuals of your best-fit model and plot them as a function of redshift. Then compute the RMS of the residuals and the total $\\chi^2$. Compare the latter with the number of measurements.**"
   ]
  },
  {
   "cell_type": "code",
   "execution_count": 3,
   "outputs": [],
   "source": [],
   "metadata": {
    "collapsed": false
   }
  },
  {
   "cell_type": "code",
   "execution_count": 3,
   "outputs": [],
   "source": [],
   "metadata": {
    "collapsed": false
   }
  },
  {
   "cell_type": "markdown",
   "source": [
    "**Comment the value of `total_chisq` and `RMS`.**"
   ],
   "metadata": {
    "collapsed": false
   }
  },
  {
   "cell_type": "markdown",
   "source": [
    "The total value of `total_chisq` is huge compared to 740 : it means that the fit is bad even for a good-looking fit on the plot. The spread of data around the model is too important: `RMS` is around 0.3 mag."
   ],
   "metadata": {
    "collapsed": false
   }
  },
  {
   "cell_type": "markdown",
   "source": [
    "**Check that changing the $H_0$ value does not modify the best fit cosmological parameters but only the constant $M_B$.**"
   ],
   "metadata": {
    "collapsed": false
   }
  },
  {
   "cell_type": "markdown",
   "source": [
    "## Corrected magnitudes\n",
    "\n",
    "Actually, the type Ia supernovae are not so standard but standarisable. They have a supplementary variability that depends on their color and their duration (Astier et al. 2001). For instance, the longer is the supernovae the brighter it is also (the *brighter-slower* rule). These systematic bias can be removed to increase the quality of the data sample.\n",
    "\n",
    "In the data file, the `color` column gives the $B-V$ color and the \"stretch\" parameter `x1` measures the duration of the supernova. They are given with their uncertainties.\n",
    "\n"
   ],
   "metadata": {
    "collapsed": false
   }
  },
  {
   "cell_type": "markdown",
   "source": "**First, draw a scatter plot of your best-fit residuals versus `color`. Add the uncertainties and fit the residuals with a line: $m_B^*-\\texttt{mb} \\,\\equiv\\,  \\beta\\, \\texttt{color} + C$ (you can use [`numpy.polyfit`](https://numpy.org/doc/stable/reference/generated/numpy.polyfit.html)). Plot the best fit line and comment on how to correct your magnitude model.**",
   "metadata": {
    "collapsed": false
   }
  },
  {
   "cell_type": "code",
   "execution_count": 3,
   "outputs": [],
   "source": [],
   "metadata": {
    "collapsed": false
   }
  },
  {
   "cell_type": "code",
   "execution_count": 3,
   "outputs": [],
   "source": [],
   "metadata": {
    "collapsed": false
   }
  },
  {
   "cell_type": "markdown",
   "source": [],
   "metadata": {
    "collapsed": false
   }
  },
  {
   "cell_type": "markdown",
   "source": "**Then, draw a scatter plot of your best-fit residuals versus `x1`. Add the uncertainties and fit the residuals with a line: $m_B^*-\\texttt{mb}\\, \\equiv \\,  \\alpha\\, \\texttt{x1} + C$. Plot the best fit line and comment on how to correct your magnitude model.**",
   "metadata": {
    "collapsed": false
   }
  },
  {
   "cell_type": "code",
   "execution_count": 3,
   "outputs": [],
   "source": [],
   "metadata": {
    "collapsed": false
   }
  },
  {
   "cell_type": "code",
   "execution_count": 3,
   "outputs": [],
   "source": [],
   "metadata": {
    "collapsed": false
   }
  },
  {
   "cell_type": "markdown",
   "source": [],
   "metadata": {
    "collapsed": false
   }
  },
  {
   "cell_type": "markdown",
   "source": "**Propose a way to correct the measured magnitudes in order to remove the systematic trends that we observe. Fill an array `mb_corr` with your proposition, and a array `mb_corr_err` with the propagated uncertainties.**",
   "metadata": {
    "collapsed": false
   }
  },
  {
   "cell_type": "code",
   "execution_count": 3,
   "outputs": [],
   "source": [],
   "metadata": {
    "collapsed": false
   }
  },
  {
   "cell_type": "markdown",
   "source": "**Make a new Hubble diagram using these corrected magnitudes and superimpose your cosmological model. Compute again the residuals and $\\chi^2$ as previously for this new fit. Comment.**",
   "metadata": {
    "collapsed": false
   }
  },
  {
   "cell_type": "code",
   "execution_count": 3,
   "outputs": [],
   "source": [],
   "metadata": {
    "collapsed": false
   }
  },
  {
   "cell_type": "markdown",
   "source": [
    "**What are the best fit values for $\\Omega_m^0$ and $\\Omega_\\Lambda^0$ and their uncertainties?**"
   ],
   "metadata": {
    "collapsed": false
   }
  },
  {
   "cell_type": "code",
   "execution_count": 3,
   "outputs": [],
   "source": [],
   "metadata": {
    "collapsed": false
   }
  },
  {
   "cell_type": "markdown",
   "source": [
    "**Plot the new residuals.**"
   ],
   "metadata": {
    "collapsed": false
   }
  },
  {
   "cell_type": "code",
   "execution_count": 3,
   "outputs": [],
   "source": [],
   "metadata": {
    "collapsed": false
   }
  },
  {
   "cell_type": "markdown",
   "source": [
    "## Full model"
   ],
   "metadata": {
    "collapsed": false
   }
  },
  {
   "cell_type": "markdown",
   "metadata": {},
   "source": [
    "The full model contains the cosmological models but also the nuisance parameters $\\alpha$ and $\\beta$ that have to be fitted on data together.\n",
    "\n",
    "**Write a function `chisq_LCDM(Omega_m,Omega_L,alpha,beta,MB)` that returns the total $\\chi^2$, using most of the previous code.**\n"
   ]
  },
  {
   "cell_type": "code",
   "execution_count": 3,
   "metadata": {},
   "outputs": [],
   "source": []
  },
  {
   "cell_type": "markdown",
   "source": [
    "**Vary the $\\alpha$, $\\beta$, $\\mathcal{M}$ and cosmological parameters and check that you found the best fitting model.**"
   ],
   "metadata": {
    "collapsed": false
   }
  },
  {
   "cell_type": "markdown",
   "metadata": {},
   "source": [
    "## Testing the flat $\\Lambda$CDM model\n",
    "\n",
    "The goal now is to estimate the best fit parameter for the *flat* $\\Lambda$CDM model from data. This cosmological model has only one free parameter, $\\Omega_m^0$, as we have $\\Omega_\\Lambda^0 = 1 - \\Omega_m^0$. Using the supernova data, we want to obtain the probability density function of $\\Omega_m^0$ given the observed supernovae.\n",
    "\n",
    "The Bayes theorem gives:\n",
    "\\begin{equation}\n",
    "\\mathrm{PDF}(\\Omega_m^0 \\vert \\mathrm{data}) = \\frac{ \\mathrm{PDF}(\\mathrm{data} \\vert \\Omega_m^0) \\mathrm{PDF}(\\Omega_m^0)} { \\mathrm{PDF}(\\mathrm{data})}\n",
    "\\end{equation}\n",
    "$\\mathrm{PDF}(\\mathrm{data})$ and $\\mathrm{PDF}(\\Omega_m^0)$ corresponds to prior knowledge of the given quantities, which are usually assumed to be flat in cosmology (no information about $\\Omega_m^0$ before the fit). The likelihood function is defined as the probability to observe a dataset in a particular model:\n",
    "\\begin{equation}\n",
    "\\mathcal{L}(\\Omega_m^0) \\equiv  \\mathrm{PDF}(\\mathrm{data} \\vert \\Omega_m^0)\n",
    "\\end{equation}\n",
    "Assuming Gaussian probabilities, this function can be evaluated by:\n",
    "\\begin{equation}\n",
    "\\mathcal{L}(\\Omega_m^0)  \\propto e^{-\\chi^2(\\Omega_m^0) / 2}\n",
    "\\end{equation}\n",
    "Then in this simple way the probability density function of $\\Omega_m^0$ is the likelihood function normalised to unity. See https://npac.ijclab.in2p3.fr/wp-content/uploads/2024/COURS/Sem1/statistics/NPAC_Statistics_2024_25.pdf \n"
   ]
  },
  {
   "cell_type": "markdown",
   "source": "**First, test flat Einstein-de Sitter models with different values of $\\Omega_m^0$ and remark that such a model is incompatible with data whatever value for its parameters: you need dark energy!**",
   "metadata": {
    "collapsed": false
   }
  },
  {
   "cell_type": "markdown",
   "metadata": {},
   "source": []
  },
  {
   "cell_type": "code",
   "execution_count": 3,
   "metadata": {},
   "outputs": [],
   "source": []
  },
  {
   "cell_type": "markdown",
   "metadata": {},
   "source": "**Now, for a flat $\\Lambda$CDM model, initialize a $\\Omega_m^0$ array between 0.25 and 0.4. Compute the corresponding $\\Omega_\\Lambda^0$ array in the flat case. Then for these sets of parameters, compute and plot the likelihood function $\\mathcal{L}(\\Omega_m^0)$. What is the best fit value of $\\Omega_m^0$ and its uncertainty?**"
  },
  {
   "cell_type": "code",
   "execution_count": 3,
   "metadata": {},
   "outputs": [],
   "source": []
  },
  {
   "cell_type": "markdown",
   "metadata": {},
   "source": []
  },
  {
   "cell_type": "markdown",
   "metadata": {},
   "source": [
    "# Testing the $\\Lambda$CDM model\n",
    "\n",
    "**Reproduce Figure 14 from https://arxiv.org/abs/1401.4064 , computing the 2D PDF $\\mathcal{L}(\\Omega_m^0, \\Omega_\\Lambda^0)$.**\n"
   ]
  },
  {
   "cell_type": "code",
   "execution_count": 3,
   "metadata": {},
   "outputs": [],
   "source": []
  },
  {
   "cell_type": "markdown",
   "source": "**You can add the 68% and 95% probability contours with `matplotlib.contours`. The first one stands where $\\Delta \\chi^2 = \\chi^2(\\Omega_m^0, \\Omega_\\Lambda^0) - min(\\chi^2(\\Omega_m^0, \\Omega_\\Lambda^0))$ is 2.3, and the second one for 5.99 (see table 40.2 https://pdg.lbl.gov/2020/reviews/rpp2020-rev-statistics.pdf). Add the line on the plot where $\\Omega_k^0 = 0$.**",
   "metadata": {
    "collapsed": false
   }
  },
  {
   "cell_type": "code",
   "execution_count": 3,
   "metadata": {},
   "outputs": [],
   "source": []
  },
  {
   "cell_type": "markdown",
   "source": [
    "## Testing flat $w$CDM model\n",
    "\n",
    "**If you have time, test the flat $w$CDM model, like Figure 15.**"
   ],
   "metadata": {
    "collapsed": false
   }
  },
  {
   "cell_type": "code",
   "execution_count": 3,
   "outputs": [],
   "source": [],
   "metadata": {
    "collapsed": false
   }
  },
  {
   "cell_type": "code",
   "execution_count": 3,
   "outputs": [],
   "source": [],
   "metadata": {
    "collapsed": false
   }
  },
  {
   "cell_type": "code",
   "execution_count": 3,
   "outputs": [],
   "source": [],
   "metadata": {
    "collapsed": false
   }
  },
  {
   "cell_type": "code",
   "execution_count": 3,
   "outputs": [],
   "source": [],
   "metadata": {
    "collapsed": false
   }
  }
 ],
 "metadata": {
  "kernelspec": {
   "display_name": "Python 3",
   "language": "python",
   "name": "python3"
  },
  "language_info": {
   "codemirror_mode": {
    "name": "ipython",
    "version": 3
   },
   "file_extension": ".py",
   "mimetype": "text/x-python",
   "name": "python",
   "nbconvert_exporter": "python",
   "pygments_lexer": "ipython3",
   "version": "3.6.3"
  }
 },
 "nbformat": 4,
 "nbformat_minor": 1
}
