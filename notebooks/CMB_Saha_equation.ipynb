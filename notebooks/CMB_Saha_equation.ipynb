{
 "cells": [
  {
   "cell_type": "markdown",
   "source": [
    "# Thermal history\n",
    "\n",
    "## Saha equation"
   ],
   "metadata": {
    "collapsed": false
   }
  },
  {
   "cell_type": "code",
   "execution_count": 1,
   "outputs": [],
   "source": [
    "import numpy as np\n",
    "import matplotlib.pyplot as plt\n",
    "import astropy.constants as const\n",
    "import astropy.units as u\n",
    "from scipy.special import zeta\n",
    "from astropy.cosmology import Planck18, WMAP7"
   ],
   "metadata": {
    "collapsed": false,
    "ExecuteTime": {
     "end_time": "2024-02-02T18:32:41.416424Z",
     "start_time": "2024-02-02T18:32:37.987759Z"
    }
   }
  },
  {
   "cell_type": "code",
   "execution_count": 2,
   "outputs": [],
   "source": [
    "Planck18 = WMAP7\n",
    "\n",
    "T0 = 2.726 * u.K  # K\n",
    "H0 = Planck18.H0  # 70 * u.km / u.s / u.Mpc\n",
    "BH = 13.6 * u.eV  # eV\n",
    "Omegab0 = Planck18.Ob0\n",
    "Omegam0 = Planck18.Om0\n",
    "age = Planck18.lookback_time(np.inf)\n",
    "rhoc0 = (3 * H0**2 / (8 * np.pi * const.G) / const.m_p).to(1/u.m**3)\n",
    "sigmaT = 6.6529e-29 * u.m**2"
   ],
   "metadata": {
    "collapsed": false,
    "ExecuteTime": {
     "end_time": "2024-02-02T18:32:41.451768Z",
     "start_time": "2024-02-02T18:32:41.422780Z"
    }
   }
  },
  {
   "cell_type": "code",
   "execution_count": 3,
   "outputs": [
    {
     "data": {
      "text/plain": "<Quantity 5.56572974 1 / m3>",
      "text/latex": "$5.5657297 \\; \\mathrm{\\frac{1}{m^{3}}}$"
     },
     "execution_count": 3,
     "metadata": {},
     "output_type": "execute_result"
    }
   ],
   "source": [
    "rhoc0"
   ],
   "metadata": {
    "collapsed": false,
    "ExecuteTime": {
     "end_time": "2024-02-02T18:32:41.506984Z",
     "start_time": "2024-02-02T18:32:41.439697Z"
    }
   }
  },
  {
   "cell_type": "markdown",
   "source": [
    "$$T(z) = T_0 (1+z)$$"
   ],
   "metadata": {
    "collapsed": false
   }
  },
  {
   "cell_type": "code",
   "execution_count": 4,
   "outputs": [],
   "source": [
    "def T(z):\n",
    "    return T0 * (1+z)"
   ],
   "metadata": {
    "collapsed": false,
    "ExecuteTime": {
     "end_time": "2024-02-02T18:32:41.533420Z",
     "start_time": "2024-02-02T18:32:41.448176Z"
    }
   }
  },
  {
   "cell_type": "markdown",
   "source": [
    "$$n_\\gamma = \\frac{2\\zeta(3)}{\\pi^2}\\left(\\frac{k_B T}{\\hbar c}\\right)^3$$"
   ],
   "metadata": {
    "collapsed": false
   }
  },
  {
   "cell_type": "code",
   "execution_count": 5,
   "outputs": [],
   "source": [
    "def ng(T):\n",
    "    prefactor = 2 * zeta(3) / np.pi**2\n",
    "    return prefactor * (const.k_B * T / (const.hbar * const.c))**3"
   ],
   "metadata": {
    "collapsed": false,
    "ExecuteTime": {
     "end_time": "2024-02-02T18:32:41.559843Z",
     "start_time": "2024-02-02T18:32:41.461856Z"
    }
   }
  },
  {
   "cell_type": "code",
   "execution_count": 6,
   "outputs": [
    {
     "data": {
      "text/plain": "<Quantity 4.10952936e+08 1 / m3>",
      "text/latex": "$4.1095294 \\times 10^{8} \\; \\mathrm{\\frac{1}{m^{3}}}$"
     },
     "execution_count": 6,
     "metadata": {},
     "output_type": "execute_result"
    }
   ],
   "source": [
    "ng(T0)"
   ],
   "metadata": {
    "collapsed": false,
    "ExecuteTime": {
     "end_time": "2024-02-02T18:32:41.564491Z",
     "start_time": "2024-02-02T18:32:41.468534Z"
    }
   }
  },
  {
   "cell_type": "markdown",
   "source": [
    "$$n_b(z) = \\Omega_b^0 \\rho_c^0 (1+z)^3/m_p$$"
   ],
   "metadata": {
    "collapsed": false
   }
  },
  {
   "cell_type": "code",
   "execution_count": 7,
   "outputs": [],
   "source": [
    "def nb(z):\n",
    "    return Omegab0 * rhoc0 * (1+z)**3"
   ],
   "metadata": {
    "collapsed": false,
    "ExecuteTime": {
     "end_time": "2024-02-02T18:32:41.647806Z",
     "start_time": "2024-02-02T18:32:41.481057Z"
    }
   }
  },
  {
   "cell_type": "code",
   "execution_count": 8,
   "outputs": [
    {
     "data": {
      "text/plain": "<Quantity 0.2532407 1 / m3>",
      "text/latex": "$0.2532407 \\; \\mathrm{\\frac{1}{m^{3}}}$"
     },
     "execution_count": 8,
     "metadata": {},
     "output_type": "execute_result"
    }
   ],
   "source": [
    "nb(0)"
   ],
   "metadata": {
    "collapsed": false,
    "ExecuteTime": {
     "end_time": "2024-02-02T18:32:41.699306Z",
     "start_time": "2024-02-02T18:32:41.494760Z"
    }
   }
  },
  {
   "cell_type": "code",
   "execution_count": 9,
   "outputs": [
    {
     "data": {
      "text/plain": "<Quantity 6.16227994e-10>",
      "text/latex": "$6.1622799 \\times 10^{-10} \\; \\mathrm{}$"
     },
     "execution_count": 9,
     "metadata": {},
     "output_type": "execute_result"
    }
   ],
   "source": [
    "eta = nb(0) / ng(T0)\n",
    "eta"
   ],
   "metadata": {
    "collapsed": false,
    "ExecuteTime": {
     "end_time": "2024-02-02T18:32:41.754374Z",
     "start_time": "2024-02-02T18:32:41.512034Z"
    }
   }
  },
  {
   "cell_type": "markdown",
   "source": [
    "$$\\frac{1-X_e}{X_e^2} = \\eta n_\\gamma(T) \\left(\\frac{m_e k_B T}{2 \\pi \\hbar^2}\\right)^{-3/2} \\exp\\left(\\frac{B_H}{k_B T}\\right) \\equiv c$$"
   ],
   "metadata": {
    "collapsed": false
   }
  },
  {
   "cell_type": "code",
   "execution_count": 10,
   "outputs": [],
   "source": [
    "def c(T):\n",
    "    exp = np.exp(BH.to(u.J)/ (const.k_B * T))\n",
    "    factor = eta * (ng(T) * (const.m_e * const.k_B * T / (2 * np.pi * const.hbar**2)) **(-3/2)).to(u.dimensionless_unscaled)\n",
    "    return (factor * exp).value"
   ],
   "metadata": {
    "collapsed": false,
    "ExecuteTime": {
     "end_time": "2024-02-02T18:32:41.755430Z",
     "start_time": "2024-02-02T18:32:41.524641Z"
    }
   }
  },
  {
   "cell_type": "code",
   "execution_count": 11,
   "outputs": [
    {
     "data": {
      "text/plain": "9690471.145467214"
     },
     "execution_count": 11,
     "metadata": {},
     "output_type": "execute_result"
    }
   ],
   "source": [
    "c(T(1000))"
   ],
   "metadata": {
    "collapsed": false,
    "ExecuteTime": {
     "end_time": "2024-02-02T18:32:41.778065Z",
     "start_time": "2024-02-02T18:32:41.533171Z"
    }
   }
  },
  {
   "cell_type": "code",
   "execution_count": 12,
   "outputs": [],
   "source": [
    "def Xe(T):\n",
    "    return (-1 + np.sqrt(1 + 4*c(T)))/(2*c(T))"
   ],
   "metadata": {
    "collapsed": false,
    "ExecuteTime": {
     "end_time": "2024-02-02T18:32:41.811871Z",
     "start_time": "2024-02-02T18:32:41.541447Z"
    }
   }
  },
  {
   "cell_type": "code",
   "execution_count": 13,
   "outputs": [],
   "source": [
    "zz = np.linspace(1000, 1800, 100)"
   ],
   "metadata": {
    "collapsed": false,
    "ExecuteTime": {
     "end_time": "2024-02-02T18:32:41.870615Z",
     "start_time": "2024-02-02T18:32:41.550937Z"
    }
   }
  },
  {
   "cell_type": "code",
   "execution_count": 14,
   "outputs": [
    {
     "data": {
      "text/plain": "1378.6896592020641"
     },
     "execution_count": 14,
     "metadata": {},
     "output_type": "execute_result"
    }
   ],
   "source": [
    "from scipy.optimize import brentq\n",
    "zrec = brentq(lambda z: Xe(T(z))-1/2, 1200, 1600)\n",
    "zrec"
   ],
   "metadata": {
    "collapsed": false,
    "ExecuteTime": {
     "end_time": "2024-02-02T18:32:41.928980Z",
     "start_time": "2024-02-02T18:32:41.585006Z"
    }
   }
  },
  {
   "cell_type": "code",
   "execution_count": 15,
   "outputs": [
    {
     "data": {
      "text/plain": "<Quantity 3761.03401098 K>",
      "text/latex": "$3761.034 \\; \\mathrm{K}$"
     },
     "execution_count": 15,
     "metadata": {},
     "output_type": "execute_result"
    }
   ],
   "source": [
    "Trec = T(zrec)\n",
    "Trec"
   ],
   "metadata": {
    "collapsed": false,
    "ExecuteTime": {
     "end_time": "2024-02-02T18:32:41.931120Z",
     "start_time": "2024-02-02T18:32:41.593769Z"
    }
   }
  },
  {
   "cell_type": "code",
   "execution_count": 16,
   "outputs": [],
   "source": [
    "def z_to_t(z):\n",
    "    return Planck18.age(z).to(u.yr).value"
   ],
   "metadata": {
    "collapsed": false,
    "ExecuteTime": {
     "end_time": "2024-02-02T18:32:41.933403Z",
     "start_time": "2024-02-02T18:32:41.603856Z"
    }
   }
  },
  {
   "cell_type": "code",
   "execution_count": 17,
   "outputs": [
    {
     "data": {
      "text/plain": "253684.25455819746"
     },
     "execution_count": 17,
     "metadata": {},
     "output_type": "execute_result"
    }
   ],
   "source": [
    "z_to_t(zrec)"
   ],
   "metadata": {
    "collapsed": false,
    "ExecuteTime": {
     "end_time": "2024-02-02T18:32:42.024435Z",
     "start_time": "2024-02-02T18:32:41.612091Z"
    }
   }
  },
  {
   "cell_type": "code",
   "execution_count": 18,
   "outputs": [],
   "source": [
    "tt = z_to_t(zz)\n",
    "\n",
    "def t_to_z(t):\n",
    "    return np.interp(t, tt, zz)"
   ],
   "metadata": {
    "collapsed": false,
    "ExecuteTime": {
     "end_time": "2024-02-02T18:32:42.052331Z",
     "start_time": "2024-02-02T18:32:41.643902Z"
    }
   }
  },
  {
   "cell_type": "code",
   "execution_count": 19,
   "outputs": [
    {
     "data": {
      "text/plain": "<Figure size 640x480 with 2 Axes>",
      "image/png": "[encoded data removed]"
     },
     "metadata": {},
     "output_type": "display_data"
    }
   ],
   "source": [
    "#| label: saha_Xe\n",
    "\n",
    "fig, ax1 = plt.subplots(constrained_layout=True)\n",
    "plt.plot(zz, Xe(T(zz)))\n",
    "plt.axvline(zrec, color=\"k\", linestyle=\"--\", label=\"$z_{\\mathrm{rec}}$\")\n",
    "plt.axhline(0.5, color=\"k\", linestyle=\":\")\n",
    "plt.xlabel(\"$z$\", fontsize=16)\n",
    "plt.ylabel(\"$X_e$\", fontsize=16)\n",
    "plt.legend(fontsize=14)\n",
    "plt.grid()\n",
    "ax1.invert_xaxis()\n",
    "\n",
    "secax = ax1.twiny()\n",
    "secax.plot(tt, Xe(T(t_to_z(tt))), linestyle=\"none\")\n",
    "secax.set_xscale(\"log\")\n",
    "secax.set_xlabel('$t$ [yr]', fontsize=14)\n",
    "\n",
    "plt.show()"
   ],
   "metadata": {
    "collapsed": false,
    "ExecuteTime": {
     "end_time": "2024-02-02T18:32:43.331395Z",
     "start_time": "2024-02-02T18:32:41.658418Z"
    }
   }
  },
  {
   "cell_type": "code",
   "execution_count": 20,
   "outputs": [
    {
     "data": {
      "text/plain": "<Quantity 41.96224921>",
      "text/latex": "$41.962249 \\; \\mathrm{}$"
     },
     "execution_count": 20,
     "metadata": {},
     "output_type": "execute_result"
    }
   ],
   "source": [
    "BH.to(u.J) / (const.k_B * T(zrec))"
   ],
   "metadata": {
    "collapsed": false,
    "ExecuteTime": {
     "end_time": "2024-02-02T18:32:43.333729Z",
     "start_time": "2024-02-02T18:32:43.322898Z"
    }
   }
  },
  {
   "cell_type": "markdown",
   "source": [
    "Magic number !"
   ],
   "metadata": {
    "collapsed": false
   }
  },
  {
   "cell_type": "markdown",
   "source": [
    "## Decoupling\n",
    "\n",
    "$$X_e(T_\\mathrm{dec}) (k_B T_\\mathrm{dec})^{3/2} \\approx  \\frac{\\pi^2}{2\\zeta(3)}\\frac{H_0 \\sqrt{\\Omega_m^0} } {\\eta  \\sigma_T c} \\left(\\frac{k_B T_0}{\\hbar c}\\right)^{-3/2}$$"
   ],
   "metadata": {
    "collapsed": false
   }
  },
  {
   "cell_type": "code",
   "execution_count": 21,
   "outputs": [
    {
     "data": {
      "text/plain": "<Quantity 5.43945086e-32 J(3/2)>",
      "text/latex": "$5.4394509 \\times 10^{-32} \\; \\mathrm{J^{3/2}}$"
     },
     "execution_count": 21,
     "metadata": {},
     "output_type": "execute_result"
    }
   ],
   "source": [
    "def dec_f(T):\n",
    "    return (Xe(T)*(const.k_B * T)**(3/2)).to(u.J**(3/2))\n",
    "\n",
    "C = np.pi**2/(2*zeta(3))* H0*np.sqrt(Omegam0)/(eta*sigmaT*const.c)*(const.k_B * T0/(const.hbar * const.c)**2)**(-3/2)\n",
    "C.to(u.J**(3/2))"
   ],
   "metadata": {
    "collapsed": false,
    "ExecuteTime": {
     "end_time": "2024-02-02T18:32:43.388211Z",
     "start_time": "2024-02-02T18:32:43.336145Z"
    }
   }
  },
  {
   "cell_type": "code",
   "execution_count": 22,
   "outputs": [
    {
     "data": {
      "text/plain": "<Quantity 5.91637672e-30 J(3/2)>",
      "text/latex": "$5.9163767 \\times 10^{-30} \\; \\mathrm{J^{3/2}}$"
     },
     "execution_count": 22,
     "metadata": {},
     "output_type": "execute_result"
    }
   ],
   "source": [
    "dec_f(Trec)"
   ],
   "metadata": {
    "collapsed": false,
    "ExecuteTime": {
     "end_time": "2024-02-02T18:32:43.390852Z",
     "start_time": "2024-02-02T18:32:43.349860Z"
    }
   }
  },
  {
   "cell_type": "code",
   "execution_count": 23,
   "outputs": [
    {
     "data": {
      "text/plain": "<Quantity 3051.80804341 K>",
      "text/latex": "$3051.808 \\; \\mathrm{K}$"
     },
     "execution_count": 23,
     "metadata": {},
     "output_type": "execute_result"
    }
   ],
   "source": [
    "Tdec = brentq(lambda T: (dec_f(T*u.K)-C).value, 2000, 4000)*u.K\n",
    "Tdec"
   ],
   "metadata": {
    "collapsed": false,
    "ExecuteTime": {
     "end_time": "2024-02-02T18:32:43.487605Z",
     "start_time": "2024-02-02T18:32:43.379101Z"
    }
   }
  },
  {
   "cell_type": "code",
   "execution_count": 24,
   "outputs": [
    {
     "data": {
      "text/plain": "<Quantity 0.26298447 eV>",
      "text/latex": "$0.26298447 \\; \\mathrm{eV}$"
     },
     "execution_count": 24,
     "metadata": {},
     "output_type": "execute_result"
    }
   ],
   "source": [
    "(const.k_B * Tdec).to(u.eV)"
   ],
   "metadata": {
    "collapsed": false,
    "ExecuteTime": {
     "end_time": "2024-02-02T18:32:43.490201Z",
     "start_time": "2024-02-02T18:32:43.405590Z"
    }
   }
  },
  {
   "cell_type": "code",
   "execution_count": 25,
   "outputs": [
    {
     "data": {
      "text/plain": "1118.5187246538874"
     },
     "execution_count": 25,
     "metadata": {},
     "output_type": "execute_result"
    }
   ],
   "source": [
    "zdec = brentq(lambda z: (T(z)-Tdec).value, 1000, 1500)\n",
    "zdec"
   ],
   "metadata": {
    "collapsed": false,
    "ExecuteTime": {
     "end_time": "2024-02-02T18:32:43.545041Z",
     "start_time": "2024-02-02T18:32:43.421059Z"
    }
   }
  },
  {
   "cell_type": "code",
   "execution_count": 26,
   "outputs": [
    {
     "data": {
      "text/plain": "0.006289184186327879"
     },
     "execution_count": 26,
     "metadata": {},
     "output_type": "execute_result"
    }
   ],
   "source": [
    "Xe(Tdec)"
   ],
   "metadata": {
    "collapsed": false,
    "ExecuteTime": {
     "end_time": "2024-02-02T18:32:43.549130Z",
     "start_time": "2024-02-02T18:32:43.432994Z"
    }
   }
  },
  {
   "cell_type": "code",
   "execution_count": 27,
   "outputs": [
    {
     "data": {
      "text/plain": "<Quantity 362112.24484062 yr>",
      "text/latex": "$362112.24 \\; \\mathrm{yr}$"
     },
     "execution_count": 27,
     "metadata": {},
     "output_type": "execute_result"
    }
   ],
   "source": [
    "tdec = z_to_t(zdec) * u.yr\n",
    "tdec"
   ],
   "metadata": {
    "collapsed": false,
    "ExecuteTime": {
     "end_time": "2024-02-02T18:32:43.567335Z",
     "start_time": "2024-02-02T18:32:43.441316Z"
    }
   }
  },
  {
   "cell_type": "markdown",
   "source": [
    "## Last scattering"
   ],
   "metadata": {
    "collapsed": false
   }
  },
  {
   "cell_type": "code",
   "execution_count": 28,
   "outputs": [
    {
     "data": {
      "text/plain": "0.019852508119710843"
     },
     "execution_count": 28,
     "metadata": {},
     "output_type": "execute_result"
    }
   ],
   "source": [
    "from scipy.integrate import quad\n",
    "\n",
    "def Gamma(z):\n",
    "    return sigmaT * const.c * eta * ng(T(z)) * Xe(T(z))\n",
    "\n",
    "def H(z):\n",
    "    return Planck18.H(z).to(1/u.s)\n",
    "\n",
    "def tau(z):\n",
    "    return quad(lambda zz: Gamma(zz)/(H(zz)*(1+zz)), 100, z)[0]\n",
    "\n",
    "tau(1100)"
   ],
   "metadata": {
    "collapsed": false,
    "ExecuteTime": {
     "end_time": "2024-02-02T18:32:43.724947Z",
     "start_time": "2024-02-02T18:32:43.489507Z"
    }
   }
  },
  {
   "cell_type": "code",
   "execution_count": 29,
   "outputs": [
    {
     "data": {
      "text/plain": "<Quantity 4.31343198e-14 1 / s>",
      "text/latex": "$4.313432 \\times 10^{-14} \\; \\mathrm{\\frac{1}{s}}$"
     },
     "execution_count": 29,
     "metadata": {},
     "output_type": "execute_result"
    }
   ],
   "source": [
    "H(1000)"
   ],
   "metadata": {
    "collapsed": false,
    "ExecuteTime": {
     "end_time": "2024-02-02T18:32:43.754300Z",
     "start_time": "2024-02-02T18:32:43.646713Z"
    }
   }
  },
  {
   "cell_type": "code",
   "execution_count": 30,
   "outputs": [
    {
     "data": {
      "text/plain": "<Figure size 640x480 with 1 Axes>",
      "image/png": "[encoded data removed]"
     },
     "metadata": {},
     "output_type": "display_data"
    }
   ],
   "source": [
    "#| label: rates_decoupling\n",
    "\n",
    "fig = plt.figure()\n",
    "zz = np.linspace(1500, 900, 100)\n",
    "plt.plot(zz, Gamma(zz), label=\"$\\Gamma_\\gamma(z)$\")\n",
    "plt.plot(zz, H(zz), label=\"$H(z)$\")\n",
    "plt.gca().invert_xaxis()\n",
    "#plt.xscale(\"log\")\n",
    "plt.axvline(zrec, color=\"k\", linestyle=\"--\", label=\"$z_{\\mathrm{rec}}$\")\n",
    "plt.axvline(zdec, color=\"g\", linestyle=\"--\", label=\"$z_{\\mathrm{dec}}$\")\n",
    "plt.yscale(\"log\")\n",
    "plt.legend(fontsize=14)\n",
    "plt.xlabel(\"$z$\", fontsize=16)\n",
    "plt.ylabel(\"Rates [1/s]\", fontsize=16)\n",
    "plt.grid()\n",
    "plt.show()"
   ],
   "metadata": {
    "collapsed": false,
    "ExecuteTime": {
     "end_time": "2024-02-02T18:32:44.393293Z",
     "start_time": "2024-02-02T18:32:43.690452Z"
    }
   }
  },
  {
   "cell_type": "code",
   "execution_count": 31,
   "outputs": [
    {
     "name": "stderr",
     "output_type": "stream",
     "text": [
      "/Users/jneveu/mambaforge/envs/m2-cosmo/lib/python3.11/site-packages/astropy/units/quantity.py:666: RuntimeWarning: overflow encountered in exp\n",
      "  result = super().__array_ufunc__(function, method, *arrays, **kwargs)\n"
     ]
    },
    {
     "data": {
      "text/plain": "inf"
     },
     "execution_count": 31,
     "metadata": {},
     "output_type": "execute_result"
    }
   ],
   "source": [
    "c(T(0))"
   ],
   "metadata": {
    "collapsed": false,
    "ExecuteTime": {
     "end_time": "2024-02-02T18:32:44.399111Z",
     "start_time": "2024-02-02T18:32:44.384385Z"
    }
   }
  },
  {
   "cell_type": "code",
   "execution_count": 58,
   "outputs": [
    {
     "data": {
      "text/plain": "<Quantity 2.64611867e-10 1 / GeV2>",
      "text/latex": "$2.6461187 \\times 10^{-10} \\; \\mathrm{\\frac{1}{GeV^{2}}}$"
     },
     "execution_count": 58,
     "metadata": {},
     "output_type": "execute_result"
    }
   ],
   "source": [
    "(8*np.pi*const.G/(3*H0**2)*10*(const.k_B*T0)**3 * np.sqrt(const.G/(const.hbar**3*const.c**5))/(const.hbar**2*const.c**5)).to(u.GeV**-2)"
   ],
   "metadata": {
    "collapsed": false,
    "ExecuteTime": {
     "end_time": "2024-02-02T18:49:16.516173Z",
     "start_time": "2024-02-02T18:49:16.492980Z"
    }
   }
  },
  {
   "cell_type": "code",
   "outputs": [
    {
     "data": {
      "text/plain": "<Quantity 6.86681159e-21 1 / s>",
      "text/latex": "$6.8668116 \\times 10^{-21} \\; \\mathrm{\\frac{1}{s}}$"
     },
     "execution_count": 47,
     "metadata": {},
     "output_type": "execute_result"
    }
   ],
   "source": [
    "(np.sqrt(const.G/(const.hbar**3*const.c**5)) * (const.k_B*T0)**2).to(1/u.s)"
   ],
   "metadata": {
    "collapsed": false,
    "ExecuteTime": {
     "end_time": "2024-02-02T18:39:44.322708Z",
     "start_time": "2024-02-02T18:39:44.293284Z"
    }
   },
   "execution_count": 47
  },
  {
   "cell_type": "code",
   "outputs": [],
   "source": [],
   "metadata": {
    "collapsed": false
   }
  }
 ],
 "metadata": {
  "kernelspec": {
   "display_name": "Python 3",
   "language": "python",
   "name": "python3"
  },
  "language_info": {
   "codemirror_mode": {
    "name": "ipython",
    "version": 2
   },
   "file_extension": ".py",
   "mimetype": "text/x-python",
   "name": "python",
   "nbconvert_exporter": "python",
   "pygments_lexer": "ipython2",
   "version": "2.7.6"
  }
 },
 "nbformat": 4,
 "nbformat_minor": 0
}
