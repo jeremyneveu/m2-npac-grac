{
 "cells": [
  {
   "cell_type": "markdown",
   "metadata": {
    "collapsed": false,
    "jupyter": {
     "outputs_hidden": false
    }
   },
   "source": [
    "# Thermal history\n",
    "\n",
    "## Saha equation"
   ]
  },
  {
   "cell_type": "code",
   "execution_count": 1,
   "metadata": {
    "ExecuteTime": {
     "end_time": "2025-02-02T11:29:14.134250Z",
     "start_time": "2025-02-02T11:29:10.689960Z"
    },
    "collapsed": false,
    "jupyter": {
     "outputs_hidden": false
    }
   },
   "outputs": [],
   "source": [
    "import numpy as np\n",
    "import matplotlib.pyplot as plt\n",
    "import astropy.constants as const\n",
    "import astropy.units as u\n",
    "from scipy.special import zeta\n",
    "from astropy.cosmology import Planck18, WMAP7, FlatLambdaCDM"
   ]
  },
  {
   "cell_type": "code",
   "execution_count": 2,
   "metadata": {
    "ExecuteTime": {
     "end_time": "2025-01-04T17:21:48.399589Z",
     "start_time": "2025-01-04T17:21:48.394317Z"
    },
    "collapsed": false,
    "jupyter": {
     "outputs_hidden": false
    }
   },
   "outputs": [
    {
     "data": {
      "text/plain": [
       "5.402015137139352e-05"
      ]
     },
     "execution_count": 2,
     "metadata": {},
     "output_type": "execute_result"
    }
   ],
   "source": [
    "Planck18 # = WMAP7\n",
    "\n",
    "T0 = Planck18.Tcmb0  # K\n",
    "H0 = Planck18.H0  # 70 * u.km / u.s / u.Mpc\n",
    "BH = 13.6 * u.eV  # eV\n",
    "Omegab0 = Planck18.Ob0\n",
    "Omegam0 = Planck18.Om0\n",
    "age = Planck18.lookback_time(np.inf)\n",
    "rhoc0 = (3 * H0**2 / (8 * np.pi * const.G) / const.m_p).to(1/u.m**3)\n",
    "sigmaT = 6.6529e-29 * u.m**2\n",
    "Planck18.Ogamma0"
   ]
  },
  {
   "cell_type": "markdown",
   "metadata": {},
   "source": [
    "## Constants"
   ]
  },
  {
   "cell_type": "code",
   "execution_count": 3,
   "metadata": {
    "ExecuteTime": {
     "end_time": "2025-01-04T17:21:48.405015Z",
     "start_time": "2025-01-04T17:21:48.400792Z"
    }
   },
   "outputs": [
    {
     "data": {
      "text/plain": [
       "9.131600127112836e-05"
      ]
     },
     "execution_count": 3,
     "metadata": {},
     "output_type": "execute_result"
    }
   ],
   "source": [
    "cosmo = FlatLambdaCDM(H0=H0, Om0=Omegam0, Tcmb0=T0, m_nu=0)\n",
    "Omegar0 = cosmo.Ogamma0 + cosmo.Onu0  # with massless neutrinos\n",
    "Omegar0"
   ]
  },
  {
   "cell_type": "code",
   "execution_count": 4,
   "metadata": {
    "ExecuteTime": {
     "end_time": "2025-01-04T17:21:48.409054Z",
     "start_time": "2025-01-04T17:21:48.406416Z"
    },
    "collapsed": false,
    "jupyter": {
     "outputs_hidden": false
    }
   },
   "outputs": [
    {
     "data": {
      "text/latex": [
       "$5.1409193 \\; \\mathrm{\\frac{1}{m^{3}}}$"
      ],
      "text/plain": [
       "<Quantity 5.14091926 1 / m3>"
      ]
     },
     "execution_count": 4,
     "metadata": {},
     "output_type": "execute_result"
    }
   ],
   "source": [
    "rhoc0"
   ]
  },
  {
   "cell_type": "markdown",
   "metadata": {
    "collapsed": false,
    "jupyter": {
     "outputs_hidden": false
    }
   },
   "source": [
    "$$T(z) = T_0 (1+z)$$"
   ]
  },
  {
   "cell_type": "code",
   "execution_count": 5,
   "metadata": {
    "ExecuteTime": {
     "end_time": "2025-01-04T17:21:48.411508Z",
     "start_time": "2025-01-04T17:21:48.409647Z"
    },
    "collapsed": false,
    "jupyter": {
     "outputs_hidden": false
    }
   },
   "outputs": [],
   "source": [
    "def T(z):\n",
    "    return T0 * (1+z)"
   ]
  },
  {
   "cell_type": "markdown",
   "metadata": {
    "collapsed": false,
    "jupyter": {
     "outputs_hidden": false
    }
   },
   "source": [
    "$$n_\\gamma = \\frac{2\\zeta(3)}{\\pi^2}\\left(\\frac{k_B T}{\\hbar c}\\right)^3$$"
   ]
  },
  {
   "cell_type": "code",
   "execution_count": 6,
   "metadata": {
    "ExecuteTime": {
     "end_time": "2025-01-04T17:21:48.414554Z",
     "start_time": "2025-01-04T17:21:48.412105Z"
    },
    "collapsed": false,
    "jupyter": {
     "outputs_hidden": false
    }
   },
   "outputs": [],
   "source": [
    "def ng(T):\n",
    "    prefactor = 2 * zeta(3) / np.pi**2\n",
    "    return prefactor * (const.k_B * T / (const.hbar * const.c))**3"
   ]
  },
  {
   "cell_type": "code",
   "execution_count": 7,
   "metadata": {
    "ExecuteTime": {
     "end_time": "2025-01-04T17:21:48.418870Z",
     "start_time": "2025-01-04T17:21:48.415235Z"
    },
    "collapsed": false,
    "jupyter": {
     "outputs_hidden": false
    }
   },
   "outputs": [
    {
     "data": {
      "text/latex": [
       "$4.1072685 \\times 10^{8} \\; \\mathrm{\\frac{1}{m^{3}}}$"
      ],
      "text/plain": [
       "<Quantity 4.10726848e+08 1 / m3>"
      ]
     },
     "execution_count": 7,
     "metadata": {},
     "output_type": "execute_result"
    }
   ],
   "source": [
    "ng(T0)"
   ]
  },
  {
   "cell_type": "markdown",
   "metadata": {
    "collapsed": false,
    "jupyter": {
     "outputs_hidden": false
    }
   },
   "source": [
    "$$n_b(z) = \\Omega_b^0 \\rho_c^0 (1+z)^3/m_p$$"
   ]
  },
  {
   "cell_type": "code",
   "execution_count": 8,
   "metadata": {
    "ExecuteTime": {
     "end_time": "2025-01-04T17:21:48.421866Z",
     "start_time": "2025-01-04T17:21:48.419980Z"
    },
    "collapsed": false,
    "jupyter": {
     "outputs_hidden": false
    }
   },
   "outputs": [],
   "source": [
    "def nb(z):\n",
    "    return Omegab0 * rhoc0 * (1+z)**3"
   ]
  },
  {
   "cell_type": "code",
   "execution_count": 9,
   "metadata": {
    "ExecuteTime": {
     "end_time": "2025-01-04T17:21:48.425473Z",
     "start_time": "2025-01-04T17:21:48.422486Z"
    },
    "collapsed": false,
    "jupyter": {
     "outputs_hidden": false
    }
   },
   "outputs": [
    {
     "data": {
      "text/latex": [
       "$0.25175082 \\; \\mathrm{\\frac{1}{m^{3}}}$"
      ],
      "text/plain": [
       "<Quantity 0.25175082 1 / m3>"
      ]
     },
     "execution_count": 9,
     "metadata": {},
     "output_type": "execute_result"
    }
   ],
   "source": [
    "nb(0)"
   ]
  },
  {
   "cell_type": "code",
   "execution_count": 10,
   "metadata": {
    "ExecuteTime": {
     "end_time": "2025-01-04T17:21:48.430989Z",
     "start_time": "2025-01-04T17:21:48.427945Z"
    },
    "collapsed": false,
    "jupyter": {
     "outputs_hidden": false
    }
   },
   "outputs": [
    {
     "data": {
      "text/latex": [
       "$6.1293976 \\times 10^{-10} \\; \\mathrm{}$"
      ],
      "text/plain": [
       "<Quantity 6.12939761e-10>"
      ]
     },
     "execution_count": 10,
     "metadata": {},
     "output_type": "execute_result"
    }
   ],
   "source": [
    "eta = nb(0) / ng(T0)\n",
    "eta"
   ]
  },
  {
   "cell_type": "markdown",
   "metadata": {},
   "source": [
    "$$\\eta = \\frac{n_b}{n_\\gamma} = \\frac{\\Omega_b^0 \\rho_c^0}{m_p n^0_\\gamma} = 2.73\\times 10^{-8}\\times \\Omega_b^0 h^2 =  6.2 \\times 10^{-10}$$"
   ]
  },
  {
   "cell_type": "code",
   "execution_count": 11,
   "metadata": {},
   "outputs": [
    {
     "data": {
      "text/latex": [
       "$2.7341586 \\times 10^{-8} \\; \\mathrm{}$"
      ],
      "text/plain": [
       "<Quantity 2.7341586e-08>"
      ]
     },
     "execution_count": 11,
     "metadata": {},
     "output_type": "execute_result"
    }
   ],
   "source": [
    "eta_obh2 = nb(0) / ng(T0) / (Omegab0 * (H0.value / 100)**2)\n",
    "eta_obh2"
   ]
  },
  {
   "cell_type": "markdown",
   "metadata": {},
   "source": [
    "## Electron fraction"
   ]
  },
  {
   "cell_type": "markdown",
   "metadata": {
    "collapsed": false,
    "jupyter": {
     "outputs_hidden": false
    }
   },
   "source": [
    "$$\\frac{1-X_e}{X_e^2} = \\eta n_\\gamma(T) \\left(\\frac{m_e k_B T}{2 \\pi \\hbar^2}\\right)^{-3/2} \\exp\\left(\\frac{B_H}{k_B T}\\right) \\equiv c$$"
   ]
  },
  {
   "cell_type": "code",
   "execution_count": 12,
   "metadata": {
    "ExecuteTime": {
     "end_time": "2025-01-04T17:21:48.436916Z",
     "start_time": "2025-01-04T17:21:48.432679Z"
    },
    "collapsed": false,
    "jupyter": {
     "outputs_hidden": false
    }
   },
   "outputs": [],
   "source": [
    "def c(T):\n",
    "    exp = np.exp(BH.to(u.J)/ (const.k_B * T))\n",
    "    factor = eta * (ng(T) * (const.m_e * const.k_B * T / (2 * np.pi * const.hbar**2)) **(-3/2)).to(u.dimensionless_unscaled)\n",
    "    return (factor * exp).value"
   ]
  },
  {
   "cell_type": "code",
   "execution_count": 13,
   "metadata": {
    "ExecuteTime": {
     "end_time": "2025-01-04T17:21:48.441475Z",
     "start_time": "2025-01-04T17:21:48.438281Z"
    },
    "collapsed": false,
    "jupyter": {
     "outputs_hidden": false
    }
   },
   "outputs": [
    {
     "name": "stderr",
     "output_type": "stream",
     "text": [
      "/Users/jneveu/miniforge3/envs/m2-cosmo/lib/python3.11/site-packages/astropy/units/quantity.py:671: RuntimeWarning: overflow encountered in exp\n",
      "  result = super().__array_ufunc__(function, method, *arrays, **kwargs)\n"
     ]
    },
    {
     "data": {
      "text/plain": [
       "(2.301016207602902e+229, <Quantity inf>)"
      ]
     },
     "execution_count": 13,
     "metadata": {},
     "output_type": "execute_result"
    }
   ],
   "source": [
    "c(T(100)), np.exp(BH.to(u.J)/ (const.k_B * T(10)))"
   ]
  },
  {
   "cell_type": "code",
   "execution_count": 14,
   "metadata": {},
   "outputs": [
    {
     "data": {
      "text/latex": [
       "$275.2755 \\; \\mathrm{K}$"
      ],
      "text/plain": [
       "<Quantity 275.2755 K>"
      ]
     },
     "execution_count": 14,
     "metadata": {},
     "output_type": "execute_result"
    }
   ],
   "source": [
    "T(100)"
   ]
  },
  {
   "cell_type": "code",
   "execution_count": 15,
   "metadata": {
    "ExecuteTime": {
     "end_time": "2025-01-04T17:21:48.444032Z",
     "start_time": "2025-01-04T17:21:48.442156Z"
    },
    "collapsed": false,
    "jupyter": {
     "outputs_hidden": false
    }
   },
   "outputs": [],
   "source": [
    "def Xe(T):\n",
    "    Ttmp = np.atleast_1d(T)\n",
    "    out = np.zeros_like(Ttmp).value\n",
    "    # high T\n",
    "    indhigh = Ttmp >= 300 * u.K\n",
    "    out[indhigh] = (-1 + np.sqrt(1 + 4*c(Ttmp[indhigh])))/(2*c(Ttmp[indhigh]))\n",
    "    #else low T is 1/sqrt(c)\n",
    "    indlow = ~indhigh\n",
    "    Tlow = Ttmp[indlow]\n",
    "    exp = np.exp(-BH.to(u.J)/ (2 * const.k_B * Tlow))\n",
    "    factor = np.sqrt(eta * (ng(Tlow) * (const.m_e * const.k_B * Tlow / (2 * np.pi * const.hbar**2)) **(-3/2)).to(u.dimensionless_unscaled))\n",
    "    out[indlow] = (exp / factor).value\n",
    "    return out\n",
    "    # return 1  # fully ionized at redshift 10\n",
    "\n",
    "def ne(T):\n",
    "    return Xe(T) * eta * ng(T)"
   ]
  },
  {
   "cell_type": "code",
   "execution_count": 16,
   "metadata": {},
   "outputs": [
    {
     "data": {
      "text/latex": [
       "$275.2755 \\; \\mathrm{K}$"
      ],
      "text/plain": [
       "<Quantity 275.2755 K>"
      ]
     },
     "execution_count": 16,
     "metadata": {},
     "output_type": "execute_result"
    }
   ],
   "source": [
    "T(100)"
   ]
  },
  {
   "cell_type": "code",
   "execution_count": 17,
   "metadata": {},
   "outputs": [
    {
     "data": {
      "text/plain": [
       "array([2.08468365e-115])"
      ]
     },
     "execution_count": 17,
     "metadata": {},
     "output_type": "execute_result"
    }
   ],
   "source": [
    "Xe(T(100))"
   ]
  },
  {
   "cell_type": "code",
   "execution_count": 18,
   "metadata": {
    "ExecuteTime": {
     "end_time": "2025-01-04T17:21:48.446437Z",
     "start_time": "2025-01-04T17:21:48.444736Z"
    },
    "collapsed": false,
    "jupyter": {
     "outputs_hidden": false
    }
   },
   "outputs": [],
   "source": [
    "zz = np.linspace(1000, 1800, 100)"
   ]
  },
  {
   "cell_type": "code",
   "execution_count": 19,
   "metadata": {
    "ExecuteTime": {
     "end_time": "2025-01-04T17:21:48.456205Z",
     "start_time": "2025-01-04T17:21:48.447114Z"
    },
    "collapsed": false,
    "jupyter": {
     "outputs_hidden": false
    }
   },
   "outputs": [
    {
     "data": {
      "text/plain": [
       "1378.7603205637458"
      ]
     },
     "execution_count": 19,
     "metadata": {},
     "output_type": "execute_result"
    }
   ],
   "source": [
    "from scipy.optimize import brentq\n",
    "zrec = brentq(lambda z: Xe(T(z))-1/2, 1200, 1600)\n",
    "zrec"
   ]
  },
  {
   "cell_type": "code",
   "execution_count": 20,
   "metadata": {
    "ExecuteTime": {
     "end_time": "2025-01-04T17:21:48.459494Z",
     "start_time": "2025-01-04T17:21:48.456912Z"
    },
    "collapsed": false,
    "jupyter": {
     "outputs_hidden": false
    }
   },
   "outputs": [
    {
     "data": {
      "text/latex": [
       "$3760.5368 \\; \\mathrm{K}$"
      ],
      "text/plain": [
       "<Quantity 3760.5367537 K>"
      ]
     },
     "execution_count": 20,
     "metadata": {},
     "output_type": "execute_result"
    }
   ],
   "source": [
    "Trec = T(zrec)\n",
    "Trec"
   ]
  },
  {
   "cell_type": "code",
   "execution_count": 21,
   "metadata": {
    "ExecuteTime": {
     "end_time": "2025-01-04T17:21:48.461790Z",
     "start_time": "2025-01-04T17:21:48.460028Z"
    },
    "collapsed": false,
    "jupyter": {
     "outputs_hidden": false
    }
   },
   "outputs": [],
   "source": [
    "def z_to_t(z):\n",
    "    return Planck18.age(z).to(u.yr).value"
   ]
  },
  {
   "cell_type": "code",
   "execution_count": 22,
   "metadata": {
    "ExecuteTime": {
     "end_time": "2025-01-04T17:21:48.464729Z",
     "start_time": "2025-01-04T17:21:48.462434Z"
    },
    "collapsed": false,
    "jupyter": {
     "outputs_hidden": false
    }
   },
   "outputs": [
    {
     "data": {
      "text/plain": [
       "249914.7782081686"
      ]
     },
     "execution_count": 22,
     "metadata": {},
     "output_type": "execute_result"
    }
   ],
   "source": [
    "z_to_t(zrec)"
   ]
  },
  {
   "cell_type": "code",
   "execution_count": 23,
   "metadata": {
    "ExecuteTime": {
     "end_time": "2025-01-04T17:21:48.479261Z",
     "start_time": "2025-01-04T17:21:48.465393Z"
    },
    "collapsed": false,
    "jupyter": {
     "outputs_hidden": false
    }
   },
   "outputs": [],
   "source": [
    "tt = z_to_t(zz)\n",
    "\n",
    "def t_to_z(t):\n",
    "    return np.interp(t, tt, zz)"
   ]
  },
  {
   "cell_type": "code",
   "execution_count": 24,
   "metadata": {
    "ExecuteTime": {
     "end_time": "2025-01-04T17:21:48.914428Z",
     "start_time": "2025-01-04T17:21:48.479960Z"
    },
    "collapsed": false,
    "jupyter": {
     "outputs_hidden": false
    }
   },
   "outputs": [
    {
     "data": {
      "image/png": "[encoded data removed]",
      "text/plain": [
       "<Figure size 640x480 with 2 Axes>"
      ]
     },
     "metadata": {},
     "output_type": "display_data"
    }
   ],
   "source": [
    "#| label: saha_Xe\n",
    "zz = np.linspace(1000, 1800, 100)\n",
    "\n",
    "fig, ax1 = plt.subplots(constrained_layout=True)\n",
    "plt.plot(zz, [Xe(TT) for TT in T(zz)], lw=2)\n",
    "plt.axvline(zrec, color=\"k\", linestyle=\"--\", label=\"$z_{\\mathrm{rec}}$\")\n",
    "plt.axhline(0.5, color=\"k\", linestyle=\":\")\n",
    "plt.xlabel(\"$z$\", fontsize=16)\n",
    "plt.ylabel(\"$X_e$\", fontsize=16)\n",
    "plt.legend(fontsize=14)\n",
    "plt.grid()\n",
    "ax1.invert_xaxis()\n",
    "\n",
    "secax = ax1.twiny()\n",
    "secax.plot(tt, [Xe(T(t_to_z(ttt))) for ttt in tt], linestyle=\"none\")\n",
    "secax.set_xscale(\"log\")\n",
    "secax.set_xlabel('$t$ [yr]', fontsize=14)\n",
    "\n",
    "plt.show()"
   ]
  },
  {
   "cell_type": "code",
   "execution_count": 25,
   "metadata": {
    "ExecuteTime": {
     "end_time": "2025-01-04T17:21:48.918667Z",
     "start_time": "2025-01-04T17:21:48.915189Z"
    },
    "collapsed": false,
    "jupyter": {
     "outputs_hidden": false
    }
   },
   "outputs": [
    {
     "data": {
      "text/latex": [
       "$41.967798 \\; \\mathrm{}$"
      ],
      "text/plain": [
       "<Quantity 41.96779789>"
      ]
     },
     "execution_count": 25,
     "metadata": {},
     "output_type": "execute_result"
    }
   ],
   "source": [
    "BH.to(u.J) / (const.k_B * T(zrec))"
   ]
  },
  {
   "cell_type": "markdown",
   "metadata": {
    "collapsed": false,
    "jupyter": {
     "outputs_hidden": false
    }
   },
   "source": [
    "Magic number !"
   ]
  },
  {
   "cell_type": "markdown",
   "metadata": {
    "collapsed": false,
    "jupyter": {
     "outputs_hidden": false
    }
   },
   "source": [
    "## Decoupling\n",
    "\n",
    "$$X_e(T_\\mathrm{dec}) (k_B T_\\mathrm{dec})^{3/2} \\approx  \\frac{\\pi^2}{2\\zeta(3)}\\frac{H_0 \\sqrt{\\Omega_m^0} } {\\eta  \\sigma_T c} \\left(\\frac{k_B T_0}{\\hbar c}\\right)^{-3/2}$$"
   ]
  },
  {
   "cell_type": "code",
   "execution_count": 26,
   "metadata": {
    "ExecuteTime": {
     "end_time": "2025-01-04T17:21:48.923817Z",
     "start_time": "2025-01-04T17:21:48.919394Z"
    },
    "collapsed": false,
    "jupyter": {
     "outputs_hidden": false
    }
   },
   "outputs": [
    {
     "data": {
      "text/latex": [
       "$5.6093898 \\times 10^{-32} \\; \\mathrm{J^{3/2}}$"
      ],
      "text/plain": [
       "<Quantity 5.60938981e-32 J(3/2)>"
      ]
     },
     "execution_count": 26,
     "metadata": {},
     "output_type": "execute_result"
    }
   ],
   "source": [
    "def dec_f(T):\n",
    "    return (Xe(T)*(const.k_B * T)**(3/2)).to(u.J**(3/2))\n",
    "\n",
    "C = np.pi**2/(2*zeta(3))* H0*np.sqrt(Omegam0)/(eta*sigmaT*const.c)*(const.k_B * T0/(const.hbar * const.c)**2)**(-3/2)\n",
    "C.to(u.J**(3/2))"
   ]
  },
  {
   "cell_type": "code",
   "execution_count": 27,
   "metadata": {
    "ExecuteTime": {
     "end_time": "2025-01-04T17:21:48.928034Z",
     "start_time": "2025-01-04T17:21:48.924479Z"
    },
    "collapsed": false,
    "jupyter": {
     "outputs_hidden": false
    }
   },
   "outputs": [
    {
     "data": {
      "text/latex": [
       "$[5.9152034 \\times 10^{-30}] \\; \\mathrm{J^{3/2}}$"
      ],
      "text/plain": [
       "<Quantity [5.91520343e-30] J(3/2)>"
      ]
     },
     "execution_count": 27,
     "metadata": {},
     "output_type": "execute_result"
    }
   ],
   "source": [
    "dec_f(Trec)"
   ]
  },
  {
   "cell_type": "code",
   "execution_count": 28,
   "metadata": {
    "ExecuteTime": {
     "end_time": "2025-01-04T17:21:48.940976Z",
     "start_time": "2025-01-04T17:21:48.928797Z"
    },
    "collapsed": false,
    "jupyter": {
     "outputs_hidden": false
    }
   },
   "outputs": [
    {
     "data": {
      "text/latex": [
       "$3055.0439 \\; \\mathrm{K}$"
      ],
      "text/plain": [
       "<Quantity 3055.04391722 K>"
      ]
     },
     "execution_count": 28,
     "metadata": {},
     "output_type": "execute_result"
    }
   ],
   "source": [
    "Tdec = brentq(lambda T: (dec_f(T*u.K)-C).value, 2800, 3200)*u.K\n",
    "Tdec"
   ]
  },
  {
   "cell_type": "code",
   "execution_count": 29,
   "metadata": {
    "ExecuteTime": {
     "end_time": "2025-01-04T17:21:48.944192Z",
     "start_time": "2025-01-04T17:21:48.941735Z"
    },
    "collapsed": false,
    "jupyter": {
     "outputs_hidden": false
    }
   },
   "outputs": [
    {
     "data": {
      "text/latex": [
       "$0.26326332 \\; \\mathrm{eV}$"
      ],
      "text/plain": [
       "<Quantity 0.26326332 eV>"
      ]
     },
     "execution_count": 29,
     "metadata": {},
     "output_type": "execute_result"
    }
   ],
   "source": [
    "(const.k_B * Tdec).to(u.eV)"
   ]
  },
  {
   "cell_type": "code",
   "execution_count": 30,
   "metadata": {
    "ExecuteTime": {
     "end_time": "2025-01-04T17:21:48.947213Z",
     "start_time": "2025-01-04T17:21:48.944877Z"
    },
    "collapsed": false,
    "jupyter": {
     "outputs_hidden": false
    }
   },
   "outputs": [
    {
     "data": {
      "text/plain": [
       "1119.9113620310331"
      ]
     },
     "execution_count": 30,
     "metadata": {},
     "output_type": "execute_result"
    }
   ],
   "source": [
    "zdec = brentq(lambda z: (T(z)-Tdec).value, 1000, 1200)\n",
    "zdec"
   ]
  },
  {
   "cell_type": "code",
   "execution_count": 31,
   "metadata": {
    "ExecuteTime": {
     "end_time": "2025-01-04T17:21:48.952105Z",
     "start_time": "2025-01-04T17:21:48.948032Z"
    },
    "collapsed": false,
    "jupyter": {
     "outputs_hidden": false
    }
   },
   "outputs": [
    {
     "data": {
      "text/plain": [
       "array([0.00647537])"
      ]
     },
     "execution_count": 31,
     "metadata": {},
     "output_type": "execute_result"
    }
   ],
   "source": [
    "Xe(Tdec)"
   ]
  },
  {
   "cell_type": "code",
   "execution_count": 32,
   "metadata": {
    "ExecuteTime": {
     "end_time": "2025-01-04T17:21:48.959545Z",
     "start_time": "2025-01-04T17:21:48.956668Z"
    },
    "collapsed": false,
    "jupyter": {
     "outputs_hidden": false
    }
   },
   "outputs": [
    {
     "data": {
      "text/latex": [
       "$355616.71 \\; \\mathrm{yr}$"
      ],
      "text/plain": [
       "<Quantity 355616.70730071 yr>"
      ]
     },
     "execution_count": 32,
     "metadata": {},
     "output_type": "execute_result"
    }
   ],
   "source": [
    "tdec = z_to_t(zdec) * u.yr\n",
    "tdec"
   ]
  },
  {
   "cell_type": "markdown",
   "metadata": {
    "collapsed": false,
    "jupyter": {
     "outputs_hidden": false
    }
   },
   "source": [
    "## Last scattering"
   ]
  },
  {
   "cell_type": "code",
   "execution_count": 33,
   "metadata": {
    "ExecuteTime": {
     "end_time": "2025-01-04T17:21:49.010800Z",
     "start_time": "2025-01-04T17:21:48.960289Z"
    },
    "collapsed": false,
    "jupyter": {
     "outputs_hidden": false
    }
   },
   "outputs": [
    {
     "data": {
      "text/plain": [
       "0.019315208743039495"
      ]
     },
     "execution_count": 33,
     "metadata": {},
     "output_type": "execute_result"
    }
   ],
   "source": [
    "from scipy.integrate import quad\n",
    "\n",
    "def Gamma(z):\n",
    "    return (sigmaT * const.c * eta * ng(T(z)) * Xe(T(z))).to(1/u.s)\n",
    "\n",
    "def H(z):\n",
    "    return Planck18.H(z).to(1/u.s)\n",
    "\n",
    "def tau(z):\n",
    "    return quad(lambda zz: (Gamma(zz)/(H(zz)*(1+zz))).to(u.dimensionless_unscaled), 0, z)[0]\n",
    "\n",
    "tau(1100)"
   ]
  },
  {
   "cell_type": "code",
   "execution_count": 34,
   "metadata": {
    "ExecuteTime": {
     "end_time": "2025-01-04T17:21:49.014105Z",
     "start_time": "2025-01-04T17:21:49.011586Z"
    },
    "collapsed": false,
    "jupyter": {
     "outputs_hidden": false
    }
   },
   "outputs": [
    {
     "data": {
      "image/png": "[encoded data removed]",
      "text/plain": [
       "<Figure size 640x480 with 1 Axes>"
      ]
     },
     "metadata": {},
     "output_type": "display_data"
    }
   ],
   "source": [
    "fig = plt.figure()\n",
    "zz = np.linspace(1500, 0, 50)\n",
    "plt.plot(zz, [tau(z) for z in zz], lw=2, label=r\"$\\tau(z)$\")\n",
    "#plt.plot(zz, H(zz), label=\"$H(z)$\")\n",
    "plt.gca().invert_xaxis()\n",
    "#plt.xscale(\"log\")\n",
    "plt.axvline(zrec, color=\"k\", linestyle=\"--\", label=\"$z_{\\mathrm{rec}}$\")\n",
    "plt.axvline(zdec, color=\"orange\", linestyle=\"--\", label=\"$z_{\\mathrm{dec}}$\")\n",
    "plt.axhline(1, color=\"r\", linestyle=\"--\", label=\"average time of last scattering\")\n",
    "#plt.yscale(\"log\")\n",
    "plt.legend(fontsize=14)\n",
    "plt.xlabel(\"$z$\", fontsize=16)\n",
    "plt.ylabel(r\"$\\tau$\", fontsize=16)\n",
    "plt.grid()\n",
    "plt.show()"
   ]
  },
  {
   "cell_type": "markdown",
   "metadata": {},
   "source": [
    "The solution $\\tau=1$ does not agree with $z_{dec}$ because more complex out-of-equilibrium physics must be taken into account."
   ]
  },
  {
   "cell_type": "code",
   "execution_count": 35,
   "metadata": {
    "ExecuteTime": {
     "end_time": "2025-01-04T17:21:49.196500Z",
     "start_time": "2025-01-04T17:21:49.014719Z"
    },
    "collapsed": false,
    "jupyter": {
     "outputs_hidden": false
    }
   },
   "outputs": [
    {
     "data": {
      "image/png": "[encoded data removed]",
      "text/plain": [
       "<Figure size 640x480 with 1 Axes>"
      ]
     },
     "metadata": {},
     "output_type": "display_data"
    }
   ],
   "source": [
    "#| label: rates_decoupling\n",
    "\n",
    "fig = plt.figure()\n",
    "zz = np.linspace(1500, 900, 100)\n",
    "plt.plot(zz, Gamma(zz), lw=2, label=\"$\\Gamma_\\gamma(z)$\")\n",
    "plt.plot(zz, H(zz), lw=2, color=\"k\", label=\"$H(z)$\")\n",
    "plt.gca().invert_xaxis()\n",
    "#plt.xscale(\"log\")\n",
    "plt.axvline(zrec, color=\"k\", linestyle=\"--\", label=\"$z_{\\mathrm{rec}}$\")\n",
    "plt.axvline(zdec, color=\"orange\", linestyle=\"--\", label=\"$z_{\\mathrm{dec}}$\")\n",
    "plt.yscale(\"log\")\n",
    "plt.legend(fontsize=14)\n",
    "plt.xlabel(\"$z$\", fontsize=16)\n",
    "plt.ylabel(\"Rates [1/s]\", fontsize=16)\n",
    "plt.grid()\n",
    "plt.show()"
   ]
  },
  {
   "cell_type": "markdown",
   "metadata": {},
   "source": [
    "## Free mean path"
   ]
  },
  {
   "cell_type": "code",
   "execution_count": 36,
   "metadata": {
    "ExecuteTime": {
     "end_time": "2025-01-04T17:21:49.213800Z",
     "start_time": "2025-01-04T17:21:49.211928Z"
    },
    "collapsed": false,
    "jupyter": {
     "outputs_hidden": false
    }
   },
   "outputs": [],
   "source": [
    "def lpm(z):\n",
    "    return 1/(sigmaT * ne(T(z)) )\n",
    "\n",
    "def tauT(z):\n",
    "    return lpm(z)/const.c"
   ]
  },
  {
   "cell_type": "code",
   "execution_count": 37,
   "metadata": {
    "ExecuteTime": {
     "end_time": "2025-01-04T17:21:49.457953Z",
     "start_time": "2025-01-04T17:21:49.214434Z"
    }
   },
   "outputs": [
    {
     "data": {
      "image/png": "[encoded data removed]",
      "text/plain": [
       "<Figure size 640x480 with 1 Axes>"
      ]
     },
     "metadata": {},
     "output_type": "display_data"
    }
   ],
   "source": [
    "#| label: photon_rates\n",
    "\n",
    "fig = plt.figure()\n",
    "zz = np.linspace(10000, 900, 100)\n",
    "plt.plot(zz, tauT(zz).to(u.yr), lw=2, label=r\"Photon mean free time $\\tau_T(z)$\")\n",
    "plt.plot(zz, (1/H(zz)).to(u.yr), lw=2, color=\"k\", label=\"Hubble rate $1/H(z)$\")\n",
    "plt.gca().invert_xaxis()\n",
    "plt.xscale(\"log\")\n",
    "plt.axvline(zrec, color=\"k\", linestyle=\"--\", label=\"$z_{\\mathrm{rec}}$\")\n",
    "plt.axvline(zdec, color=\"orange\", linestyle=\"--\", label=\"$z_{\\mathrm{dec}}$\")\n",
    "plt.yscale(\"log\")\n",
    "plt.legend(fontsize=14)\n",
    "plt.xlabel(\"$z$\", fontsize=16)\n",
    "plt.ylabel(\"[yr]\", fontsize=16)\n",
    "plt.grid()\n",
    "plt.show()"
   ]
  },
  {
   "cell_type": "code",
   "execution_count": 38,
   "metadata": {
    "ExecuteTime": {
     "end_time": "2025-01-04T17:21:49.772208Z",
     "start_time": "2025-01-04T17:21:49.458741Z"
    }
   },
   "outputs": [
    {
     "data": {
      "image/png": "[encoded data removed]",
      "text/plain": [
       "<Figure size 640x480 with 1 Axes>"
      ]
     },
     "metadata": {},
     "output_type": "display_data"
    }
   ],
   "source": [
    "#| label: photon_mean_free_path\n",
    "\n",
    "fig = plt.figure()\n",
    "zz = np.linspace(10000, 900, 100)\n",
    "plt.plot(zz, lpm(zz).to(u.lyr), lw=2, label=r\"Photon mean free path $\\ell_T(z)$\")\n",
    "plt.plot(zz, (const.c/H(zz)).to(u.lyr), color=\"k\", lw=2, label=\"Hubble scale $c/H(z)$\")\n",
    "plt.gca().invert_xaxis()\n",
    "plt.xscale(\"log\")\n",
    "plt.axvline(zrec, color=\"k\", linestyle=\"--\", label=\"$z_{\\mathrm{rec}}$\")\n",
    "plt.axvline(zdec, color=\"orange\", linestyle=\"--\", label=\"$z_{\\mathrm{dec}}$\")\n",
    "plt.yscale(\"log\")\n",
    "plt.legend(fontsize=14)\n",
    "plt.xlabel(\"$z$\", fontsize=16)\n",
    "plt.ylabel(\"[lyr]\", fontsize=16)\n",
    "plt.grid()\n",
    "plt.show()"
   ]
  },
  {
   "cell_type": "markdown",
   "metadata": {
    "ExecuteTime": {
     "end_time": "2025-01-04T17:21:49.774866Z",
     "start_time": "2025-01-04T17:21:49.773023Z"
    }
   },
   "source": [
    "### Reionization\n",
    "\n",
    "We assume that Universe if fully ionized."
   ]
  },
  {
   "cell_type": "code",
   "execution_count": 39,
   "metadata": {},
   "outputs": [
    {
     "data": {
      "text/plain": [
       "0.05142931519864634"
      ]
     },
     "execution_count": 39,
     "metadata": {},
     "output_type": "execute_result"
    }
   ],
   "source": [
    "def Gamma(z):\n",
    "    return (sigmaT * const.c * eta * ng(T(z))).to(1/u.s)\n",
    "\n",
    "def H(z):\n",
    "    return Planck18.H(z).to(1/u.s)\n",
    "\n",
    "def tau(z):\n",
    "    return quad(lambda zz: (Gamma(zz)/(H(zz)*(1+zz))).to(u.dimensionless_unscaled), 0, z)[0]\n",
    "\n",
    "tau(6.5)"
   ]
  },
  {
   "cell_type": "code",
   "execution_count": 40,
   "metadata": {},
   "outputs": [
    {
     "data": {
      "image/png": "[encoded data removed]",
      "text/plain": [
       "<Figure size 640x480 with 2 Axes>"
      ]
     },
     "metadata": {},
     "output_type": "display_data"
    }
   ],
   "source": [
    "#| label: tau_reio\n",
    "\n",
    "zz = np.linspace(10, 0, 100)\n",
    "tt = z_to_t(zz)\n",
    "\n",
    "fig = plt.figure()\n",
    "plt.plot(zz, [tau(z) for z in zz], lw=2)\n",
    "#plt.plot(zz, H(zz), label=\"$H(z)$\")\n",
    "plt.gca().invert_xaxis()\n",
    "#plt.xscale(\"log\")\n",
    "plt.axhline(0.058, color=\"k\", linestyle=\"--\", label=\"Planck 2023 measurement\")\n",
    "plt.axhspan(0.052, 0.064, color=\"gray\", alpha=0.5, label=\"$68\\%$ uncertainty\")\n",
    "#plt.yscale(\"log\")\n",
    "plt.legend(fontsize=14)\n",
    "plt.xlabel(\"$z$\", fontsize=16)\n",
    "plt.ylabel(r\"$\\tau(z)$\", fontsize=16)\n",
    "plt.grid()\n",
    "\n",
    "secax = plt.gca().twiny()\n",
    "secax.plot(tt*1e-9, [tau(t_to_z(ttt)) for ttt in tt], linestyle=\"none\")\n",
    "secax.set_xscale(\"log\")\n",
    "secax.set_xlabel('$t$ [Gyr]', fontsize=14)\n",
    "\n",
    "plt.show()"
   ]
  },
  {
   "cell_type": "code",
   "execution_count": null,
   "metadata": {},
   "outputs": [],
   "source": []
  },
  {
   "cell_type": "code",
   "execution_count": 41,
   "metadata": {},
   "outputs": [
    {
     "data": {
      "text/latex": [
       "$5.7322345 \\; \\mathrm{}$"
      ],
      "text/plain": [
       "<Quantity 5.73223452>"
      ]
     },
     "execution_count": 41,
     "metadata": {},
     "output_type": "execute_result"
    }
   ],
   "source": [
    "(2/3 * 0.06 * H0 /(eta * ng(T0) * const.c * sigmaT))**(2/3)-1"
   ]
  },
  {
   "cell_type": "code",
   "execution_count": null,
   "metadata": {},
   "outputs": [],
   "source": []
  },
  {
   "cell_type": "code",
   "execution_count": null,
   "metadata": {},
   "outputs": [],
   "source": []
  }
 ],
 "metadata": {
  "kernelspec": {
   "display_name": "Python 3 (ipykernel)",
   "language": "python",
   "name": "python3"
  },
  "language_info": {
   "codemirror_mode": {
    "name": "ipython",
    "version": 3
   },
   "file_extension": ".py",
   "mimetype": "text/x-python",
   "name": "python",
   "nbconvert_exporter": "python",
   "pygments_lexer": "ipython3",
   "version": "3.11.9"
  }
 },
 "nbformat": 4,
 "nbformat_minor": 4
}
