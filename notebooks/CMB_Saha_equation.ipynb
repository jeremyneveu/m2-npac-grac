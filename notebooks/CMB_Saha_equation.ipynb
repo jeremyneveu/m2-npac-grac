{
 "cells": [
  {
   "cell_type": "markdown",
   "source": [
    "# Thermal history\n",
    "\n",
    "## Saha equation"
   ],
   "metadata": {
    "collapsed": false
   }
  },
  {
   "cell_type": "code",
   "source": [
    "import numpy as np\n",
    "import matplotlib.pyplot as plt\n",
    "import astropy.constants as const\n",
    "import astropy.units as u\n",
    "from scipy.special import zeta\n",
    "from astropy.cosmology import Planck18, WMAP7, FlatLambdaCDM"
   ],
   "metadata": {
    "collapsed": false,
    "ExecuteTime": {
     "end_time": "2024-11-26T20:07:12.334661Z",
     "start_time": "2024-11-26T20:07:12.332053Z"
    }
   },
   "outputs": [],
   "execution_count": 77
  },
  {
   "cell_type": "code",
   "source": [
    "Planck18 # = WMAP7\n",
    "\n",
    "T0 = Planck18.Tcmb0  # K\n",
    "H0 = Planck18.H0  # 70 * u.km / u.s / u.Mpc\n",
    "BH = 13.6 * u.eV  # eV\n",
    "Omegab0 = Planck18.Ob0\n",
    "Omegam0 = Planck18.Om0\n",
    "age = Planck18.lookback_time(np.inf)\n",
    "rhoc0 = (3 * H0**2 / (8 * np.pi * const.G) / const.m_p).to(1/u.m**3)\n",
    "sigmaT = 6.6529e-29 * u.m**2\n",
    "Planck18.Ogamma0"
   ],
   "metadata": {
    "collapsed": false,
    "ExecuteTime": {
     "end_time": "2024-11-26T20:07:12.546615Z",
     "start_time": "2024-11-26T20:07:12.538039Z"
    }
   },
   "outputs": [
    {
     "data": {
      "text/plain": [
       "5.402015137139352e-05"
      ]
     },
     "execution_count": 78,
     "metadata": {},
     "output_type": "execute_result"
    }
   ],
   "execution_count": 78
  },
  {
   "metadata": {
    "ExecuteTime": {
     "end_time": "2024-11-26T20:07:12.683910Z",
     "start_time": "2024-11-26T20:07:12.675236Z"
    }
   },
   "cell_type": "code",
   "source": [
    "cosmo = FlatLambdaCDM(H0=H0, Om0=Omegam0, Tcmb0=T0, m_nu=0)\n",
    "Omegar0 = cosmo.Ogamma0 + cosmo.Onu0  # with massless neutrinos\n",
    "Omegar0"
   ],
   "outputs": [
    {
     "data": {
      "text/plain": [
       "9.131600127112836e-05"
      ]
     },
     "execution_count": 79,
     "metadata": {},
     "output_type": "execute_result"
    }
   ],
   "execution_count": 79
  },
  {
   "cell_type": "code",
   "source": [
    "rhoc0"
   ],
   "metadata": {
    "collapsed": false,
    "ExecuteTime": {
     "end_time": "2024-11-26T20:07:12.713515Z",
     "start_time": "2024-11-26T20:07:12.709909Z"
    }
   },
   "outputs": [
    {
     "data": {
      "text/plain": [
       "<Quantity 5.14091926 1 / m3>"
      ],
      "text/latex": "$5.1409193 \\; \\mathrm{\\frac{1}{m^{3}}}$"
     },
     "execution_count": 80,
     "metadata": {},
     "output_type": "execute_result"
    }
   ],
   "execution_count": 80
  },
  {
   "cell_type": "markdown",
   "source": [
    "$$T(z) = T_0 (1+z)$$"
   ],
   "metadata": {
    "collapsed": false
   }
  },
  {
   "cell_type": "code",
   "source": [
    "def T(z):\n",
    "    return T0 * (1+z)"
   ],
   "metadata": {
    "collapsed": false,
    "ExecuteTime": {
     "end_time": "2024-11-26T20:07:12.794245Z",
     "start_time": "2024-11-26T20:07:12.790861Z"
    }
   },
   "outputs": [],
   "execution_count": 81
  },
  {
   "cell_type": "markdown",
   "source": [
    "$$n_\\gamma = \\frac{2\\zeta(3)}{\\pi^2}\\left(\\frac{k_B T}{\\hbar c}\\right)^3$$"
   ],
   "metadata": {
    "collapsed": false
   }
  },
  {
   "cell_type": "code",
   "source": [
    "def ng(T):\n",
    "    prefactor = 2 * zeta(3) / np.pi**2\n",
    "    return prefactor * (const.k_B * T / (const.hbar * const.c))**3"
   ],
   "metadata": {
    "collapsed": false,
    "ExecuteTime": {
     "end_time": "2024-11-26T20:07:12.886724Z",
     "start_time": "2024-11-26T20:07:12.882644Z"
    }
   },
   "outputs": [],
   "execution_count": 82
  },
  {
   "cell_type": "code",
   "source": [
    "ng(T0)"
   ],
   "metadata": {
    "collapsed": false,
    "ExecuteTime": {
     "end_time": "2024-11-26T20:07:12.947167Z",
     "start_time": "2024-11-26T20:07:12.942555Z"
    }
   },
   "outputs": [
    {
     "data": {
      "text/plain": [
       "<Quantity 4.10726848e+08 1 / m3>"
      ],
      "text/latex": "$4.1072685 \\times 10^{8} \\; \\mathrm{\\frac{1}{m^{3}}}$"
     },
     "execution_count": 83,
     "metadata": {},
     "output_type": "execute_result"
    }
   ],
   "execution_count": 83
  },
  {
   "cell_type": "markdown",
   "source": [
    "$$n_b(z) = \\Omega_b^0 \\rho_c^0 (1+z)^3/m_p$$"
   ],
   "metadata": {
    "collapsed": false
   }
  },
  {
   "cell_type": "code",
   "source": [
    "def nb(z):\n",
    "    return Omegab0 * rhoc0 * (1+z)**3"
   ],
   "metadata": {
    "collapsed": false,
    "ExecuteTime": {
     "end_time": "2024-11-26T20:07:13.060778Z",
     "start_time": "2024-11-26T20:07:13.058628Z"
    }
   },
   "outputs": [],
   "execution_count": 84
  },
  {
   "cell_type": "code",
   "source": [
    "nb(0)"
   ],
   "metadata": {
    "collapsed": false,
    "ExecuteTime": {
     "end_time": "2024-11-26T20:07:13.134107Z",
     "start_time": "2024-11-26T20:07:13.129824Z"
    }
   },
   "outputs": [
    {
     "data": {
      "text/plain": [
       "<Quantity 0.25175082 1 / m3>"
      ],
      "text/latex": "$0.25175082 \\; \\mathrm{\\frac{1}{m^{3}}}$"
     },
     "execution_count": 85,
     "metadata": {},
     "output_type": "execute_result"
    }
   ],
   "execution_count": 85
  },
  {
   "cell_type": "code",
   "source": [
    "eta = nb(0) / ng(T0)\n",
    "eta"
   ],
   "metadata": {
    "collapsed": false,
    "ExecuteTime": {
     "end_time": "2024-11-26T20:07:13.207436Z",
     "start_time": "2024-11-26T20:07:13.202779Z"
    }
   },
   "outputs": [
    {
     "data": {
      "text/plain": [
       "<Quantity 6.12939761e-10>"
      ],
      "text/latex": "$6.1293976 \\times 10^{-10} \\; \\mathrm{}$"
     },
     "execution_count": 86,
     "metadata": {},
     "output_type": "execute_result"
    }
   ],
   "execution_count": 86
  },
  {
   "cell_type": "markdown",
   "source": [
    "$$\\frac{1-X_e}{X_e^2} = \\eta n_\\gamma(T) \\left(\\frac{m_e k_B T}{2 \\pi \\hbar^2}\\right)^{-3/2} \\exp\\left(\\frac{B_H}{k_B T}\\right) \\equiv c$$"
   ],
   "metadata": {
    "collapsed": false
   }
  },
  {
   "cell_type": "code",
   "source": [
    "def c(T):\n",
    "    exp = np.exp(BH.to(u.J)/ (const.k_B * T))\n",
    "    factor = eta * (ng(T) * (const.m_e * const.k_B * T / (2 * np.pi * const.hbar**2)) **(-3/2)).to(u.dimensionless_unscaled)\n",
    "    return (factor * exp).value"
   ],
   "metadata": {
    "collapsed": false,
    "ExecuteTime": {
     "end_time": "2024-11-26T20:07:13.215329Z",
     "start_time": "2024-11-26T20:07:13.212680Z"
    }
   },
   "outputs": [],
   "execution_count": 87
  },
  {
   "cell_type": "code",
   "source": [
    "c(T(1000))"
   ],
   "metadata": {
    "collapsed": false,
    "ExecuteTime": {
     "end_time": "2024-11-26T20:07:13.263567Z",
     "start_time": "2024-11-26T20:07:13.259296Z"
    }
   },
   "outputs": [
    {
     "data": {
      "text/plain": [
       "9738897.275261402"
      ]
     },
     "execution_count": 88,
     "metadata": {},
     "output_type": "execute_result"
    }
   ],
   "execution_count": 88
  },
  {
   "cell_type": "code",
   "source": [
    "def Xe(T):\n",
    "    return (-1 + np.sqrt(1 + 4*c(T)))/(2*c(T))\n",
    "\n",
    "def ne(T):\n",
    "    return Xe(T) * eta * ng(T)"
   ],
   "metadata": {
    "collapsed": false,
    "ExecuteTime": {
     "end_time": "2024-11-26T20:07:13.343861Z",
     "start_time": "2024-11-26T20:07:13.341032Z"
    }
   },
   "outputs": [],
   "execution_count": 89
  },
  {
   "cell_type": "code",
   "source": [
    "zz = np.linspace(1000, 1800, 100)"
   ],
   "metadata": {
    "collapsed": false,
    "ExecuteTime": {
     "end_time": "2024-11-26T20:07:13.378652Z",
     "start_time": "2024-11-26T20:07:13.376285Z"
    }
   },
   "outputs": [],
   "execution_count": 90
  },
  {
   "cell_type": "code",
   "source": [
    "from scipy.optimize import brentq\n",
    "zrec = brentq(lambda z: Xe(T(z))-1/2, 1200, 1600)\n",
    "zrec"
   ],
   "metadata": {
    "collapsed": false,
    "ExecuteTime": {
     "end_time": "2024-11-26T20:07:13.485584Z",
     "start_time": "2024-11-26T20:07:13.473615Z"
    }
   },
   "outputs": [
    {
     "data": {
      "text/plain": [
       "1378.7603205637458"
      ]
     },
     "execution_count": 91,
     "metadata": {},
     "output_type": "execute_result"
    }
   ],
   "execution_count": 91
  },
  {
   "cell_type": "code",
   "source": [
    "Trec = T(zrec)\n",
    "Trec"
   ],
   "metadata": {
    "collapsed": false,
    "ExecuteTime": {
     "end_time": "2024-11-26T20:07:13.512361Z",
     "start_time": "2024-11-26T20:07:13.508840Z"
    }
   },
   "outputs": [
    {
     "data": {
      "text/plain": [
       "<Quantity 3760.5367537 K>"
      ],
      "text/latex": "$3760.5368 \\; \\mathrm{K}$"
     },
     "execution_count": 92,
     "metadata": {},
     "output_type": "execute_result"
    }
   ],
   "execution_count": 92
  },
  {
   "cell_type": "code",
   "source": [
    "def z_to_t(z):\n",
    "    return Planck18.age(z).to(u.yr).value"
   ],
   "metadata": {
    "collapsed": false,
    "ExecuteTime": {
     "end_time": "2024-11-26T20:07:13.592456Z",
     "start_time": "2024-11-26T20:07:13.590096Z"
    }
   },
   "outputs": [],
   "execution_count": 93
  },
  {
   "cell_type": "code",
   "source": [
    "z_to_t(zrec)"
   ],
   "metadata": {
    "collapsed": false,
    "ExecuteTime": {
     "end_time": "2024-11-26T20:07:13.625921Z",
     "start_time": "2024-11-26T20:07:13.622526Z"
    }
   },
   "outputs": [
    {
     "data": {
      "text/plain": [
       "249914.7782081686"
      ]
     },
     "execution_count": 94,
     "metadata": {},
     "output_type": "execute_result"
    }
   ],
   "execution_count": 94
  },
  {
   "cell_type": "code",
   "source": [
    "tt = z_to_t(zz)\n",
    "\n",
    "def t_to_z(t):\n",
    "    return np.interp(t, tt, zz)"
   ],
   "metadata": {
    "collapsed": false,
    "ExecuteTime": {
     "end_time": "2024-11-26T20:07:13.744106Z",
     "start_time": "2024-11-26T20:07:13.721420Z"
    }
   },
   "outputs": [],
   "execution_count": 95
  },
  {
   "cell_type": "code",
   "source": [
    "#| label: saha_Xe\n",
    "\n",
    "fig, ax1 = plt.subplots(constrained_layout=True)\n",
    "plt.plot(zz, Xe(T(zz)))\n",
    "plt.axvline(zrec, color=\"k\", linestyle=\"--\", label=\"$z_{\\mathrm{rec}}$\")\n",
    "plt.axhline(0.5, color=\"k\", linestyle=\":\")\n",
    "plt.xlabel(\"$z$\", fontsize=16)\n",
    "plt.ylabel(\"$X_e$\", fontsize=16)\n",
    "plt.legend(fontsize=14)\n",
    "plt.grid()\n",
    "ax1.invert_xaxis()\n",
    "\n",
    "secax = ax1.twiny()\n",
    "secax.plot(tt, Xe(T(t_to_z(tt))), linestyle=\"none\")\n",
    "secax.set_xscale(\"log\")\n",
    "secax.set_xlabel('$t$ [yr]', fontsize=14)\n",
    "\n",
    "plt.show()"
   ],
   "metadata": {
    "collapsed": false,
    "ExecuteTime": {
     "end_time": "2024-11-26T20:07:14.043781Z",
     "start_time": "2024-11-26T20:07:13.746425Z"
    }
   },
   "outputs": [
    {
     "data": {
      "text/plain": [
       "<Figure size 640x480 with 2 Axes>"
      ],
      "image/png": "[encoded data removed]"
     },
     "metadata": {},
     "output_type": "display_data"
    }
   ],
   "execution_count": 96
  },
  {
   "cell_type": "code",
   "source": [
    "BH.to(u.J) / (const.k_B * T(zrec))"
   ],
   "metadata": {
    "collapsed": false,
    "ExecuteTime": {
     "end_time": "2024-11-26T20:07:14.053082Z",
     "start_time": "2024-11-26T20:07:14.046447Z"
    }
   },
   "outputs": [
    {
     "data": {
      "text/plain": [
       "<Quantity 41.96779789>"
      ],
      "text/latex": "$41.967798 \\; \\mathrm{}$"
     },
     "execution_count": 97,
     "metadata": {},
     "output_type": "execute_result"
    }
   ],
   "execution_count": 97
  },
  {
   "cell_type": "markdown",
   "source": [
    "Magic number !"
   ],
   "metadata": {
    "collapsed": false
   }
  },
  {
   "cell_type": "markdown",
   "source": [
    "## Decoupling\n",
    "\n",
    "$$X_e(T_\\mathrm{dec}) (k_B T_\\mathrm{dec})^{3/2} \\approx  \\frac{\\pi^2}{2\\zeta(3)}\\frac{H_0 \\sqrt{\\Omega_m^0} } {\\eta  \\sigma_T c} \\left(\\frac{k_B T_0}{\\hbar c}\\right)^{-3/2}$$"
   ],
   "metadata": {
    "collapsed": false
   }
  },
  {
   "cell_type": "code",
   "source": [
    "def dec_f(T):\n",
    "    return (Xe(T)*(const.k_B * T)**(3/2)).to(u.J**(3/2))\n",
    "\n",
    "C = np.pi**2/(2*zeta(3))* H0*np.sqrt(Omegam0)/(eta*sigmaT*const.c)*(const.k_B * T0/(const.hbar * const.c)**2)**(-3/2)\n",
    "C.to(u.J**(3/2))"
   ],
   "metadata": {
    "collapsed": false,
    "ExecuteTime": {
     "end_time": "2024-11-26T20:07:14.062528Z",
     "start_time": "2024-11-26T20:07:14.054670Z"
    }
   },
   "outputs": [
    {
     "data": {
      "text/plain": [
       "<Quantity 5.60938981e-32 J(3/2)>"
      ],
      "text/latex": "$5.6093898 \\times 10^{-32} \\; \\mathrm{J^{3/2}}$"
     },
     "execution_count": 98,
     "metadata": {},
     "output_type": "execute_result"
    }
   ],
   "execution_count": 98
  },
  {
   "cell_type": "code",
   "source": [
    "dec_f(Trec)"
   ],
   "metadata": {
    "collapsed": false,
    "ExecuteTime": {
     "end_time": "2024-11-26T20:07:14.070733Z",
     "start_time": "2024-11-26T20:07:14.064643Z"
    }
   },
   "outputs": [
    {
     "data": {
      "text/plain": [
       "<Quantity 5.91520343e-30 J(3/2)>"
      ],
      "text/latex": "$5.9152034 \\times 10^{-30} \\; \\mathrm{J^{3/2}}$"
     },
     "execution_count": 99,
     "metadata": {},
     "output_type": "execute_result"
    }
   ],
   "execution_count": 99
  },
  {
   "cell_type": "code",
   "source": [
    "Tdec = brentq(lambda T: (dec_f(T*u.K)-C).value, 2000, 4000)*u.K\n",
    "Tdec"
   ],
   "metadata": {
    "collapsed": false,
    "ExecuteTime": {
     "end_time": "2024-11-26T20:07:14.087266Z",
     "start_time": "2024-11-26T20:07:14.072340Z"
    }
   },
   "outputs": [
    {
     "data": {
      "text/plain": [
       "<Quantity 3055.04391722 K>"
      ],
      "text/latex": "$3055.0439 \\; \\mathrm{K}$"
     },
     "execution_count": 100,
     "metadata": {},
     "output_type": "execute_result"
    }
   ],
   "execution_count": 100
  },
  {
   "cell_type": "code",
   "source": [
    "(const.k_B * Tdec).to(u.eV)"
   ],
   "metadata": {
    "collapsed": false,
    "ExecuteTime": {
     "end_time": "2024-11-26T20:07:14.090801Z",
     "start_time": "2024-11-26T20:07:14.088174Z"
    }
   },
   "outputs": [
    {
     "data": {
      "text/plain": [
       "<Quantity 0.26326332 eV>"
      ],
      "text/latex": "$0.26326332 \\; \\mathrm{eV}$"
     },
     "execution_count": 101,
     "metadata": {},
     "output_type": "execute_result"
    }
   ],
   "execution_count": 101
  },
  {
   "cell_type": "code",
   "source": [
    "zdec = brentq(lambda z: (T(z)-Tdec).value, 1000, 1500)\n",
    "zdec"
   ],
   "metadata": {
    "collapsed": false,
    "ExecuteTime": {
     "end_time": "2024-11-26T20:07:14.095189Z",
     "start_time": "2024-11-26T20:07:14.092375Z"
    }
   },
   "outputs": [
    {
     "data": {
      "text/plain": [
       "1119.9113620310331"
      ]
     },
     "execution_count": 102,
     "metadata": {},
     "output_type": "execute_result"
    }
   ],
   "execution_count": 102
  },
  {
   "cell_type": "code",
   "source": [
    "Xe(Tdec)"
   ],
   "metadata": {
    "collapsed": false,
    "ExecuteTime": {
     "end_time": "2024-11-26T20:07:14.098852Z",
     "start_time": "2024-11-26T20:07:14.095886Z"
    }
   },
   "outputs": [
    {
     "data": {
      "text/plain": [
       "0.006475368830826868"
      ]
     },
     "execution_count": 103,
     "metadata": {},
     "output_type": "execute_result"
    }
   ],
   "execution_count": 103
  },
  {
   "cell_type": "code",
   "source": [
    "tdec = z_to_t(zdec) * u.yr\n",
    "tdec"
   ],
   "metadata": {
    "collapsed": false,
    "ExecuteTime": {
     "end_time": "2024-11-26T20:07:14.134698Z",
     "start_time": "2024-11-26T20:07:14.130117Z"
    }
   },
   "outputs": [
    {
     "data": {
      "text/plain": [
       "<Quantity 355616.70730071 yr>"
      ],
      "text/latex": "$355616.71 \\; \\mathrm{yr}$"
     },
     "execution_count": 104,
     "metadata": {},
     "output_type": "execute_result"
    }
   ],
   "execution_count": 104
  },
  {
   "cell_type": "markdown",
   "source": [
    "## Last scattering"
   ],
   "metadata": {
    "collapsed": false
   }
  },
  {
   "cell_type": "code",
   "source": [
    "from scipy.integrate import quad\n",
    "\n",
    "def Gamma(z):\n",
    "    return sigmaT * const.c * eta * ng(T(z)) * Xe(T(z))\n",
    "\n",
    "def H(z):\n",
    "    return Planck18.H(z).to(1/u.s)\n",
    "\n",
    "def tau(z):\n",
    "    return quad(lambda zz: Gamma(zz)/(H(zz)*(1+zz)), 100, z)[0]\n",
    "\n",
    "tau(1100)"
   ],
   "metadata": {
    "collapsed": false,
    "ExecuteTime": {
     "end_time": "2024-11-26T20:07:14.259422Z",
     "start_time": "2024-11-26T20:07:14.190309Z"
    }
   },
   "outputs": [
    {
     "data": {
      "text/plain": [
       "0.01931520874303948"
      ]
     },
     "execution_count": 105,
     "metadata": {},
     "output_type": "execute_result"
    }
   ],
   "execution_count": 105
  },
  {
   "cell_type": "code",
   "source": [
    "H(1000)"
   ],
   "metadata": {
    "collapsed": false,
    "ExecuteTime": {
     "end_time": "2024-11-26T20:07:14.266654Z",
     "start_time": "2024-11-26T20:07:14.261514Z"
    }
   },
   "outputs": [
    {
     "data": {
      "text/plain": [
       "<Quantity 4.39895503e-14 1 / s>"
      ],
      "text/latex": "$4.398955 \\times 10^{-14} \\; \\mathrm{\\frac{1}{s}}$"
     },
     "execution_count": 106,
     "metadata": {},
     "output_type": "execute_result"
    }
   ],
   "execution_count": 106
  },
  {
   "cell_type": "code",
   "source": [
    "#| label: rates_decoupling\n",
    "\n",
    "fig = plt.figure()\n",
    "zz = np.linspace(1500, 900, 100)\n",
    "plt.plot(zz, Gamma(zz), label=\"$\\Gamma_\\gamma(z)$\")\n",
    "plt.plot(zz, H(zz), label=\"$H(z)$\")\n",
    "plt.gca().invert_xaxis()\n",
    "#plt.xscale(\"log\")\n",
    "plt.axvline(zrec, color=\"k\", linestyle=\"--\", label=\"$z_{\\mathrm{rec}}$\")\n",
    "plt.axvline(zdec, color=\"g\", linestyle=\"--\", label=\"$z_{\\mathrm{dec}}$\")\n",
    "plt.yscale(\"log\")\n",
    "plt.legend(fontsize=14)\n",
    "plt.xlabel(\"$z$\", fontsize=16)\n",
    "plt.ylabel(\"Rates [1/s]\", fontsize=16)\n",
    "plt.grid()\n",
    "plt.show()"
   ],
   "metadata": {
    "collapsed": false,
    "ExecuteTime": {
     "end_time": "2024-11-26T20:07:14.575525Z",
     "start_time": "2024-11-26T20:07:14.322250Z"
    }
   },
   "outputs": [
    {
     "data": {
      "text/plain": [
       "<Figure size 640x480 with 1 Axes>"
      ],
      "image/png": "[encoded data removed]"
     },
     "metadata": {},
     "output_type": "display_data"
    }
   ],
   "execution_count": 107
  },
  {
   "cell_type": "code",
   "source": [
    "c(T(0))"
   ],
   "metadata": {
    "collapsed": false,
    "ExecuteTime": {
     "end_time": "2024-11-26T20:07:14.581574Z",
     "start_time": "2024-11-26T20:07:14.577176Z"
    }
   },
   "outputs": [
    {
     "data": {
      "text/plain": [
       "inf"
      ]
     },
     "execution_count": 108,
     "metadata": {},
     "output_type": "execute_result"
    }
   ],
   "execution_count": 108
  },
  {
   "cell_type": "code",
   "source": [
    "(8*np.pi*const.G/(3*H0**2)*10*(const.k_B*T0)**3 * np.sqrt(const.G/(const.hbar**3*const.c**5))/(const.hbar**2*const.c**5)).to(u.GeV**-2)"
   ],
   "metadata": {
    "collapsed": false,
    "ExecuteTime": {
     "end_time": "2024-11-26T20:07:14.589299Z",
     "start_time": "2024-11-26T20:07:14.583256Z"
    }
   },
   "outputs": [
    {
     "data": {
      "text/plain": [
       "<Quantity 2.86319979e-10 1 / GeV2>"
      ],
      "text/latex": "$2.8631998 \\times 10^{-10} \\; \\mathrm{\\frac{1}{GeV^{2}}}$"
     },
     "execution_count": 109,
     "metadata": {},
     "output_type": "execute_result"
    }
   ],
   "execution_count": 109
  },
  {
   "cell_type": "code",
   "source": [
    "(np.sqrt(const.G/(const.hbar**3*const.c**5)) * (const.k_B*T0)**2).to(1/u.s)"
   ],
   "metadata": {
    "collapsed": false,
    "ExecuteTime": {
     "end_time": "2024-11-26T20:07:14.595063Z",
     "start_time": "2024-11-26T20:07:14.591182Z"
    }
   },
   "outputs": [
    {
     "data": {
      "text/plain": [
       "<Quantity 6.86429281e-21 1 / s>"
      ],
      "text/latex": "$6.8642928 \\times 10^{-21} \\; \\mathrm{\\frac{1}{s}}$"
     },
     "execution_count": 110,
     "metadata": {},
     "output_type": "execute_result"
    }
   ],
   "execution_count": 110
  },
  {
   "cell_type": "code",
   "source": [
    "def lpm(z):\n",
    "    return 1/(sigmaT * ne(T(z)) )\n",
    "\n",
    "def tau(z):\n",
    "    return lpm(z)/const.c"
   ],
   "metadata": {
    "collapsed": false,
    "ExecuteTime": {
     "end_time": "2024-11-26T20:07:14.598057Z",
     "start_time": "2024-11-26T20:07:14.595711Z"
    }
   },
   "outputs": [],
   "execution_count": 111
  },
  {
   "metadata": {
    "ExecuteTime": {
     "end_time": "2024-11-26T20:14:09.939042Z",
     "start_time": "2024-11-26T20:14:09.684932Z"
    }
   },
   "cell_type": "code",
   "source": [
    "#| label: photon_rates\n",
    "\n",
    "fig = plt.figure()\n",
    "zz = np.linspace(10000, 900, 100)\n",
    "plt.plot(zz, tau(zz).to(u.yr), label=r\"Photon mean free time $\\tau_T(z)$\")\n",
    "plt.plot(zz, (1/H(zz)).to(u.yr), label=\"Hubble rate $1/H(z)$\")\n",
    "plt.gca().invert_xaxis()\n",
    "plt.xscale(\"log\")\n",
    "plt.axvline(zrec, color=\"k\", linestyle=\"--\", label=\"$z_{\\mathrm{rec}}$\")\n",
    "plt.axvline(zdec, color=\"g\", linestyle=\"--\", label=\"$z_{\\mathrm{dec}}$\")\n",
    "plt.yscale(\"log\")\n",
    "plt.legend(fontsize=14)\n",
    "plt.xlabel(\"$z$\", fontsize=16)\n",
    "plt.ylabel(\"[yr]\", fontsize=16)\n",
    "plt.grid()\n",
    "plt.show()"
   ],
   "outputs": [
    {
     "data": {
      "text/plain": [
       "<Figure size 640x480 with 1 Axes>"
      ],
      "image/png": "[encoded data removed]"
     },
     "metadata": {},
     "output_type": "display_data"
    }
   ],
   "execution_count": 120
  },
  {
   "metadata": {
    "ExecuteTime": {
     "end_time": "2024-11-26T20:14:11.120357Z",
     "start_time": "2024-11-26T20:14:10.821975Z"
    }
   },
   "cell_type": "code",
   "source": [
    "#| label: photon_mean_free_path\n",
    "\n",
    "fig = plt.figure()\n",
    "zz = np.linspace(10000, 900, 100)\n",
    "plt.plot(zz, lpm(zz).to(u.lyr), label=r\"Photon mean free path $\\ell_T(z)$\")\n",
    "plt.plot(zz, (const.c/H(zz)).to(u.lyr), label=\"Hubble scale $c/H(z)$\")\n",
    "plt.gca().invert_xaxis()\n",
    "plt.xscale(\"log\")\n",
    "plt.axvline(zrec, color=\"k\", linestyle=\"--\", label=\"$z_{\\mathrm{rec}}$\")\n",
    "plt.axvline(zdec, color=\"g\", linestyle=\"--\", label=\"$z_{\\mathrm{dec}}$\")\n",
    "plt.yscale(\"log\")\n",
    "plt.legend(fontsize=14)\n",
    "plt.xlabel(\"$z$\", fontsize=16)\n",
    "plt.ylabel(\"[lyr]\", fontsize=16)\n",
    "plt.grid()\n",
    "plt.show()"
   ],
   "outputs": [
    {
     "data": {
      "text/plain": [
       "<Figure size 640x480 with 1 Axes>"
      ],
      "image/png": "[encoded data removed]"
     },
     "metadata": {},
     "output_type": "display_data"
    }
   ],
   "execution_count": 121
  },
  {
   "metadata": {},
   "cell_type": "code",
   "outputs": [],
   "execution_count": null,
   "source": ""
  }
 ],
 "metadata": {
  "kernelspec": {
   "display_name": "Python 3",
   "language": "python",
   "name": "python3"
  },
  "language_info": {
   "codemirror_mode": {
    "name": "ipython",
    "version": 2
   },
   "file_extension": ".py",
   "mimetype": "text/x-python",
   "name": "python",
   "nbconvert_exporter": "python",
   "pygments_lexer": "ipython2",
   "version": "2.7.6"
  }
 },
 "nbformat": 4,
 "nbformat_minor": 0
}
