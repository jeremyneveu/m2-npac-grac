{
 "cells": [
  {
   "cell_type": "code",
   "execution_count": 1,
   "id": "31f9d082-a83c-4564-9b1b-6ea88b8fae9b",
   "metadata": {},
   "outputs": [],
   "source": [
    "from astropy.cosmology import Planck18, z_at_value\n",
    "import astropy.units as u\n",
    "import matplotlib.pyplot as plt\n",
    "import pandas as pd\n",
    "import numpy as np\n",
    "from astropy.constants import k_B\n",
    "from scipy.integrate import quad\n"
   ]
  },
  {
   "cell_type": "code",
   "execution_count": 2,
   "id": "e020f112-be46-47e9-8b54-2dd21bbf0fc8",
   "metadata": {},
   "outputs": [],
   "source": [
    "%matplotlib widget"
   ]
  },
  {
   "cell_type": "markdown",
   "id": "5e6cee0c-28be-444e-b142-f037c7da0979",
   "metadata": {},
   "source": [
    "Particles \tMass \tspin \tcolor \tg \n",
    "\n",
    "Photon (γ) \t0 \t2 \t1 \t2\n",
    "W+,W−\t80.4GeV\t3 \t1 \t6\n",
    "Z\t91.2GeV\t3 \t1 \t3\n",
    "Gluon (g) \t0 \t2 \t8 \t16\n",
    "Higgs boson \t>114GeV\t1 \t1 \t1\n",
    "\n",
    "Bosons \t\t28\n",
    "\n",
    "u,/,u¯\t3MeV\t2 \t3 \t12\n",
    "d,/,d¯\t6MeV\t2 \t3 \t12\n",
    "s,/,s¯\t100MeV\t2 \t3 \t12\n",
    "c,/,c¯\t1.2GeV\t2 \t3 \t12\n",
    "b,/,b¯\t4.2GeV\t2 \t3 \t12\n",
    "t,/,t¯\t175GeV\t2 \t3 \t12\n",
    "e+,e−\t0.511MeV\t2 \t1 \t4\n",
    "μ+,μ−\t105.7MeV\t2 \t1 \t4\n",
    "τ+,τ−\t1.777GeV\t2 \t1 \t4\n",
    "νe,νe¯\t<3eV\t1 \t1 \t2\n",
    "νμ,νμ¯\t<0.19MeV\t1 \t1 \t2\n",
    "ντ,ντ¯\t<18.2MeV\t1 \t1 \t2\n",
    "\n",
    "\n",
    "Fermions \t\t90\n",
    "\n",
    "\n"
   ]
  },
  {
   "cell_type": "code",
   "execution_count": 3,
   "id": "08d47e41-e176-40ed-ad24-0715086a064d",
   "metadata": {},
   "outputs": [],
   "source": [
    "t = \"\"\"Particles\tType\\tMass\tspin\tcolor\tg\\tQCD\n",
    "γ \tboson\\t     0 \t2 \t1 \t2\\tFalse\n",
    "W+,W−\tboson\\t     80.4GeV\t3 \t1 \t6\\tFalse\n",
    "Z\tboson\\t     91.2GeV\t3 \t1 \t3\\tFalse\n",
    "Gluons \tboson\\t     0 \t2 \t8 \t16\\tTrue\n",
    "Higgs \tboson\\t     125.3GeV\t1 \t1 \t1\\tFalse\n",
    "u,u¯\tfermion\\t     2MeV\t2 \t3 \t12\\tTrue\n",
    "d,d¯\tfermion\\t    5MeV\t2 \t3 \t12\\tTrue\n",
    "s,s¯\tfermion\\t    100MeV\t2 \t3 \t12\\tTrue\n",
    "c,c¯\tfermion\\t    1GeV\t2 \t3 \t12\\tTrue\n",
    "b,b¯\tfermion\\t    4GeV\t2 \t3 \t12\\tTrue\n",
    "t,t¯\tfermion\\t    173GeV\t2 \t3 \t12\\tTrue\n",
    "e+,e−\tfermion\\t    0.511MeV\t2 \t1 \t4\\tFalse\n",
    "μ+,μ−\tfermion\\t    105.7MeV\t2 \t1 \t4\\tFalse\n",
    "τ+,τ−\tfermion\\t    1.777GeV\t2 \t1 \t4\\tFalse\n",
    "pions\tboson\\t    135MeV\t1 \t1 \t3\\tFalse\n",
    "νe,νe¯\tfermion\\t    <3eV\t1 \t1 \t2\\tFalse\n",
    "νμ,νμ¯\tfermion\\t    <0.19MeV\t1 \t1 \t2\\tFalse\n",
    "ντ,ντ¯\tfermion\\t    <18.2MeV\t1 \t1 \t2\\tFalse\n",
    "\"\"\""
   ]
  },
  {
   "cell_type": "code",
   "execution_count": 4,
   "id": "b3ce617c-4428-4797-b4da-29569c0f9484",
   "metadata": {},
   "outputs": [],
   "source": [
    "with open(\"particle_g.csv\", 'w') as f:\n",
    "    f.write(t)"
   ]
  },
  {
   "cell_type": "code",
   "execution_count": 5,
   "id": "95d29baf-c81e-47ed-b7fd-f913cfbbf892",
   "metadata": {},
   "outputs": [],
   "source": [
    "df = pd.read_csv(\"particle_g.csv\", delimiter=\"\\t\")"
   ]
  },
  {
   "cell_type": "code",
   "execution_count": 6,
   "id": "0f5e731b-6153-4650-bb95-513752554764",
   "metadata": {},
   "outputs": [
    {
     "data": {
      "text/plain": "   Particles     Type           Mass  spin  color   g    QCD\n0         γ     boson             0      2      1   2  False\n1      W+,W−    boson        80.4GeV     3      1   6  False\n2          Z    boson        91.2GeV     3      1   3  False\n3    Gluons     boson             0      2      8  16   True\n4     Higgs     boson       125.3GeV     1      1   1  False\n5       u,u¯  fermion           2MeV     2      3  12   True\n6       d,d¯  fermion           5MeV     2      3  12   True\n7       s,s¯  fermion         100MeV     2      3  12   True\n8       c,c¯  fermion           1GeV     2      3  12   True\n9       b,b¯  fermion           4GeV     2      3  12   True\n10      t,t¯  fermion         173GeV     2      3  12   True\n11     e+,e−  fermion       0.511MeV     2      1   4  False\n12     μ+,μ−  fermion       105.7MeV     2      1   4  False\n13     τ+,τ−  fermion       1.777GeV     2      1   4  False\n14     pions    boson         135MeV     1      1   3  False\n15    νe,νe¯  fermion           <3eV     1      1   2  False\n16    νμ,νμ¯  fermion       <0.19MeV     1      1   2  False\n17    ντ,ντ¯  fermion       <18.2MeV     1      1   2  False",
      "text/html": "<div>\n<style scoped>\n    .dataframe tbody tr th:only-of-type {\n        vertical-align: middle;\n    }\n\n    .dataframe tbody tr th {\n        vertical-align: top;\n    }\n\n    .dataframe thead th {\n        text-align: right;\n    }\n</style>\n<table border=\"1\" class=\"dataframe\">\n  <thead>\n    <tr style=\"text-align: right;\">\n      <th></th>\n      <th>Particles</th>\n      <th>Type</th>\n      <th>Mass</th>\n      <th>spin</th>\n      <th>color</th>\n      <th>g</th>\n      <th>QCD</th>\n    </tr>\n  </thead>\n  <tbody>\n    <tr>\n      <th>0</th>\n      <td>γ</td>\n      <td>boson</td>\n      <td>0</td>\n      <td>2</td>\n      <td>1</td>\n      <td>2</td>\n      <td>False</td>\n    </tr>\n    <tr>\n      <th>1</th>\n      <td>W+,W−</td>\n      <td>boson</td>\n      <td>80.4GeV</td>\n      <td>3</td>\n      <td>1</td>\n      <td>6</td>\n      <td>False</td>\n    </tr>\n    <tr>\n      <th>2</th>\n      <td>Z</td>\n      <td>boson</td>\n      <td>91.2GeV</td>\n      <td>3</td>\n      <td>1</td>\n      <td>3</td>\n      <td>False</td>\n    </tr>\n    <tr>\n      <th>3</th>\n      <td>Gluons</td>\n      <td>boson</td>\n      <td>0</td>\n      <td>2</td>\n      <td>8</td>\n      <td>16</td>\n      <td>True</td>\n    </tr>\n    <tr>\n      <th>4</th>\n      <td>Higgs</td>\n      <td>boson</td>\n      <td>125.3GeV</td>\n      <td>1</td>\n      <td>1</td>\n      <td>1</td>\n      <td>False</td>\n    </tr>\n    <tr>\n      <th>5</th>\n      <td>u,u¯</td>\n      <td>fermion</td>\n      <td>2MeV</td>\n      <td>2</td>\n      <td>3</td>\n      <td>12</td>\n      <td>True</td>\n    </tr>\n    <tr>\n      <th>6</th>\n      <td>d,d¯</td>\n      <td>fermion</td>\n      <td>5MeV</td>\n      <td>2</td>\n      <td>3</td>\n      <td>12</td>\n      <td>True</td>\n    </tr>\n    <tr>\n      <th>7</th>\n      <td>s,s¯</td>\n      <td>fermion</td>\n      <td>100MeV</td>\n      <td>2</td>\n      <td>3</td>\n      <td>12</td>\n      <td>True</td>\n    </tr>\n    <tr>\n      <th>8</th>\n      <td>c,c¯</td>\n      <td>fermion</td>\n      <td>1GeV</td>\n      <td>2</td>\n      <td>3</td>\n      <td>12</td>\n      <td>True</td>\n    </tr>\n    <tr>\n      <th>9</th>\n      <td>b,b¯</td>\n      <td>fermion</td>\n      <td>4GeV</td>\n      <td>2</td>\n      <td>3</td>\n      <td>12</td>\n      <td>True</td>\n    </tr>\n    <tr>\n      <th>10</th>\n      <td>t,t¯</td>\n      <td>fermion</td>\n      <td>173GeV</td>\n      <td>2</td>\n      <td>3</td>\n      <td>12</td>\n      <td>True</td>\n    </tr>\n    <tr>\n      <th>11</th>\n      <td>e+,e−</td>\n      <td>fermion</td>\n      <td>0.511MeV</td>\n      <td>2</td>\n      <td>1</td>\n      <td>4</td>\n      <td>False</td>\n    </tr>\n    <tr>\n      <th>12</th>\n      <td>μ+,μ−</td>\n      <td>fermion</td>\n      <td>105.7MeV</td>\n      <td>2</td>\n      <td>1</td>\n      <td>4</td>\n      <td>False</td>\n    </tr>\n    <tr>\n      <th>13</th>\n      <td>τ+,τ−</td>\n      <td>fermion</td>\n      <td>1.777GeV</td>\n      <td>2</td>\n      <td>1</td>\n      <td>4</td>\n      <td>False</td>\n    </tr>\n    <tr>\n      <th>14</th>\n      <td>pions</td>\n      <td>boson</td>\n      <td>135MeV</td>\n      <td>1</td>\n      <td>1</td>\n      <td>3</td>\n      <td>False</td>\n    </tr>\n    <tr>\n      <th>15</th>\n      <td>νe,νe¯</td>\n      <td>fermion</td>\n      <td>&lt;3eV</td>\n      <td>1</td>\n      <td>1</td>\n      <td>2</td>\n      <td>False</td>\n    </tr>\n    <tr>\n      <th>16</th>\n      <td>νμ,νμ¯</td>\n      <td>fermion</td>\n      <td>&lt;0.19MeV</td>\n      <td>1</td>\n      <td>1</td>\n      <td>2</td>\n      <td>False</td>\n    </tr>\n    <tr>\n      <th>17</th>\n      <td>ντ,ντ¯</td>\n      <td>fermion</td>\n      <td>&lt;18.2MeV</td>\n      <td>1</td>\n      <td>1</td>\n      <td>2</td>\n      <td>False</td>\n    </tr>\n  </tbody>\n</table>\n</div>"
     },
     "execution_count": 6,
     "metadata": {},
     "output_type": "execute_result"
    }
   ],
   "source": [
    "#| label: gtable\n",
    "df"
   ]
  },
  {
   "cell_type": "code",
   "execution_count": 7,
   "id": "445893f5-cac6-4d63-a930-ee6e66451f01",
   "metadata": {},
   "outputs": [],
   "source": [
    "mass_txt = df[\"Mass\"]\n",
    "mass_MeV = []\n",
    "for m in mass_txt:\n",
    "    if \"eV\" in m:\n",
    "        if \"<\" in m:\n",
    "            mass_MeV.append(0)\n",
    "        elif \"GeV\" in m:\n",
    "            mass_MeV.append(float(m.split('GeV')[0])*1e3)\n",
    "        elif \"MeV\" in m:\n",
    "            mass_MeV.append(float(m.split('MeV')[0]))\n",
    "    else:\n",
    "        mass_MeV.append(float(m))\n",
    "mass_MeV = np.array(mass_MeV)"
   ]
  },
  {
   "cell_type": "code",
   "execution_count": 8,
   "id": "326318b3-7ce2-4c93-b5ae-810c0bcf4734",
   "metadata": {},
   "outputs": [],
   "source": [
    "mass_T = mass_MeV / 1.38e-23 * 1.6e-19 * 1e6"
   ]
  },
  {
   "cell_type": "markdown",
   "id": "9a4eb68a-0ead-44fc-99c8-e9997a389818",
   "metadata": {},
   "source": [
    "$a_0 T_{CMB} = a T$"
   ]
  },
  {
   "cell_type": "code",
   "execution_count": 9,
   "id": "960b50c9-0801-4911-a462-843bd6b83beb",
   "metadata": {},
   "outputs": [
    {
     "name": "stderr",
     "output_type": "stream",
     "text": [
      "/var/folders/jk/kyldbk_95pl2fc_t8qb_l8580000gw/T/ipykernel_18697/1147251717.py:1: RuntimeWarning: divide by zero encountered in divide\n",
      "  a = 2.725 / mass_T\n"
     ]
    }
   ],
   "source": [
    "a = 2.725 / mass_T\n",
    "z = 1/a - 1\n",
    "z[z < 0] = np.inf"
   ]
  },
  {
   "cell_type": "code",
   "execution_count": 10,
   "id": "9eefa550-aa19-4bb2-b173-03b50c9d75af",
   "metadata": {},
   "outputs": [
    {
     "data": {
      "text/plain": "4.560563969097498e+17"
     },
     "execution_count": 10,
     "metadata": {},
     "output_type": "execute_result"
    }
   ],
   "source": [
    "invH0 = (1/Planck18.H0).to(u.s).value\n",
    "invH0"
   ]
  },
  {
   "cell_type": "code",
   "execution_count": 11,
   "id": "8902cac6-ae02-499e-803c-04a30f68defd",
   "metadata": {},
   "outputs": [
    {
     "data": {
      "text/plain": "7.616919404709378e-05"
     },
     "execution_count": 11,
     "metadata": {},
     "output_type": "execute_result"
    }
   ],
   "source": [
    "def inv_aH(a):\n",
    "    return (invH0/(a*(np.sqrt(Planck18.Ogamma0 / a**4))))\n",
    "\n",
    "def a_to_time(a):\n",
    "    return quad(inv_aH, 0, a)[0]\n",
    "\n",
    "def T_to_time(T):\n",
    "    return a_to_time(2.725 / T)\n",
    "\n",
    "def MeV_to_time(MeV):\n",
    "    T = MeV / 1.38e-23 * 1.6e-19 * 1e6\n",
    "    return T_to_time(T)\n",
    "\n",
    "MeV_to_time(150)"
   ]
  },
  {
   "cell_type": "code",
   "execution_count": 12,
   "id": "26cb23f1-6344-4ca0-baa4-b89cc516011e",
   "metadata": {},
   "outputs": [
    {
     "name": "stderr",
     "output_type": "stream",
     "text": [
      "/var/folders/jk/kyldbk_95pl2fc_t8qb_l8580000gw/T/ipykernel_18697/993834174.py:8: RuntimeWarning: divide by zero encountered in scalar divide\n",
      "  return a_to_time(2.725 / T)\n",
      "/var/folders/jk/kyldbk_95pl2fc_t8qb_l8580000gw/T/ipykernel_18697/993834174.py:5: IntegrationWarning: The algorithm does not converge.  Roundoff error is detected\n",
      "  in the extrapolation table.  It is assumed that the requested tolerance\n",
      "  cannot be achieved, and that the returned result (if full_output = 1) is \n",
      "  the best which can be obtained.\n",
      "  return quad(inv_aH, 0, a)[0]\n"
     ]
    }
   ],
   "source": [
    "t = [MeV_to_time(mass_MeV[k]) for k in range(len(mass_MeV))]"
   ]
  },
  {
   "cell_type": "code",
   "execution_count": 13,
   "id": "35a95c3a-720b-43de-8362-c61b17097842",
   "metadata": {},
   "outputs": [
    {
     "data": {
      "text/plain": "   Particles     Type           Mass  spin  color   g    QCD         MeV  \\\n0         γ     boson             0      2      1   2  False       0.000   \n15    νe,νe¯  fermion           <3eV     1      1   2  False       0.000   \n16    νμ,νμ¯  fermion       <0.19MeV     1      1   2  False       0.000   \n17    ντ,ντ¯  fermion       <18.2MeV     1      1   2  False       0.000   \n3    Gluons     boson             0      2      8  16   True       0.000   \n11     e+,e−  fermion       0.511MeV     2      1   4  False       0.511   \n5       u,u¯  fermion           2MeV     2      3  12   True       2.000   \n6       d,d¯  fermion           5MeV     2      3  12   True       5.000   \n7       s,s¯  fermion         100MeV     2      3  12   True     100.000   \n12     μ+,μ−  fermion       105.7MeV     2      1   4  False     105.700   \n14     pions    boson         135MeV     1      1   3  False     135.000   \n8       c,c¯  fermion           1GeV     2      3  12   True    1000.000   \n13     τ+,τ−  fermion       1.777GeV     2      1   4  False    1777.000   \n9       b,b¯  fermion           4GeV     2      3  12   True    4000.000   \n1      W+,W−    boson        80.4GeV     3      1   6  False   80400.000   \n2          Z    boson        91.2GeV     3      1   3  False   91200.000   \n4     Higgs     boson       125.3GeV     1      1   1  False  125300.000   \n10      t,t¯  fermion         173GeV     2      3  12   True  173000.000   \n\n               a             z             t  \n0            inf           inf  6.361560e+35  \n15           inf           inf  6.361560e+35  \n16           inf           inf  6.361560e+35  \n17           inf           inf  6.361560e+35  \n3            inf           inf  6.361560e+35  \n11  4.599437e-10  2.174179e+09  6.563267e+00  \n5   1.175156e-10  8.509507e+09  4.284517e-01  \n6   4.700625e-11  2.127377e+10  6.855227e-02  \n7   2.350313e-12  4.254753e+11  1.713807e-04  \n12  2.223569e-12  4.497274e+11  1.533952e-04  \n14  1.740972e-12  5.743917e+11  9.403604e-05  \n8   2.350313e-13  4.254753e+12  1.713807e-06  \n13  1.322629e-13  7.560697e+12  5.427340e-07  \n9   5.875781e-14  1.701901e+13  1.071129e-07  \n1   2.923274e-15  3.420822e+14  2.651245e-10  \n2   2.577097e-15  3.880335e+14  2.060498e-10  \n4   1.875748e-15  5.331206e+14  1.091590e-10  \n10  1.358562e-15  7.360723e+14  5.726242e-11  ",
      "text/html": "<div>\n<style scoped>\n    .dataframe tbody tr th:only-of-type {\n        vertical-align: middle;\n    }\n\n    .dataframe tbody tr th {\n        vertical-align: top;\n    }\n\n    .dataframe thead th {\n        text-align: right;\n    }\n</style>\n<table border=\"1\" class=\"dataframe\">\n  <thead>\n    <tr style=\"text-align: right;\">\n      <th></th>\n      <th>Particles</th>\n      <th>Type</th>\n      <th>Mass</th>\n      <th>spin</th>\n      <th>color</th>\n      <th>g</th>\n      <th>QCD</th>\n      <th>MeV</th>\n      <th>a</th>\n      <th>z</th>\n      <th>t</th>\n    </tr>\n  </thead>\n  <tbody>\n    <tr>\n      <th>0</th>\n      <td>γ</td>\n      <td>boson</td>\n      <td>0</td>\n      <td>2</td>\n      <td>1</td>\n      <td>2</td>\n      <td>False</td>\n      <td>0.000</td>\n      <td>inf</td>\n      <td>inf</td>\n      <td>6.361560e+35</td>\n    </tr>\n    <tr>\n      <th>15</th>\n      <td>νe,νe¯</td>\n      <td>fermion</td>\n      <td>&lt;3eV</td>\n      <td>1</td>\n      <td>1</td>\n      <td>2</td>\n      <td>False</td>\n      <td>0.000</td>\n      <td>inf</td>\n      <td>inf</td>\n      <td>6.361560e+35</td>\n    </tr>\n    <tr>\n      <th>16</th>\n      <td>νμ,νμ¯</td>\n      <td>fermion</td>\n      <td>&lt;0.19MeV</td>\n      <td>1</td>\n      <td>1</td>\n      <td>2</td>\n      <td>False</td>\n      <td>0.000</td>\n      <td>inf</td>\n      <td>inf</td>\n      <td>6.361560e+35</td>\n    </tr>\n    <tr>\n      <th>17</th>\n      <td>ντ,ντ¯</td>\n      <td>fermion</td>\n      <td>&lt;18.2MeV</td>\n      <td>1</td>\n      <td>1</td>\n      <td>2</td>\n      <td>False</td>\n      <td>0.000</td>\n      <td>inf</td>\n      <td>inf</td>\n      <td>6.361560e+35</td>\n    </tr>\n    <tr>\n      <th>3</th>\n      <td>Gluons</td>\n      <td>boson</td>\n      <td>0</td>\n      <td>2</td>\n      <td>8</td>\n      <td>16</td>\n      <td>True</td>\n      <td>0.000</td>\n      <td>inf</td>\n      <td>inf</td>\n      <td>6.361560e+35</td>\n    </tr>\n    <tr>\n      <th>11</th>\n      <td>e+,e−</td>\n      <td>fermion</td>\n      <td>0.511MeV</td>\n      <td>2</td>\n      <td>1</td>\n      <td>4</td>\n      <td>False</td>\n      <td>0.511</td>\n      <td>4.599437e-10</td>\n      <td>2.174179e+09</td>\n      <td>6.563267e+00</td>\n    </tr>\n    <tr>\n      <th>5</th>\n      <td>u,u¯</td>\n      <td>fermion</td>\n      <td>2MeV</td>\n      <td>2</td>\n      <td>3</td>\n      <td>12</td>\n      <td>True</td>\n      <td>2.000</td>\n      <td>1.175156e-10</td>\n      <td>8.509507e+09</td>\n      <td>4.284517e-01</td>\n    </tr>\n    <tr>\n      <th>6</th>\n      <td>d,d¯</td>\n      <td>fermion</td>\n      <td>5MeV</td>\n      <td>2</td>\n      <td>3</td>\n      <td>12</td>\n      <td>True</td>\n      <td>5.000</td>\n      <td>4.700625e-11</td>\n      <td>2.127377e+10</td>\n      <td>6.855227e-02</td>\n    </tr>\n    <tr>\n      <th>7</th>\n      <td>s,s¯</td>\n      <td>fermion</td>\n      <td>100MeV</td>\n      <td>2</td>\n      <td>3</td>\n      <td>12</td>\n      <td>True</td>\n      <td>100.000</td>\n      <td>2.350313e-12</td>\n      <td>4.254753e+11</td>\n      <td>1.713807e-04</td>\n    </tr>\n    <tr>\n      <th>12</th>\n      <td>μ+,μ−</td>\n      <td>fermion</td>\n      <td>105.7MeV</td>\n      <td>2</td>\n      <td>1</td>\n      <td>4</td>\n      <td>False</td>\n      <td>105.700</td>\n      <td>2.223569e-12</td>\n      <td>4.497274e+11</td>\n      <td>1.533952e-04</td>\n    </tr>\n    <tr>\n      <th>14</th>\n      <td>pions</td>\n      <td>boson</td>\n      <td>135MeV</td>\n      <td>1</td>\n      <td>1</td>\n      <td>3</td>\n      <td>False</td>\n      <td>135.000</td>\n      <td>1.740972e-12</td>\n      <td>5.743917e+11</td>\n      <td>9.403604e-05</td>\n    </tr>\n    <tr>\n      <th>8</th>\n      <td>c,c¯</td>\n      <td>fermion</td>\n      <td>1GeV</td>\n      <td>2</td>\n      <td>3</td>\n      <td>12</td>\n      <td>True</td>\n      <td>1000.000</td>\n      <td>2.350313e-13</td>\n      <td>4.254753e+12</td>\n      <td>1.713807e-06</td>\n    </tr>\n    <tr>\n      <th>13</th>\n      <td>τ+,τ−</td>\n      <td>fermion</td>\n      <td>1.777GeV</td>\n      <td>2</td>\n      <td>1</td>\n      <td>4</td>\n      <td>False</td>\n      <td>1777.000</td>\n      <td>1.322629e-13</td>\n      <td>7.560697e+12</td>\n      <td>5.427340e-07</td>\n    </tr>\n    <tr>\n      <th>9</th>\n      <td>b,b¯</td>\n      <td>fermion</td>\n      <td>4GeV</td>\n      <td>2</td>\n      <td>3</td>\n      <td>12</td>\n      <td>True</td>\n      <td>4000.000</td>\n      <td>5.875781e-14</td>\n      <td>1.701901e+13</td>\n      <td>1.071129e-07</td>\n    </tr>\n    <tr>\n      <th>1</th>\n      <td>W+,W−</td>\n      <td>boson</td>\n      <td>80.4GeV</td>\n      <td>3</td>\n      <td>1</td>\n      <td>6</td>\n      <td>False</td>\n      <td>80400.000</td>\n      <td>2.923274e-15</td>\n      <td>3.420822e+14</td>\n      <td>2.651245e-10</td>\n    </tr>\n    <tr>\n      <th>2</th>\n      <td>Z</td>\n      <td>boson</td>\n      <td>91.2GeV</td>\n      <td>3</td>\n      <td>1</td>\n      <td>3</td>\n      <td>False</td>\n      <td>91200.000</td>\n      <td>2.577097e-15</td>\n      <td>3.880335e+14</td>\n      <td>2.060498e-10</td>\n    </tr>\n    <tr>\n      <th>4</th>\n      <td>Higgs</td>\n      <td>boson</td>\n      <td>125.3GeV</td>\n      <td>1</td>\n      <td>1</td>\n      <td>1</td>\n      <td>False</td>\n      <td>125300.000</td>\n      <td>1.875748e-15</td>\n      <td>5.331206e+14</td>\n      <td>1.091590e-10</td>\n    </tr>\n    <tr>\n      <th>10</th>\n      <td>t,t¯</td>\n      <td>fermion</td>\n      <td>173GeV</td>\n      <td>2</td>\n      <td>3</td>\n      <td>12</td>\n      <td>True</td>\n      <td>173000.000</td>\n      <td>1.358562e-15</td>\n      <td>7.360723e+14</td>\n      <td>5.726242e-11</td>\n    </tr>\n  </tbody>\n</table>\n</div>"
     },
     "execution_count": 13,
     "metadata": {},
     "output_type": "execute_result"
    }
   ],
   "source": [
    "df[\"MeV\"] = mass_MeV\n",
    "df[\"a\"] = a\n",
    "df[\"z\"] = z\n",
    "df[\"t\"] = t\n",
    "df.sort_values(\"MeV\")"
   ]
  },
  {
   "cell_type": "code",
   "execution_count": 14,
   "id": "4887f0eb-ef80-4ace-9f32-6f04ad85daf4",
   "metadata": {},
   "outputs": [
    {
     "data": {
      "text/plain": "109.75"
     },
     "execution_count": 14,
     "metadata": {},
     "output_type": "execute_result"
    }
   ],
   "source": [
    "def gs_tot(MeV):\n",
    "    if MeV > 150:\n",
    "        gb = np.sum(df[\"g\"][(df[\"MeV\"] < MeV) & (df[\"Type\"]==\"boson\")])\n",
    "        gf = np.sum(df[\"g\"][(df[\"MeV\"] < MeV) & (df[\"Type\"]==\"fermion\")])\n",
    "    elif MeV < 150 and MeV >= 0.511:  # QCD phase transition\n",
    "        gb = np.sum(df[\"g\"][(df[\"MeV\"] < MeV) & (df[\"Type\"]==\"boson\") & (df[\"QCD\"]==False)])\n",
    "        gf = np.sum(df[\"g\"][(df[\"MeV\"] < MeV) & (df[\"Type\"]==\"fermion\") & (df[\"QCD\"]==False)])\n",
    "    elif MeV < 0.511:  # e+/e- annihilation\n",
    "        gb = 2\n",
    "        gf = 2 * 3 * (4/11)**(4/3)  # neutrinos at lower T\n",
    "    return gb + 7/8 * gf\n",
    "\n",
    "gs_tot(1e6)"
   ]
  },
  {
   "cell_type": "code",
   "execution_count": 15,
   "id": "3ce05895-1adf-412b-b436-025218000219",
   "metadata": {},
   "outputs": [
    {
     "name": "stderr",
     "output_type": "stream",
     "text": [
      "/var/folders/jk/kyldbk_95pl2fc_t8qb_l8580000gw/T/ipykernel_18697/993834174.py:8: RuntimeWarning: divide by zero encountered in scalar divide\n",
      "  return a_to_time(2.725 / T)\n",
      "/var/folders/jk/kyldbk_95pl2fc_t8qb_l8580000gw/T/ipykernel_18697/993834174.py:5: IntegrationWarning: The algorithm does not converge.  Roundoff error is detected\n",
      "  in the extrapolation table.  It is assumed that the requested tolerance\n",
      "  cannot be achieved, and that the returned result (if full_output = 1) is \n",
      "  the best which can be obtained.\n",
      "  return quad(inv_aH, 0, a)[0]\n"
     ]
    }
   ],
   "source": [
    "MeVs = np.sort(np.concatenate([np.logspace(-2, 7, 1000), df[\"MeV\"]]))\n",
    "ts = [MeV_to_time(MeV) for MeV in MeVs]\n",
    "gs = [gs_tot(MeV) for MeV in MeVs]"
   ]
  },
  {
   "cell_type": "code",
   "execution_count": 16,
   "id": "12aff2df-d300-4d2c-9e24-41da579e5171",
   "metadata": {},
   "outputs": [
    {
     "data": {
      "text/plain": "Canvas(toolbar=Toolbar(toolitems=[('Home', 'Reset original view', 'home', 'home'), ('Back', 'Back to previous …",
      "image/png": "[encoded data removed]",
      "text/html": "\n            <div style=\"display: inline-block;\">\n                <div class=\"jupyter-widgets widget-label\" style=\"text-align: center;\">\n                    Figure\n                </div>\n                <img src='data:image/png;base64,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' width=640.0/>\n            </div>\n        ",
      "application/vnd.jupyter.widget-view+json": {
       "version_major": 2,
       "version_minor": 0,
       "model_id": "1d83bca235da42c2a77b2f09bec3bb07"
      }
     },
     "metadata": {},
     "output_type": "display_data"
    }
   ],
   "source": [
    "#| label: ggstar_plot\n",
    "fig = plt.figure()\n",
    "plt.plot(MeVs, gs)\n",
    "plt.grid()\n",
    "plt.xscale(\"log\")\n",
    "plt.xlim((1e6, 1e-1))\n",
    "ax1 = plt.gca()\n",
    "#ax1.invert_xaxis()\n",
    "ax2 = plt.gca().twiny()\n",
    "ax2.set_xscale(\"log\")\n",
    "ticks = ax1.get_xticks()[::-1][1:-1]\n",
    "#print(ticks)\n",
    "#ticks = 10.**np.arange(6, -3, -1)\n",
    "#print(ticks)\n",
    "new_ticks = [MeV_to_time(tick) for tick in ticks]\n",
    "#print(new_ticks)\n",
    "ax2.set_xticks(new_ticks)\n",
    "ax2.set_xticklabels([f\"{tick:.0g}\" for tick in new_ticks])\n",
    "ax2.set_xlabel(\"$t$ [s]\")\n",
    "ax1.set_ylabel(\"$g_*(T)$\")\n",
    "ax1.set_xlabel(\"$T$ [MeV]\")\n",
    "plt.show()"
   ]
  },
  {
   "cell_type": "code",
   "execution_count": 16,
   "id": "93253001-dc21-420a-aafb-4d86ae9e76e4",
   "metadata": {},
   "outputs": [],
   "source": []
  },
  {
   "cell_type": "code",
   "execution_count": 16,
   "id": "4a0d356b-1d1a-42ca-adb7-bc68ba2b634c",
   "metadata": {},
   "outputs": [],
   "source": []
  }
 ],
 "metadata": {
  "kernelspec": {
   "display_name": "Python 3 (ipykernel)",
   "language": "python",
   "name": "python3"
  },
  "language_info": {
   "codemirror_mode": {
    "name": "ipython",
    "version": 3
   },
   "file_extension": ".py",
   "mimetype": "text/x-python",
   "name": "python",
   "nbconvert_exporter": "python",
   "pygments_lexer": "ipython3",
   "version": "3.11.5"
  }
 },
 "nbformat": 4,
 "nbformat_minor": 5
}
