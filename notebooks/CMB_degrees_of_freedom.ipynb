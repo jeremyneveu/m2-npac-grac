{
 "cells": [
  {
   "cell_type": "code",
   "id": "31f9d082-a83c-4564-9b1b-6ea88b8fae9b",
   "metadata": {
    "ExecuteTime": {
     "end_time": "2025-01-02T19:10:41.246695Z",
     "start_time": "2025-01-02T19:10:36.486823Z"
    }
   },
   "source": [
    "from astropy.cosmology import Planck18, z_at_value, FlatLambdaCDM\n",
    "import astropy.units as u\n",
    "import matplotlib.pyplot as plt\n",
    "import pandas as pd\n",
    "import numpy as np\n",
    "from astropy.constants import k_B\n",
    "from scipy.integrate import quad\n"
   ],
   "outputs": [],
   "execution_count": 1
  },
  {
   "cell_type": "code",
   "id": "e020f112-be46-47e9-8b54-2dd21bbf0fc8",
   "metadata": {
    "ExecuteTime": {
     "end_time": "2025-01-02T19:10:41.323708Z",
     "start_time": "2025-01-02T19:10:41.247862Z"
    }
   },
   "source": [
    "%matplotlib widget"
   ],
   "outputs": [],
   "execution_count": 2
  },
  {
   "cell_type": "markdown",
   "id": "5e6cee0c-28be-444e-b142-f037c7da0979",
   "metadata": {},
   "source": [
    "Particles \tMass \tspin \tcolor \tg \n",
    "\n",
    "Photon (γ) \t0 \t2 \t1 \t2\n",
    "W+,W−\t80.4GeV\t3 \t1 \t6\n",
    "Z\t91.2GeV\t3 \t1 \t3\n",
    "Gluon (g) \t0 \t2 \t8 \t16\n",
    "Higgs boson \t>114GeV\t1 \t1 \t1\n",
    "\n",
    "Bosons \t\t28\n",
    "\n",
    "u,/,u¯\t3MeV\t2 \t3 \t12\n",
    "d,/,d¯\t6MeV\t2 \t3 \t12\n",
    "s,/,s¯\t100MeV\t2 \t3 \t12\n",
    "c,/,c¯\t1.2GeV\t2 \t3 \t12\n",
    "b,/,b¯\t4.2GeV\t2 \t3 \t12\n",
    "t,/,t¯\t175GeV\t2 \t3 \t12\n",
    "e+,e−\t0.511MeV\t2 \t1 \t4\n",
    "μ+,μ−\t105.7MeV\t2 \t1 \t4\n",
    "τ+,τ−\t1.777GeV\t2 \t1 \t4\n",
    "νe,νe¯\t<3eV\t1 \t1 \t2\n",
    "νμ,νμ¯\t<0.19MeV\t1 \t1 \t2\n",
    "ντ,ντ¯\t<18.2MeV\t1 \t1 \t2\n",
    "\n",
    "\n",
    "Fermions \t\t90\n",
    "\n",
    "\n"
   ]
  },
  {
   "cell_type": "code",
   "id": "08d47e41-e176-40ed-ad24-0715086a064d",
   "metadata": {
    "ExecuteTime": {
     "end_time": "2025-01-02T19:10:41.326764Z",
     "start_time": "2025-01-02T19:10:41.324523Z"
    }
   },
   "source": [
    "t = \"\"\"Particles\tType\\tMass\tspin\tcolor\tg\\tQCD\n",
    "γ \tboson\\t     0 \t2 \t1 \t2\\tFalse\n",
    "W+,W−\tboson\\t     80.4GeV\t3 \t1 \t6\\tFalse\n",
    "Z\tboson\\t     91.2GeV\t3 \t1 \t3\\tFalse\n",
    "Gluons \tboson\\t     0 \t2 \t8 \t16\\tTrue\n",
    "Higgs \tboson\\t     125.3GeV\t1 \t1 \t1\\tFalse\n",
    "u,u¯\tfermion\\t     2MeV\t2 \t3 \t12\\tTrue\n",
    "d,d¯\tfermion\\t    5MeV\t2 \t3 \t12\\tTrue\n",
    "s,s¯\tfermion\\t    100MeV\t2 \t3 \t12\\tTrue\n",
    "c,c¯\tfermion\\t    1GeV\t2 \t3 \t12\\tTrue\n",
    "b,b¯\tfermion\\t    4GeV\t2 \t3 \t12\\tTrue\n",
    "t,t¯\tfermion\\t    173GeV\t2 \t3 \t12\\tTrue\n",
    "e+,e−\tfermion\\t    0.511MeV\t2 \t1 \t4\\tFalse\n",
    "μ+,μ−\tfermion\\t    105.7MeV\t2 \t1 \t4\\tFalse\n",
    "τ+,τ−\tfermion\\t    1.777GeV\t2 \t1 \t4\\tFalse\n",
    "pions\tboson\\t    135MeV\t1 \t1 \t3\\tFalse\n",
    "νe,νe¯\tfermion\\t    <3eV\t1 \t1 \t2\\tFalse\n",
    "νμ,νμ¯\tfermion\\t    <0.19MeV\t1 \t1 \t2\\tFalse\n",
    "ντ,ντ¯\tfermion\\t    <18.2MeV\t1 \t1 \t2\\tFalse\n",
    "\"\"\""
   ],
   "outputs": [],
   "execution_count": 3
  },
  {
   "cell_type": "code",
   "id": "b3ce617c-4428-4797-b4da-29569c0f9484",
   "metadata": {
    "ExecuteTime": {
     "end_time": "2025-01-02T19:10:41.330537Z",
     "start_time": "2025-01-02T19:10:41.328164Z"
    }
   },
   "source": [
    "with open(\"particle_g.csv\", 'w') as f:\n",
    "    f.write(t)"
   ],
   "outputs": [],
   "execution_count": 4
  },
  {
   "cell_type": "code",
   "id": "95d29baf-c81e-47ed-b7fd-f913cfbbf892",
   "metadata": {
    "ExecuteTime": {
     "end_time": "2025-01-02T19:10:41.337909Z",
     "start_time": "2025-01-02T19:10:41.331313Z"
    }
   },
   "source": [
    "df = pd.read_csv(\"particle_g.csv\", delimiter=\"\\t\")"
   ],
   "outputs": [],
   "execution_count": 5
  },
  {
   "cell_type": "code",
   "id": "0f5e731b-6153-4650-bb95-513752554764",
   "metadata": {
    "ExecuteTime": {
     "end_time": "2025-01-02T19:10:41.345484Z",
     "start_time": "2025-01-02T19:10:41.338582Z"
    }
   },
   "source": [
    "#| label: gtable\n",
    "df"
   ],
   "outputs": [
    {
     "data": {
      "text/plain": [
       "   Particles     Type           Mass  spin  color   g    QCD\n",
       "0         γ     boson             0      2      1   2  False\n",
       "1      W+,W−    boson        80.4GeV     3      1   6  False\n",
       "2          Z    boson        91.2GeV     3      1   3  False\n",
       "3    Gluons     boson             0      2      8  16   True\n",
       "4     Higgs     boson       125.3GeV     1      1   1  False\n",
       "5       u,u¯  fermion           2MeV     2      3  12   True\n",
       "6       d,d¯  fermion           5MeV     2      3  12   True\n",
       "7       s,s¯  fermion         100MeV     2      3  12   True\n",
       "8       c,c¯  fermion           1GeV     2      3  12   True\n",
       "9       b,b¯  fermion           4GeV     2      3  12   True\n",
       "10      t,t¯  fermion         173GeV     2      3  12   True\n",
       "11     e+,e−  fermion       0.511MeV     2      1   4  False\n",
       "12     μ+,μ−  fermion       105.7MeV     2      1   4  False\n",
       "13     τ+,τ−  fermion       1.777GeV     2      1   4  False\n",
       "14     pions    boson         135MeV     1      1   3  False\n",
       "15    νe,νe¯  fermion           <3eV     1      1   2  False\n",
       "16    νμ,νμ¯  fermion       <0.19MeV     1      1   2  False\n",
       "17    ντ,ντ¯  fermion       <18.2MeV     1      1   2  False"
      ],
      "text/html": [
       "<div>\n",
       "<style scoped>\n",
       "    .dataframe tbody tr th:only-of-type {\n",
       "        vertical-align: middle;\n",
       "    }\n",
       "\n",
       "    .dataframe tbody tr th {\n",
       "        vertical-align: top;\n",
       "    }\n",
       "\n",
       "    .dataframe thead th {\n",
       "        text-align: right;\n",
       "    }\n",
       "</style>\n",
       "<table border=\"1\" class=\"dataframe\">\n",
       "  <thead>\n",
       "    <tr style=\"text-align: right;\">\n",
       "      <th></th>\n",
       "      <th>Particles</th>\n",
       "      <th>Type</th>\n",
       "      <th>Mass</th>\n",
       "      <th>spin</th>\n",
       "      <th>color</th>\n",
       "      <th>g</th>\n",
       "      <th>QCD</th>\n",
       "    </tr>\n",
       "  </thead>\n",
       "  <tbody>\n",
       "    <tr>\n",
       "      <th>0</th>\n",
       "      <td>γ</td>\n",
       "      <td>boson</td>\n",
       "      <td>0</td>\n",
       "      <td>2</td>\n",
       "      <td>1</td>\n",
       "      <td>2</td>\n",
       "      <td>False</td>\n",
       "    </tr>\n",
       "    <tr>\n",
       "      <th>1</th>\n",
       "      <td>W+,W−</td>\n",
       "      <td>boson</td>\n",
       "      <td>80.4GeV</td>\n",
       "      <td>3</td>\n",
       "      <td>1</td>\n",
       "      <td>6</td>\n",
       "      <td>False</td>\n",
       "    </tr>\n",
       "    <tr>\n",
       "      <th>2</th>\n",
       "      <td>Z</td>\n",
       "      <td>boson</td>\n",
       "      <td>91.2GeV</td>\n",
       "      <td>3</td>\n",
       "      <td>1</td>\n",
       "      <td>3</td>\n",
       "      <td>False</td>\n",
       "    </tr>\n",
       "    <tr>\n",
       "      <th>3</th>\n",
       "      <td>Gluons</td>\n",
       "      <td>boson</td>\n",
       "      <td>0</td>\n",
       "      <td>2</td>\n",
       "      <td>8</td>\n",
       "      <td>16</td>\n",
       "      <td>True</td>\n",
       "    </tr>\n",
       "    <tr>\n",
       "      <th>4</th>\n",
       "      <td>Higgs</td>\n",
       "      <td>boson</td>\n",
       "      <td>125.3GeV</td>\n",
       "      <td>1</td>\n",
       "      <td>1</td>\n",
       "      <td>1</td>\n",
       "      <td>False</td>\n",
       "    </tr>\n",
       "    <tr>\n",
       "      <th>5</th>\n",
       "      <td>u,u¯</td>\n",
       "      <td>fermion</td>\n",
       "      <td>2MeV</td>\n",
       "      <td>2</td>\n",
       "      <td>3</td>\n",
       "      <td>12</td>\n",
       "      <td>True</td>\n",
       "    </tr>\n",
       "    <tr>\n",
       "      <th>6</th>\n",
       "      <td>d,d¯</td>\n",
       "      <td>fermion</td>\n",
       "      <td>5MeV</td>\n",
       "      <td>2</td>\n",
       "      <td>3</td>\n",
       "      <td>12</td>\n",
       "      <td>True</td>\n",
       "    </tr>\n",
       "    <tr>\n",
       "      <th>7</th>\n",
       "      <td>s,s¯</td>\n",
       "      <td>fermion</td>\n",
       "      <td>100MeV</td>\n",
       "      <td>2</td>\n",
       "      <td>3</td>\n",
       "      <td>12</td>\n",
       "      <td>True</td>\n",
       "    </tr>\n",
       "    <tr>\n",
       "      <th>8</th>\n",
       "      <td>c,c¯</td>\n",
       "      <td>fermion</td>\n",
       "      <td>1GeV</td>\n",
       "      <td>2</td>\n",
       "      <td>3</td>\n",
       "      <td>12</td>\n",
       "      <td>True</td>\n",
       "    </tr>\n",
       "    <tr>\n",
       "      <th>9</th>\n",
       "      <td>b,b¯</td>\n",
       "      <td>fermion</td>\n",
       "      <td>4GeV</td>\n",
       "      <td>2</td>\n",
       "      <td>3</td>\n",
       "      <td>12</td>\n",
       "      <td>True</td>\n",
       "    </tr>\n",
       "    <tr>\n",
       "      <th>10</th>\n",
       "      <td>t,t¯</td>\n",
       "      <td>fermion</td>\n",
       "      <td>173GeV</td>\n",
       "      <td>2</td>\n",
       "      <td>3</td>\n",
       "      <td>12</td>\n",
       "      <td>True</td>\n",
       "    </tr>\n",
       "    <tr>\n",
       "      <th>11</th>\n",
       "      <td>e+,e−</td>\n",
       "      <td>fermion</td>\n",
       "      <td>0.511MeV</td>\n",
       "      <td>2</td>\n",
       "      <td>1</td>\n",
       "      <td>4</td>\n",
       "      <td>False</td>\n",
       "    </tr>\n",
       "    <tr>\n",
       "      <th>12</th>\n",
       "      <td>μ+,μ−</td>\n",
       "      <td>fermion</td>\n",
       "      <td>105.7MeV</td>\n",
       "      <td>2</td>\n",
       "      <td>1</td>\n",
       "      <td>4</td>\n",
       "      <td>False</td>\n",
       "    </tr>\n",
       "    <tr>\n",
       "      <th>13</th>\n",
       "      <td>τ+,τ−</td>\n",
       "      <td>fermion</td>\n",
       "      <td>1.777GeV</td>\n",
       "      <td>2</td>\n",
       "      <td>1</td>\n",
       "      <td>4</td>\n",
       "      <td>False</td>\n",
       "    </tr>\n",
       "    <tr>\n",
       "      <th>14</th>\n",
       "      <td>pions</td>\n",
       "      <td>boson</td>\n",
       "      <td>135MeV</td>\n",
       "      <td>1</td>\n",
       "      <td>1</td>\n",
       "      <td>3</td>\n",
       "      <td>False</td>\n",
       "    </tr>\n",
       "    <tr>\n",
       "      <th>15</th>\n",
       "      <td>νe,νe¯</td>\n",
       "      <td>fermion</td>\n",
       "      <td>&lt;3eV</td>\n",
       "      <td>1</td>\n",
       "      <td>1</td>\n",
       "      <td>2</td>\n",
       "      <td>False</td>\n",
       "    </tr>\n",
       "    <tr>\n",
       "      <th>16</th>\n",
       "      <td>νμ,νμ¯</td>\n",
       "      <td>fermion</td>\n",
       "      <td>&lt;0.19MeV</td>\n",
       "      <td>1</td>\n",
       "      <td>1</td>\n",
       "      <td>2</td>\n",
       "      <td>False</td>\n",
       "    </tr>\n",
       "    <tr>\n",
       "      <th>17</th>\n",
       "      <td>ντ,ντ¯</td>\n",
       "      <td>fermion</td>\n",
       "      <td>&lt;18.2MeV</td>\n",
       "      <td>1</td>\n",
       "      <td>1</td>\n",
       "      <td>2</td>\n",
       "      <td>False</td>\n",
       "    </tr>\n",
       "  </tbody>\n",
       "</table>\n",
       "</div>"
      ]
     },
     "execution_count": 6,
     "metadata": {},
     "output_type": "execute_result"
    }
   ],
   "execution_count": 6
  },
  {
   "cell_type": "code",
   "id": "445893f5-cac6-4d63-a930-ee6e66451f01",
   "metadata": {
    "ExecuteTime": {
     "end_time": "2025-01-02T19:10:41.349524Z",
     "start_time": "2025-01-02T19:10:41.346256Z"
    }
   },
   "source": [
    "mass_txt = df[\"Mass\"]\n",
    "mass_MeV = []\n",
    "for m in mass_txt:\n",
    "    if \"eV\" in m:\n",
    "        if \"<\" in m:\n",
    "            mass_MeV.append(0)\n",
    "        elif \"GeV\" in m:\n",
    "            mass_MeV.append(float(m.split('GeV')[0])*1e3)\n",
    "        elif \"MeV\" in m:\n",
    "            mass_MeV.append(float(m.split('MeV')[0]))\n",
    "    else:\n",
    "        mass_MeV.append(float(m))\n",
    "mass_MeV = np.array(mass_MeV)"
   ],
   "outputs": [],
   "execution_count": 7
  },
  {
   "cell_type": "code",
   "id": "326318b3-7ce2-4c93-b5ae-810c0bcf4734",
   "metadata": {
    "ExecuteTime": {
     "end_time": "2025-01-02T19:10:41.353421Z",
     "start_time": "2025-01-02T19:10:41.351212Z"
    }
   },
   "source": [
    "mass_T = mass_MeV / 1.38e-23 * 1.6e-19 * 1e6"
   ],
   "outputs": [],
   "execution_count": 8
  },
  {
   "cell_type": "markdown",
   "id": "9a4eb68a-0ead-44fc-99c8-e9997a389818",
   "metadata": {},
   "source": [
    "$a_0 T_{CMB} = a T$"
   ]
  },
  {
   "cell_type": "code",
   "id": "960b50c9-0801-4911-a462-843bd6b83beb",
   "metadata": {
    "ExecuteTime": {
     "end_time": "2025-01-02T19:10:41.356130Z",
     "start_time": "2025-01-02T19:10:41.354140Z"
    }
   },
   "source": [
    "a = 2.725 / mass_T\n",
    "z = 1/a - 1\n",
    "z[z < 0] = np.inf"
   ],
   "outputs": [
    {
     "name": "stderr",
     "output_type": "stream",
     "text": [
      "/var/folders/jk/kyldbk_95pl2fc_t8qb_l8580000gw/T/ipykernel_36921/1147251717.py:1: RuntimeWarning: divide by zero encountered in divide\n",
      "  a = 2.725 / mass_T\n"
     ]
    }
   ],
   "execution_count": 9
  },
  {
   "metadata": {
    "ExecuteTime": {
     "end_time": "2025-01-02T19:10:41.361829Z",
     "start_time": "2025-01-02T19:10:41.358372Z"
    }
   },
   "cell_type": "code",
   "source": [
    "T0 = Planck18.Tcmb0  # K\n",
    "cosmo = FlatLambdaCDM(H0=Planck18.H0, Om0=Planck18.Om0, Tcmb0=T0, m_nu=0)\n",
    "Omegar0 = cosmo.Ogamma0 + cosmo.Onu0  # with massless neutrinos\n",
    "Omegar0"
   ],
   "id": "9d9d31212450ede5",
   "outputs": [
    {
     "data": {
      "text/plain": [
       "9.131600127112836e-05"
      ]
     },
     "execution_count": 10,
     "metadata": {},
     "output_type": "execute_result"
    }
   ],
   "execution_count": 10
  },
  {
   "cell_type": "code",
   "id": "9eefa550-aa19-4bb2-b173-03b50c9d75af",
   "metadata": {
    "ExecuteTime": {
     "end_time": "2025-01-02T19:10:41.365910Z",
     "start_time": "2025-01-02T19:10:41.362529Z"
    }
   },
   "source": [
    "invH0 = (1/Planck18.H0).to(u.s).value\n",
    "invH0"
   ],
   "outputs": [
    {
     "data": {
      "text/plain": [
       "4.560563969097498e+17"
      ]
     },
     "execution_count": 11,
     "metadata": {},
     "output_type": "execute_result"
    }
   ],
   "execution_count": 11
  },
  {
   "cell_type": "code",
   "id": "8902cac6-ae02-499e-803c-04a30f68defd",
   "metadata": {
    "ExecuteTime": {
     "end_time": "2025-01-02T19:10:41.370361Z",
     "start_time": "2025-01-02T19:10:41.366789Z"
    }
   },
   "source": [
    "def inv_aH(a):\n",
    "    return (invH0/(a*(np.sqrt(Omegar0 / a**4))))\n",
    "\n",
    "def a_to_time(a):\n",
    "    return quad(inv_aH, 0, a)[0]\n",
    "\n",
    "def T_to_time(T):\n",
    "    return a_to_time(T0.to(u.K).value / T)\n",
    "\n",
    "def T_to_MeV(T):\n",
    "    return T * 1.38e-23 / (1.6e-19 * 1e6)\n",
    "\n",
    "def MeV_to_time(MeV):\n",
    "    T = MeV / 1.38e-23 * 1.6e-19 * 1e6\n",
    "    return T_to_time(T)\n",
    "\n",
    "MeV_to_time(150)"
   ],
   "outputs": [
    {
     "data": {
      "text/plain": [
       "5.860614772784434e-05"
      ]
     },
     "execution_count": 12,
     "metadata": {},
     "output_type": "execute_result"
    }
   ],
   "execution_count": 12
  },
  {
   "cell_type": "code",
   "id": "26cb23f1-6344-4ca0-baa4-b89cc516011e",
   "metadata": {
    "ExecuteTime": {
     "end_time": "2025-01-02T19:10:41.375670Z",
     "start_time": "2025-01-02T19:10:41.371066Z"
    }
   },
   "source": [
    "t = [MeV_to_time(mass_MeV[k]) for k in range(len(mass_MeV))]"
   ],
   "outputs": [
    {
     "name": "stderr",
     "output_type": "stream",
     "text": [
      "/var/folders/jk/kyldbk_95pl2fc_t8qb_l8580000gw/T/ipykernel_36921/1109799512.py:8: RuntimeWarning: divide by zero encountered in scalar divide\n",
      "  return a_to_time(T0.to(u.K).value / T)\n",
      "/var/folders/jk/kyldbk_95pl2fc_t8qb_l8580000gw/T/ipykernel_36921/1109799512.py:5: IntegrationWarning: The integral is probably divergent, or slowly convergent.\n",
      "  return quad(inv_aH, 0, a)[0]\n"
     ]
    }
   ],
   "execution_count": 13
  },
  {
   "cell_type": "code",
   "id": "35a95c3a-720b-43de-8362-c61b17097842",
   "metadata": {
    "ExecuteTime": {
     "end_time": "2025-01-02T19:10:41.386252Z",
     "start_time": "2025-01-02T19:10:41.376331Z"
    }
   },
   "source": [
    "df[\"MeV\"] = mass_MeV\n",
    "df[\"a\"] = a\n",
    "df[\"z\"] = z\n",
    "df[\"t\"] = t\n",
    "df.sort_values(\"MeV\")"
   ],
   "outputs": [
    {
     "data": {
      "text/plain": [
       "   Particles     Type           Mass  spin  color   g    QCD         MeV  \\\n",
       "0         γ     boson             0      2      1   2  False       0.000   \n",
       "15    νe,νe¯  fermion           <3eV     1      1   2  False       0.000   \n",
       "16    νμ,νμ¯  fermion       <0.19MeV     1      1   2  False       0.000   \n",
       "17    ντ,ντ¯  fermion       <18.2MeV     1      1   2  False       0.000   \n",
       "3    Gluons     boson             0      2      8  16   True       0.000   \n",
       "11     e+,e−  fermion       0.511MeV     2      1   4  False       0.511   \n",
       "5       u,u¯  fermion           2MeV     2      3  12   True       2.000   \n",
       "6       d,d¯  fermion           5MeV     2      3  12   True       5.000   \n",
       "7       s,s¯  fermion         100MeV     2      3  12   True     100.000   \n",
       "12     μ+,μ−  fermion       105.7MeV     2      1   4  False     105.700   \n",
       "14     pions    boson         135MeV     1      1   3  False     135.000   \n",
       "8       c,c¯  fermion           1GeV     2      3  12   True    1000.000   \n",
       "13     τ+,τ−  fermion       1.777GeV     2      1   4  False    1777.000   \n",
       "9       b,b¯  fermion           4GeV     2      3  12   True    4000.000   \n",
       "1      W+,W−    boson        80.4GeV     3      1   6  False   80400.000   \n",
       "2          Z    boson        91.2GeV     3      1   3  False   91200.000   \n",
       "4     Higgs     boson       125.3GeV     1      1   1  False  125300.000   \n",
       "10      t,t¯  fermion         173GeV     2      3  12   True  173000.000   \n",
       "\n",
       "               a             z             t  \n",
       "0            inf           inf  2.386245e+19  \n",
       "15           inf           inf  2.386245e+19  \n",
       "16           inf           inf  2.386245e+19  \n",
       "17           inf           inf  2.386245e+19  \n",
       "3            inf           inf  2.386245e+19  \n",
       "11  4.599437e-10  2.174179e+09  5.049913e+00  \n",
       "5   1.175156e-10  8.509507e+09  3.296596e-01  \n",
       "6   4.700625e-11  2.127377e+10  5.274553e-02  \n",
       "7   2.350313e-12  4.254753e+11  1.318638e-04  \n",
       "12  2.223569e-12  4.497274e+11  1.180255e-04  \n",
       "14  1.740972e-12  5.743917e+11  7.235327e-05  \n",
       "8   2.350313e-13  4.254753e+12  1.318638e-06  \n",
       "13  1.322629e-13  7.560697e+12  4.175907e-07  \n",
       "9   5.875781e-14  1.701901e+13  8.241490e-08  \n",
       "1   2.923274e-15  3.420822e+14  2.039922e-10  \n",
       "2   2.577097e-15  3.880335e+14  1.585390e-10  \n",
       "4   1.875748e-15  5.331206e+14  8.398922e-11  \n",
       "10  1.358562e-15  7.360723e+14  4.405888e-11  "
      ],
      "text/html": [
       "<div>\n",
       "<style scoped>\n",
       "    .dataframe tbody tr th:only-of-type {\n",
       "        vertical-align: middle;\n",
       "    }\n",
       "\n",
       "    .dataframe tbody tr th {\n",
       "        vertical-align: top;\n",
       "    }\n",
       "\n",
       "    .dataframe thead th {\n",
       "        text-align: right;\n",
       "    }\n",
       "</style>\n",
       "<table border=\"1\" class=\"dataframe\">\n",
       "  <thead>\n",
       "    <tr style=\"text-align: right;\">\n",
       "      <th></th>\n",
       "      <th>Particles</th>\n",
       "      <th>Type</th>\n",
       "      <th>Mass</th>\n",
       "      <th>spin</th>\n",
       "      <th>color</th>\n",
       "      <th>g</th>\n",
       "      <th>QCD</th>\n",
       "      <th>MeV</th>\n",
       "      <th>a</th>\n",
       "      <th>z</th>\n",
       "      <th>t</th>\n",
       "    </tr>\n",
       "  </thead>\n",
       "  <tbody>\n",
       "    <tr>\n",
       "      <th>0</th>\n",
       "      <td>γ</td>\n",
       "      <td>boson</td>\n",
       "      <td>0</td>\n",
       "      <td>2</td>\n",
       "      <td>1</td>\n",
       "      <td>2</td>\n",
       "      <td>False</td>\n",
       "      <td>0.000</td>\n",
       "      <td>inf</td>\n",
       "      <td>inf</td>\n",
       "      <td>2.386245e+19</td>\n",
       "    </tr>\n",
       "    <tr>\n",
       "      <th>15</th>\n",
       "      <td>νe,νe¯</td>\n",
       "      <td>fermion</td>\n",
       "      <td>&lt;3eV</td>\n",
       "      <td>1</td>\n",
       "      <td>1</td>\n",
       "      <td>2</td>\n",
       "      <td>False</td>\n",
       "      <td>0.000</td>\n",
       "      <td>inf</td>\n",
       "      <td>inf</td>\n",
       "      <td>2.386245e+19</td>\n",
       "    </tr>\n",
       "    <tr>\n",
       "      <th>16</th>\n",
       "      <td>νμ,νμ¯</td>\n",
       "      <td>fermion</td>\n",
       "      <td>&lt;0.19MeV</td>\n",
       "      <td>1</td>\n",
       "      <td>1</td>\n",
       "      <td>2</td>\n",
       "      <td>False</td>\n",
       "      <td>0.000</td>\n",
       "      <td>inf</td>\n",
       "      <td>inf</td>\n",
       "      <td>2.386245e+19</td>\n",
       "    </tr>\n",
       "    <tr>\n",
       "      <th>17</th>\n",
       "      <td>ντ,ντ¯</td>\n",
       "      <td>fermion</td>\n",
       "      <td>&lt;18.2MeV</td>\n",
       "      <td>1</td>\n",
       "      <td>1</td>\n",
       "      <td>2</td>\n",
       "      <td>False</td>\n",
       "      <td>0.000</td>\n",
       "      <td>inf</td>\n",
       "      <td>inf</td>\n",
       "      <td>2.386245e+19</td>\n",
       "    </tr>\n",
       "    <tr>\n",
       "      <th>3</th>\n",
       "      <td>Gluons</td>\n",
       "      <td>boson</td>\n",
       "      <td>0</td>\n",
       "      <td>2</td>\n",
       "      <td>8</td>\n",
       "      <td>16</td>\n",
       "      <td>True</td>\n",
       "      <td>0.000</td>\n",
       "      <td>inf</td>\n",
       "      <td>inf</td>\n",
       "      <td>2.386245e+19</td>\n",
       "    </tr>\n",
       "    <tr>\n",
       "      <th>11</th>\n",
       "      <td>e+,e−</td>\n",
       "      <td>fermion</td>\n",
       "      <td>0.511MeV</td>\n",
       "      <td>2</td>\n",
       "      <td>1</td>\n",
       "      <td>4</td>\n",
       "      <td>False</td>\n",
       "      <td>0.511</td>\n",
       "      <td>4.599437e-10</td>\n",
       "      <td>2.174179e+09</td>\n",
       "      <td>5.049913e+00</td>\n",
       "    </tr>\n",
       "    <tr>\n",
       "      <th>5</th>\n",
       "      <td>u,u¯</td>\n",
       "      <td>fermion</td>\n",
       "      <td>2MeV</td>\n",
       "      <td>2</td>\n",
       "      <td>3</td>\n",
       "      <td>12</td>\n",
       "      <td>True</td>\n",
       "      <td>2.000</td>\n",
       "      <td>1.175156e-10</td>\n",
       "      <td>8.509507e+09</td>\n",
       "      <td>3.296596e-01</td>\n",
       "    </tr>\n",
       "    <tr>\n",
       "      <th>6</th>\n",
       "      <td>d,d¯</td>\n",
       "      <td>fermion</td>\n",
       "      <td>5MeV</td>\n",
       "      <td>2</td>\n",
       "      <td>3</td>\n",
       "      <td>12</td>\n",
       "      <td>True</td>\n",
       "      <td>5.000</td>\n",
       "      <td>4.700625e-11</td>\n",
       "      <td>2.127377e+10</td>\n",
       "      <td>5.274553e-02</td>\n",
       "    </tr>\n",
       "    <tr>\n",
       "      <th>7</th>\n",
       "      <td>s,s¯</td>\n",
       "      <td>fermion</td>\n",
       "      <td>100MeV</td>\n",
       "      <td>2</td>\n",
       "      <td>3</td>\n",
       "      <td>12</td>\n",
       "      <td>True</td>\n",
       "      <td>100.000</td>\n",
       "      <td>2.350313e-12</td>\n",
       "      <td>4.254753e+11</td>\n",
       "      <td>1.318638e-04</td>\n",
       "    </tr>\n",
       "    <tr>\n",
       "      <th>12</th>\n",
       "      <td>μ+,μ−</td>\n",
       "      <td>fermion</td>\n",
       "      <td>105.7MeV</td>\n",
       "      <td>2</td>\n",
       "      <td>1</td>\n",
       "      <td>4</td>\n",
       "      <td>False</td>\n",
       "      <td>105.700</td>\n",
       "      <td>2.223569e-12</td>\n",
       "      <td>4.497274e+11</td>\n",
       "      <td>1.180255e-04</td>\n",
       "    </tr>\n",
       "    <tr>\n",
       "      <th>14</th>\n",
       "      <td>pions</td>\n",
       "      <td>boson</td>\n",
       "      <td>135MeV</td>\n",
       "      <td>1</td>\n",
       "      <td>1</td>\n",
       "      <td>3</td>\n",
       "      <td>False</td>\n",
       "      <td>135.000</td>\n",
       "      <td>1.740972e-12</td>\n",
       "      <td>5.743917e+11</td>\n",
       "      <td>7.235327e-05</td>\n",
       "    </tr>\n",
       "    <tr>\n",
       "      <th>8</th>\n",
       "      <td>c,c¯</td>\n",
       "      <td>fermion</td>\n",
       "      <td>1GeV</td>\n",
       "      <td>2</td>\n",
       "      <td>3</td>\n",
       "      <td>12</td>\n",
       "      <td>True</td>\n",
       "      <td>1000.000</td>\n",
       "      <td>2.350313e-13</td>\n",
       "      <td>4.254753e+12</td>\n",
       "      <td>1.318638e-06</td>\n",
       "    </tr>\n",
       "    <tr>\n",
       "      <th>13</th>\n",
       "      <td>τ+,τ−</td>\n",
       "      <td>fermion</td>\n",
       "      <td>1.777GeV</td>\n",
       "      <td>2</td>\n",
       "      <td>1</td>\n",
       "      <td>4</td>\n",
       "      <td>False</td>\n",
       "      <td>1777.000</td>\n",
       "      <td>1.322629e-13</td>\n",
       "      <td>7.560697e+12</td>\n",
       "      <td>4.175907e-07</td>\n",
       "    </tr>\n",
       "    <tr>\n",
       "      <th>9</th>\n",
       "      <td>b,b¯</td>\n",
       "      <td>fermion</td>\n",
       "      <td>4GeV</td>\n",
       "      <td>2</td>\n",
       "      <td>3</td>\n",
       "      <td>12</td>\n",
       "      <td>True</td>\n",
       "      <td>4000.000</td>\n",
       "      <td>5.875781e-14</td>\n",
       "      <td>1.701901e+13</td>\n",
       "      <td>8.241490e-08</td>\n",
       "    </tr>\n",
       "    <tr>\n",
       "      <th>1</th>\n",
       "      <td>W+,W−</td>\n",
       "      <td>boson</td>\n",
       "      <td>80.4GeV</td>\n",
       "      <td>3</td>\n",
       "      <td>1</td>\n",
       "      <td>6</td>\n",
       "      <td>False</td>\n",
       "      <td>80400.000</td>\n",
       "      <td>2.923274e-15</td>\n",
       "      <td>3.420822e+14</td>\n",
       "      <td>2.039922e-10</td>\n",
       "    </tr>\n",
       "    <tr>\n",
       "      <th>2</th>\n",
       "      <td>Z</td>\n",
       "      <td>boson</td>\n",
       "      <td>91.2GeV</td>\n",
       "      <td>3</td>\n",
       "      <td>1</td>\n",
       "      <td>3</td>\n",
       "      <td>False</td>\n",
       "      <td>91200.000</td>\n",
       "      <td>2.577097e-15</td>\n",
       "      <td>3.880335e+14</td>\n",
       "      <td>1.585390e-10</td>\n",
       "    </tr>\n",
       "    <tr>\n",
       "      <th>4</th>\n",
       "      <td>Higgs</td>\n",
       "      <td>boson</td>\n",
       "      <td>125.3GeV</td>\n",
       "      <td>1</td>\n",
       "      <td>1</td>\n",
       "      <td>1</td>\n",
       "      <td>False</td>\n",
       "      <td>125300.000</td>\n",
       "      <td>1.875748e-15</td>\n",
       "      <td>5.331206e+14</td>\n",
       "      <td>8.398922e-11</td>\n",
       "    </tr>\n",
       "    <tr>\n",
       "      <th>10</th>\n",
       "      <td>t,t¯</td>\n",
       "      <td>fermion</td>\n",
       "      <td>173GeV</td>\n",
       "      <td>2</td>\n",
       "      <td>3</td>\n",
       "      <td>12</td>\n",
       "      <td>True</td>\n",
       "      <td>173000.000</td>\n",
       "      <td>1.358562e-15</td>\n",
       "      <td>7.360723e+14</td>\n",
       "      <td>4.405888e-11</td>\n",
       "    </tr>\n",
       "  </tbody>\n",
       "</table>\n",
       "</div>"
      ]
     },
     "execution_count": 14,
     "metadata": {},
     "output_type": "execute_result"
    }
   ],
   "execution_count": 14
  },
  {
   "cell_type": "code",
   "id": "4887f0eb-ef80-4ace-9f32-6f04ad85daf4",
   "metadata": {
    "ExecuteTime": {
     "end_time": "2025-01-02T19:10:41.393682Z",
     "start_time": "2025-01-02T19:10:41.387161Z"
    }
   },
   "source": [
    "def gs_tot(MeV, entropy=False):\n",
    "    if MeV > 150:\n",
    "        gb = np.sum(df[\"g\"][(df[\"MeV\"] < MeV) & (df[\"Type\"]==\"boson\") & (df[\"Particles\"]!=\"pions\")])\n",
    "        gf = np.sum(df[\"g\"][(df[\"MeV\"] < MeV) & (df[\"Type\"]==\"fermion\")])\n",
    "    elif MeV < 150 and MeV >= 0.511:  # QCD phase transition\n",
    "        gb = np.sum(df[\"g\"][(df[\"MeV\"] < MeV) & (df[\"Type\"]==\"boson\") & (df[\"QCD\"]==False)])\n",
    "        gf = np.sum(df[\"g\"][(df[\"MeV\"] < MeV) & (df[\"Type\"]==\"fermion\") & (df[\"QCD\"]==False)])\n",
    "    elif MeV < 0.511:  # e+/e- annihilation\n",
    "        gb = 2\n",
    "        if not entropy:\n",
    "            gf = 2 * 3 * (4/11)**(4/3)  # neutrinos at lower T\n",
    "        else:\n",
    "            gf = 2 * 3 * (4/11)\n",
    "    return gb + 7/8 * gf\n",
    "\n",
    "gs_tot(1e6)"
   ],
   "outputs": [
    {
     "data": {
      "text/plain": [
       "106.75"
      ]
     },
     "execution_count": 15,
     "metadata": {},
     "output_type": "execute_result"
    }
   ],
   "execution_count": 15
  },
  {
   "cell_type": "code",
   "id": "3ce05895-1adf-412b-b436-025218000219",
   "metadata": {
    "ExecuteTime": {
     "end_time": "2025-01-02T19:10:41.690626Z",
     "start_time": "2025-01-02T19:10:41.394517Z"
    }
   },
   "source": [
    "MeVs = np.sort(np.concatenate([np.logspace(-2, 7, 1000), df[\"MeV\"]]))\n",
    "ts = [MeV_to_time(MeV) for MeV in MeVs]\n",
    "gs = [gs_tot(MeV) for MeV in MeVs]"
   ],
   "outputs": [
    {
     "name": "stderr",
     "output_type": "stream",
     "text": [
      "/var/folders/jk/kyldbk_95pl2fc_t8qb_l8580000gw/T/ipykernel_36921/1109799512.py:8: RuntimeWarning: divide by zero encountered in scalar divide\n",
      "  return a_to_time(T0.to(u.K).value / T)\n",
      "/var/folders/jk/kyldbk_95pl2fc_t8qb_l8580000gw/T/ipykernel_36921/1109799512.py:5: IntegrationWarning: The integral is probably divergent, or slowly convergent.\n",
      "  return quad(inv_aH, 0, a)[0]\n"
     ]
    }
   ],
   "execution_count": 16
  },
  {
   "cell_type": "code",
   "id": "12aff2df-d300-4d2c-9e24-41da579e5171",
   "metadata": {
    "ExecuteTime": {
     "end_time": "2025-01-02T19:31:25.488990Z",
     "start_time": "2025-01-02T19:31:25.285085Z"
    }
   },
   "source": [
    "#| label: ggstar_plot\n",
    "fig = plt.figure()\n",
    "plt.plot(MeVs, gs)\n",
    "plt.grid()\n",
    "plt.xscale(\"log\")\n",
    "plt.xlim((1e6, 1e-1))\n",
    "ax1 = plt.gca()\n",
    "#ax1.invert_xaxis()\n",
    "ax2 = plt.gca().twiny()\n",
    "ax2.set_xscale(\"log\")\n",
    "ticks = ax1.get_xticks()[::-1][1:-1]\n",
    "ticks = ticks[(ticks>=MeVs.min()) & (ticks<=MeVs.max())]\n",
    "#print(ticks)\n",
    "#ticks = 10.**np.arange(6, -3, -1)\n",
    "#print(ticks)\n",
    "new_ticks = [MeV_to_time(tick) for tick in ticks]\n",
    "#print(new_ticks)\n",
    "ax2.set_xticks(new_ticks)\n",
    "ax2.set_xticklabels([f\"{tick:.0g}\" for tick in new_ticks])\n",
    "ax2.set_xlabel(\"$t$ [s]\", fontsize=16)\n",
    "ax1.set_ylabel(\"$g_*(T)$\", fontsize=16)\n",
    "ax1.set_xlabel(\"$T$ [MeV]\", fontsize=16)\n",
    "fig.tight_layout()\n",
    "plt.show()"
   ],
   "outputs": [
    {
     "data": {
      "text/plain": [
       "Canvas(toolbar=Toolbar(toolitems=[('Home', 'Reset original view', 'home', 'home'), ('Back', 'Back to previous …"
      ],
      "image/png": "[encoded data removed]",
      "text/html": [
       "\n",
       "            <div style=\"display: inline-block;\">\n",
       "                <div class=\"jupyter-widgets widget-label\" style=\"text-align: center;\">\n",
       "                    Figure\n",
       "                </div>\n",
       "                <img src='data:image/png;base64,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' width=640.0/>\n",
       "            </div>\n",
       "        "
      ],
      "application/vnd.jupyter.widget-view+json": {
       "version_major": 2,
       "version_minor": 0,
       "model_id": "6d2ecf818af244fda6c700dc3a440543"
      }
     },
     "metadata": {},
     "output_type": "display_data"
    }
   ],
   "execution_count": 28
  },
  {
   "metadata": {},
   "cell_type": "markdown",
   "source": [
    "\\begin{equation}\n",
    "  \\boxed{T \\propto \\left[g_{\\star S}^{1/3}(T) a\\right]^{-1}}\n",
    "\\end{equation}\n"
   ],
   "id": "bffb3d2f3279ca21"
  },
  {
   "cell_type": "code",
   "id": "93253001-dc21-420a-aafb-4d86ae9e76e4",
   "metadata": {
    "ExecuteTime": {
     "end_time": "2025-01-02T19:10:41.986660Z",
     "start_time": "2025-01-02T19:10:41.981047Z"
    }
   },
   "source": [
    "def T_precise(a):\n",
    "    T_tmp = T0 / a\n",
    "    gs0 = gs_tot(T_to_MeV(T0).value, entropy=True)\n",
    "    for k in range(10):\n",
    "        T_tmp = T0 * (gs0/gs_tot(T_to_MeV(T_tmp).value, entropy=True))**(1/3) / a\n",
    "    return T_tmp\n",
    "\n",
    "T_precise(a=1e-5)"
   ],
   "outputs": [
    {
     "data": {
      "text/plain": [
       "<Quantity 272550. K>"
      ],
      "text/latex": "$272550 \\; \\mathrm{K}$"
     },
     "execution_count": 18,
     "metadata": {},
     "output_type": "execute_result"
    }
   ],
   "execution_count": 18
  },
  {
   "metadata": {
    "ExecuteTime": {
     "end_time": "2025-01-02T19:37:44.895947Z",
     "start_time": "2025-01-02T19:37:44.608940Z"
    }
   },
   "cell_type": "code",
   "source": [
    "a = np.logspace(-14, -8, 100)\n",
    "Ts = [T_precise(aa).value for aa in a]"
   ],
   "id": "acc3cca298bf9c28",
   "outputs": [],
   "execution_count": 33
  },
  {
   "cell_type": "code",
   "id": "4a0d356b-1d1a-42ca-adb7-bc68ba2b634c",
   "metadata": {
    "ExecuteTime": {
     "end_time": "2025-01-02T20:19:44.844520Z",
     "start_time": "2025-01-02T20:19:44.552382Z"
    }
   },
   "source": [
    "#| label: Ta_plot\n",
    "fig = plt.figure()\n",
    "ax1 = plt.gca()\n",
    "ax1.plot(a, [T_to_MeV(t) for t in Ts], label=\"$T(a, g_{\\star S})$\")\n",
    "ax1.plot(a, [T_to_MeV(T0.value/aa) for aa in a], 'k--', label=r\"$T_0\\times (a_0/a)$\")\n",
    "ax1.grid()\n",
    "ax1.set_xscale(\"log\")\n",
    "ax1.set_yscale(\"log\")\n",
    "ax1.set_xlim(a.min(), a.max())\n",
    "ax1.legend(fontsize=14)\n",
    "#ax1.invert_xaxis()\n",
    "ax2 = plt.gca().twiny()\n",
    "ax2.set_xscale(\"log\")\n",
    "ticks = ax1.get_xticks()[::-1]\n",
    "ticks = ticks[(ticks>=a.min()) & (ticks<=a.max())]\n",
    "#print(ticks)\n",
    "#ticks = 10.**np.arange(6, -3, -1)\n",
    "#print(ticks)\n",
    "new_ticks = [a_to_time(tick) for tick in ticks]\n",
    "#print(new_ticks)\n",
    "ax2.set_xticks(new_ticks)\n",
    "ax2.set_xticklabels([f\"{tick:.2g}\" for tick in new_ticks])\n",
    "ax1.set_xlabel(\"$a/a_0$\", fontsize=16)\n",
    "ax1.set_ylabel(\"$T$ [MeV]\", fontsize=16)\n",
    "ax2.set_xlabel(\"$t$ [s]\", fontsize=16)\n",
    "fig.tight_layout()\n",
    "plt.show()"
   ],
   "outputs": [
    {
     "data": {
      "text/plain": [
       "Canvas(toolbar=Toolbar(toolitems=[('Home', 'Reset original view', 'home', 'home'), ('Back', 'Back to previous …"
      ],
      "image/png": "[encoded data removed]",
      "text/html": [
       "\n",
       "            <div style=\"display: inline-block;\">\n",
       "                <div class=\"jupyter-widgets widget-label\" style=\"text-align: center;\">\n",
       "                    Figure\n",
       "                </div>\n",
       "                <img src='data:image/png;base64,iVBORw0KGgoAAAANSUhEUgAAAoAAAAHgCAYAAAA10dzkAAAAOXRFWHRTb2Z0d2FyZQBNYXRwbG90bGliIHZlcnNpb24zLjkuMSwgaHR0cHM6Ly9tYXRwbG90bGliLm9yZy/TGe4hAAAACXBIWXMAAA9hAAAPYQGoP6dpAACUnElEQVR4nOzdd3yN5//48dc5J1uGkSaIvbIQEXskMYKoXaVqtcbHao2oWq2iRVURKrQ1So1Su3aDErOIxEpiJiIIYkaQde7fH/3Jt2kSQk7OyXg/H488Hs59X/d1v+8rx8n73Pc1VIqiKAghhBBCiEJDbegAhBBCCCGEfkkCKIQQQghRyEgCKIQQQghRyEgCKIQQQghRyEgCKIQQQghRyEgCKIQQQghRyEgCKIQQQghRyEgCKIQQQghRyEgCKIQQQghRyEgCKIQQQghRyEgCKIQQQghRyEgCKIQQQghRyEgCKIQQQghRyEgCKIQQQghRyEgCKIQQQghRyEgCKIQQQghRyEgCKIQQbykqKgqVSpXuZ/LkyTmut1atWunq9Pb2znGdQgjxb0aGDkAIIfKKr7/+Gq1Wy5dffolanf3vx6amptSpUweAcuXK5TgOd3d3LC0tefz4MefPn89xfUII8V8qRVEUQwchhBCGFhkZSaVKlahQoQKRkZHZOiYqKoqKFStSvnx5oqKidB7TgQMHaNasGV5eXhw4cEDn9QshCi95BCyEEEBISAjwz+NXIYQo6CQBFEIIJAEUQhQukgAKIQq11atXo1Kp+OabbwCYPHlyugEY27Zty/E5rl+/zqBBg6hUqRKmpqZYWVlRqVIlOnfuzNq1a3NcvxBCvCkZBCKEKNSeP39O48aNOXHiBMnJydSrVw9jY+O0/W5ubjmqPyoqirp16xIXF4eFhQWOjo5oNBqio6PZsmULkZGRfPDBBzm9DCGEeCOSAAohCrUBAwbQs2dPLC0tMTc35+jRo2g0Gp3VP3v2bOLi4ujbty8LFizA0tIybV9ERARBQUE6O5cQQmSXJIBCiELv/PnzaLVaqlevrtPkD+Dy5csA+Pn5pUv+AJycnHByctLp+YQQIjukD6AQotA7c+YMkPPHvZkpW7YsABs2bEBm3RJC5BWSAAohCr3cTACHDRuGsbExX3/9NRUrVmTw4MGsXr2aW7du6fxcQgiRXZIACiEKvdxMAGvVqkVQUBCtWrXi5s2b/PTTT/Tq1YsyZcrQunVrwsPDdX5OIYR4HUkAhRCF3tmzZwGoWbNmrtTfoEED9uzZw8OHD9m9ezdjx46lTJky/Pnnn/j4+PDo0aNcOa8QQmRFEkAhRKEWFRXF48ePKV++PDY2Nrl6LktLS1q3bs23335LREQElStX5ubNm+zatStXzyuEEP8lCaAQolC7dOkSAI6Ojno9r4WFBTVq1ACQ/oBCCL2TBFAIUahZWFgAEBkZSWJios7rHzJkCOvWrePZs2fptgcFBbFv3z4AateurfPzCiHEq8g8gEKIQq1WrVqUKlWKy5cvU7ZsWapUqYJarWbcuHG0a9cux/UfO3aMH3/8ESMjI6pWrYqVlRV37tzh+vXrAPTq1YtmzZrl+DxCCPEm5A6gEKJQs7S0ZOfOnfj6+qIoCseOHePIkSPY2trqpP65c+cyYsQIatasSVxcHKGhoQC0bt2aP/74g19//VUn5xFCiDchdwCFEIVerVq12LlzZ67U3axZM7nDJ4TIcyQBFEKIHIqNjaVJkyYA9OvXj379+uWovo8//pjLly/z+PFjXYQnhBAZSAIohBA5lJiYyJEjRwBo2bJljusLCQlJm5xaCCFyg0qRxSmFEEIIIQoVGQQihBBCCFHISAIohBBCCFHISAIohBBCCFHIFOoEcMaMGdStWxcrKyvs7Ozo1KkTFy9ezPbxR44cwcjIiFq1aukknujoaNq3b0+RIkWwtbVl+PDhJCUlpSvz+++/U6tWLSwsLChfvjyzZs3Sybl1Ib+15+TJk1GpVBl+ihQpopPz60J+a9OoqKhM23T37t06Ob+uLVy4kIoVK2JmZoaHhweHDh16ZfmDBw/i4eGBmZkZlSpV4scff8xQZuPGjbi4uGBqaoqLiwubN29Ot/9Nf6eDBg1CpVLh7+//VteY17xJm2/atAkfHx/eeecdrK2tadiwIXv27Mmy/Nq1a1GpVHTq1CkXIs9fCvP7LK99br7KuXPn8PLywtzcHAcHB6ZOncq/h2YcPnyYxo0bU6JECczNzXFycmLu3Lm6OblSiLVu3Vr55ZdflPPnzyuhoaHKu+++q5QrV055+vTpa4999OiRUqlSJaVVq1aKm5tbjmNJSUlRqlevrjRr1kw5ffq0EhgYqJQuXVr55JNP0srs3LlTMTIyUhYtWqRcvXpV2b59u1KyZEnlhx9+yPH5dSG/tWd8fLxy+/btdD8uLi5K3759c3x+XclvbRoZGakAyt69e9O1a2JiYo7Pr2tr165VjI2NlcWLFythYWHKiBEjlCJFiijXr1/PtPy1a9cUCwsLZcSIEUpYWJiyePFixdjYWNmwYUNamaNHjyoajUaZPn26Eh4erkyfPl0xMjJSjh8/nlbmTX6nmzdvVtzc3JTSpUsrc+fO1Xkb6NubtvmIESOUmTNnKidOnFAuXbqkjB8/XjE2NlZOnz6doWxUVJTi4OCgNG3aVOnYsWMuX0neV5jfZ3nlc/Pl52FWHj9+rNjb2ysffPCBcu7cOWXjxo2KlZWV8v3336eVOX36tLJmzRrl/PnzSmRkpLJy5UrFwsJC+emnn3IUm6IoSqFOAP/r7t27CqAcPHjwtWW7d++ufPHFF8pXX32V6Ztk2bJlipOTk2Jqaqo4OjoqAQEBr6xv586dilqtVm7evJm27bffflNMTU2Vx48fK4qiKD169FC6du2a7ri5c+cqZcqUUbRabTauUL/yenv+V2hoqAIoQUFBr43XUPJ6m778wAsJCXmj6zKEevXqKYMHD063zcnJSRk3blym5T///HPFyckp3bZBgwYpDRo0SHvdrVs3pU2bNunKtG7dWvnggw+yjCOr32lMTIzi4OCgnD9/XilfvnyB+MP8pm2eGRcXF2XKlCnptqWkpCiNGzdWlixZovTt21cSwEwUpvfZfxnqc/N1CeDChQsVGxsb5cWLF2nbZsyYoZQuXfqVf9M7d+6s9OrV67XX8jqF+hHwf72cdLV48eKvLPfLL79w9epVvvrqq0z3L168mIkTJzJt2jTCw8OZPn06X375JStWrMiyzmPHjlG9enVKly6dtq1169YkJiYSHBwM/DPXmJmZWbrjzM3NiYmJSVtXNC/J6+35X0uWLKFatWo0bdr0dZdmMPmlTTt06ICdnR2NGzdmw4YN2b08vUlKSiI4OJhWrVql296qVSuOHj2a6THHjh3LUL5169acOnWK5OTkV5bJqk7I/Heq1Wrp3bs3Y8aMwdXVNfsXloe9TZv/l1arJT4+PsP7f+rUqbzzzjv0799fZ/EWNIXlfZYZQ35uvsqxY8fw8vLC1NQ0bVvr1q25desWUVFRmR4TEhLC0aNH8fLyeqtz/ptMBP3/KYqCn58fTZo0oXr16lmWu3z5MuPGjePQoUMYGWXefF9//TWzZ8+mS5cuAFSsWJGwsDB++ukn+vbtm+kxsbGx2Nvbp9tWrFgxTExMiI2NBf55Y4waNYqPPvqIZs2aceXKlbT+Grdv36ZChQpveNW5Jz+0578lJiayevVqxo0bl91L1Lv80KaWlpbMmTOHxo0bo1ar+eOPP+jevTsrVqygV69eb3PZuSIuLo7U1NQM12Nvb5/p+wMyv357e3tSUlKIi4ujVKlSWZbJqs6sfqczZ87EyMiI4cOHv83l5Ulv0+b/NXv2bBISEujWrVvatiNHjrB06dK0NZZFRoXpffZfhv7cfJXY2NgMf7df/v+IjY2lYsWKadvLlCnDvXv3SElJYfLkyQwYMOCNz/dfkgD+f5988glnz57l8OHDWZZJTU3lww8/ZMqUKVSrVi3TMvfu3ePGjRv079+fgQMHpm1PSUnBxsYGAF9f37SOz+XLl+fChQsAqFSqDPUpipK2feDAgVy9epV27dqRnJyMtbU1I0aMYPLkyWg0mre78FySH9rz3zZt2kR8fDx9+vTJ/kXqWX5oU1tbW0aNGpW2r06dOjx8+JDvvvsuTyWAL/33erJ6f7yq/H+3v0mdmf1Og4ODmTdvHqdPn35lLPnVm7b5S7/99huTJ09m69at2NnZARAfH0+vXr1YvHgxtra2uRJvQVAY32cv6fNzE8DV1TXtidzLzwdLS8u0/f/+PIXsfaYAHDp0iKdPn3L8+HHGjRtHlSpV6NGjxyuv/bVy/BC5APjkk0+UMmXKKNeuXXtluYcPHyqAotFo0n5UKlXatn379imxsbEKoKxatUq5fPlyup+X9cfExKRti4qKUhRFUb788kulZs2a6c734MEDBVD279+fbntKSooSExOjJCYmKjt37lQA5c6dOzpskZzJb+2pKIrSvHlzpVOnTjpqAd3Lj2360qpVqxQzM7MctoBuJSYmKhqNRtm0aVO67cOHD1c8PT0zPaZp06bK8OHD023btGmTYmRkpCQlJSmKoihly5ZV5syZk67MnDlzlHLlymWoL6vf6dy5cxWVSpXudwgoarVaKV++/Jteap7xNm3+0tq1axVzc3Nl+/bt6baHhIRk+n5/2X5XrlzR+XXkN4XtffZv+v7cVJR/BiO93H7gwAEFSFf25eepoihK7969lQ4dOqSL5fTp0wrwypi//vprpVq1am/ZKv+nUCeAWq1WGTZsmFK6dGnl0qVLry2fmpqqnDt3Lt3PkCFDFEdHR+XcuXNpI4wcHByUqVOnvlEsLzvY37p1K23b2rVrXzloQVH+eQM1bNjwjc6VW/Jre167dk1RqVTKtm3b3ugc+pBf2/TfRo8erVSsWPGNzqUP9erVU4YMGZJum7Oz8ysHgTg7O6fbNnjw4AyDQHx9fdOVadOmTbpBIK/7ncbFxWX4HZYuXVoZO3asEhER8cbXmZe8aZsriqKsWbNGMTMzUzZv3pxh3/PnzzO0VceOHZXmzZsr586dy5Ojz/WlML/P8srnZnYGgRQtWjTd+/Tbb7997SCQqVOn6iRJL9QJ4JAhQxQbGxvlwIED6aasePbsWVqZcePGKb17986yjsxGCi1evFgxNzdX/P39lYsXLypnz55Vli1bpsyePTvLel5OsdGiRQvl9OnTyt69e5UyZcqkm2Lj3r17yqJFi5Tw8HAlJCREGT58uGJmZqb8/fffb98IOpTf2vOlL774QildurSSkpLy5hedy/Jbmy5fvlxZvXq1EhYWpkRERCizZs1SjI2NM9wVywteTkmydOlSJSwsTBk5cqRSpEiRtG/o/23Xl9PAjBo1SgkLC1OWLl2aYRqYI0eOKBqNRvn222+V8PBw5dtvv80wDUx2fqf/VVBGZ75pm69Zs0YxMjJSAgIC0rXVo0ePsjyHjAL+R2F+n+WVz83XJYCPHj1S7O3tlR49eijnzp1TNm3apFhbW6ebBmbBggXKH3/8oVy6dEm5dOmSsmzZMsXa2lqZOHFiNlsja4U6AQQy/fnll1/SyvTt21fx8vLKso6shoqvXr1aqVWrlmJiYqIUK1ZM8fT0zPDo47+uX7+uvPvuu4q5ublSvHhx5ZNPPkk3PPzevXtKgwYNlCJFiigWFhZKixYt0v1hMbT81p6K8s83vzJlyigTJkx4k0vVm/zWpsuXL1ecnZ0VCwsLxcrKSvHw8FBWrlz5ppetNwEBAUr58uUVExMTpXbt2ummicisXQ8cOKC4u7srJiYmSoUKFZRFixZlqHP9+vWKo6OjYmxsrDg5OSkbN25Mtz87v9P/Kih/mBXlzdrcy8sr07Z61VydkgD+ozC/z/LK5+brEkBFUZSzZ88qTZs2VUxNTZWSJUsqkydPTnf3b/78+Yqrq6tiYWGhWFtbK+7u7srChQuV1NTUV9abHSpF+deU00IIIYQQosCTeQCFEEIIIQoZSQCFEEIIIQoZSQCFEEIIIQoZSQCFEEIIIQoZSQCFEEIIIQoZSQCFEEIIIQoZSQBzUWJiIpMnTyYxMdHQoRQY0qa6Je2pe9KmuiXtqXvSprqVX9tT5gHMRU+ePMHGxobHjx9jbW1t6HAKBGlT3ZL21D1pU92S9tQ9aVPdyq/tKXcAhRBCCCEKGUkAhRBCCCEKGSNDB1CQpaSkAHDjxg1sbGwMHE3BEB8fD8DNmzd58uSJgaPJ/6Q9dU/aVLekPXVP2lS3Hj9+DPzf3/z8QvoA5qLDhw/TtGlTQ4chhBBCiFx26NAhmjRpYugwsk3uAOaicuXKAXD06FHKli1r4GgKhpSUFPbt20eLFi0wMpK3b05Je+qetKluSXvqnrSpbt24cYNGjRql/c3PL+Q3n4vU6n+6WJYqVYoyZcoYOJqCITk5GVtbWxwcHDA2NjZ0OPmetKfuSZvqlrSn7kmb6tbLR78v/+bnF/krWiGEEEIIkWOSAOaCgIAAXFxc8Pb2NnQoQgghhBAZSAKYC4YNG0ZYWBgHDhwwdChCCCGEEBlIAiiEEEIIUchIAiiEEEIIUchIAiiEEEIIUcjINDBCCCEMKjk5mdTU1Cz3GRkZ8eLFiyzLiDcjbfpqGo2mUEyPIwlgLggICCAgIICkpCRDhyKEEHnWkydPiIuLIzExMcsyiqJQsmRJbty4gUql0mN0BZe06euZmppia2uLtbW1oUPJNZIA5oJhw4YxbNgwYmJiZAUQIYTIxJMnT7h58yaWlpbY2tpibGycaTKi1Wp5+vQplpaW+W6i3bxK2jRriqKQnJzM48ePuXnzJkCBTQIlARRCCKF3cXFxWFpaUqZMmVfehdJqtSQlJWFmZibJio5Im76aubk5VlZWxMTEEBcXV2ATQPnNCyGE0Kvk5GQSExOxsbGRR5AiT1KpVNjY2JCYmEhycrKhw8kVkgDqgVarNXQIQgiRZ7wceFAYOtqL/Ovl+7OgDpSRBFAPunXrxrlz5wwdhhBC5Cly90/kZQX9/SkJoB4EBwfj7u7OmDFjePr0qaHDEUIIIUQhJwmgHrRq1YrU1FS+//57nJ2d2bx5M4qiGDosIYQQQhRSkgDqwU8//cSOHTuoWLEiMTExdOnShfbt2xMZGWno0IQQQghRCEkCmAsCAgJwcXHB29s7bVvbtm05f/48EydOxNjYmB07dkgCKIQQQgiDkAQwFwwbNoywsDAOHDiQbruFhQXffPMNZ86cYebMmTRv3jxt3+3bt/UcpRBCiPxEq9Xi5uZG27ZtDR1Krrpy5QpGRkYsXLjQ0KEUaJIAGoCzszOff/552usbN25QrVo1evfuzZ07dwwYmRBCiNymKEraHIjZ+dFoNDx9+pTly5dz9uxZJk+ebOhLyFVVqlShZ8+eTJ48mSdPnhg6nAJLVgLJA/78808SEhJYtWoV27dvZ8aMGQwcOBCNRmPo0IQQQujY06dPGTVqVLptt27dYvHixVSqVInevXun22dtbY25uTlTpkzBy8uLevXq6TNcgxgzZgy//vor8+fP54svvjB0OAWSJIB5QP/+/alRowZDhgzh9OnTDBkyhF9++YVFixZRu3ZtQ4cnhBBCh6ysrDLcxVuzZg2LFy+mdevWmd7h27ZtG9HR0UyaNEk/QRpY9erVcXNzY/HixUyYMEGWrMsF0qJ5RL169Thx4gTz58/HysqKEydOULduXcaMGWPo0IQQQuSy06dPA2T5pX/58uWoVCree++9LOtYvHgxXbp0oVKlSlhYWGBvb0+rVq04cuRIjmKLj49n4sSJVK5cGTMzM2rWrMmmTZs4dOgQKpWKKVOm5Kj+rHTr1o3o6Gj27duXK/UXdpIA5iEajYZPP/2UiIgIunfvjlarlcfAQghRCISEhACZJ4CKonDgwAGcnJwoWrRopsdfv36doUOH8ujRI3x8fBgxYgReXl4EBQXRsmVLLly48FZx3b9/nwYNGjB9+nQqVKjAyJEjqVixIl27dk0bpOHu7v5Wdb9Ow4YNAdi/f3+u1F/YySPgPKh06dKsXbuWgQMH0qBBg7Tt4eHhGBkZUbVqVQNGJ4QQuUdRFJ4n/9/aq1qtludJqRglpeSpx4DmxhqdLhUWEhKCiYkJ1atXz7AvPDycBw8e4Ovrm+XxNjY23Llzh+LFi6fbvm3bNjp06MDatWv5+uuv3ziuvn37Eh4ezi+//MJHH32Utn3KlClpj6pzKwGsU6cOAEePHs2V+gs7SQDzsBYtWqT9W6vV8vHHHxMaGsr48eMZO3YsZmZmBoxOCCF073lyKi6T9hg6jNcKm9oaCxPd/AmNiori4cOHuLu7Y2JikmF/TEwMAPb29lnWkdWdQQ8PDwBu3rz5xnH9+eef7NixgyFDhqRL/uCfxHDy5MkUL16csmXLvnHd2WFlZYWZmVna9Qvdyjtfp8QrPX78GBsbGxITE5k8eTI1atQgMDDQ0GEJIYTIodf1/7t//z4AxYoVy7KOO3fuMGHCBNzd3bG2tkatVqNSqXBwcACgXLlybxzXjz/+CMDYsWMz7Ht5p/Ft7v5FRkby8ccfU7FiRczMzChdujSdOnXi3r17mZ4nLi7ujc8hXk/uAGbDs2fPcHZ25v333+f77783SAzFihVj9+7drF+/npEjR3LlyhVatWpF9+7dmTNnDqVLlzZIXEIIoUvmxhrCprZOe63Vaol/Eo+VtVWeewSsK69LAM3NzQF4/vx5pvtPnDhBmzZtePz4MU2bNqVv374ULVoUjUbDwYMHOXDgALVq1XrjuPbu3YujoyPly5fPsC82NhZ48wTw0qVL1KtXj06dOrF+/XpKlCjBlStXWLduHdbW1hnKP3/+HAsLizeOXbyeJIDZMG3aNOrXr2/oMFCpVHTr1o02bdrw5ZdfsmDBAtatW8fOnTs5cuQINWrUMHSIQgiRIyqVKt2jVa1WS4qJBgsTozyVAOrSqwaAALzzzjsAPHjwIMM+RVHo1asXqampBAcHZ0j0XnYletNE7eHDh8THx2f5ePflSldvmljOmzcPBwcHli9fnratYsWK+Pj4ZCir1Wp5/Pgxrq6ub3QOkT0F83+TDl2+fJmIiIg8tfSOtbU18+bN4+TJk9SrVw9HR0dcXFwMHZYQQoi3cPr0aTQaDW5ubpnud3V1Ra1Wc/ny5Qz7rly5wuXLl2nbtm2GZOzMmTMcOHCAYsWKZXoX71VMTU2BfxLB/0pJSWHevHlA5omloihs27Yt03ofPnzIw4cPuXXr1mtjuHz5MlqtVm5u5JICnQAGBQXRvn17SpcujUqlYsuWLRnKLFy4MK0fgoeHB4cOHUq3/7PPPmPGjBl6ivjN1K5dm6NHj7J9+/a06WKePXvGxIkTefTokWGDE0II8VqxsbHExsbi5OSU9qj3v4oWLUrNmjU5deoUiqKk2/cyUbty5Uq6fZcvX6Zr165otdpMk7R27dqh0WgyrFn/koWFBRUqVCA0NJQzZ86kbU9JSWHw4MGEhYVhbm6Oo6Nj2r7k5GTi4uLYt28f33//PXFxcRn+Fo0YMQKVSkW5cuVo1KgRU6ZM4fr165nG8PfffwPg5eWV6X6RMwU6AUxISMDNzY0FCxZkun/dunWMHDmSiRMnEhISQtOmTfH19SU6OhqArVu3Uq1aNapVq6bPsN+IRqNJNzJs2rRpTJ8+HUdHR1atWpXhw0IIIUTe8br+fy916tSJx48fc/LkyXTby5UrR/369Tl16hSenp6MHTuW999/Hzc3t7Q7ipklgFqtFgAjo6x7go0ZM4bU1FQ8PT0ZNGgQo0ePpkaNGpw+fZoiRYrg5uaWYa7a7777jlatWhEUFESDBg24cuVKuv3169cnKiqKXbt20bhxY5YsWYKLi0taO/xbYGAgGo2Gdu3avbJtxNsp0H0AfX19Xzlv0pw5c+jfvz8DBgwAwN/fnz179rBo0SJmzJjB8ePHWbt2LevXr+fp06ckJydjbW2d5VI8iYmJJCYmpr2Oj48H/vlWlJycrMMry1qzZs3YuHEjFy9epHfv3ixdupT58+fj5OSkl/PntpftqK/2LOikPXVP2vT1kpOTURQFrVablohk5eWX2JflC5qXiY+7u/srr69fv358/fXXrFy5Mm1+vJfWr1/PqFGj2L9/P2fPnqVevXr88ccfXL58mY0bN1KzZs10dWu1Wi5evEiFChWoV69elucdNGgQjx49YtGiRSxfvpwKFSrQvXt33n33XRo0aEDTpk3THavRaPj2229Zv349Dx484PPPP6d27doZ6tdoNLRo0YIWLVowbtw4SpUqxcaNG9M9wn727BlbtmyhXbt2lCxZ0iC/e61Wi6IoJCcnv3JRhvz6f12lFJJbRCqVis2bN9OpUycAkpKSsLCwYP369XTu3Dmt3IgRIwgNDeXgwYPpjl++fDnnz59/5SjgyZMnZ7okzpIlS7C1tdXNhWRDcnIyW7du5ffffycpKQkjIyM6d+5M165d0x4XCCGEoRgZGVGyZEnKli2b6bx3InMDBgzgr7/+4uzZsxQpUuSt6wkLC6Nx48bMmjUr7QbIm/j8889ZvHgxBw4cyNBv8erVq4SEhNC8eXM2b95M//79X1lXXFwcjo6OTJs2jcGDB6dtX7VqFZ9++inbt2+ncePGbxyjLiQlJXHjxg1iY2NJSUnJslxcXBwDBgzgxo0blClTRo8R5kyBvgP4KnFxcaSmpmaYWNPe3j5tePubGj9+PH5+fmmvb968iYuLC56enlSoUCEn4b6xjh078uWXXzJq1Ch27tzJ+vXrKVq0KAEBAXqNQ9eSk5MJDAzEx8cHY2NjQ4eT70l76p606eu9ePGCGzduYGlp+doJ7RVFIT4+HisrK52uvJEfzZw5E1dXV1atWpWjdeJDQkKws7NjyJAhWfY7TE5O5smTJ5QoUSJtm6Io/PzzzyxevJgOHTrQtGnTDMe5u7unPXIeNWpUun19+vShevXqeHt7Y2dnR3h4OJMnT6ZChQr873//S5sGJiUlBX9/f9q3b//Kp3i57cWLF5ibm+Pp6fnK92lUVJT+gtKhQpsAvvTfDxRFUTL9kPnvLOiZMTU1xdTUlICAAAICAkhKSgLA2NjYIH8IqlWrxvbt29myZQvjx49n4sSJBeYPkqHatKCS9tQ9adOspaamolKpUKvVr53a5eWjv5flC7PKlSuzYsUK4uLictQWQ4YMoWfPnpibm2dZz/nz59P6xVeqVIn4+HiOHTvG2bNnqVmzJsuWLXvjGGrXrs369euZNWsWz58/p3z58nTq1InPPvss3RJ2t27dolevXvTu3dugv/OXk2m/7v9yfv1/XmgTQFtbWzQaTYa7fXfv3n3lcjvZMWzYMIYNG0ZMTAxly5bFf+8Vvu7lgJWZ/t8kKpWKzp0707Fjx3T/kYYNG0alSpUYPnx4vn3zCiFEYdO9e3e9nMfCwgIfH5+0mSZMTExwdHRk5syZfPrpp1neOXwVPz+/dE/JslKhQoW0dYZF7im0CaCJiQkeHh4EBgam6wMYGBhIx44ddXquDadvcvTOQb5s50K7mqUM8hjj38nfyZMnWbhwIQArVqxg0aJFButjIYQQIu9xdnZm69athg5D5KICfT/96dOnhIaGEhoaCvyz/mBoaGjaNC9+fn4sWbKEZcuWER4ezqhRo4iOjk7XEfVtBAQE4OLigre3NwAORc25G5/Ip7+F0GfZCSLjEnJUf055eHiwZMkSihcvzrlz52jSpAkDBgxIW29SCCGEEAVbgU4AT506la5Dqp+fH+7u7mnTuHTv3h1/f3+mTp1KrVq1CAoKYufOnW88Y/p/DRs2jLCwsLQJNn/92IORLatiYqTm0OU4Ws8NYm7gJV4kp+boPG9LrVbTv39/Ll68SL9+/QBYunQpjo6O/PLLLzJ3oBBCCFHAFegE0NvbG0VRMvz8ew3CoUOHEhUVRWJiIsHBwXh6euo8DlNjDSNbVmPPSE+aVrUlKVXLvH2XaeMfRNClezo/X3bZ2tqydOlSDh8+TPXq1bl//z4TJkxIm79QCCGEEAVTgU4ADeW/j4BfqmhbhF/71WPBh+7YWZkSdf8ZfZad4JM1p7nz5IVhggUaN27M6dOnmTVrFj/88EPaUHxFUXj27JnB4hJCCCFE7pAEMBf89xHwv6lUKtrVLM2+0V583LgCahVsP3ubFrMP8suRSFK1hnn8amxszGeffUbXrl3Ttq1evRonJyfpCCyEEEIUMJIAGoiVmTFftXflj0+a4Fa2KE8TU5iyLYyOAYc5c+ORocNDURQWLFjAjRs36NSpEx06dMi3k10KIYQQIj1JAA2suoMNm4Y04ptO1bE2M+L8zSd0WniEL7ac4/Fzw60vqFKp2L9/P+PHj8fY2Jht27bh4uLCt99+mzbBtRBCCCHyJ0kAc0FWfQCzolGr6NWgPPtGe9PF3QFFgVXHo2kx+wCbQ2IMNirXwsKC6dOnc+bMGby9vXn+/Dnjx4/H3d2d48ePGyQmIYQQQuScJIC54FV9AF/lHStT5nSvxW8DG1DFzpK4p0mMWneGDxf/zZW7T3Mn2GxwdnZm//79rFy5knfeeYewsDCSkw13d1IIIYQQOSMJYB7UsHIJdg5vypjWjpgZqzl27T6+84KYtSeC50mGmTtQpVLRq1cvLl68yIoVK9ItAn7mzJm09TqFEEIIkfdJAphHmRipGdasCoGjvGjuZEdyqkLAX1fxmXuQ/RF3DBZXsWLF6NOnT9rrqKgoGjZsSOPGjdNWXBFCCCFE3iYJYC540z6Ar1K2uAVL+9bhx14elLIxI+bhc/otP8XglcHcevQ858Hm0Pnz5zEyMuL48eN4eHgwatQomUhaCCGEyOMkAcwFb9sHMCsqlYo21Uuy18+L/3lWQqNWsftCLC3nHGRx0DWSUw33+LVdu3ZERETQrVs3tFot/v7+ODk5sX79ellSTgghChitVoubmxtt27Y1dChv5MqVKxgZGbFw4UJDh5JnSAKYjxQxNWJCW2e2f9oEj/LFeJaUyrSd4bT/4TB/X7tvsISrdOnSrFu3jj179lC5cmVu3bpFt27d6Ny5sySBQgjxH4qiYGNjg0qlytaPRqPh6VPDDQT8t+XLl3P27FkmT56s1/MeP34clUrF0qVL3+r4KlWq0LNnTyZPnsyTJ090HF3+ZGToAMSbcy5lzfpBDdkQHMOMXeFExMbT/efj1CxjQ9+GFXi3ZinMjDV6j6tVq1acP3+eb7/9lhkzZlCzZk1UKpXe4xBCiLzs6dOnjBo1Kt22W7dusXjxYipVqkTv3r3T7bO2tsbS0lKfIWYqNTWVKVOm4OXlRb169fR67q1bt6JWq2nXrt1b1zFmzBh+/fVX5s+fzxdffKHD6PInSQDzKbVaRbe6ZWnpYs/3f15kQ3AMZ2MeM3r9GabtDOeDumXp1aA8pYua6zUuMzMzJk+eTM+ePSlTpkza9pCQEO7fv0/Lli31Go8QQuQ1VlZWGe6grVmzhsWLF9O6dWud3l1buXIlnp6elC9fPtP9ycnJzJ8/nxEjRmBk9OqUYOfOnURHRzNp0iSdxZddW7dupUGDBtjb2791HdWrV8fNzY3FixczYcIE1OrC/RC0cF99LtHlIJDXKV7EhOmda3BsXHM+b+NIaRszHiQksfDAVbxm/cX3ey7yIln/U8dUrVoVc/N/ks/U1FQGDhyIj48PPXr04Pbt23qPRwgh8rLTp08DULt2bZ3VGRMTw8CBA2nWrBk3btzIsD8lJYUPPviAzz77jBUrVry2vuXLl6NSqXjvvfeyLLN48WK6dOlCpUqVsLCwwN7enlatWnHkyJG3vo4rV64QHh5Ox44dc3y+bt26ER0dzb59+946noJCEsBcoOtBINlRwtKUod5VCPq8GT/28qB+xeIkpyos+OsKPnMP8lfEXb3F8l9JSUk0atQItVrN2rVrcXJyYsGCBaSmGmZOQyGEyGtCQkIA3SaAZcqUYc2aNdy4cYNmzZoRExOTti8lJYUPP/yQTZs2MXDgQPr16/fKuhRF4cCBAzg5OVG0aNFMy1y/fp2hQ4fy6NEjfHx8GDFiBF5eXgQFBdGyZUsuXLjwVtexZcsWgAwJ4Nucr2HDhgDs37//rWIpUBSRa27cuKEASmRkpN7PrdVqlV3nbikNpu9Vyo/drpQfu10ZvPKUcuvRM73H8tKpU6eUunXrKoACKB4eHsqJEyfeqI6kpCRly5YtSlJSUi5FWbhIe+qetOnrPX/+XAkLC1OeP3/+2rKpqanKw4cPldTUVD1EZjjFihVTTExMlMTERJ3X/fvvvysajUapUqWKEhMToyQmJiqdOnVSAOXjjz9WtFrta+u4cOGCAig9e/bMsszDhw+V+/fvZ9j+xx9/KIDyxRdfvFX8TZo0UapVq6aT8z158kQBFE9Pz9eeN7vv08jISAVQbty48do68xLpA1hA/TN1TCmaVn0H/72XWHYkil3nYwm6dI9RPtX4qFEFjDT6vQHs4eHBsWPH+Omnn5gwYQLBwcHUr1+fQ4cO0bhxY73GIoTI2xISEoB/ph1JSEhAo9Gk9dnSaDSYmZllKJsZtVqd1h3lTcs+e/Ys05kMihQpkv0LyYaoqCgePnyIu7s7JiYmOq0b4P333yclJYXevXvTvHlzXF1d2bJlC3369GHJkiXZGqz38u7hq/rgZXVn0MPDA4CbN2++cexxcXEcPXqUzz77TCfns7KywszMLN3d0MJKHgEXcEVMjZj4rkva1DEJSal8syOcdj8cJvj6Q73Ho9FoGDp0KBEREfTs2ZMGDRqk3ZIXQoiXLC0tsbS0xNramjJlyqSNhLW0tMzQB83Ozi5t339/fH1905WtUKFClmU9PT3TlXVxccm0nK5lp//f3LlzKVu2LObm5jRv3pxLly690Tl69OjBkiVLuHTpEps3b6Zz584sXbo02wMh7t+/D/yzGlRW7ty5w4QJE3B3d8fa2hq1Wo1KpcLBwQGAcuXKvfE1bdu2Da1Wm2n/vzc930vFixcnLi4uW9ddkEkCWEi8nDpm5ns1KGphTERsPO8tOsr4TWd59CxJ7/GULFmSVatWsW/fvrQPoISEBHr37s3Fixf1Ho8QQhjK6xLANWvWMGHCBGbOnMnJkycpVqwYbdq0ITExMdvn0Gq16fqlh4WFce/evWwf//LO6PPnma9AdeLECZydnZk5cyY2Njb07duXiRMn8tVXX6UNiKxVq9YbX9PWrVuxs7OjQYMGOTrfvz1//hwLC4tsX3tBJY+Ac0FAQAABAQEkJek/sXoVtVpF97rl8HEpyYyd4awPjuG3EzfYc+EO432d6OpRRu/z9v37ccs333zDqlWrWLduHZ9//jkTJ05Mt18IUXi8nPhYq9Xy5MmTtDs88M+ThH+7ezfrQW7/vcMVFRWV7bJhYWF6mcz+dQNA5s6dy9ChQ/nwww+Bf0bj2tnZsXXrVrp16/ba+hVFYeDAgaxYsYLevXvj6enJoEGDaNmyJX/99Rd2dnavreOdd94B4MGDB5nW36tXL1JTUwkODs6QeLVo0QIAd3f3N7qm58+fExgYSI8ePdL9bt7mfC9ptVoeP36Mq6vra6+5wDNoD8QCzpCDQLLjROR9xWfOgbRBIu8vOqpcjH1isHiuXr2q+Pr6pg0SqVixorJjx450ZaSDvW5Je+qetOnrySCQ9EqWLKloNBrl2bOMg/QSExMVjUajbN++Pd12Ly8vZdSoUa+tW6vVKgMGDFAA5cMPP1RSU1OV1NRUZcGCBYpKpVJcXV2VO3fuvLaehw8fKmq1WmnRokWGfZcuXVIA5YMPPsiwLzQ0VFGr1UqxYsXe+Jq2bt2qAMoff/yRo/P9W0RERFpbvE5BHwQij4ALsboVirNjeFPG+zphbqzhRNQD2s47xIxd4TxLStF7PJUqVWLHjh1s2LABBwcHIiMjeffdd+natat02BVCFEixsbHExsbi5OSU6ROPuLg4UlNTM9yls7Oz486dO6+sW1EUhgwZwpIlS/jggw/49ddf0+6k9ezZk59//pmwsDBatGjx2sfBRYsWpWbNmpw6dSrDXVFTU1Pgn/n6/r3v8uXLdO3aFa1Wm+5uXHavaevWrVhYWGRYQOBNz/dvf//9NwBeXl6vvN7CQBLAQs5Yo2aQV2X2jvailYs9KVqFnw5ew2dOEIFhr/5wyQ0vJxkNDw/Hz88PjUbDxo0bGT9+vN5jEUKI3JYbE0C/dOvWLTZv3ky3bt1YtWpVhkfn/fr14+effyY8PJyDBw++tr5OnTrx+PFjTp48mW57uXLlqF+/PqdOncLT05OxY8fy/vvv4+bmhpubG5D549hX0Wq1bN++nVatWmVIjHNyvsDAQDQaTY6WlCsoJAEUADgUNefnPnVY0qcODkXNufnoOQN/PcWAFaeIefhM7/FYWVkxe/ZsgoOD8fHxYcaMGWn7tFqt3uMRQojc8Lr+f7a2tmg0mgz9HO/evfvaZdEcHBw4duwYq1evzpD8vTRgwADCwsLo2rXra2MdMGAAGo2GVatWZdi3ceNGunbtyoULF/jxxx95/Pgx27dvx8fHB0g/ICM713Ts2DHu3r2b6ejfNz3fS8+ePWPLli20b9+e0qVLv/Z6CzzDPoEu2PJ6H8CsJCQmK9/uClcqj9+hlB+7XXH8Yqey8K8rSmKy4fvgJCUlKZ6enkr//v0znQBUvBnpr6Z70qavJ30A30ydOnWU0aNHp72Oj49XzMzMlHXr1r1VfTlp0x49eiglSpRQnj59+lbnful11zRmzBhFrVYr9+7dy9F5/m3p0qUKoBw8eDBb5aUPoCh0LEyMGNvGiV0jmlKvYnFeJGuZuTuCd+cf4u9r9w0aW1hYGEFBQSxduhRHR0eWL1+ul1F6QghhKCNHjmThwoWsXbuW8+fP8/HHH1OqVCk6dOig91imTZvG06dPCQgIyFE9r7umrVu30qhRI2xtbXURNikpKUyfPp0OHTpkmO+xsJIEUGSpqr0V6/7XgO/fd6N4ERMu331K95+PM/r3M9x/mv35p3TJxcWFadOm4eLiQlxcHB9//DFeXl5vvcakEELkdT179mTatGl89tln1KlTh7i4OHbt2pVuNRR9qVixIitWrMjxaiivu6aLFy9y6NAhXYQM/LOSSa9evZgzZ47O6szvVIrcPsk1MTExlC1blsjISCpUqGDocHLk0bMkZu6+yG8nogGwMTdmnK8T3euURa3W39yBycnJ7Ny5Ex8fHxYsWMCUKVN49uwZRkZG+Pn58dVXX8kEn2/gZXu2bdsWY2NjQ4dTIEibvt6LFy+IjIykYsWKr01iMpsHUOSMtGn2ZPd9GhUVRcWKFblx4wZlypTRY4Q5I7/5XBAQEICLi0vabOQFQVELE2Z0qcGmoY1wLmXN4+fJjN90jq4/HuX8zcd6j8fY2JjPP/+csLAwOnbsSEpKCqtXryY1NVXvsQghhBD5jSSAuWDYsGGEhYWlW3anoKhdrhjbPmnMl+1cKGKi4XT0I9r9cJiRa0O48UD/o4XLly/Pli1b+OOPP/j555+xsrIC/vmG+zYLjwshhBCFgSSA4o0ZadT0b1KRfaO96eD2z1D6LaG3aDH7IN9sDzPI2sLt27enbdu2aa9XrFhBtWrVmDlzJsnJyXqPRwghhMjLJAEUb62kjRnze7iz7ZMmNKpcgqRULUsOR9L0u79YHHSN5FTDzde3fft2nj17xrhx46hVqxZBQUEGi0UIIYTIayQBFDlWo4wNqwfUZ/nHdXEqaUX8ixSm7Qyn3fzDnIrKuHC4PmzYsIHly5dja2tLWFgYXl5efPzxx69d7kgIIYQoDCQBFDqhUqnwdrRjx/CmzHyvBsUsjLl4J56uPx7j8w1neJCg38fCKpWKvn37cvHiRf73v/8BsHz5chwdHdm8ebNeYxFCCCHyGkkAhU5p1Cq61y3H/tHedK9TFoDfT8XQYvYB1p2MRqvV76xDxYsX56effuLYsWO4ubnx8OFDSpYsqdcYhBCZk1nIRF5W0N+fkgCKXFGsiAkzu9Zkw+CGOJW04uGzZMZuPEe3n44REftE7/E0aNCAU6dOERgYSMOGDdO2BwYGEh8fr/d4hCjMXq5LKwO0RF728v2Z1TrK+Z0kgCJX1alQnG2fNmFiW2csTDScuv6Qd+cfZtqOMBISU/Qai5GRES1btkx7feXKFdq3b4+zszMbN24s8N/2hMgrjI2NMTU15fHjx/L/TuRJiqLw+PFjTE1NC+yE7kaGDkAUfMYaNQM9K/FuzVJM3RbG7guxLD4Uyfazt/mqvQutXUuiUulvNZGX7t+/j4ODA9euXaNr1674+vqyYMECKlWqpPdYhChsbG1tuXnzJjExMdjY2GBsbJzp54BWqyUpKYkXL17IqhU6Im2aNUVRSE5O5vHjxzx9+hQHBwdDh5RrJAF8jfj4eJo3b05ycjKpqakMHz6cgQMHGjqsfKl0UXN+7O3BXxF3mfTHeW48eM7gVadp7mTHlA6ulC2u3yXc6tevz/nz55kxYwYzZ85k165duLq6MnHiRMaMGYOpqale4xGiMLG2tgYgLi7ulZO2K4rC8+fPMTc3N8gXxYJI2vT1TE1NcXBwSHufFkSSAL6GhYUFBw8exMLCgmfPnlG9enW6dOlCiRIlDB1avtXMyY4/K3kR8NcVfgq6yv6Iuxy9GsenzasysGklTIz0943U3NycqVOn0rNnT4YNG8a+ffv48ssv2bBhA8HBwQW274cQeYG1tTXW1tZpX7Azk5ycTFBQEJ6engX2UZy+SZu+mkajKRTtIgnga2g0Giws/rkz9eLFC1JTU6XPig6Ym2j4rLUjndxL8+WWCxy7dp9Zey6y6XQMUztWp1HlEnr9Zuro6EhgYCC//fYbfn5+vPfee5L8CaEnxsbGWf7B1Wg0pKSkYGZmVij+KOuDtKmAQjAIJCgoiPbt21O6dGlUKhVbtmzJUGbhwoVUrFgRMzMzPDw8OHToULr9jx49ws3NjTJlyvD5559ja2urp+gLvip2VqwZWB//7rWwtTTh6r0Eei75mzb+h1hy6Br3nybqLRaVSsWHH35IREQEn3/+edr248ePs3DhwizvUAghhBD5TYFPABMSEnBzc2PBggWZ7l+3bh0jR45k4sSJhISE0LRpU3x9fYmOjk4rU7RoUc6cOUNkZCRr1qzhzp07+gq/UFCpVHRyd2DfaG/6NiyPqZGai3fi+WZHOA1m7GPwymD+unhXb3deixYtmtb/LyUlhUGDBjFs2DAaNmxIcHCwXmIQQgghclOBfwTs6+uLr69vlvvnzJlD//79GTBgAAD+/v7s2bOHRYsWMWPGjHRl7e3tqVmzJkFBQbz//vsZ6kpMTCQx8f/uWL2cXy45OVnmu8oGCyP4oq0jw5tVYvu5WDacvsm5m0/YfSGW3RdiaVipOBPbVAH0N39Yamoq/fv358svv+TkyZPUq1ePIUOGMHnyZGxsbPQSQ2562Y7y/tQdaVPdkvbUPWlT3cqv7ahSClGHNpVKxebNm+nUqRMASUlJWFhYsH79ejp37pxWbsSIEYSGhnLw4EHu3LmDubk51tbWPHnyhIYNG/Lbb79Rs2bNDPVPnjyZKVOmZNi+ZMkSeWz8lm4mwPG7ao7dUZGsqNCoFFqUVvBx0GKixy56Dx8+5JdffiEoKAiAYsWK0a9fP5o0aSKj6IQQohCLi4tjwIAB3LhxgzJlyhg6nGwr8HcAXyUuLo7U1FTs7e3Tbbe3tyc2NhaAmJgY+vfvj6IoKIrCJ598kmnyBzB+/Hj8/PzSXt+8eRMXFxc8PT2pUKFCrl1HQTcQiH7wjKk7Ijh4KY4/b6oIS7Dgq/bOeFd7R29x9OzZk/379/Ppp59y+fJlZs+ejaen5yvvMOd1ycnJBAYG4uPjI53BdUTaVLekPXVP2lS3oqKiDB3CWynUCeBL/72DoyhK2jYPDw9CQ0OzVY+pqSmmpqYEBAQQEBBAUlIS8OoRbiJ7KtvbsPzjeuw4c5MvNoUS8+gFA1eG4Fu9JJPau1DKxlwvcbRu3Zpz587x3XffcfjwYdq3b18g7gDKe1T3pE11S9pT96RNdSO/tmGBHwTyKra2tmg0mrS7fS/dvXs3w13BNzFs2DDCwsI4cOBADiMU/6ZSqWjtas+EWqn0b1wejVrFrvOxtJx9kCWHrpGSqtVLHKampnz55Zfs3r07Lfl78uQJXl5e7NmzRy8xCCGEEDlRqBNAExMTPDw8CAwMTLc9MDCQRo0aGSgq8TqmGhjXxpHtnzbBo3wxEpJS+WZHOO1+OEzw9Yd6i+Pfd/5mzZpFUFAQbdq0oVu3bq9c2UAIIYQwtAKfAD59+pTQ0NC0x7iRkZGEhoamTfPi5+fHkiVLWLZsGeHh4YwaNYro6GgGDx781ucMCAjAxcUFb29vHVyByIpzKWvWD2rIzPdqUNTCmIjYeN5bdJTxm87y6FmSXmMZM2YMI0eORK1Ws379epydnZk3bx4pKSl6jUMIIYTIjgKfAJ46dQp3d3fc3d2BfxI+d3d3Jk2aBED37t3x9/dn6tSp1KpVi6CgIHbu3En58uXf+pzyCFh/1GoV3euWY/9ob7rV+Wf01W8nbtB89kF+P3VDb3MHWltbM3fuXIKDg6lfvz7x8fGMHDmSunXr8vfff+slBiGEECK7CnwC6O3tnTaC998/y5cvTyszdOhQoqKiSExMJDg4GE9PT8MFLN5K8SImfNfVjfWDG1LN3pIHCUl8vuEs3X46xsXYeL3FUatWLY4ePcpPP/1E0aJFCQ0NZf78+Xo7vxBCCJEdBT4BNAR5BGw4dSsUZ8fwpoz3dcLcWMPJqIe8O/8QM3aG8yxJP49j1Wo1//vf/7h48SKDBg1i9uzZafuePn0qa0kLIYQwOEkAc4E8AjYsY42aQV6V2Tvai1Yu9qRoFX4KukbL2Qf580Ls6yvQETs7O3788UdKliyZtu2jjz6iWbNmhIeH6y0OIYQQ4r8kARQFlkNRc37uU4elfevgUNScW49f8L+VwQxYcZIbD57pPZ6oqCh27drFwYMHcXNzY8KECTx7pv84hBBCCEkAc4E8As5bWjjbs9fPi6HelTFSq9gbfhefuQdZeOAKSSn6mTsQoEKFCoSFhdG+fXuSk5OZMWMGLi4ubN++XW8xCCGEECAJYK6QR8B5j7mJhs/bOLFrRFPqVyzOi2Qt3+2+yLvzD3H82n29xVG+fHn++OMPtmzZQrly5bh+/Trt27enc+fO3L17V29xCCGEKNwkARSFSlV7K9b+rwFzurlRoogJl+8+5YOfj+P3eyhxTxP1FkfHjh0JCwvj888/x8jIiNOnT1OkSBG9nV8IIUThJgmgKHRUKhVdapdh32gvPqxfDpUKNp2+SYvZB1nzdzRarX5G6RYpUoSZM2cSEhLCypUr0xJArVbLqVOn9BKDEEKIwkkSwFwgfQDzh6IWJkzvXIONQxrhUsqax8+TmbD5HO/9eJQLtx7rLY7q1aunm3ty8eLF1K1bl379+hEXF6e3OIQQQhQekgDmAukDmL/ULleMPz5pzJftXChioiEk+hHtfzjM1G1hPE3U/1JuV65cAeCXX37B0dGRJUuWoNXqb7CKEEKIgk8SQCEAI42a/k0qsm+0N+/WKIVWgWVHImk5+yA7z93W6+TNs2bN4siRI9SoUYMHDx4wcOBAmjZtyrlz5/QWgxBCiIJNEkAh/qWkjRkBPWuz/OO6lC9hQeyTFwxdfZqPfjnJ9fsJeoujUaNGBAcHM3v2bIoUKcLRo0dxd3dn4cKFeotBCCFEwSUJoBCZ8Ha0Y89IT4a3qIqJRs3BS/doNTeI+fsuk5iSqpcYjI2N8fPzIyIigvfeew+tVku9evX0cm4hhBAFmySAuUAGgRQMZsYa/HyqsXtkU5pUsSUxRcucwEv4+h/iyBX9Dc4oU6YMGzZs4Pz589SpUydt+5o1a4iMjNRbHEIIIQoOSQBzgQwCKVgqvWPJyv71mN/DnXesTLkWl0DPJX8z/LcQ7sa/0FscLi4uaf+OiIjgo48+wsXFhenTp5OUlKS3OIQQQuR/kgAKkQ0qlYoObqXZN9qLjxpVQK2CP87cosXsg/x6LIpUPc0d+JKRkRFNmjThxYsXTJw4ETc3N/766y+9xiCEECL/kgRQiDdgbWbM5A6ubB3WhJplbIh/kcKkrRfovPAIZ2Me6S2OKlWqsG/fPlatWoWdnR0RERE0b96c3r17c+fOHb3FIYQQIn+SBFCIt1CjjA2bhzbm646uWJkZcTbmMR0DjjBp63keP0/WSwwqlYqePXsSERHBkCFDUKlUrFq1Cg8PDxIT9besnRBCiPxHEkAh3pJGraJ3wwrsG+1Fp1qlURT49dh1Wsw+yNbQm3qbO7BYsWIsXLiQ48ePU7t2bT799FNMTU31cm4hhBD5kySAQuSQnZUZ/h+4s2ZAfSq9U4S4p4mMWBtKr6V/c/XeU73FUa9ePU6cOIGfn1/atoMHDzJixAiePHmitziEEELkfZIA5gKZBqZwalTFll0jmvJZq2qYGqk5cuU+vv6HmPPnRV4k62fuQI1Gg7GxMQCpqakMHTqU+fPn4+TkxLp16/S6ookQQoi8SxLAXCDTwBRepkYaPmlelcBRXng7vkNSqpb5+6/Qam4QBy7e1WssGo0Gf39/qlatyu3bt/nggw9o06YNly9f1mscQggh8h5JAIXIBeVKWPDLR3VZ1LM2Ja3NiH7wjI9+OcnQ1cHEPtbf3IE+Pj6cPXuWKVOmYGpqyp9//kmNGjWYMmUKL17oLw4hhBB5iySAQuQSlUqFb41S7B3txYAmFdGoVew8F0uL2QdYcugaKalavcRhZmbGpEmTOH/+PK1atSIxMZHJkyezY8cOvZxfCCFE3iMJoBC5zNLUiC/aubDtkybULleUhKRUvtkRTvsFRzgd/VBvcVSpUoXdu3ezbt06evbsSZcuXdL2pabqp4+iEEKIvEESQCH0xKW0NRsGN2JGlxrYmBsTfvsJ7y06yvhN53j0TD9LualUKrp168aqVatQqVQAPH36lBo1ajB//nxSUlL0EocQQgjDkgRQCD1Sq1X0qFeO/aO96OpRBkWB305E02L2QTYEx7zxKN2ExBT6Lz/JBz8fY/mRSO48efN+fX/++SdXrlxhxIgRaVPJCCGEKNgkARTCAEpYmvL9+278PqghVe0suZ+QxGfrz9D95+NcuhOfrToURWHMhjPsi7jL8WsPmLwtjAYz9tHtx3+Swbvx2UsGO3bsyIIFCyhatCghISE0aNCAIUOG8PCh/h5PCyGE0C9JAIUwoHoVi7NjeFPGtnHCzFjNicgHtJ13iG93RfAs6dWPY38KusbOc7EYqVV80qwKtcsVRVHgRNQ/yWDTmX+xYP9lElNe3b9Po9Hwv//9j4iICHr37o2iKPz44484OTmxevVqXV6uEEKIPEISwFwgE0GLN2FipGaId2X2+nnR0tmeFK3Cjwev4jMniMCwO5kec+jyPb7bHQHAVx1c+ay1I5uGNubouOZ88a4zNcvYkJii5fs/L+E77xBHr8a9Ng57e3t+/fVX/vrrL5ycnLh79y6BgYE6vVYhhBB5gySAuUAmghZvo0wxC5b0rcPiPnVwKGrOzUfPGfjrKQb+eoqbj56nlbvx4Bmf/haCVoFudcrQq365tH2li5ozoGkltg5rjH/3WthamnDtXgIfLv6bkWtDuBef+No4vL29OXPmDN999x2zZs1K237v3j2ePXum24sWQghhEEaGDkAIkZ6Piz2Nq5Rg/r4rLDl0jcCwOxy+HMeIllX5sH45/rcymEfPknErY8PUjtXTRvP+m0qlopO7A82c7Ph+z0VW/X2dLaG32HHuNk4lranuYEMNBxtcShYhJZPpCE1MTBgzZky6bQMGDODs2bMsWLCAd999N7cuXwghhB5IAihEHmRhYsQ4Xye61Hbgi83nORH1gG93RfDDvsskJKVia2nCol4emBlrXlmPjbkxX3eqTlePMny59TxnYx5z7uY/P7+9PJdGQwnn+3g7lcyynrt373L69GliYmJo164dXbp0wd/fn7Jly+rwqoUQQuiLPAIWIg+rZm/FukENmNW1JsWLmJCQlIqRWkXAh7UpXdQ82/W4lS3K1mGNOfR5Mxb2rM0Q78o0qWKLjbkRz1JVDF4dwvFr97M83s7OjvDwcD777DM0Gg2bNm3C2dmZ2bNnk5ycrItLFUIIoUeSAAqRx6lUKt6vU5Z9fl6MalmNn/t4UL9Sibeqp2xxC9rWKMXYNk6sGlCfI59741JUy4tkLf2Wn+RU1IMsj7e0tGTWrFmEhITQuHFjEhIS+Oyzz/Dw8ODatWs5uUQhhBB6JgmgEPlEsSImjGhZleZO9jqr09RITT9HLU2qlOBZUiof/XKSkNcsT1ejRg2CgoJYunQpJUqUICEhgVKlSuksJiGEELkvx30Amzdvros40qhUKvbt26fTOoUQWTNWw8IetRi0OpRj1+7TZ9kJfhvYgOoONlkeo1ar6devHx06dCAmJgZz838eR6emprJlyxY6d+6MWi3fL4UQIq/KcQJ44MABVCrVGy9hlZXMRjQKIXKXuYmGJX3r0HfZCU5df0ivpX8z7wN3vKq988rjbG1tsbW1TXu9aNEiPv30Uxo3bsyiRYuoUaNGbocuhBDiLehkFHD16tWZP39+juv59NNPuXDhgg4i0p0bN27Qu3dv7t69i5GREV9++SXvv/++ocMSQueKmBrxy8d16b30BKE3HtF32QnerVmKSe1csLc2y1YdGo2GIkWKcOTIEdzd3fHz82PSpElYWlrmcvRCCCHehE4SQBsbG7y8vHRST15jZGSEv78/tWrV4u7du9SuXZu2bdtSpEgRQ4cmhM5ZmRmzekB9Zv95ieVHI9lx9jYHL95jdKtq9G5QHiPNqx/rDhkyhHbt2jFixAg2b97MrFmzWLt2LfPnz6djx45yh18IIfKIHHfSqVmzJlWrVtVFLFSpUoWaNWvqpC5dKVWqFLVq1QL+mQqjePHiPHiQ9UhJIfK7IqZGTGrvwrZPm1CrbFGeJqYwZVsYHQOOsDjoGsev3Sf+RdZTv5QtW5ZNmzaxfft2KlSowI0bN+jcuTMTJ07U41UIIYR4lRwngKGhoSxdulQXsfDLL78QEhKik7peCgoKon379pQuXRqVSsWWLVsylFm4cCEVK1bEzMwMDw8PDh06lGldp06dQqvVyuS3olBwLW3DpiGNmN65BtZmRly49YRpO8P54Ofj1Jj8J82/P8CItSEcu5r5/IHvvvsuFy5cYMKECZibm9O9e3c9X4EQQoisFPhhegkJCbi5ubFgwYJM969bt46RI0cyceJEQkJCaNq0Kb6+vkRHR6crd//+ffr06cPPP/+sj7CFyBPUahUf1i/H/s+8+byNI21cS+Lw/yegvhaXwNbQW/RYfJxR60IzXWfYwsKCadOmER0djZubW9r2H374gYMHD+rtOoQQQqSnkz6ANWrUoE+fPnz44Yc4ODjookqd8fX1xdfXN8v9c+bMoX///gwYMAAAf39/9uzZw6JFi5gxYwYAiYmJdO7cmfHjx9OoUSO9xC1EXmJracpQ7yppr+8/TeTczcfsuXCHtSej2Rxyk33hdxjTxokP65VDo07f1+/fI4XPnz+Pn58fKSkp9OnTh1mzZmFnZ6e3axFCCKGjBPDChQuMGzeO8ePH06xZM3r37k2XLl3y/Mi/pKQkgoODGTduXLrtrVq14ujRowAoisJHH31E8+bN6d279yvrS0xMJDHx/+6CxMfHA5CcnCzLZenIy3aU9tSNt21Pa1M1jSsVo3GlYrznXoqvtoVx4VY8X245z/pT0Uxt74JraetMj7Wzs6Nfv34sXryYX3/9lW3btvHNN9/Qv3//AjF3oLxHdUvaU/ekTXUrv7ajStHBBH5z5sxh9erVaf33VCoV5ubmdOrUiV69etGqVas88cGuUqnYvHkznTp1AuDWrVs4ODhw5MiRdHf2pk+fzooVK7h48SKHDx/G09Mz3eCUlStXZjq/2eTJk5kyZUqG7UuWLEl3B0SIgkarwOFYFTtuqHmRqkKFQtOSCu+W1WKWxdfMS5cu8eOPP6YtI1etWjUGDx5MpUqV9Bi5EELkTFxcHAMGDODGjRuUKVPG0OFkm04SwJciIiL49ddf+e2337h+/fo/J1CpsLOz48MPP6RXr164u7vr6nRvLKsE8OjRozRs2DCt3LRp01i5ciURERFvVP9/7wDevHkTFxcXLl26RIUKFXRxCYVecnIygYGB+Pj4YGxsbOhw8j1dt+fd+ESm77rIjnOxANhZmTLB15G21e0znQImJSWFH3/8ka+++or4+HhsbGy4du0aVlZWOY7FUOQ9qlvSnronbapbUVFRVKtWLd8lgDp5BPySk5MT06dPZ/r06Rw6dIiVK1eyceNG7ty5g7+/P/7+/jg7O6f1FzR0Q9na2qLRaIiNjU23/e7du9jbv/l6q6amppiamhIQEEBAQABJSUkAGBsby38yHZM21S1dtadDcWMCenrwweV7TNp6gci4BEb+fpaNIbZM7Vidirbp5880NjZm1KhRdO/eHT8/P+rVq0fx4sVzHEdeIO9R3ZL21D1pU93Ir22Ya89lmzZtys8//0xsbCwbN26kY8eOmJiYEBYWxvjx46lQoQItWrRgxYoVPH36NLfCeCUTExM8PDwIDAxMtz0wMDBHgz2GDRtGWFgYBw4cyGGEQuRPTau+w64RTRnZsiomRmoOXY6jtX8Q/nsv8SI5NUP50qVLs3btWkaNGpW2bd++fbRp04YrV67oM3QhhCgUcr1jnrGxMZ07d2bTpk3Exsby448/0rhxYxRF4cCBA/Tr14+SJUvm2vmfPn1KaGgooaGhAERGRhIaGpo2zYufnx9Llixh2bJlhIeHM2rUKKKjoxk8eHCuxSREYWBmrGFky2rsGelJ06q2JKVo8d97mTb+QRy6fC/TY14+JlYUBT8/P/bs2UP16tWZOnVquu4VQgghckavIzNsbGz43//+x/79+5k/fz6mpqYoisLz589z7ZynTp3C3d09re+hn58f7u7uTJo0CYDu3bvj7+/P1KlTqVWrFkFBQezcuZPy5cu/9TkDAgJwcXHB29tbF5cgRL5W0bYIv/arx4IP3bGzMiXq/jN6Lz3BJ2tOc+fJi0yPUalUbNiwAR8fHxITE/nqq6+oUaMGe/fu1XP0QghRMOk1ATx+/DiffPIJpUuXZvjw4bx48c+Hf2YjanXF29sbRVEy/CxfvjytzNChQ4mKiiIxMZHg4GA8PT1zdE55BCxEeiqVinY1S7NvtBcfNaqAWgXbz96mxeyD/HIkklRtxrFoVatWZc+ePaxdu5ZSpUpx+fJlfHx86NGjB7dv3zbAVQghRMGR6wng5cuX+eqrr6hatSqNGzdm0aJFxMXFYW9vj5+fHyEhIWmPZ4UQBZuVmTGTO7jyxydNcEu3zvBhztx4lKG8SqWie/fuhIeHM3z4cNRqNWvXruXw4cP6D14IIQoQnY4CfunevXv89ttvrF69mlOnTgH/9OmxsLCgU6dO9OnTh5YtW+aJuQFzw39HAQsh0qvu8M86w7+diOa73RGcv/mETguP0LN+Oca0dsLGPP2oOhsbG+bNm0ffvn1Zs2YNXbt2Tdv35MkTrK0zn3RaCCFE5nSWAD579ozNmzezevVq9u7dS2pqKoqioFar01YHee+99yhSpMjrK8vnhg0bxrBhw4iJiaFs2bKGDkeIPEmjVtGrQXlau5Zkxs5wNoXcZNXxaHafj2Xiu850quWQYe7A2rVrU7t27bTX9+/fx9XVlffee49p06ZRtGhRPV+FEELkTzq5Bde7d2/s7e3p06cPu3fvJiUlBVdXV2bOnEl0dDSBgYH06dOnUCR/Qog3846VKXO61+K3gQ2o/E4R4p4mMWrdGT5c/DdX7r56iqitW7dy584dFi5ciKOjI6tWrUKHc9sLIUSBpZMEcPXq1SQkJGBvb8+oUaM4ffo0Z8+eZcyYMZQuXVoXp8hXZBSwEG+uYeUS7BrhyZjWjpgaqTl27T6+84L4fs/FTOcOBOjXrx/79u3D0dGRu3fv0rt3b1q2bPnGq/gIIURho5MEsEePHuzatYuYmBhmz55NrVq1dFFtviWjgIV4OyZGaoY1q8JePy+aO9mRnKqw4K8r+Mw9yF8RdzM9pnnz5pw5c4ZvvvkGMzMz9u/fT82aNZk0aZLcDRRCiCzo7A5g69atC+ygDiGEfpUtbsHSvnX4qbcHpWzMuPHgOR8vP8nglcHcepRx3lBTU1MmTpzIhQsXaNu2LcnJydy+fTvT9YeFEELk0ijgf7tx4waHDh3i5s2bPH/+PG0CZvhnQWpFUTAxMcntMIQQ+YxKpaK1a0maVLFl3r7LLD0cye4LsQRdvseoltX4qHEFjDXpv3RWqlSJ7du3s2XLlnTzeUZHR6NWqw2+/rgQQuQVuXbLLi4uju7du1OxYkV69+7NuHHjmDJlSroyH3/8Mebm5gQHB+dWGAYhfQCF0J0ipkZMaOvM9k+b4FG+GM+SUpm2M5z2Pxwm+PqDDOVVKhWdO3emRIkSwD9TUA0aNAhnZ2fmzJlDSkqKvi9BCCHynFxJAOPj4/Hy8mL9+vU4ODjw0Ucf4eDgkKHcgAEDUBSFTZs25UYYBiN9AIXQPedS1qwf1JCZ79WgqIUxEbHxvLfoGGM3nOVhQtZzbj558oTHjx/z9OlTRo8ejYeHB8eOHdNj5EIIkffkSgL43XffER4eznvvvUdERARLly7NdG1dT09PzM3N+euvv3IjDCFEAaNWq+hetxz7R3vTrc4/j3PXnbpB89kH+P3kDbSZLClnY2PD4cOHWbx4McWLF+fs2bM0atSIgQMHcv/+fX1fghBC5Am5kgBu2LABU1NTlixZgrm5edYnV6upUqUK0dHRuRGGEKKAKl7EhO+6urF+cEMc7a14+CyZzzeepfvPx4iIfZKhvFqtZsCAAURERPDxxx8DsGTJEpycnGQpSiFEoZQrCWBUVBTVqlXDxsbmtWUtLCyIi4vLjTCEEAVc3QrF2T68CRPaOmFhouFk1EPenX+YGTvDSUjM2NfvnXfeYdmyZQQFBeHq6kqxYsVwdnY2QORCCGFYuZIAmpmZER8fn62yt2/fzlaimJ/IIBAh9MdYo+Z/npUJ9POitas9qVqFn4Ku4TPnIHsuxGY6F2DTpk0JCQlh9+7dmJqaApCSksLs2bNJSEjQ9yUIIYTe5UoC6Orqyo0bN7h+/fory4WGhhIdHY2Hh0duhGEwMghECP1zKGrOT73rsLRvHcoUM+fW4xcMWhnMgBWnuPHgWYbyxsbGVKpUKe31/Pnz+eyzz3BxcWHr1q36DF0IIfQuVxLAXr16kZqayv/+9z+ePcv4wQvw8OFD+vfvj0qlok+fPrkRhhCiEGrhbE/gKC+GelfGWKNiX8RdfOYeJOCvKySlaLM8zsnJifLlyxMdHU2nTp3o0KHDa7/ECiFEfpUrCeDAgQNp2rQpgYGB1KhRg3HjxnHnzh0Ali1bhp+fH46OjoSEhODj48MHH3yQG2EIIQopcxMNn7dxYteIptSvWJwXyVpm7blI2/mHOHY185G/bdu25cKFC4wbNw4jIyO2bduGs7MzM2fOJCkp62lmhBAiP8qVBFCj0bB9+3a6d+9OZGQks2bN4sqVKyiKwsCBA/H39ycuLo5u3bqxcePG3AhBCCGoYmfF2v81YE43N0oUMeHK3af0WHwcv3WhxD1NzFC+SJEizJgxgzNnzuDp6cnz588ZN24cgwcPNkD0QgiRe3JtKTgrKyt+++03JkyYwObNmzl37hyPHz/G0tISFxcXOnfuXOD6/gkh8h6VSkWX2mVo4WTPzD0R/HYimk0hN9kbfoexvk70qFsOtTr9msEuLi4cOHCAlStXMn78ePz8/AwUvRBC5I5cXwu4Ro0a1KhRI7dPI4QQr2RjYcz0zjV436MMEzefJ+z2EyZuPs/6UzFM61wd19LpZyN42T/5gw8+SLde+ZQpUyhVqhQDBgxArc611TSFECJXyadXLpBpYITIu9zLFeOPTxozqZ0LlqZGhN54RPsfDjNl2wXiXyRnKP/v5O/8+fNMnTqVQYMG0aRJE86cOaPP0IUQQmckAcwFMg2MEHmbkUZNvyYV2evnxbs1S6FV4JcjUbScc5AdZ29nOncg/DNSePbs2VhaWnLs2DE8PDzw8/PL9rynQgiRV+gkAdRoNDn6MTLK9SfRQgiRQUkbMwI+rM2KfvUoX8KCO08SGbbmNH1/Ocn1+xknhDYyMmLkyJFERETQtWtXUlNTmTt3Ls7OzmzYsCHLxFEIIfIanSSAiqLk6EerzXpuLiGEyG1e1d5hz0hPhreoiolGTdCle/jMDWLe3sskpqRmKO/g4MD69evZtWsXlSpV4ubNm/Tv358HDx4YIHohhHhzOrv1plKpcHR0pHfv3nTp0gVLS0tdVS2EELnOzFiDn081OtUqzaStFzh8JY65ey+xNfQmX3eqTuMqthmOadOmDefPn+fbb7+ldOnSlChRguTkf/oRpqSkYGxsrO/LEEKIbNHJHcC5c+fi4eFBREQEX3zxBR4eHowbN44LFy5QqlQpHBwcXvsjhBB5QaV3LFnZvx7ze7jzjpUp1+IS6Lnkb4b/FsLdJy8ylDc3N2fKlCkMGjQobVtwcDC1atVi//79+gxdCCGyTScJ4IgRIzhx4gQRERGMHz8eOzs7Vq9eja+vLw4ODowePZrTp0/r4lRCCJHrVCoVHdxKs2+0Fx81qoBaBX+cuUWL2QdZcTSKVO2r+/pt2LCBS5cu0aJFC3r27ElsbKyeIhdCiOzR6SjgatWq8c0333Dt2jWCgoLo378/iYmJzJ07l7p16+Lq6srMmTO5ceOGLk8rhBC5wtrMmMkdXNk6rAluZWyIT0zhqz8u0DHgMGduPMryuC+++IKhQ4eiVqtZs2YNTk5OBAQEkJqasT+hEEIYQq5NA9OkSRN+/vlnYmNjWb9+Pe3bt+fq1atMmDCBihUr8sknn+TWqYUQQqdqlLFh09DGfN3RFSszI87ffEKnhUf4cst5Hj/POHdgkSJF8Pf358SJE9SpU4fHjx/zySef0KBBA3kaIoTIE3J9HkATExPee+89tmzZQmBgIGXLlkWr1XLp0qXcPrXByETQQhQ8GrWK3g0rsH+0N53dHVAUWHn8Oi1mH2RLyM1Mp4Dx8PDg+PHjBAQEYG1tzalTp+QJiBAiT8j1BPDOnTv4+/vj4eGBt7c30dHRWFpa0qRJk9w+tcHIRNBCFFzvWJkyt3st1gyoT6V3ihD3NJGR60LpueRvrt57mqG8RqNh6NChXLx4kdmzZ9OxY8e0fdeuXZO5A4UQBpErMzA/f/6czZs3s3LlSvbt20dKSgoajYZWrVrRu3dvOnfujLm5eW6cWggh9KJRFVt2jWjKkkORzN93maNX7+Prf4gBTSpQMZOufiVLlsTPzy/t9d27d6lTpw4eHh4EBARQrVo1PUYvhCjsdJYAKorC3r17WbVqFZs3byYhIQFFUXB3d6d379706NEDe3t7XZ1OCCEMztRIw7BmVWhfszRf/XGevy7eY+HBa5Qw1VDU8R4+rqWzPPbvv//m+fPn7N27lxo1ajB27FjGjx8vX46FEHqhk0fAY8aMoUyZMrRp04aVK1dSrFgxxo4dy4ULFwgODmbkyJGS/AkhCqxyJSxY9lFdfuxVm5LWptxPVDFwZQhDVgVz+/HzTI9p374958+fp02bNiQlJfH1119To0YNdu/erefohRCFkU7uAM6ePTttJZBevXrh5eWFSqXi4cOHHD16NFt1NGrUSBehCCGEQahUKtpUL0X9CkUZtXQvh+5o2HU+lqBL9xjlU42PGlXASJP+O3flypXZuXMnGzduZMSIEVy9ehVfX1+6d+/OmjVrUKtzvZu2EKKQ0mkfwIsXL/Lll1++8XEqlYqUlBRdhiKEEAZhaWpE5wpaRndpzFfbwjkd/YhvdoSzITiGaZ1r4FG+WLryKpWKrl270rp1a7766ivmzZtHiRIlJPkTQuQqnSSA5cqVQ6VS6aIqIYQoEJxKWrFhcCN+P3WDb3dHEBEbz3uLjvJB3bKMbeNEsSIm6cpbWVkxZ84c+vTpQ4UKFdK2X758mfv379OgQQM9X4EQoiDTSQIYFRWli2qEEKJAUatVfFCvHD4u9ny7K4L1wTGsPXmDP8PuMN7Xia4eZTJ8ea5Vq1bavxVFYfDgwfz1118MHDiQGTNmULx4cT1fhRCiIJJnDNnQuXNnihUrRteuXQ0dihAiHyphacqs9934fVBDqtlb8iAhiTEbztL9p+NcuhOf5XEvXrygbNmyKIrCzz//jJOTE7/++qvMHSiEyDFJALNh+PDh/Prrr4YOQwiRz9WrWJwdw5sy3tcJc2MNJ6Ie0HbeIWbsCudZUsZ+0Obm5ixfvpyDBw/i4uLCvXv36Nu3L82aNSMsLMwAVyCEKCgkAcyGZs2aYWVlZegwhBAFgLFGzSCvyuwd7UUrF3tStAo/HbyGz5wgAsPuZHqMp6cnISEhfPvtt5ibm3Pw4EHc3Nw4ePCgnqMXQhQUOU4Ap06dyvLly3UQCixfvpypU6fqpK6XgoKCaN++PaVLl0alUrFly5YMZRYuXEjFihUxMzPDw8ODQ4cO6TQGIYT4L4ei5vzcpw5L+tTBoag5Nx89Z+Cvpxiw4hQxD59lKG9iYsLYsWMJDw+nQ4cOVKtWjYYNGxogciFEQZDjBHDy5MksW7ZMF7GwdOlSpkyZopO6XkpISMDNzY0FCxZkun/dunWMHDmSiRMnEhISQtOmTfH19SU6OlqncQghRGZautgT6OfJEO/KGKlV7A2/g8+cIBYduEpyqjZD+fLly7N161YOHz6Mick/I4mTkpIYMWKEfG4JIbItV9YCzkt8fX3x9fXNcv+cOXPo378/AwYMAMDf3589e/awaNEiZsyY8UbnSkxMJDExMe11fPw/nbuTk5NJTk5+i+jFf71sR2lP3ZD21L23aVNjFfi1qEz7GvZ8tS2ck1EPmbk7go3BN5jSwZl6FTKO/LW0tEw7x/fff8/8+fNZsmQJX3zxBSNGjMDY2Fg3F2Rg8h7VPWlT3cqv7aiTBPDUqVNUqlQpx/XExsbqIJrsS0pKIjg4mHHjxqXb3qpVq2yvYPJvM2bMyPQOZlBQkHTY1rHAwEBDh1CgSHvq3tu2ac+SUM1IxZYoNVfuJdBz6SnqvaOlY3ktllnkdJaWlri4uBAWFsaECRP48ccfGTRoEK6urjm4grxF3qO6J22qG3FxcYYO4a2olBzOJ6Dr2epVKhWpqak6rfPfdW/evJlOnToBcOvWLRwcHDhy5Ei6peimT5/OihUruHjxIgCtW7fm9OnTJCQkULx4cTZv3kzdunUz1P/fO4A3b97ExcWFS5cupZvYVby95ORkAgMD8fHxKTB3OAxJ2lP3dNWmj54l833gZdadigHAxtyIMa2q8X5tB9TqjBPvK4rCypUrGTduXNofpL59+zJjxgxsbW3fOg5Dk/eo7kmb6lZUVBTVqlXjxo0blClTxtDhZFuO7wBGRkbqIg6D+u9ErIqipNu2Z8+ebNVjamqKqalp2usnT54AYGxsLP/JdEzaVLekPXUvp236jo0xM7u60b1eOSZuPk/47Sd8sTWMjSG3+KZTdVxL22Q4pn///nTq1Inx48ezePFiVqxYQXx8PBs3bszJpeQJ8h7VPWlT3civbZjjBLB8+fK6iMMgbG1t0Wg0GR493717F3t7+7euNyAggICAAJKSknIaohCikKtdrhjbPmnMimPXmfPnRUKiH9H+h8N81Kgifq2qYWma/mO8RIkS/Pzzz3z00UeMHDmSadOmpe3775dbIUThVajnATQxMcHDwyNDP4jAwMB0j4Tf1LBhwwgLC+PAgQM5jFAIIcBIo6Z/k4rsG+1N2xol0Sqw7EgkLWYfYOe525muDNKoUSP+/vtvnJyc0rb5+fkxevTotAFqQojCq8AngE+fPiU0NJTQ0FDgn0fWoaGhadMl+Pn5sWTJEpYtW0Z4eDijRo0iOjqawYMHGzBqIYTIqKSNGQt7erD847qUK27BnSeJDF19mo9+Ocn1+wkZyv/7bt/Vq1eZP38+c+bMwdnZmY0bN8qSckIUYgU+ATx16hTu7u64u7sD/yR87u7uTJo0CYDu3bvj7+/P1KlTqVWrFkFBQezcuTNHj7YDAgJwcXHB29tbF5cghBDpeDva8ecoT4Y3r4KJRs3BS/doNTeI+fsuk5iS+SC6ypUrs337dipWrMjNmzfp2rUr7dq149q1a3qOXgiRFxT4BNDb2xtFUTL8/Hv1kqFDhxIVFUViYiLBwcF4enrm6JzyCFgIkdvMjDX4tXJk18imNK5SgsQULXMCL+Hrf4gjVzKflsLX15cLFy7wxRdfYGxszM6dO3F1dWXatGnpZjAQQhR8BT4BFEKIgqzyO5as6l+feR/U4h0rU67FJdBzyd+MWBvC3fgXGcqbm5vz9ddfc/bsWZo1a8aLFy+YPXs2jx8/NkD0QghD0UkCWLJkSUaNGqWLqgoEeQQshNAnlUpFx1oO7BvtRd+G5VGpYGvoLVrMPsivx6JI1Wbs6+fk5MS+fftYtWoVP/zwA3Z2dmn7Hj58qM/whRAGoJME8O7duwQHB+uiqgJBHgELIQzB2syYKR2rs3VYY2o42BD/IoVJWy/QeeERzsY8ylBepVLRs2dPevbsmbbtjz/+oGLFiixcuDDXJuUXQhiePAIWQogCpmaZomwZ1pipHV2xMjXibMxjOgYcYdLW8zx58ep1S5cvX87jx48ZNmwYDRs2lC/3QhRQkgDmAnkELIQwNI1aRZ+GFdj3mRcda5VGUeDXY9dpMfsgW0NvZjkFzPr165k/fz7W1tacPHmSevXqMXz4cOkjKEQBIwlgLpBHwEKIvMLOyox5H7izekB9KtkW4V58IiPWhtJr6d9cu/c0Q3mNRsOnn35KREQEH3zwAVqtlh9++AEnJye2b99ugCsQQuQGSQCFEKIQaFzFll0jm+LnUw0TIzVHrtynjf8h5vx5kRfJGfv6lSpVit9++40///yTqlWrEhsbi1otfzKEKCh09r/51KlTNGvWjJEjR/LLL78QHBws80oJIUQeYmqkYXiLqgSO8sSr2jskpWqZv/8Krf2DOHDxbqbH+Pj4cPbsWdauXUvbtm3Ttp84cYIXLzJOMyOEyB+MXl8kexITEzl48CBBQUFp2zQaDVWrVsXNzY2aNWvi5uaGm5sbpUuX1tVp86SAgAACAgJISkoydChCCJFB+RJFWP5xXXadj2XKtgtcv/+Mj345ybs1SvFlOxdK2pilK29mZkb37t3TXsfGxuLj44OdnR0BAQG0atVK35cghMghnSWAjo6ODBw4kDNnznDmzBnCw8NJSkoiPDyc8PBw1q1bl1a2ePHi6RLCmjVrpi3VVhAMGzaMYcOGERMTQ9myZQ0djhBCZKBSqWhboxSe1d5hbuAllh+NYse52xy4eBe/Vo70bVgeI03mD4kiIyOxtLTkypUrtG7dmm7dujF37twC/+VeiIJEZwmgra1tusmgU1JSiIiISEsIz5w5w9mzZ7lz5w7379/nr7/+ShskoVKpSElJ0VUoQgghssnS1Igv27nwXu0yTNxyjpDoR3y9PYyNwTF807k6tcsVy3BMw4YNCQ8PZ9KkSfzwww/8/vvv7Nq1i6+//pphw4ZhZKSzPy1CiFySaz16jYyMqF69Oj179uS7775jz5493L59m9jYWPbs2cN3331Hz549cXV1RaPR5FYYQgghssGltDUbBzdiRpca2JgbE3b7Ce8tOsr4Ted49CxjdxZra2v8/f05deoU9evXJz4+npEjR9KwYUOSk18916AQwvD0/jXNzs4OHx8ffHx80rbJh4UQQhieWq2iR71ytHKxZ/rOCDaejuG3E9H8eSGWCW2d6VLbAZVKle4Yd3d3jh49yuLFixk3bhxNmjTB2NjYQFcghMiuPDGmv6B9WMhE0EKI/KyEpSmzu7mx7n8NqGpnyf2EJEavP8MHPx/n8p34DOXVajWDBg3i4sWLTJ06NW17WFgYq1atynLSaSGE4egkAfTw8MDMzOz1BQsJmQhaCFEQ1K9Ugh3DmzK2jRNmxmr+jnyA77xDzNwdwfOkjHMH2tnZYWVlBYCiKAwZMoTevXvTvHlzwsPD9R2+EOIVdJIAnjx5kj///FMXVQkhhMhDTIzUDPGuzF4/L1o625OiVVh04Cot5xxkb9idLI9LTU3F19cXc3NzDhw4gJubGxMnTuTZs2d6jF4IkZU88QhYCCFE3lammAVL+tbh594eOBQ15+aj5wz49RQDfz3FzUfPM5Q3MjJi3LhxhIWF0a5dO5KTk5k+fTqurq7s2LHDAFcghPg3SQCFEEJkWyvXkgT6eTLIqxJGahWBYXdoOfsgPx68SnKqNkP5ChUq8Mcff7B582bKli1LVFQU7dq1Y/PmzQaIXgjxkiSAQggh3oiFiRHjfZ3ZMbwp9SoU53lyKt/uiqDd/MOcjHqQobxKpaJTp06EhYUxZswYateuTbt27QwQuRDiJUkAhRBCvBXHklasG9SAWV1rUryICRfvxPP+j8cYs/4MDxIyzh1oaWnJd999x/Hjx9Nmf0hMTOS9997jyJEj+g5fiEJNEsBcINPACCEKC5VKxft1yrLPz4se9f5Z+nJ9cAzNZx9g7YlotNqMU8D8e+ovf39/Nm3aRJMmTRgwYAD379/XW+xCFGaSAOYCmQZGCFHYFCtiwowuNdk4pBFOJa149CyZcZvO8f5Pxwi//STL4wYMGED//v0BWLp0KY6OjixbtgytNmN/QiGE7kgCKIQQQmc8yhdj+6dN+OJdZ4qYaAi+/pB2Pxxm2o4wEhIzrvleokQJlixZwuHDh6lRowb379+nf//+eHp6cu7cOQNcgRCFgySAQgghdMpIo2ZA00rsHe2Fb/WSpGoVFh+KpOWcg+w+fzvTlUEaN25McHAw33//PUWKFOHIkSOMGzfOANELUThIAiiEECJXlLIxZ1EvD375uC5li5tz+/ELBq86Tb/lJ7nxIOOE0MbGxowePZrw8HC6d+/OvHnz0vYlJSXJknJC6JAkgEIIIXJVM0c7Akd58WnzKhhrVPx18R4t5xwk4K8rJKVk7OtXtmxZ1q5dS5UqVdK2jRw5kvbt2xMZGanP0IUosCQBFEIIkevMjDWMbuXIrhGeNKxUgsQULbP2XMR3XhBHr8a98tgHDx6wcuVKduzYgaurKzNmzCApKeM0M0KI7JMEUAghhN5UsbNkzcD6+Hevha2lCVfvJfDh4r8ZtS6Ue/GJmR5TvHhxTpw4gbe3N8+fP2fChAnUqlVLZloQIgckARRCCKFXKpWKTu4O7BvtTe8G5VGpYHPITZrPPsDK49dJzWTuQGdnZ/bv38/KlSuxs7MjPDycZs2a0adPH5k7UIi3IAlgLpCJoIUQ4vVszI35ulN1tgxtTHUHa+JfpPDllvN0WXiE8zcfZyivUqno1asXERERDBkyBJVKxc6dOw0QuRD5nySAuUAmghZCiOxzK1uUrcOaMLm9C1amRpyJeUyHBYeZ/McF4l8kZyhfrFgxFi5cyPHjx1m2bBklSpQAQFEULl++rO/whciXJAEUQghhcBq1io8aV2TfaC/au5VGq8Dyo1G0mX+U03GqTKeAqVevHh06dEh7vWnTJpycnBg5ciRPnmS9+ogQQhJAIYQQeYidtRk/9HBnZf96VLQtwt34RFZc1vDRimAi4xJeeezhw4fRarXMmzcPZ2dnfv/9d5k7UIgsSAIohBAiz2la9R12jWjK8OaVMVIpHL36gNZzg5gTeIkXyamZHjN37lz27NlDlSpVuHXrFt27d8fX15crV67oOXoh8j5JAIUQQuRJZsYaPm1WmXFuqTStUoKkVC3z912mjX8QQZfuZXpMq1atOHfuHJMnT8bExIQ9e/ZQvXp1fvrpJz1HL0TeJgmgEEKIPO0dc1japzYBH9bG3tqUqPvP6LPsBMPWnObOkxcZypuZmfHVV19x/vx5fHx8SExMpHLlygaIXIi8SxJAIYQQeZ5KpeLdmqXY6+fFx40roFbBjrO3aTH7IMsOR5KSmnFJuapVq7Jnzx6OHDlCy5Yt07bv2rWL27dv6zN8IfIcSQCFEELkG1ZmxnzV3pU/PmlCrbJFeZqYwtTtYXQMOEJI9MMM5VUqFY0aNUp7HRMTQ7du3XB0dOSHH34gNTXz/oRCFHSSAL7G9u3bcXR0pGrVqixZssTQ4QghhACqO9iwaUgjpnWujrWZERduPaHLoqNM3HyOx88yzh34UkJCAs7OzsTHxzN8+HDq1avHyZMn9Ri5EHmDJICvkJKSgp+fH/v37+f06dPMnDmTBw8eGDosIYQQgFqtomf98uz/zJsutR1QFFj9dzQt5hxg0+mYTKeAcXR05NixYyxcuBAbGxtOnz5N/fr1GTp0KI8ePdL/RQhhIJIAvsKJEydwdXXFwcEBKysr2rZty549ewwdlhBCiH+xtTRlTrdarP1fA6rYWRL3NAm/38/QY/FxrtyNz1Beo9EwZMgQLl68SK9evVAUhUWLFlG9enWePXtmgCsQQv8KdAIYFBRE+/btKV26NCqVii1btmQos3DhQipWrIiZmRkeHh4cOnQobd+tW7dwcHBIe12mTBlu3rypj9CFEEK8oQaVSrBzeFM+b+OImbGa49ce4DvvEN/tjuB5Usa+fvb29qxcuZL9+/fj6OjIhx9+iIWFhQEiF0L/CnQCmJCQgJubGwsWLMh0/7p16xg5ciQTJ04kJCSEpk2b4uvrS3R0NECmjw9UKlWuxiyEEOLtmRipGepdhcBRXrR0tiM5VWHhgav4zD3IvvA7mR7TrFkzzp49y5QpU9K2nTlzhi+++ILnz5/rK3Qh9MrI0AHkJl9fX3x9fbPcP2fOHPr378+AAQMA8Pf3Z8+ePSxatIgZM2bg4OCQ7o5fTEwM9evXz7K+xMREEhMT017Hx//z6CE5OZnk5Kw7JYvse9mO0p66Ie2pe9KmuvW27VnSypiFPdzYG36Pr3dGEPPwOf1XnMLH2Y4v2jpSuqh5uvIqlQojIyOSk5PRarUMHjyY48ePs2bNGvz9/V/5tyS/kfeobuXXdlQphWShRJVKxebNm+nUqRMASUlJWFhYsH79ejp37pxWbsSIEYSGhnLw4EFSUlJwdnbmwIEDWFtbU7t2bY4fP06JEiUyPcfkyZPTfYN8acmSJdja2ubKdQkhhHi1xFTYHaPmwC0VWlSYqBV8y2rxKqmgyeQ5mKIo/P333yxevJj79+8D0KBBAwYMGCCf5SKDuLg4BgwYwI0bNyhTpoyhw8m2An0H8FXi4uJITU3F3t4+3XZ7e3tiY2MBMDIyYvbs2TRr1gytVsvnn3+eZfIHMH78ePz8/NJe37x5ExcXFzw9PalQoUKuXEdhk5ycTGBgID4+PhgbGxs6nHxP2lP3pE11S1ft2Rm4GBvPV9vCCY5+xNbrGiJeWDKlvTMe5YtlKP/uu+/y+eef88033zBv3jyOHz/OuXPnmDRpEp988km+/t3Ke1S3oqKiDB3CWym0CeBL/+3TpyhKum0dOnSgQ4cO2arL1NQUU1PTtNdPnjwBwNjYWP6T6Zi0qW5Je+qetKlu6aI9q5ctzvrBjdgQHMOMXeFcvPOUD5acpFudMozzdaZ4EZN05YsVK8bs2bPp27cvQ4YM4ejRo4wdOxZ7e3v69u2bo1jyAnmP6kZ+bcMCPQjkVWxtbdFoNGl3+166e/duhruCbyogIAAXFxe8vb1zVI8QQgjdUqtVdKtbln2jvelepywAv5+KocXsA6w7GY1Wm7FXVM2aNTl06BBLly6lVatW9OrVK21fIelFJQqgQpsAmpiY4OHhQWBgYLrtgYGB6ZYNehvDhg0jLCyMAwcO5KgeIYQQuaN4ERNmdq3JhsENcSppxcNnyYzdeI5uPx0jIvZJhvJqtZp+/fqxe/duNBoNAM+fP6dRo0YsX75cEkGR7xToBPDp06eEhoYSGhoKQGRkJKGhoWnTvPj5+bFkyRKWLVtGeHg4o0aNIjo6msGDB+fovHIHUAgh8oc6FYqz7dMmTGzrjIWJhlPXH/Lu/MNM3xlOQmJKhvL/7iL0008/cfz4cT7++GO8vLy4cOGCPkMXIkcKdAJ46tQp3N3dcXd3B/5J+Nzd3Zk0aRIA3bt3x9/fn6lTp1KrVi2CgoLYuXMn5cuXz9F55Q6gEELkH8YaNQM9K7HXz4vWrvakahV+DrqGz5yD7D4fm+XdvWHDhvHdd99hYWHBoUOHqFWrFmPHjiUhIUHPVyDEmyvQCaC3tzeKomT4Wb58eVqZoUOHEhUVRWJiIsHBwXh6ehouYCGEEAZTuqg5P/Wuw7KP6lCmmDm3Hr9g8Kpg+q84xY0HGZeIMzY2ZsyYMYSHh9OpUydSUlL47rvvcHFxYevWrQa4AiGyr0AngIYij4CFECL/au5kT+AoL4Y1q4yxRsX+iLv4zD1IwF9XSErRZihfrlw5Nm/ezLZt2yhfvjzR0dF89d18xm08Q8xDWVtY5E2SAOYCeQQshBD5m7mJhjGtndg1oikNKhXnRbKWWXsu0nb+IY5dvZ/pMe3atSP07HnqdxlAXM2erD0ZQ8s5B5mzI5Snz17o+QqEeDVJAIUQQogsVLGz4reBDZjTzY0SRUy4cvcpPRYfx29dKHFPE9OVffIimWG/nye2aidMi5WkuoM1L5K1TBo3hpKVnFn02x8GugohMpIEUAghhHgFlUpFl9pl2D/am571y6FSwaaQmzT//gCr/76OVqtw89Fzui46ypEr97Ew0bCkbx22fdKEKa3LkRh5ioQ7UQz9sCOuXu2JiLxh6EsSQhLA3CB9AIUQouCxsTBmWucabBrSCNfS1jx5kcLEzefpvOgonQOOcOnOU+ysTPl9UEOaOdqhUqno26wGlyLCcW/1PqAiLGg71V1cGDD+W1JSUg19SaIQkwQwF0gfQCGEKLjcyxVj67DGfNXeBUtTI87ceMTd+EQc7a3YPKwx1R1s0pWvWKYkp/f8zvLNu7FyqErqi6cs/XY8dtXc2HPsjIGuQhR2kgAKIYQQb8hIo+bjxhXZN9qLbnXK0KW2A+uHNMShqHmWx/Tt1Iq7V8/T/dMvUJuY8/jOTQatv8jX28N4msmk00LkJiNDByCEEELkV/bWZnzX1S3b5c1MTVg7/2vGDvmIqWv+IiS5CEsPR7LtzE062z9ibL/3UKvl3ozIffIuywXSB1AIIcSruDtXZvPXA1j+cV3Kl7Ag8u9AJgzsRlm3JgSdOmfo8EQhIAlgLpA+gEIIIbLD29GOPSM9aexghEpjxK3zx/BuWId3Px7JkwSZRFrkHkkAhRBCCAMyM9awZdF0Ag+foKRzXZSUJHYun0fJik7M+3WTocMTBZQkgEIIIUQe0KKBOzfPH2f0twsxtizO83s3GNn3Pep1HsDdeFlJROiWJIBCCCFEHqFWq/l+7BCuXrlI3bY9QKUm2rwyLb4/yIqjUaRqFUOHKAoISQBzgQwCEUIIkRNl7W05sWMNu46EUK9RU+ITU/jqjwvU+egrftvxl6HDEwWAJIC5QAaBCCGE0IU2DWuyeWhjvu7oiumL+5xZ+x0ftmtB3Xd7cP32PUOHJ/IxSQCFEEKIPEyjVtG7YQU2DfemWr3mgMKpnWupUs0RvxkL0Gq1hg5R5EOSAAohhBD5gGulckQc3sm8FRsxf6csKU8fMnfCp5R2rUfgsdOGDk/kM5IACiGEEPnI8D5diI2M4N2PR6IyMuFORDBtvJswbdNJXiSnGjo8kU9IAiiEEELkM9ZFLNi+bC5Bx0/jUKMhlh4dWHziLq3mBvHXxbuGDk/kA5IA5gIZBSyEEEIfmni4Eh16mNUBsyhpbUb0g2d8OOM3qjRoRUj4VUOHJ/IwSQBzgYwCFkIIoS9qtZp27mXZO9qL/o0r8HDvj1z9O5A6tWrQ/dMveJGYZOgQRR4kCaAQQghRAFiaGvFle1fW/LKE4hWro016zu8LpmFXyZUVW/40dHgij5EEUAghhChAuvg05s6lUAaM/xaNmSXxt67wUec2uLd6n8iYWEOHJ/IISQCFEEKIAsbISMPi6WO5EBaOq3cHQCE0cAPen3zHppCbKLKiXKEnCaAQQghRQDlWLMP5v7by49ptlKrTGhybMXbTBX64oOFC9H1DhycMSBJAIYQQooAb1L0d14/vZHxbF8yN1Vy+n0i9uh54d/sfcY+eGDo8YQCSAAohhBCFgLFGzWCvyuwa3pjiMYdIfniLg+sXU6ZiNaYGrDR0eELPJAEUQgghChGHouZM6dmMr+Ytw6SoHYmP7vDVJ32o4OHNiXOXDB2e0BNJAIUQQohCaOKQXsRcu4TX+wNAreH66YM08KhJl8FjSUqRJeUKOkkAc4GsBCKEECI/eKeYDQd+X8z2/UexreKGkpzInr8O0+6Hw5yIfGDo8EQukgQwF8hKIEIIIfKTd73qcefiaYZ+NZuK7Ydy6c5Tuv10jKFLD3AxMsbQ4YlcIAmgEEIIIVCr1QRM9uPw1PfpUa8cAL/OmYKrqwv/mziTFHksXKBIAiiEEEKINEUtTJjRpQar+rqhfhRD6vN4Fk8fh321WmzZd9TQ4QkdkQRQCCGEEBk0cS7D3WsX6PbJRNQm5jyIPE9nn6Y07vwRt+MeGjo8kUOSAAohhBAiU2amJqz74RtOhJyhUr0WoGg5umUF5StXY8Hvf6LImnL5liSAQgghhHglD5eqXP17LzN+XoNZ8VJotVq+O/aYfstPEn3/maHDE29BEkAhhBBCZMu4gT24FXmJkbN+wczCkr8u3qPlnAP0+nwmTxIkEcxPJAEUQgghRLYVs7bk+8Ed2DWyKY0ql+DBmb2snjWOUhWd+GHVZkOHJ7JJEsBs6Ny5M8WKFaNr166GDkUIIYTIEyq/Y8nqAfUZ0MwZI8tiPLt3g+G9u+DUpC0XrkYbOjzxGpIAZsPw4cP59ddfDR2GEEIIkaeoVCq+HT2QK5cuUsf3A0DFxSO7qOnqQt8x35CUnGLoEEUWJAHMhmbNmmFlZWXoMIQQQog8qXypdzi58zdWbduLTVlHtIkJ/Pr9l1Ru0p7zNx8bOjyRiXyfAAYFBdG+fXtKly6NSqViy5YtGcosXLiQihUrYmZmhoeHB4cOHdJ/oEIIIUQB17Ndc+5ePU+vUZNRmxYhuWpzOiw4zOQ/LvDkRbKhwxP/ku8TwISEBNzc3FiwYEGm+9etW8fIkSOZOHEiISEhNG3aFF9fX6Kj/69/goeHB9WrV8/wc+vWLX1dhhBCCFEgmBgbsXLOV1y+Gkn3di3RKrD8aBQ13vfjs5mL0Gq1hg5RAEaGDiCnfH198fX1zXL/nDlz6N+/PwMGDADA39+fPXv2sGjRImbMmAFAcHCwTmJJTEwkMTEx7XV8fDwAycnJJCfLNx9deNmO0p66Ie2pe9KmuiXtqXv6atOydkX5/r2idK5VinEr9nNi98/M3p7EqhW/sHLJIrzr1szV8+tLfn1v5vsE8FWSkpIIDg5m3Lhx6ba3atWKo0d1v57hjBkzmDJlSobtQUFBhIWF6fx8hVlgYKChQyhQpD11T9pUt6Q9dU+fbTrS3YQ5rbtyavd67oSfpJVnA2r7dGX0R10oYmaitzhyQ1xcnKFDeCsFOgGMi4sjNTUVe3v7dNvt7e2JjY3Ndj2tW7fm9OnTJCQkUKZMGTZv3kzdunUzlBs/fjx+fn5pr2/evImLiwuenp5UqFDhra9D/J/k5GQCAwPx8fHB2NjY0OHke9KeuidtqlvSnrpnqDZ9r3NHgk6Poc+AIdw6f5zTu9fS/2QQk6d/j9/H+XeataioKEOH8FYKdAL4kkqlSvdaUZQM215lz5492SpnamqKqakpAQEBBAQEkJSUBICxsbF8cOmYtKluSXvqnrSpbkl76p4h2rRF/VrcOHOEiXOWMHvqBF7cv8W4oX2JSC7BjF6elLQx02s8upBf35f5fhDIq9ja2qLRaDLc7bt7926Gu4K6NGzYMMLCwjhw4ECunUMIIYTIj9RqNTM++x+RVy7SsGMfijX+gL9uJNNyzkGWHY4kOSXV0CEWCgU6ATQxMcHDwyNDP4fAwEAaNWpkoKiEEEII4WBXgqNbVnDotx+oVbYoTxNTmPjTJmwruvDrVunzmdvyfQL49OlTQkNDCQ0NBSAyMpLQ0NC0aV78/PxYsmQJy5YtIzw8nFGjRhEdHc3gwYNzLaaAgABcXFzw9vbOtXMIIYQQBYFraRs2DWnE9M41iD+8kicxl+jbqTW1W3fj+s27hg6vwMr3CeCpU6dwd3fH3d0d+Cfhc3d3Z9KkSQB0794df39/pk6dSq1atQgKCmLnzp2UL18+12KSR8BCCCFE9qnVKj6sX46T+7fh4tkOUAj5cz1VHKvx6RR/mTswF+T7BNDb2xtFUTL8LF++PK3M0KFDiYqKIjExkeDgYDw9PQ0XsBBCCCEy5VyxLBcObmPhmq0UsS9PSsJjFkweRUnnuuw+fMrQ4RUo+T4BzIvkEbAQQgjx9ob06EDstQg6DvwMlZEp9y6dpu+3q/hudwTPk2SQiC5IApgL5BGwEEIIkTOWFmZs+XkWh0+GUPPdjzBzbcHCA1fxmXuQjUcuGDq8fE8SQCGEEELkWY1qORO6bRk/96lLaRszomPv072NFxXrNOPk+cuGDi/fkgRQCCGEEHmaSqWitWtJAv28aGZzn9Rnj4gKPkD92jXpOnQ8z14kGjrEfEcSwFwgfQCFEEII3StiasSKyYP5Y98RSlSuiZL8go2LvsW+kgtLN+wydHj5iiSAuUD6AAohhBC5p713fWIjTjP4y+/RWFjz9PY1BrzflprNO3P38TNDh5cvSAIohBBCiHzHyEjDoqmjuRgeQc0WXQC4evs+recdZt3JaLRaxcAR5m2SAAohhBAi36pcrhRn9m5kyYZd1P1gJA+fJTN24znaz/yDP/46Zujw8ixJAHOB9AEUQggh9Kv/e20I/KITE9s6Y2Gi4cCK7+nYoglNu3zMnfuPDB1eniMJYC6QPoBCCCGE/hlr1Az0rMTOTxpib2UMipbDm5dTrnI1vpy3TJaU+xdJAIUQQghRoFSws+Hayf1M/3E1psVLkfT4Ht+M7E/52p4cCQkzdHh5giSAQgghhCiQxg/6kJtXL9L8g0GgNiLmzBGa1qvN8NkrSUop3HcDJQEUQgghRIFVoqgV+377kV0Hj2FXrTZqc2u23DTHd14QR6/GGTo8g5EEMBfIIBAhhBAib2nTpA63w0/y4+87sCtuw9V7CfT4+RgNuw3hwtVoQ4end5IA5gIZBCKEEELkPWq1mgFt6rLPz5teDcqRcC6Q4+t/pGZ1Vz7+fBrJKamGDlFvJAEUQgghRKHy/9q7+6Cq6n2P4x8QkUxQQTEVUI8nLHkQQ8wYvVfU0aOhaZb3j9I8OTb2cEm8HnWy8jZz1ChLm2NPVqczWpZ6R3NEJrMwMalIDMMwszl4QcQHkEcNA1n3jzNyQ9gIm7VZe7Perxn/2Ovht7/r49rwZT3s1bN7V/11ZpRee2KmAkLCVV9TrX+8/KyC/xilHfsyrC6vQ9AAAgAAW3oocYIu/vNHPbR4lbx9u6v8f09oztQE3T39YRVdKLW6PJeiAQQAALbl29VHH6z/bx39IVd/HDNZMuqVlfqhIsZN055jZ2UYnfORcjSAAADA9kYM+4NOfb1Pr7y/Xbf0DdUtd/+H/vOj7zXv71k6XXLZ6vJMRwPoAtwFDACAZ1oy/0FdLPhFK+ZNl6+Ptw6dKtGoB5/Unx5JUnlV52kEaQBdgLuAAQDwXLf6+erpSbfrs8X/prsC61R66EPt2/w3DfjDHXr1HzusLs8UNIAAAADNGNznVv3P0ulatvZv6uofqF9Lzui//jxH4fdM0Q8n/2l1ee1CAwgAAOCAt7e3Uv6ySPm//KzRiQ9JXt469c1nGhkdpYcWr9JvtXVWl+gUGkAAAICbGBgcpG/3fKBtaenqNehO1f92RR+9nqL5b+63ujSn0AACAAC00pw//bvOn/pB8//yV9026c8qqOludUlOoQEEAABoA9+uPnr/pZU6tn2DJg8Ptrocp9AAAgAAOKGvfzc9n3in1WU4hQYQAADAZmgAXYAvggYAAO6MBtAF+CJoAADgzmgAAQAAbIYGEAAAwGZoAAEAAGyGBhAAAMBmaAABAABshgYQAADAZmgAAQAAbIYGEAAAwGZoAAEAAGzGx+oCOrP6+npJUnFxsXx8iNoMdXV1KikpUVFREZmagDzNR6bmIk/zkam5iouLJf3/73xPwf+8CxUWFkqS4uPjLa4EAAC4UmFhocLCwqwuo9W8DMMwrC6is7p06ZKCgoJ0/Phx9ezZ06XvNX78eKefPdzadW+2XEvzHc1rbvqN037/uqqqSsOHD1deXp78/f1vWrOzOiLP1izb1kzdNU9HtZm9Lvuo+es6m6mn5emoNrPXs+Izf+O0zrSPtmY5V++jFRUVioyMVGlpqQIDA29as7vgCKALXT+0HhoaqoCAAJe+l6+vr0JCQly67s2Wa2m+o3nNTb9x2u9fV1ZWSpIGDhzo0kw7Is/WLNvWTN01T0e1mb0u+6j56zqbqafl6ag2s9ez4jN/47TOtI+2ZjlX76PXM/S00+ncBNJJPPnkky5f92bLtTTf0bzmpt84rT3b5qyOyLM1y7Y1U3fNs73vyz7alLvvo56WZ3ve190/8615X1dwh898S8t44j5qJk4Bu1BlZaV69uypiooKl//lahdkai7yNB+Zmos8zUem5vLUPDkC6ELdunXTqlWr1K1bN6tL6TTI1FzkaT4yNRd5mo9MzeWpeXIEEAAAwGY4AggAAGAzNIAAAAA2QwMIAABgMzSAAAAANkMDCAAAYDM0gBabNWuWevfurQceeKDZ+VeuXNGgQYO0dOnSDq7MMznKs6qqSnFxcYqJiVFUVJTeeecdiyr0PI4yLSws1Pjx4zV8+HBFR0drx44dFlXoWVr6zN/s5wGaaimz1NRUDRs2TLfffrveffddC6rzfOvWrVNERIQiIyP1wQcfWF2Ox1u/fr0iIiI0fPhwJSUlycovYqEBtFhSUpI2b97scP7q1at19913d2BFns1Rnt27d9fBgweVk5Ojb7/9VmvXrlVpaakFFXoeR5n6+Phow4YNysvL0+eff67k5GRdvnzZggo9S0uf+Zv9PEBTjjKrq6vTkiVLlJ6erqNHjyolJUWXLl2yoELPlZubq61btyo7O1tHjhzRm2++qfLycqvL8lgXL17Uxo0blZ2drdzcXGVnZ+ubb76xrB4aQIslJCQ4fBj3qVOn9NNPP2natGkdXJXncpRnly5d1L17d0lSTU2Nrl27ZulfXp7EUab9+/dXTEyMJCk4OFiBgYH8gm2Flj7zLc1D8xxllpWVpYiICA0cOFD+/v6aNm2a9u3bZ0GFnuvEiROKj4+Xn5+f/Pz8FBMTo08//dTqsjxaXV2dampqVFtbq9raWgUHB1tWCw1gCzIyMjR9+nQNGDBAXl5e+uSTT5os88Ybb2jIkCHy8/NTbGysDh06ZNr7L126VGvXrjVtPKtZnWd5eblGjBihkJAQLVu2TH369DFtbKtYnel1R44cUX19vUJDQ00fuyO5S56dhZV5nj17VgMHDmx4HRISoqKiIlPGdheuzjcyMlIHDhxQeXm5ysvLlZ6e3uky/D1X59m3b18tXbpUYWFhGjBggCZNmqShQ4eauAVtQwPYgsuXL2vEiBHauHFjs/O3bdumxYsXa+XKlfr+++81btw4TZ06VQUFBQ3LxMbGKjIyssm/s2fPtvjeu3fvVnh4uMLDw03dJitZmack9erVS8eOHVN+fr62bt2q8+fPm7ZtVrE6U0kqLS3VvHnztGnTJlO2yUrukGdnYmWezR3h9/Lyat8GuRlX53v9OrUJEyZo1qxZiouLk4+PT0dtXodzdZ5lZWVKTU3V6dOnVVRUpMzMTGVkZHTU5jVloFUkGbt27Wo0bfTo0caiRYsaTbvjjjuMFStWtGnsAwcOGLNnz240bcWKFUZISIgxaNAgIygoyAgICDBeeOEFp2p3Rx2d540WLVpkbN++vU3jujsrMq2pqTHGjRtnbN68uc31ujur9tHW7L+eqKPzPHz4sDFz5syG10lJScaHH37YtqI9iCvzvW7BggVGamqqsyV6FFfkuX37duOJJ55oeP3SSy8ZKSkp7a7VWRwBdNJvv/2m7OxsTZ48udH0yZMnKzMzs93jr127VoWFhTp9+rTWrVunhQsX6vnnn2/3uO7K1XmeP39elZWVkqTKykplZGRo2LBh7R7Xnbk6U8MwNH/+fE2YMEFz585t93juztV52o2r8xw9erSOHz+uoqIiVVVVKS0tTVOmTGn3uJ7CrHwvXLggSTp58qSysrJsleHvmZFnaGioMjMzG65D//LLLy39PdR5j+W6WElJia5du6Z+/fo1mt6vXz+dO3eu1eNMmTJFR48e1eXLlxUSEqJdu3YpLi7O7HLdnqvzPHPmjBYsWCDDMGQYhp566ilFR0ebvRluxdWZHj58WNu2bVN0dHTDtTJbtmxRVFSUmZvhNjriM2+nnweuztPHx0evvPKKEhISVF9fr2XLlikoKMjszXBbZuU7c+ZMlZeX69Zbb9X777/fqU8Bt8SMPMeMGaNp06Zp5MiR8vb21sSJEzVjxgxXlNsq9vyfNNGN15QYhtGm60xac1fa/Pnz21qWx3JVnrGxscrJyWlPaR7LVZmOHTtW9fX17arNE7nyM2/Hu1RdmeeMGTMs/QXrDtqbL0e3G2tvnqtXr9bq1avNLsspnAJ2Up8+fdSlS5cmnf+FCxea/IWAmyNP85GpucjTXOTpWuRrrs6YJw2gk3x9fRUbG6v9+/c3mr5//37Fx8dbVJXnIk/zkam5yNNc5Ola5Guuzpgnp4BbUF1drV9++aXhdX5+vnJychQYGKiwsDAtWbJEc+fO1ahRo3TPPfdo06ZNKigo0KJFiyys2n2Rp/nI1FzkaS7ydC3yNZft8rTq9mNPcODAAUNSk3+PPPJIwzKvv/66MWjQIMPX19e46667jIMHD1pXsJsjT/ORqbnI01zk6Vrkay675ellGDwPCwAAwE64BhAAAMBmaAABAABshgYQAADAZmgAAQAAbIYGEAAAwGZoAAEAAGyGBhAAAMBmaAABAABshgYQAADAZmgAAQAAbIYGEADa6bnnnpOXl5d27NhhdSkA0Co8CxgA2mnkyJH68ccfVVJSooCAAKvLAYCb4gggALRDUVGRcnJyNG7cOJo/AB6DBhAA2iE1NVWSlJiYaHElANB6NIAAIOnnn3/WmjVrNHHiRA0ePFi33HKL/P39FR8fry1btjhcr6UG0NkxAcDVuAYQACTNnj1bO3fuVEBAgAYMGKAePXrozJkzOnfunCTpxRdf1PLlyxutU1NTo6CgIIWEhOjkyZOmjAkAHYEjgAAg6f7771dubq4qKip04sQJfffddyouLtbu3bvl4+OjNWvWqLa2ttE6X3zxha5cueLw9K8zYwJAR+AIIADcRHR0tHJzc5Wfn6/Bgwc3TH/88cf11ltvKT09XQkJCaaMCQAdwcfqAgDAHVy5ckU7d+7UoUOHVFBQoOrqal3/+/j66V1fX99G66Slpalnz54aO3asKWOePn1aTz/9tNLT0+Xj46PExEStX79effr0MX17AdgbDSAA20tLS9Ojjz6q8+fPO1zGz89P/fv3b3h97NgxFRQUaM6cOeratWu7x6yurlZCQoKCgoL00Ucf6ddff9WKFSt077336uuvv5a3N1fsADAPP1EA2NqhQ4d03333qaSkRElJSfrqq69UWlqquro6GYbR8HSPyMhIeXl5NazX0t2/zoz59ttvq7i4WHv27FFiYqIefPBBffzxx8rKytLu3btdHQMAm+EIIABbe+aZZ1RXV6dNmzZp4cKFTebv3btXkhQTE9Noempqqry9vTV16lRTxkxNTVVCQkKjo4xxcXEKDw/Xnj17NGvWLGc2DwCaxRFAALZVW1urzMxMeXl5ad68eU3mV1RUaM+ePZIaN2slJSXKysrSmDFjmlyf5+yYeXl5ioiIaLJ8RESETpw44czmAYBDNIAAbOvq1auqr6+XYRi6evVqk/nJyckqLS2V1LhZ27t3r+rr65s9/evsmGVlZerVq1eT5QMDA3Xp0qU2bhkAtIwGEIBt9ejRQ6GhoZKkNWvWNNyhW11dreTkZG3dulWS5OXlpejo6Ib1Wrr+z9kxr0+7Ed/UBcAVaAAB2Nqzzz4rSUpJSVFoaKhGjRqlfv366b333tPLL78sSRo6dKj8/f0l/esU72effaawsDBFRUWZMqYk9e7dW2VlZU3GKisrU2BgoHkbDACiAQRgc4899phee+01DRkyRBcuXNDFixf18MMPKzc3V8HBwZIan6rNyMhQZWWlw6d/ODOm9K9r/fLy8pqMlZeXpzvvvLP9GwoAv8OTQACgDZKTk7VhwwalpaU1ewews1599VWtXLlS+fn5uu222yRJ2dnZGjVqlHbu3MldwABMRQMIAG0QHh6uoqIilZaWys/Pz7Rxq6qqFB0drb59+2rVqlWqqanR8uXLFRQUxBdBAzAdDSAAuIn8/PxmHwXXt29fq0sD0MnQAAIAANgM5xQAAABshgYQAADAZmgAAQAAbIYGEAAAwGZoAAEAAGyGBhAAAMBmaAABAABshgYQAADAZmgAAQAAbIYGEAAAwGZoAAEAAGyGBhAAAMBmaAABAABshgYQAADAZmgAAQAAbIYGEAAAwGZoAAEAAGzm/wA7iGlzfe9dGgAAAABJRU5ErkJggg==' width=640.0/>\n",
       "            </div>\n",
       "        "
      ],
      "application/vnd.jupyter.widget-view+json": {
       "version_major": 2,
       "version_minor": 0,
       "model_id": "a7298a1a03b542eba067554cb17b9f2b"
      }
     },
     "metadata": {},
     "output_type": "display_data"
    }
   ],
   "execution_count": 43
  },
  {
   "metadata": {
    "ExecuteTime": {
     "end_time": "2025-01-02T20:11:14.303263Z",
     "start_time": "2025-01-02T20:11:14.300808Z"
    }
   },
   "cell_type": "code",
   "source": "T_to_MeV(1.8e10)",
   "id": "1e7c732af702dcb4",
   "outputs": [
    {
     "data": {
      "text/plain": [
       "1.5525000000000002"
      ]
     },
     "execution_count": 42,
     "metadata": {},
     "output_type": "execute_result"
    }
   ],
   "execution_count": 42
  },
  {
   "metadata": {
    "ExecuteTime": {
     "end_time": "2025-01-02T20:30:27.689680Z",
     "start_time": "2025-01-02T20:30:27.687800Z"
    }
   },
   "cell_type": "code",
   "source": "",
   "id": "c79acfe7c035aada",
   "outputs": [],
   "execution_count": 44
  },
  {
   "metadata": {},
   "cell_type": "code",
   "outputs": [],
   "execution_count": null,
   "source": "",
   "id": "b8029b8c0da4b558"
  }
 ],
 "metadata": {
  "kernelspec": {
   "display_name": "Python 3 (ipykernel)",
   "language": "python",
   "name": "python3"
  },
  "language_info": {
   "codemirror_mode": {
    "name": "ipython",
    "version": 3
   },
   "file_extension": ".py",
   "mimetype": "text/x-python",
   "name": "python",
   "nbconvert_exporter": "python",
   "pygments_lexer": "ipython3",
   "version": "3.11.5"
  }
 },
 "nbformat": 4,
 "nbformat_minor": 5
}
