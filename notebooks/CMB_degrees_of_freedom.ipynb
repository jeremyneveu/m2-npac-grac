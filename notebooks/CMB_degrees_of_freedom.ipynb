{
 "cells": [
  {
   "cell_type": "code",
   "id": "31f9d082-a83c-4564-9b1b-6ea88b8fae9b",
   "metadata": {
    "ExecuteTime": {
     "end_time": "2024-12-02T21:57:45.689280Z",
     "start_time": "2024-12-02T21:57:44.289680Z"
    }
   },
   "source": [
    "from astropy.cosmology import Planck18, z_at_value, FlatLambdaCDM\n",
    "import astropy.units as u\n",
    "import matplotlib.pyplot as plt\n",
    "import pandas as pd\n",
    "import numpy as np\n",
    "from astropy.constants import k_B\n",
    "from scipy.integrate import quad\n"
   ],
   "outputs": [],
   "execution_count": 1
  },
  {
   "cell_type": "code",
   "id": "e020f112-be46-47e9-8b54-2dd21bbf0fc8",
   "metadata": {
    "ExecuteTime": {
     "end_time": "2024-12-02T21:57:45.751401Z",
     "start_time": "2024-12-02T21:57:45.690662Z"
    }
   },
   "source": [
    "%matplotlib widget"
   ],
   "outputs": [],
   "execution_count": 2
  },
  {
   "cell_type": "markdown",
   "id": "5e6cee0c-28be-444e-b142-f037c7da0979",
   "metadata": {},
   "source": [
    "Particles \tMass \tspin \tcolor \tg \n",
    "\n",
    "Photon (γ) \t0 \t2 \t1 \t2\n",
    "W+,W−\t80.4GeV\t3 \t1 \t6\n",
    "Z\t91.2GeV\t3 \t1 \t3\n",
    "Gluon (g) \t0 \t2 \t8 \t16\n",
    "Higgs boson \t>114GeV\t1 \t1 \t1\n",
    "\n",
    "Bosons \t\t28\n",
    "\n",
    "u,/,u¯\t3MeV\t2 \t3 \t12\n",
    "d,/,d¯\t6MeV\t2 \t3 \t12\n",
    "s,/,s¯\t100MeV\t2 \t3 \t12\n",
    "c,/,c¯\t1.2GeV\t2 \t3 \t12\n",
    "b,/,b¯\t4.2GeV\t2 \t3 \t12\n",
    "t,/,t¯\t175GeV\t2 \t3 \t12\n",
    "e+,e−\t0.511MeV\t2 \t1 \t4\n",
    "μ+,μ−\t105.7MeV\t2 \t1 \t4\n",
    "τ+,τ−\t1.777GeV\t2 \t1 \t4\n",
    "νe,νe¯\t<3eV\t1 \t1 \t2\n",
    "νμ,νμ¯\t<0.19MeV\t1 \t1 \t2\n",
    "ντ,ντ¯\t<18.2MeV\t1 \t1 \t2\n",
    "\n",
    "\n",
    "Fermions \t\t90\n",
    "\n",
    "\n"
   ]
  },
  {
   "cell_type": "code",
   "id": "08d47e41-e176-40ed-ad24-0715086a064d",
   "metadata": {
    "ExecuteTime": {
     "end_time": "2024-12-02T21:57:45.756733Z",
     "start_time": "2024-12-02T21:57:45.752698Z"
    }
   },
   "source": [
    "t = \"\"\"Particles\tType\\tMass\tspin\tcolor\tg\\tQCD\n",
    "γ \tboson\\t     0 \t2 \t1 \t2\\tFalse\n",
    "W+,W−\tboson\\t     80.4GeV\t3 \t1 \t6\\tFalse\n",
    "Z\tboson\\t     91.2GeV\t3 \t1 \t3\\tFalse\n",
    "Gluons \tboson\\t     0 \t2 \t8 \t16\\tTrue\n",
    "Higgs \tboson\\t     125.3GeV\t1 \t1 \t1\\tFalse\n",
    "u,u¯\tfermion\\t     2MeV\t2 \t3 \t12\\tTrue\n",
    "d,d¯\tfermion\\t    5MeV\t2 \t3 \t12\\tTrue\n",
    "s,s¯\tfermion\\t    100MeV\t2 \t3 \t12\\tTrue\n",
    "c,c¯\tfermion\\t    1GeV\t2 \t3 \t12\\tTrue\n",
    "b,b¯\tfermion\\t    4GeV\t2 \t3 \t12\\tTrue\n",
    "t,t¯\tfermion\\t    173GeV\t2 \t3 \t12\\tTrue\n",
    "e+,e−\tfermion\\t    0.511MeV\t2 \t1 \t4\\tFalse\n",
    "μ+,μ−\tfermion\\t    105.7MeV\t2 \t1 \t4\\tFalse\n",
    "τ+,τ−\tfermion\\t    1.777GeV\t2 \t1 \t4\\tFalse\n",
    "pions\tboson\\t    135MeV\t1 \t1 \t3\\tFalse\n",
    "νe,νe¯\tfermion\\t    <3eV\t1 \t1 \t2\\tFalse\n",
    "νμ,νμ¯\tfermion\\t    <0.19MeV\t1 \t1 \t2\\tFalse\n",
    "ντ,ντ¯\tfermion\\t    <18.2MeV\t1 \t1 \t2\\tFalse\n",
    "\"\"\""
   ],
   "outputs": [],
   "execution_count": 3
  },
  {
   "cell_type": "code",
   "id": "b3ce617c-4428-4797-b4da-29569c0f9484",
   "metadata": {
    "ExecuteTime": {
     "end_time": "2024-12-02T21:57:45.761270Z",
     "start_time": "2024-12-02T21:57:45.758537Z"
    }
   },
   "source": [
    "with open(\"particle_g.csv\", 'w') as f:\n",
    "    f.write(t)"
   ],
   "outputs": [],
   "execution_count": 4
  },
  {
   "cell_type": "code",
   "id": "95d29baf-c81e-47ed-b7fd-f913cfbbf892",
   "metadata": {
    "ExecuteTime": {
     "end_time": "2024-12-02T21:57:45.768105Z",
     "start_time": "2024-12-02T21:57:45.762048Z"
    }
   },
   "source": [
    "df = pd.read_csv(\"particle_g.csv\", delimiter=\"\\t\")"
   ],
   "outputs": [],
   "execution_count": 5
  },
  {
   "cell_type": "code",
   "id": "0f5e731b-6153-4650-bb95-513752554764",
   "metadata": {
    "ExecuteTime": {
     "end_time": "2024-12-02T21:57:45.777351Z",
     "start_time": "2024-12-02T21:57:45.769152Z"
    }
   },
   "source": [
    "#| label: gtable\n",
    "df"
   ],
   "outputs": [
    {
     "data": {
      "text/plain": [
       "   Particles     Type           Mass  spin  color   g    QCD\n",
       "0         γ     boson             0      2      1   2  False\n",
       "1      W+,W−    boson        80.4GeV     3      1   6  False\n",
       "2          Z    boson        91.2GeV     3      1   3  False\n",
       "3    Gluons     boson             0      2      8  16   True\n",
       "4     Higgs     boson       125.3GeV     1      1   1  False\n",
       "5       u,u¯  fermion           2MeV     2      3  12   True\n",
       "6       d,d¯  fermion           5MeV     2      3  12   True\n",
       "7       s,s¯  fermion         100MeV     2      3  12   True\n",
       "8       c,c¯  fermion           1GeV     2      3  12   True\n",
       "9       b,b¯  fermion           4GeV     2      3  12   True\n",
       "10      t,t¯  fermion         173GeV     2      3  12   True\n",
       "11     e+,e−  fermion       0.511MeV     2      1   4  False\n",
       "12     μ+,μ−  fermion       105.7MeV     2      1   4  False\n",
       "13     τ+,τ−  fermion       1.777GeV     2      1   4  False\n",
       "14     pions    boson         135MeV     1      1   3  False\n",
       "15    νe,νe¯  fermion           <3eV     1      1   2  False\n",
       "16    νμ,νμ¯  fermion       <0.19MeV     1      1   2  False\n",
       "17    ντ,ντ¯  fermion       <18.2MeV     1      1   2  False"
      ],
      "text/html": [
       "<div>\n",
       "<style scoped>\n",
       "    .dataframe tbody tr th:only-of-type {\n",
       "        vertical-align: middle;\n",
       "    }\n",
       "\n",
       "    .dataframe tbody tr th {\n",
       "        vertical-align: top;\n",
       "    }\n",
       "\n",
       "    .dataframe thead th {\n",
       "        text-align: right;\n",
       "    }\n",
       "</style>\n",
       "<table border=\"1\" class=\"dataframe\">\n",
       "  <thead>\n",
       "    <tr style=\"text-align: right;\">\n",
       "      <th></th>\n",
       "      <th>Particles</th>\n",
       "      <th>Type</th>\n",
       "      <th>Mass</th>\n",
       "      <th>spin</th>\n",
       "      <th>color</th>\n",
       "      <th>g</th>\n",
       "      <th>QCD</th>\n",
       "    </tr>\n",
       "  </thead>\n",
       "  <tbody>\n",
       "    <tr>\n",
       "      <th>0</th>\n",
       "      <td>γ</td>\n",
       "      <td>boson</td>\n",
       "      <td>0</td>\n",
       "      <td>2</td>\n",
       "      <td>1</td>\n",
       "      <td>2</td>\n",
       "      <td>False</td>\n",
       "    </tr>\n",
       "    <tr>\n",
       "      <th>1</th>\n",
       "      <td>W+,W−</td>\n",
       "      <td>boson</td>\n",
       "      <td>80.4GeV</td>\n",
       "      <td>3</td>\n",
       "      <td>1</td>\n",
       "      <td>6</td>\n",
       "      <td>False</td>\n",
       "    </tr>\n",
       "    <tr>\n",
       "      <th>2</th>\n",
       "      <td>Z</td>\n",
       "      <td>boson</td>\n",
       "      <td>91.2GeV</td>\n",
       "      <td>3</td>\n",
       "      <td>1</td>\n",
       "      <td>3</td>\n",
       "      <td>False</td>\n",
       "    </tr>\n",
       "    <tr>\n",
       "      <th>3</th>\n",
       "      <td>Gluons</td>\n",
       "      <td>boson</td>\n",
       "      <td>0</td>\n",
       "      <td>2</td>\n",
       "      <td>8</td>\n",
       "      <td>16</td>\n",
       "      <td>True</td>\n",
       "    </tr>\n",
       "    <tr>\n",
       "      <th>4</th>\n",
       "      <td>Higgs</td>\n",
       "      <td>boson</td>\n",
       "      <td>125.3GeV</td>\n",
       "      <td>1</td>\n",
       "      <td>1</td>\n",
       "      <td>1</td>\n",
       "      <td>False</td>\n",
       "    </tr>\n",
       "    <tr>\n",
       "      <th>5</th>\n",
       "      <td>u,u¯</td>\n",
       "      <td>fermion</td>\n",
       "      <td>2MeV</td>\n",
       "      <td>2</td>\n",
       "      <td>3</td>\n",
       "      <td>12</td>\n",
       "      <td>True</td>\n",
       "    </tr>\n",
       "    <tr>\n",
       "      <th>6</th>\n",
       "      <td>d,d¯</td>\n",
       "      <td>fermion</td>\n",
       "      <td>5MeV</td>\n",
       "      <td>2</td>\n",
       "      <td>3</td>\n",
       "      <td>12</td>\n",
       "      <td>True</td>\n",
       "    </tr>\n",
       "    <tr>\n",
       "      <th>7</th>\n",
       "      <td>s,s¯</td>\n",
       "      <td>fermion</td>\n",
       "      <td>100MeV</td>\n",
       "      <td>2</td>\n",
       "      <td>3</td>\n",
       "      <td>12</td>\n",
       "      <td>True</td>\n",
       "    </tr>\n",
       "    <tr>\n",
       "      <th>8</th>\n",
       "      <td>c,c¯</td>\n",
       "      <td>fermion</td>\n",
       "      <td>1GeV</td>\n",
       "      <td>2</td>\n",
       "      <td>3</td>\n",
       "      <td>12</td>\n",
       "      <td>True</td>\n",
       "    </tr>\n",
       "    <tr>\n",
       "      <th>9</th>\n",
       "      <td>b,b¯</td>\n",
       "      <td>fermion</td>\n",
       "      <td>4GeV</td>\n",
       "      <td>2</td>\n",
       "      <td>3</td>\n",
       "      <td>12</td>\n",
       "      <td>True</td>\n",
       "    </tr>\n",
       "    <tr>\n",
       "      <th>10</th>\n",
       "      <td>t,t¯</td>\n",
       "      <td>fermion</td>\n",
       "      <td>173GeV</td>\n",
       "      <td>2</td>\n",
       "      <td>3</td>\n",
       "      <td>12</td>\n",
       "      <td>True</td>\n",
       "    </tr>\n",
       "    <tr>\n",
       "      <th>11</th>\n",
       "      <td>e+,e−</td>\n",
       "      <td>fermion</td>\n",
       "      <td>0.511MeV</td>\n",
       "      <td>2</td>\n",
       "      <td>1</td>\n",
       "      <td>4</td>\n",
       "      <td>False</td>\n",
       "    </tr>\n",
       "    <tr>\n",
       "      <th>12</th>\n",
       "      <td>μ+,μ−</td>\n",
       "      <td>fermion</td>\n",
       "      <td>105.7MeV</td>\n",
       "      <td>2</td>\n",
       "      <td>1</td>\n",
       "      <td>4</td>\n",
       "      <td>False</td>\n",
       "    </tr>\n",
       "    <tr>\n",
       "      <th>13</th>\n",
       "      <td>τ+,τ−</td>\n",
       "      <td>fermion</td>\n",
       "      <td>1.777GeV</td>\n",
       "      <td>2</td>\n",
       "      <td>1</td>\n",
       "      <td>4</td>\n",
       "      <td>False</td>\n",
       "    </tr>\n",
       "    <tr>\n",
       "      <th>14</th>\n",
       "      <td>pions</td>\n",
       "      <td>boson</td>\n",
       "      <td>135MeV</td>\n",
       "      <td>1</td>\n",
       "      <td>1</td>\n",
       "      <td>3</td>\n",
       "      <td>False</td>\n",
       "    </tr>\n",
       "    <tr>\n",
       "      <th>15</th>\n",
       "      <td>νe,νe¯</td>\n",
       "      <td>fermion</td>\n",
       "      <td>&lt;3eV</td>\n",
       "      <td>1</td>\n",
       "      <td>1</td>\n",
       "      <td>2</td>\n",
       "      <td>False</td>\n",
       "    </tr>\n",
       "    <tr>\n",
       "      <th>16</th>\n",
       "      <td>νμ,νμ¯</td>\n",
       "      <td>fermion</td>\n",
       "      <td>&lt;0.19MeV</td>\n",
       "      <td>1</td>\n",
       "      <td>1</td>\n",
       "      <td>2</td>\n",
       "      <td>False</td>\n",
       "    </tr>\n",
       "    <tr>\n",
       "      <th>17</th>\n",
       "      <td>ντ,ντ¯</td>\n",
       "      <td>fermion</td>\n",
       "      <td>&lt;18.2MeV</td>\n",
       "      <td>1</td>\n",
       "      <td>1</td>\n",
       "      <td>2</td>\n",
       "      <td>False</td>\n",
       "    </tr>\n",
       "  </tbody>\n",
       "</table>\n",
       "</div>"
      ]
     },
     "execution_count": 6,
     "metadata": {},
     "output_type": "execute_result"
    }
   ],
   "execution_count": 6
  },
  {
   "cell_type": "code",
   "id": "445893f5-cac6-4d63-a930-ee6e66451f01",
   "metadata": {
    "ExecuteTime": {
     "end_time": "2024-12-02T21:57:45.781398Z",
     "start_time": "2024-12-02T21:57:45.778196Z"
    }
   },
   "source": [
    "mass_txt = df[\"Mass\"]\n",
    "mass_MeV = []\n",
    "for m in mass_txt:\n",
    "    if \"eV\" in m:\n",
    "        if \"<\" in m:\n",
    "            mass_MeV.append(0)\n",
    "        elif \"GeV\" in m:\n",
    "            mass_MeV.append(float(m.split('GeV')[0])*1e3)\n",
    "        elif \"MeV\" in m:\n",
    "            mass_MeV.append(float(m.split('MeV')[0]))\n",
    "    else:\n",
    "        mass_MeV.append(float(m))\n",
    "mass_MeV = np.array(mass_MeV)"
   ],
   "outputs": [],
   "execution_count": 7
  },
  {
   "cell_type": "code",
   "id": "326318b3-7ce2-4c93-b5ae-810c0bcf4734",
   "metadata": {
    "ExecuteTime": {
     "end_time": "2024-12-02T21:57:45.784693Z",
     "start_time": "2024-12-02T21:57:45.782569Z"
    }
   },
   "source": [
    "mass_T = mass_MeV / 1.38e-23 * 1.6e-19 * 1e6"
   ],
   "outputs": [],
   "execution_count": 8
  },
  {
   "cell_type": "markdown",
   "id": "9a4eb68a-0ead-44fc-99c8-e9997a389818",
   "metadata": {},
   "source": [
    "$a_0 T_{CMB} = a T$"
   ]
  },
  {
   "cell_type": "code",
   "id": "960b50c9-0801-4911-a462-843bd6b83beb",
   "metadata": {
    "ExecuteTime": {
     "end_time": "2024-12-02T21:57:45.787648Z",
     "start_time": "2024-12-02T21:57:45.785432Z"
    }
   },
   "source": [
    "a = 2.725 / mass_T\n",
    "z = 1/a - 1\n",
    "z[z < 0] = np.inf"
   ],
   "outputs": [
    {
     "name": "stderr",
     "output_type": "stream",
     "text": [
      "/var/folders/jk/kyldbk_95pl2fc_t8qb_l8580000gw/T/ipykernel_13962/1147251717.py:1: RuntimeWarning: divide by zero encountered in divide\n",
      "  a = 2.725 / mass_T\n"
     ]
    }
   ],
   "execution_count": 9
  },
  {
   "metadata": {
    "ExecuteTime": {
     "end_time": "2024-12-02T21:57:45.793354Z",
     "start_time": "2024-12-02T21:57:45.789886Z"
    }
   },
   "cell_type": "code",
   "source": [
    "T0 = Planck18.Tcmb0  # K\n",
    "cosmo = FlatLambdaCDM(H0=Planck18.H0, Om0=Planck18.Om0, Tcmb0=T0, m_nu=0)\n",
    "Omegar0 = cosmo.Ogamma0 + cosmo.Onu0  # with massless neutrinos\n",
    "Omegar0"
   ],
   "id": "9d9d31212450ede5",
   "outputs": [
    {
     "data": {
      "text/plain": [
       "9.131600127112836e-05"
      ]
     },
     "execution_count": 10,
     "metadata": {},
     "output_type": "execute_result"
    }
   ],
   "execution_count": 10
  },
  {
   "cell_type": "code",
   "id": "9eefa550-aa19-4bb2-b173-03b50c9d75af",
   "metadata": {
    "ExecuteTime": {
     "end_time": "2024-12-02T21:57:45.797960Z",
     "start_time": "2024-12-02T21:57:45.794810Z"
    }
   },
   "source": [
    "invH0 = (1/Planck18.H0).to(u.s).value\n",
    "invH0"
   ],
   "outputs": [
    {
     "data": {
      "text/plain": [
       "4.560563969097498e+17"
      ]
     },
     "execution_count": 11,
     "metadata": {},
     "output_type": "execute_result"
    }
   ],
   "execution_count": 11
  },
  {
   "cell_type": "code",
   "id": "8902cac6-ae02-499e-803c-04a30f68defd",
   "metadata": {
    "ExecuteTime": {
     "end_time": "2024-12-02T21:57:45.804064Z",
     "start_time": "2024-12-02T21:57:45.799283Z"
    }
   },
   "source": [
    "def inv_aH(a):\n",
    "    return (invH0/(a*(np.sqrt(Omegar0 / a**4))))\n",
    "\n",
    "def a_to_time(a):\n",
    "    return quad(inv_aH, 0, a)[0]\n",
    "\n",
    "def T_to_time(T):\n",
    "    return a_to_time(T0.to(u.K).value / T)\n",
    "\n",
    "def T_to_MeV(T):\n",
    "    return T * 1.38e-23 / (1.6e-19 * 1e6)\n",
    "\n",
    "def MeV_to_time(MeV):\n",
    "    T = MeV / 1.38e-23 * 1.6e-19 * 1e6\n",
    "    return T_to_time(T)\n",
    "\n",
    "MeV_to_time(150)"
   ],
   "outputs": [
    {
     "data": {
      "text/plain": [
       "5.860614772784434e-05"
      ]
     },
     "execution_count": 12,
     "metadata": {},
     "output_type": "execute_result"
    }
   ],
   "execution_count": 12
  },
  {
   "cell_type": "code",
   "id": "26cb23f1-6344-4ca0-baa4-b89cc516011e",
   "metadata": {
    "ExecuteTime": {
     "end_time": "2024-12-02T21:57:45.809574Z",
     "start_time": "2024-12-02T21:57:45.804710Z"
    }
   },
   "source": [
    "t = [MeV_to_time(mass_MeV[k]) for k in range(len(mass_MeV))]"
   ],
   "outputs": [
    {
     "name": "stderr",
     "output_type": "stream",
     "text": [
      "/var/folders/jk/kyldbk_95pl2fc_t8qb_l8580000gw/T/ipykernel_13962/1109799512.py:8: RuntimeWarning: divide by zero encountered in scalar divide\n",
      "  return a_to_time(T0.to(u.K).value / T)\n",
      "/var/folders/jk/kyldbk_95pl2fc_t8qb_l8580000gw/T/ipykernel_13962/1109799512.py:5: IntegrationWarning: The integral is probably divergent, or slowly convergent.\n",
      "  return quad(inv_aH, 0, a)[0]\n"
     ]
    }
   ],
   "execution_count": 13
  },
  {
   "cell_type": "code",
   "id": "35a95c3a-720b-43de-8362-c61b17097842",
   "metadata": {
    "ExecuteTime": {
     "end_time": "2024-12-02T21:57:45.820191Z",
     "start_time": "2024-12-02T21:57:45.810435Z"
    }
   },
   "source": [
    "df[\"MeV\"] = mass_MeV\n",
    "df[\"a\"] = a\n",
    "df[\"z\"] = z\n",
    "df[\"t\"] = t\n",
    "df.sort_values(\"MeV\")"
   ],
   "outputs": [
    {
     "data": {
      "text/plain": [
       "   Particles     Type           Mass  spin  color   g    QCD         MeV  \\\n",
       "0         γ     boson             0      2      1   2  False       0.000   \n",
       "15    νe,νe¯  fermion           <3eV     1      1   2  False       0.000   \n",
       "16    νμ,νμ¯  fermion       <0.19MeV     1      1   2  False       0.000   \n",
       "17    ντ,ντ¯  fermion       <18.2MeV     1      1   2  False       0.000   \n",
       "3    Gluons     boson             0      2      8  16   True       0.000   \n",
       "11     e+,e−  fermion       0.511MeV     2      1   4  False       0.511   \n",
       "5       u,u¯  fermion           2MeV     2      3  12   True       2.000   \n",
       "6       d,d¯  fermion           5MeV     2      3  12   True       5.000   \n",
       "7       s,s¯  fermion         100MeV     2      3  12   True     100.000   \n",
       "12     μ+,μ−  fermion       105.7MeV     2      1   4  False     105.700   \n",
       "14     pions    boson         135MeV     1      1   3  False     135.000   \n",
       "8       c,c¯  fermion           1GeV     2      3  12   True    1000.000   \n",
       "13     τ+,τ−  fermion       1.777GeV     2      1   4  False    1777.000   \n",
       "9       b,b¯  fermion           4GeV     2      3  12   True    4000.000   \n",
       "1      W+,W−    boson        80.4GeV     3      1   6  False   80400.000   \n",
       "2          Z    boson        91.2GeV     3      1   3  False   91200.000   \n",
       "4     Higgs     boson       125.3GeV     1      1   1  False  125300.000   \n",
       "10      t,t¯  fermion         173GeV     2      3  12   True  173000.000   \n",
       "\n",
       "               a             z             t  \n",
       "0            inf           inf  2.386245e+19  \n",
       "15           inf           inf  2.386245e+19  \n",
       "16           inf           inf  2.386245e+19  \n",
       "17           inf           inf  2.386245e+19  \n",
       "3            inf           inf  2.386245e+19  \n",
       "11  4.599437e-10  2.174179e+09  5.049913e+00  \n",
       "5   1.175156e-10  8.509507e+09  3.296596e-01  \n",
       "6   4.700625e-11  2.127377e+10  5.274553e-02  \n",
       "7   2.350313e-12  4.254753e+11  1.318638e-04  \n",
       "12  2.223569e-12  4.497274e+11  1.180255e-04  \n",
       "14  1.740972e-12  5.743917e+11  7.235327e-05  \n",
       "8   2.350313e-13  4.254753e+12  1.318638e-06  \n",
       "13  1.322629e-13  7.560697e+12  4.175907e-07  \n",
       "9   5.875781e-14  1.701901e+13  8.241490e-08  \n",
       "1   2.923274e-15  3.420822e+14  2.039922e-10  \n",
       "2   2.577097e-15  3.880335e+14  1.585390e-10  \n",
       "4   1.875748e-15  5.331206e+14  8.398922e-11  \n",
       "10  1.358562e-15  7.360723e+14  4.405888e-11  "
      ],
      "text/html": [
       "<div>\n",
       "<style scoped>\n",
       "    .dataframe tbody tr th:only-of-type {\n",
       "        vertical-align: middle;\n",
       "    }\n",
       "\n",
       "    .dataframe tbody tr th {\n",
       "        vertical-align: top;\n",
       "    }\n",
       "\n",
       "    .dataframe thead th {\n",
       "        text-align: right;\n",
       "    }\n",
       "</style>\n",
       "<table border=\"1\" class=\"dataframe\">\n",
       "  <thead>\n",
       "    <tr style=\"text-align: right;\">\n",
       "      <th></th>\n",
       "      <th>Particles</th>\n",
       "      <th>Type</th>\n",
       "      <th>Mass</th>\n",
       "      <th>spin</th>\n",
       "      <th>color</th>\n",
       "      <th>g</th>\n",
       "      <th>QCD</th>\n",
       "      <th>MeV</th>\n",
       "      <th>a</th>\n",
       "      <th>z</th>\n",
       "      <th>t</th>\n",
       "    </tr>\n",
       "  </thead>\n",
       "  <tbody>\n",
       "    <tr>\n",
       "      <th>0</th>\n",
       "      <td>γ</td>\n",
       "      <td>boson</td>\n",
       "      <td>0</td>\n",
       "      <td>2</td>\n",
       "      <td>1</td>\n",
       "      <td>2</td>\n",
       "      <td>False</td>\n",
       "      <td>0.000</td>\n",
       "      <td>inf</td>\n",
       "      <td>inf</td>\n",
       "      <td>2.386245e+19</td>\n",
       "    </tr>\n",
       "    <tr>\n",
       "      <th>15</th>\n",
       "      <td>νe,νe¯</td>\n",
       "      <td>fermion</td>\n",
       "      <td>&lt;3eV</td>\n",
       "      <td>1</td>\n",
       "      <td>1</td>\n",
       "      <td>2</td>\n",
       "      <td>False</td>\n",
       "      <td>0.000</td>\n",
       "      <td>inf</td>\n",
       "      <td>inf</td>\n",
       "      <td>2.386245e+19</td>\n",
       "    </tr>\n",
       "    <tr>\n",
       "      <th>16</th>\n",
       "      <td>νμ,νμ¯</td>\n",
       "      <td>fermion</td>\n",
       "      <td>&lt;0.19MeV</td>\n",
       "      <td>1</td>\n",
       "      <td>1</td>\n",
       "      <td>2</td>\n",
       "      <td>False</td>\n",
       "      <td>0.000</td>\n",
       "      <td>inf</td>\n",
       "      <td>inf</td>\n",
       "      <td>2.386245e+19</td>\n",
       "    </tr>\n",
       "    <tr>\n",
       "      <th>17</th>\n",
       "      <td>ντ,ντ¯</td>\n",
       "      <td>fermion</td>\n",
       "      <td>&lt;18.2MeV</td>\n",
       "      <td>1</td>\n",
       "      <td>1</td>\n",
       "      <td>2</td>\n",
       "      <td>False</td>\n",
       "      <td>0.000</td>\n",
       "      <td>inf</td>\n",
       "      <td>inf</td>\n",
       "      <td>2.386245e+19</td>\n",
       "    </tr>\n",
       "    <tr>\n",
       "      <th>3</th>\n",
       "      <td>Gluons</td>\n",
       "      <td>boson</td>\n",
       "      <td>0</td>\n",
       "      <td>2</td>\n",
       "      <td>8</td>\n",
       "      <td>16</td>\n",
       "      <td>True</td>\n",
       "      <td>0.000</td>\n",
       "      <td>inf</td>\n",
       "      <td>inf</td>\n",
       "      <td>2.386245e+19</td>\n",
       "    </tr>\n",
       "    <tr>\n",
       "      <th>11</th>\n",
       "      <td>e+,e−</td>\n",
       "      <td>fermion</td>\n",
       "      <td>0.511MeV</td>\n",
       "      <td>2</td>\n",
       "      <td>1</td>\n",
       "      <td>4</td>\n",
       "      <td>False</td>\n",
       "      <td>0.511</td>\n",
       "      <td>4.599437e-10</td>\n",
       "      <td>2.174179e+09</td>\n",
       "      <td>5.049913e+00</td>\n",
       "    </tr>\n",
       "    <tr>\n",
       "      <th>5</th>\n",
       "      <td>u,u¯</td>\n",
       "      <td>fermion</td>\n",
       "      <td>2MeV</td>\n",
       "      <td>2</td>\n",
       "      <td>3</td>\n",
       "      <td>12</td>\n",
       "      <td>True</td>\n",
       "      <td>2.000</td>\n",
       "      <td>1.175156e-10</td>\n",
       "      <td>8.509507e+09</td>\n",
       "      <td>3.296596e-01</td>\n",
       "    </tr>\n",
       "    <tr>\n",
       "      <th>6</th>\n",
       "      <td>d,d¯</td>\n",
       "      <td>fermion</td>\n",
       "      <td>5MeV</td>\n",
       "      <td>2</td>\n",
       "      <td>3</td>\n",
       "      <td>12</td>\n",
       "      <td>True</td>\n",
       "      <td>5.000</td>\n",
       "      <td>4.700625e-11</td>\n",
       "      <td>2.127377e+10</td>\n",
       "      <td>5.274553e-02</td>\n",
       "    </tr>\n",
       "    <tr>\n",
       "      <th>7</th>\n",
       "      <td>s,s¯</td>\n",
       "      <td>fermion</td>\n",
       "      <td>100MeV</td>\n",
       "      <td>2</td>\n",
       "      <td>3</td>\n",
       "      <td>12</td>\n",
       "      <td>True</td>\n",
       "      <td>100.000</td>\n",
       "      <td>2.350313e-12</td>\n",
       "      <td>4.254753e+11</td>\n",
       "      <td>1.318638e-04</td>\n",
       "    </tr>\n",
       "    <tr>\n",
       "      <th>12</th>\n",
       "      <td>μ+,μ−</td>\n",
       "      <td>fermion</td>\n",
       "      <td>105.7MeV</td>\n",
       "      <td>2</td>\n",
       "      <td>1</td>\n",
       "      <td>4</td>\n",
       "      <td>False</td>\n",
       "      <td>105.700</td>\n",
       "      <td>2.223569e-12</td>\n",
       "      <td>4.497274e+11</td>\n",
       "      <td>1.180255e-04</td>\n",
       "    </tr>\n",
       "    <tr>\n",
       "      <th>14</th>\n",
       "      <td>pions</td>\n",
       "      <td>boson</td>\n",
       "      <td>135MeV</td>\n",
       "      <td>1</td>\n",
       "      <td>1</td>\n",
       "      <td>3</td>\n",
       "      <td>False</td>\n",
       "      <td>135.000</td>\n",
       "      <td>1.740972e-12</td>\n",
       "      <td>5.743917e+11</td>\n",
       "      <td>7.235327e-05</td>\n",
       "    </tr>\n",
       "    <tr>\n",
       "      <th>8</th>\n",
       "      <td>c,c¯</td>\n",
       "      <td>fermion</td>\n",
       "      <td>1GeV</td>\n",
       "      <td>2</td>\n",
       "      <td>3</td>\n",
       "      <td>12</td>\n",
       "      <td>True</td>\n",
       "      <td>1000.000</td>\n",
       "      <td>2.350313e-13</td>\n",
       "      <td>4.254753e+12</td>\n",
       "      <td>1.318638e-06</td>\n",
       "    </tr>\n",
       "    <tr>\n",
       "      <th>13</th>\n",
       "      <td>τ+,τ−</td>\n",
       "      <td>fermion</td>\n",
       "      <td>1.777GeV</td>\n",
       "      <td>2</td>\n",
       "      <td>1</td>\n",
       "      <td>4</td>\n",
       "      <td>False</td>\n",
       "      <td>1777.000</td>\n",
       "      <td>1.322629e-13</td>\n",
       "      <td>7.560697e+12</td>\n",
       "      <td>4.175907e-07</td>\n",
       "    </tr>\n",
       "    <tr>\n",
       "      <th>9</th>\n",
       "      <td>b,b¯</td>\n",
       "      <td>fermion</td>\n",
       "      <td>4GeV</td>\n",
       "      <td>2</td>\n",
       "      <td>3</td>\n",
       "      <td>12</td>\n",
       "      <td>True</td>\n",
       "      <td>4000.000</td>\n",
       "      <td>5.875781e-14</td>\n",
       "      <td>1.701901e+13</td>\n",
       "      <td>8.241490e-08</td>\n",
       "    </tr>\n",
       "    <tr>\n",
       "      <th>1</th>\n",
       "      <td>W+,W−</td>\n",
       "      <td>boson</td>\n",
       "      <td>80.4GeV</td>\n",
       "      <td>3</td>\n",
       "      <td>1</td>\n",
       "      <td>6</td>\n",
       "      <td>False</td>\n",
       "      <td>80400.000</td>\n",
       "      <td>2.923274e-15</td>\n",
       "      <td>3.420822e+14</td>\n",
       "      <td>2.039922e-10</td>\n",
       "    </tr>\n",
       "    <tr>\n",
       "      <th>2</th>\n",
       "      <td>Z</td>\n",
       "      <td>boson</td>\n",
       "      <td>91.2GeV</td>\n",
       "      <td>3</td>\n",
       "      <td>1</td>\n",
       "      <td>3</td>\n",
       "      <td>False</td>\n",
       "      <td>91200.000</td>\n",
       "      <td>2.577097e-15</td>\n",
       "      <td>3.880335e+14</td>\n",
       "      <td>1.585390e-10</td>\n",
       "    </tr>\n",
       "    <tr>\n",
       "      <th>4</th>\n",
       "      <td>Higgs</td>\n",
       "      <td>boson</td>\n",
       "      <td>125.3GeV</td>\n",
       "      <td>1</td>\n",
       "      <td>1</td>\n",
       "      <td>1</td>\n",
       "      <td>False</td>\n",
       "      <td>125300.000</td>\n",
       "      <td>1.875748e-15</td>\n",
       "      <td>5.331206e+14</td>\n",
       "      <td>8.398922e-11</td>\n",
       "    </tr>\n",
       "    <tr>\n",
       "      <th>10</th>\n",
       "      <td>t,t¯</td>\n",
       "      <td>fermion</td>\n",
       "      <td>173GeV</td>\n",
       "      <td>2</td>\n",
       "      <td>3</td>\n",
       "      <td>12</td>\n",
       "      <td>True</td>\n",
       "      <td>173000.000</td>\n",
       "      <td>1.358562e-15</td>\n",
       "      <td>7.360723e+14</td>\n",
       "      <td>4.405888e-11</td>\n",
       "    </tr>\n",
       "  </tbody>\n",
       "</table>\n",
       "</div>"
      ]
     },
     "execution_count": 14,
     "metadata": {},
     "output_type": "execute_result"
    }
   ],
   "execution_count": 14
  },
  {
   "cell_type": "code",
   "id": "4887f0eb-ef80-4ace-9f32-6f04ad85daf4",
   "metadata": {
    "ExecuteTime": {
     "end_time": "2024-12-02T21:57:45.828635Z",
     "start_time": "2024-12-02T21:57:45.821368Z"
    }
   },
   "source": [
    "def gs_tot(MeV, entropy=False):\n",
    "    if MeV > 150:\n",
    "        gb = np.sum(df[\"g\"][(df[\"MeV\"] < MeV) & (df[\"Type\"]==\"boson\") & (df[\"Particles\"]!=\"pions\")])\n",
    "        gf = np.sum(df[\"g\"][(df[\"MeV\"] < MeV) & (df[\"Type\"]==\"fermion\")])\n",
    "    elif MeV < 150 and MeV >= 0.511:  # QCD phase transition\n",
    "        gb = np.sum(df[\"g\"][(df[\"MeV\"] < MeV) & (df[\"Type\"]==\"boson\") & (df[\"QCD\"]==False)])\n",
    "        gf = np.sum(df[\"g\"][(df[\"MeV\"] < MeV) & (df[\"Type\"]==\"fermion\") & (df[\"QCD\"]==False)])\n",
    "    elif MeV < 0.511:  # e+/e- annihilation\n",
    "        gb = 2\n",
    "        if not entropy:\n",
    "            gf = 2 * 3 * (4/11)**(4/3)  # neutrinos at lower T\n",
    "        else:\n",
    "            gf = 2 * 3 * (4/11)\n",
    "    return gb + 7/8 * gf\n",
    "\n",
    "gs_tot(1e6)"
   ],
   "outputs": [
    {
     "data": {
      "text/plain": [
       "106.75"
      ]
     },
     "execution_count": 15,
     "metadata": {},
     "output_type": "execute_result"
    }
   ],
   "execution_count": 15
  },
  {
   "cell_type": "code",
   "id": "3ce05895-1adf-412b-b436-025218000219",
   "metadata": {
    "ExecuteTime": {
     "end_time": "2024-12-02T21:57:46.119528Z",
     "start_time": "2024-12-02T21:57:45.829773Z"
    }
   },
   "source": [
    "MeVs = np.sort(np.concatenate([np.logspace(-2, 7, 1000), df[\"MeV\"]]))\n",
    "ts = [MeV_to_time(MeV) for MeV in MeVs]\n",
    "gs = [gs_tot(MeV) for MeV in MeVs]"
   ],
   "outputs": [
    {
     "name": "stderr",
     "output_type": "stream",
     "text": [
      "/var/folders/jk/kyldbk_95pl2fc_t8qb_l8580000gw/T/ipykernel_13962/1109799512.py:8: RuntimeWarning: divide by zero encountered in scalar divide\n",
      "  return a_to_time(T0.to(u.K).value / T)\n",
      "/var/folders/jk/kyldbk_95pl2fc_t8qb_l8580000gw/T/ipykernel_13962/1109799512.py:5: IntegrationWarning: The integral is probably divergent, or slowly convergent.\n",
      "  return quad(inv_aH, 0, a)[0]\n"
     ]
    }
   ],
   "execution_count": 16
  },
  {
   "cell_type": "code",
   "id": "12aff2df-d300-4d2c-9e24-41da579e5171",
   "metadata": {
    "ExecuteTime": {
     "end_time": "2024-12-02T22:13:34.144833Z",
     "start_time": "2024-12-02T22:13:33.981094Z"
    }
   },
   "source": [
    "#| label: ggstar_plot\n",
    "fig = plt.figure()\n",
    "plt.plot(MeVs, gs)\n",
    "plt.grid()\n",
    "plt.xscale(\"log\")\n",
    "plt.xlim((1e6, 1e-1))\n",
    "ax1 = plt.gca()\n",
    "#ax1.invert_xaxis()\n",
    "ax2 = plt.gca().twiny()\n",
    "ax2.set_xscale(\"log\")\n",
    "ticks = ax1.get_xticks()[::-1][1:-1]\n",
    "ticks = ticks[(ticks>=MeVs.min()) & (ticks<=MeVs.max())]\n",
    "#print(ticks)\n",
    "#ticks = 10.**np.arange(6, -3, -1)\n",
    "#print(ticks)\n",
    "new_ticks = [MeV_to_time(tick) for tick in ticks]\n",
    "#print(new_ticks)\n",
    "ax2.set_xticks(new_ticks)\n",
    "ax2.set_xticklabels([f\"{tick:.0g}\" for tick in new_ticks])\n",
    "ax2.set_xlabel(\"$t$ [s]\")\n",
    "ax1.set_ylabel(\"$g_*(T)$\")\n",
    "ax1.set_xlabel(\"$T$ [MeV]\")\n",
    "plt.show()"
   ],
   "outputs": [
    {
     "data": {
      "text/plain": [
       "Canvas(toolbar=Toolbar(toolitems=[('Home', 'Reset original view', 'home', 'home'), ('Back', 'Back to previous …"
      ],
      "image/png": "[encoded data removed]",
      "text/html": [
       "\n",
       "            <div style=\"display: inline-block;\">\n",
       "                <div class=\"jupyter-widgets widget-label\" style=\"text-align: center;\">\n",
       "                    Figure\n",
       "                </div>\n",
       "                <img src='data:image/png;base64,iVBORw0KGgoAAAANSUhEUgAAAoAAAAHgCAYAAAA10dzkAAAAOXRFWHRTb2Z0d2FyZQBNYXRwbG90bGliIHZlcnNpb24zLjkuMSwgaHR0cHM6Ly9tYXRwbG90bGliLm9yZy/TGe4hAAAACXBIWXMAAA9hAAAPYQGoP6dpAABEgElEQVR4nO3deXxU9b3/8fdkMlmAgAKShR0vIDEIEpDK7pIguFRp1RZFrEuxgBX5WS6IS7AaFC3iQwSLVeS2olwXrLfFStqyhwpCEAWlLmyGxBSMJARIJsn5/QEzMCZDQjLnnMmc1/Px4FHnzJmZz/l0lne+53zPcRmGYQgAAACOEWV3AQAAALAWARAAAMBhCIAAAAAOQwAEAABwGAIgAACAwxAAAQAAHIYACAAA4DAEQAAAAIchAAIAADgMARAAAMBhCIAAAAAOQwAEAABwGAIgAACAwxAAAQAAHIYACAAA4DAEQAAAAIchAALAaUaMGCGXyyWXy6Vt27bV6zG33367/zHvvvuuqfUBQCgQAAE4ypQpU3T99defcZ27775bBQUFSktLq9dzPvfccyooKAhBdQBgDQIgAEfZvHmzLrnkkjOu06xZMyUlJSk6Orpez9mqVSslJSWFojwAsAQBEIAjeL1excTEKDc3VzNnzpTL5dLAgQPr/fi33npLvXv3Vnx8vNq0aaMrr7xSZWVlJlYMAOap35+3ANDEud1urV+/XgMHDtS2bduUmJiouLi4ej22oKBAP//5zzVnzhzdcMMNKi0t1bp162QYhslVA4A5CIAAHCEqKkoHDhxQmzZt1KdPn7N6bEFBgSorKzVmzBh17txZktS7d28zygQAS7ALGIBj5OXlnXX4k6Q+ffroiiuuUO/evXXjjTfqpZdeUnFxsQkVAoA1CIAAHGPbtm0NCoBut1s5OTl6//33lZqaqueff149e/bU7t27TagSAMxHAATgGJ988okuuuiiBj3W5XJp8ODBmjVrlvLy8hQTE6Ply5eHuEIAsAbHAAJwjOrqam3fvl0HDhxQ8+bN1apVq3o97sMPP9Q//vEPZWZmql27dvrwww/1n//8R7169TK5YgAwByOAABzj8ccf17Jly9S+fXs99thj9X5cy5YttXbtWo0ePVo9evTQQw89pN/97ncaNWqUidUCgHkYAQTgGLfeeqtuvfXWs35cr1699Le//c2EigDAHowAAsAPLFiwQC1atNAnn3xSr/XvuecetWjRwuSqACB0XAZnMgUAv/z8fB07dkyS1KlTJ8XExNT5mKKiIpWUlEiSkpOT1bx5c1NrBIDGIgACAAA4DLuAAQAAHIYACAAA4DAEQAAAAIdxbABcu3atrr32WqWkpMjlcundd99t9HMWFBRo7Nix6tmzp6KiojRlypQa67z00ksaOnSozj33XJ177rm68sortWnTpka/dqjY1RdJevvtt5WamqrY2FilpqaG3VUWzOiNJK1Zs0bp6emKi4tTt27d9OKLL9ZYZ968eerZs6fi4+PVsWNH3X///Tp+/HhIXj8U7OzN999/r0mTJik5OVlxcXHq1auXVqxYEZLXb6gFCxaoa9euiouLU3p6utatW3fG9euznfX5fNT1uu+8845Gjhyptm3byuVyadu2bY3aTrOEun87duzQT37yE3Xp0kUul0vz5s0zsXr7mfV5tIsd21PX52327NkaMGCAEhIS1K5dO11//fXatWuX6XWFkmMDYFlZmfr06aP58+eH7DnLy8t13nnnaebMmUGvN7p69Wr9/Oc/16pVq7Rx40Z16tRJmZmZys/PD1kdjWFXXzZu3Kibb75Z48aN08cff6xx48bppptu0ocffhiyOhrLjN7s3r1bo0eP1tChQ5WXl6cHH3xQv/71r/X222/713nttdc0ffp0Pfroo/rss8/08ssva9myZZoxY0bI6mgsu3pTUVGhjIwM7dmzR2+99ZZ27dqll156Se3btw9ZHWdr2bJlmjJlimbOnKm8vDwNHTpUo0aN0r59+2pdvz7bWZ/PR31et6ysTIMHD9aTTz5pXgMayYz+HT16VN26ddOTTz6ppKQkqzbFNmZ8Hu0U6u159dVXNWLEiKD31+fztmbNGk2aNEn/+te/lJOTo8rKSmVmZqqsrCwkNVrCgCHJWL58ecCy8vJy4ze/+Y2RkpJiNGvWzLjkkkuMVatW1fs5hw8fbtx33311rldZWWkkJCQYS5YsObuiLWBlX2666SbjqquuClg2cuRI42c/+1kDKjdfqHozbdo044ILLghYNmHCBONHP/qR//akSZOMyy+/PGCdqVOnGkOGDGnUNpjFyt4sXLjQ6Natm1FRURGq8hvtkksuMe65556AZRdccIExffr0Wtevz3bW5/NxNq+7e/duQ5KRl5dXr22ykhn9O13nzp2NZ599NiS1NgW1fR6bslB8vyxevNgYPnx40Psb8ntUVFRkSDLWrFlTn80IC44dAazLL37xC23YsEFvvPGGtm/frhtvvFFXXXWVvvjii5C+ztGjR+X1etW6deuQPq9ZzOrLxo0blZmZGbBs5MiRys3NbdTzWqkhvQm23R999JG8Xq8kaciQIdqyZYv/UIGvv/5aK1as0NVXX23exoSYWb157733dOmll2rSpElKTExUWlqasrOzVVVVZer2BFNRUaEtW7bUqDszMzPoe7k+21nX56MhrxuOzOofIluof5ca8nt0+PBhSWoyv+WSg3cBn8lXX32l119/XW+++aaGDh2q888/Xw888ICGDBmixYsXh/S1pk+frvbt2+vKK68M6fOawcy+FBYWKjExMWBZYmKiCgsLG/W8Vmlob4Jtd2VlpQ4ePChJ+tnPfqbf/va3GjJkiDwej84//3xddtllmj59uqnbFCpm9ubrr7/WW2+9paqqKq1YscJ/jd4nnnjC1G0K5uDBg6qqqjqr93J9trOuz0dDXjccmdU/RC4zfpfO9vfIMAxNnTpVQ4YMUVpaWoNe0w5cC7gWW7dulWEY6tGjR8Dy8vJytWnTRpICLvt066231nrQdl3mzJmj119/XatXr1ZcXFzjiraA2X1xuVwBtw3DqLEsXDWmN7Vt9+nLV69erSeeeEILFizQwIED9eWXX+q+++5TcnKyHn74YdO2KVTM7E11dbXatWunRYsWye12Kz09XQcOHNDTTz+tRx55xLRtqsvZvpfr2s76PmdT/gydzoz+ITLV5/tl3759Sk1N9d9XWVkpr9d7xt+rs3kPTp48Wdu3b9f69esbvT1WIgDWorq6Wm63W1u2bJHb7Q64z/eGOX32XMuWLc/6NZ555hllZ2fr73//uy666KJG1WsVM/uSlJRU46+roqKiGn+FhauG9ibYdkdHR/u/vB5++GGNGzdOd911lySpd+/eKisr0y9/+UvNnDlTUVHhPZBvZm+Sk5Pl8XgCnrdXr14qLCxURUVFvS7jFkpt27aV2+0+q/dyfbazrs9HQ143HJnVP0Su+ny/pKSkBHzHvPPOO3r77bf12muv+Zed/nt1Nr9H9957r9577z2tXbtWHTp0CMUmWYYAWIuLL75YVVVVKioq0tChQ2td57/+678a/PxPP/20Hn/8cX3wwQfq379/g5/Hamb25dJLL1VOTo7uv/9+/7KVK1dq0KBBDXo+qzW0N5deeqn+7//+L2DZypUr1b9/f3k8HkknjhP9Ychzu90yDMM/0hHOzOzN4MGDtXTpUlVXV/t79O9//1vJycmWhz9JiomJUXp6unJycnTDDTf4l+fk5OjHP/5xrY+pz3bW9floyOuGI7P6h8hVn++X6OjogO+Ydu3aKT4+PujvVX1+jwzD0L333qvly5dr9erV6tq1a4i2yEIWTzoJG6WlpUZeXp6Rl5dnSDLmzp1r5OXlGXv37jUMwzBuueUWo0uXLsbbb79tfP3118amTZuMJ5980vjrX/96xuf1PWd6eroxduxYIy8vz9ixY4f//qeeesqIiYkx3nrrLaOgoMD/r7S01NTtrS+7+rJhwwbD7XYbTz75pPHZZ58ZTz75pBEdHW3861//MnV7z4YZvfn666+NZs2aGffff7+xc+dO4+WXXzY8Ho/x1ltv+dd59NFHjYSEBOP11183vv76a2PlypXG+eefb9x0002mb3N92dWbffv2GS1atDAmT55s7Nq1y/jLX/5itGvXznj88cdN3+Zg3njjDcPj8Rgvv/yysXPnTmPKlClG8+bNjT179hiGYRjTp083xo0b51+/PttZn89HXa9rGIZx6NAhIy8vz/jrX/9qSDLeeOMNIy8vzygoKLCgM/VjRv/Ky8v978/k5GTjgQceMPLy8owvvvjC8u2zQl2fx6Ym1N8vdc0Crs/n7Ve/+pXRqlUrY/Xq1QG/5UePHg3ptpvJsQFw1apVhqQa/8aPH28YhmFUVFQYjzzyiNGlSxfD4/EYSUlJxg033GBs3779jM9b23N27tzZf3/nzp1rXefRRx81b2PPgl19MQzDePPNN42ePXsaHo/HuOCCC4y3337bpK1sGLN6s3r1auPiiy82YmJijC5duhgLFy4MuN/r9RpZWVnG+eefb8TFxRkdO3Y0Jk6caBQXF5u0pWfPrt4YhmHk5uYaAwcONGJjY41u3boZTzzxhFFZWWnGZtbbCy+8YHTu3NmIiYkx+vXrF3BqiPHjx9f48anPdtbn83Gm1zWMEz984fz94xPq/vlOe/PDf2cKAU1ZXZ/HpibU3y91BUDDqPvzVls9kozFixeHYIut4TKMJrAPCQAAACET3kePAwAAIOQIgAAAAA5DAAQAAHAYAiAAAIDDEAABAAAchgAIAADgMARAAAAAhyEANkJ5ebmysrJUXl5udylhh94ER2+Coze1oy/B0Zvg6E1w9EbiRNCNUFJSolatWunw4cMBF5IGvTkTehMcvakdfQmO3gRHb4KjN4wAAgAAOA4BEAAAwGGi7S6gKausrJQk7d+/X61atbK5mvBSWloqScrPz1dJSYnN1YQXehMcvakdfQmO3gRHb4I7fPiwpFO/407EMYCNsH79eg0dOtTuMgAAQAOsW7dOQ4YMsbsMWzAC2AidOnWSJOXm5qpjx442VxNeKisr9Y9//ENXXHGFoqN5m52O3gRHb2pHX4KjN8HRm+D279+vQYMG+X/HnYh3RCNERZ04hDI5OVkdOnSwuZrw4vV61bZtW7Vv314ej8fucsIKvQmO3tSOvgRHb4KjN8H5dv36fsedyLlbDgAA4FAEQAAAAIchAAIAADgMARAAAMBhCIAAAAAOQwAEAABwGAIgAACAwxAAAQAAHIYACAAA4DAEQAAAAIchAAIAADgMARAAAMBhou0uIBI89n+fqeV5xXaXETIx0VG6c0g39UxKsLsUAABgAgJgCKz8rEjR+dV2lxFSlVWG5t7c1+4yAACACQiAIXDv5d3UJrG93WWExJa9xXr/00IdraiyuxQAAGASAmAI3Ny/o7p06WJ3GSERH7NX739aqCrDsLsUAABgEiaBIIDb5ZIkGQRAAAAiFgEQAaKiTgTAqmoCIAAAkYoAiABRJ0cAq8h/AABELAIgArhPviOqGQEEACBiEQARwDcCWM0xgAAARCwCIAK4OQYQAICIRwBEADcjgAAARDwCIAK4XIwAAgAQ6QiACODbBUz+AwAgchEAEcA/C5hdwAAARCwCIAJEsQsYAICIRwBEAAIgAACRjwCIAL5jANkDDABA5CIAIsCpS8GRAAEAiFQEQATwzwJmFzAAABGrSQbAtWvX6tprr1VKSopcLpfefffdgPsNw1BWVpZSUlIUHx+vESNGaMeOHQHrlJeX695771Xbtm3VvHlzXXfddfrmm28s3Irw5JsFzAggAACRq0kGwLKyMvXp00fz58+v9f45c+Zo7ty5mj9/vjZv3qykpCRlZGSotLTUv86UKVO0fPlyvfHGG1q/fr2OHDmia665RlVVVVZtRlhycSUQAAAiXrTdBTTEqFGjNGrUqFrvMwxD8+bN08yZMzVmzBhJ0pIlS5SYmKilS5dqwoQJOnz4sF5++WX98Y9/1JVXXilJ+tOf/qSOHTvq73//u0aOHGnZtoQb/6Xgqm0uBAAAmKZJBsAz2b17twoLC5WZmelfFhsbq+HDhys3N1cTJkzQli1b5PV6A9ZJSUlRWlqacnNzgwbA8vJylZeX+2/7RhS9Xq+8Xq9JW2Qto/rECGhldXWjtsn32EjpSyjRm+DoTe3oS3D0Jjh6Exw9icAAWFhYKElKTEwMWJ6YmKi9e/f614mJidG5555bYx3f42sze/ZszZo1q8bytWvXaufOnY0tPSzkl0lStI4dO64VK1Y0+vlycnIa/RyRit4ER29qR1+CozfB0ZuaDh48aHcJtou4AOjjO5bNxzCMGst+qK51ZsyYoalTp/pv5+fnKzU1VcOGDVOXLl0aVW+42FVYqjnbN8oTE6vRo0c0+Hm8Xq9ycnKUkZEhj8cTugIjAL0Jjt7Ujr4ER2+CozfB7dmzx+4SbBdxATApKUnSiVG+5ORk//KioiL/qGBSUpIqKipUXFwcMApYVFSkQYMGBX3u2NhYxcbG+m+XlJRIkjweT8R8uGJjTmxHtWGEZJsiqTehRm+Coze1oy/B0Zvg6E1N9KOJzgI+k65duyopKSlgyLuiokJr1qzxh7v09HR5PJ6AdQoKCvTpp5+eMQA6QVQUl4IDACDSNckRwCNHjujLL7/03969e7e2bdum1q1bq1OnTpoyZYqys7PVvXt3de/eXdnZ2WrWrJnGjh0rSWrVqpXuvPNO/b//9//Upk0btW7dWg888IB69+7tnxXsVP5ZwOQ/AAAiVpMMgB999JEuu+wy/23fcXnjx4/Xq6++qmnTpunYsWOaOHGiiouLNXDgQK1cuVIJCQn+xzz77LOKjo7WTTfdpGPHjumKK67Qq6++Krfbbfn2hBP/lUA4DyAAABGrSQbAESNGyDhDQHG5XMrKylJWVlbQdeLi4vT888/r+eefN6HCpss3B4ZdwAAARK6IOwYQjcMIIAAAkY8AiAC+YwAZAQQAIHIRABEgKopJIAAARDoCIAJEnXYi7GpSIAAAEalJTgKBedynBcBnVu4KCIQ/5HJJGamJuqjDORZUBgAAQoUAiACxnih53C55qwwtWP1Vneuv3PGtPrh/mAWVAQCAUCEAIkCcx63nfnaxNu3+7ozrFR+t0J+3HdB3RyssqgwAAIQKARA1jO6drNG9k8+4zpdFpfrztgM6VlGldV/8p8b9lZVV+vx7l1p+eUhtE+KV1r6lXGfYnQwAAKxDAESDxEafuGLKkfJKjXt5U5C13Fr42RZJ0gtj++nqi84cKgEAgDUIgGiQDufG66b+HbT9m8O1r2AYKiktVZnh0eFjldpzqMzaAgEAQFAEQDSIy+XSnJ/2CXq/1+vVihUr9GFVRy3d9I3KK6strA4AAJwJ5wGEqXy7iisIgAAAhA0CIEwV4z7xFiMAAgAQPgiAMFVs9Im3WHlllc2VAAAAHwIgTBUTzQggAADhhgAIU/kDYBUBEACAcEEAhKl8AbDcSwAEACBccBoYmMo3CeTzwhI9/cHnkqSUc+L18wGdFBXFlUEAALADARCmOifeI0nac+ioXlj1lX95z8QE9e/S2q6yAABwNAIgTDWsR1tNu6qnikrKJUl/2V6gg0fKdfiY1+bKAABwLgIgTBUbHaWJI/7Lf3v7N9/r4JFyVVYbNlYFAICzMQkEloo+eUxgZRUBEAAAuxAAYanokxM/KquZFQwAgF0IgLCU+2QArGIXMAAAtiEAwlIedgEDAGA7AiAs5fbvAiYAAgBgFwIgLBXt3wXMMYAAANiFAAhL+WYBe9kFDACAbQiAsFQ0k0AAALAdARCW4hhAAADsRwCEpTzukwGwimMAAQCwCwEQlmIEEAAA+xEAYanoqBNvOY4BBADAPgRAWMo3CcTLaWAAALANARCWcp88BrCK08AAAGAbAiAsFc0xgAAA2C7a7gLgLL5jACuqquV16Exgb1W1qqpP/K+irOmB7xrMAABIBEBYzDcCuPTDfVr64T6bq7FTtKZ++HfLXu2uIV310DWplr0eACC8MSwAS6V3OVcx0bztrPbPXUV2lwAACCOMAMJSg85vq+2PZqrc68zdv5LkrfQqJydHGRkZ8kR7TH2trfuK9YtXN0sccgkAOA0BEJaL87gV53HbXYZtvF6pWbTUKt4jj8fcANg89sRHnPwHADgd++KACOY6ccilDIMICAA4hQAIRLCT+Y8RQABAAAIgEMF8I4AAAJyOAAhEtBMJkD3AAIDTEQCBCOY/BpCdwACA0xAAAQdgBBAAcDoCIBDB/JNACIAAgNMQAIEI5mIWCACgFgRAIIIR/wAAtSEAAhGME0EDAGpDAAQimMt3Ghib6wAAhBcCIOAADAACAE5HAAQiGOcBBADUJmIDYGVlpR566CF17dpV8fHx6tatmx577DFVV1f71zEMQ1lZWUpJSVF8fLxGjBihHTt22Fg1AACA+SI2AD711FN68cUXNX/+fH322WeaM2eOnn76aT3//PP+debMmaO5c+dq/vz52rx5s5KSkpSRkaHS0lIbKwdC59QkEHvrAACEl4gNgBs3btSPf/xjXX311erSpYt++tOfKjMzUx999JGkE6N/8+bN08yZMzVmzBilpaVpyZIlOnr0qJYuXWpz9UBoMAkEAFCbaLsLMMuQIUP04osv6t///rd69Oihjz/+WOvXr9e8efMkSbt371ZhYaEyMzP9j4mNjdXw4cOVm5urCRMm1HjO8vJylZeX+2/7Rgq9Xq+8Xq+5G9TE+PpBX2qysjdVVZWSTvzB0xT+v+B9Uzv6Ehy9CY7eBEdPIjgA/vd//7cOHz6sCy64QG63W1VVVXriiSf085//XJJUWFgoSUpMTAx4XGJiovbu3Vvrc86ePVuzZs2qsXzt2rXauXNniLcgMuTk5NhdQtiyojcHyiQpWsfLy7VixQrTXy9UeN/Ujr4ER2+Cozc1HTx40O4SbBexAXDZsmX605/+pKVLl+rCCy/Utm3bNGXKFKWkpGj8+PH+9X54qSzDMIJePmvGjBmaOnWq/3Z+fr5SU1M1bNgwdenSxZTtaKq8Xq9ycnKUkZEhj8djdzlhxcre7Cos1VPbNyo2JlajR48w9bVCgfdN7ehLcPQmOHoT3J49e+wuwXYRGwB/85vfaPr06frZz34mSerdu7f27t2r2bNna/z48UpKSpJ0YiQwOTnZ/7iioqIao4I+sbGxio2N9d8uKSmRJHk8Hj5cQdCb4KzozenP35T+f+B9Uzv6Ehy9CY7e1EQ/IngSyNGjRxUVFbh5brfbfxqYrl27KikpKWBovKKiQmvWrNGgQYMsrRUwy6nzAAIAcErEjgBee+21euKJJ9SpUyddeOGFysvL09y5c3XHHXdIOrHrd8qUKcrOzlb37t3VvXt3ZWdnq1mzZho7dqzN1QOh4TuYgWsBAwBOF7EB8Pnnn9fDDz+siRMnqqioSCkpKZowYYIeeeQR/zrTpk3TsWPHNHHiRBUXF2vgwIFauXKlEhISbKwcCB1GAAEAtYnYAJiQkKB58+b5T/tSG5fLpaysLGVlZVlWF2Ctk+cBJAECAE4TsccAAgAAoHYEQCCCnboUHEOAAIBTCIBABPNPArG1CgBAuCEAAhHMxSwQAEAtCIBABGMEEABQGwIgEMGCXNUQAOBwEXsaGACS6+QY4JHySg3M/rtprxMdFaX7M3rop+kdTHsNAEDoEACBCNY2IUat4j06fMyrb0vKTX2tt7d8QwAEgCaCAAhEsGYx0Vo77TJ9U3zUtNfY8OVBZa/4XFXVHGkIAE0FARCIcK3iPWoV38q0588vPiZJqqyuNu01AAChxSQQAI0S7T5xnGElI4AA0GQQAAE0ijvqxNdIZRUBEACaCgIggEaJjjoxAsgxgADQdBAAATSKO8q3C5hjAAGgqSAAAmgURgABoOkhAAJolFMjgARAAGgqCIAAGiWaSSAA0ORwHkAAjeIbASw57tXTH3zeqOe6tOu5oSgJAFAHAiCARkmIO/E1crSiSi+s+qpRz7X0Q4+y+oSiKgDAmRAAATRKx9bN9NRPeuvzwtIGP8dxb5Ve37Rf3x/zhrAyAEAwBEAAjXbzgE6NenxxWYVe37RfhiExlwQAzMckEAC2c5+8nJxEAAQAKxAAAdjOE3Xqq4jJxABgPgIgANtFnzYCSAAEAPMRAAHYznc1EYkACABWIAACsJ3L5TrtknI2FwMADkAABBAWfCeUJv8BgPkIgADCgsd94uuIEUAAMB8BEEBY8E0E4RhAADAfARBAWIg+eSoYAiAAmI8ACCAseE6OAHIiaAAwHwEQQFjwTQJhBBAAzEcABBAW/JNACIAAYDoCIICw4DsPYLXhqmNNAEBjEQABhIVoRgABwDIEQABhwcNpYADAMgRAAGHBfyUQAiAAmI4ACCAseDgPIABYhgAIICxwJRAAsA4BEEBYYBIIAFiHAAggLHh8J4KutrkQAHAAAiCAsOCfBGJzHQDgBARAAGHBfyUQEiAAmI4ACCAsMAkEAKxDAAQQFqJPngaG8wACgPkIgADCAlcCAQDrEAABhAXfJBACIACYjwAIICz4JoFUGy6bKwGAyEcABBAWohkBBADLEAABhAWuBAIA1iEAAggLTAIBAOtE210AAEinTgNzoMylZR99I7fbbXNF5omOcunKXok6t3mM3aUAcCgCIICwEB9zIgB+VerSQ3/eaXM15rsxvYOevrGP3WUAcCgCIICw8OO+7fV5QYm+2PONEhMT5YqKzCNUDnx/TDsOlOjgkXK7SwHgYBEdAPPz8/Xf//3fev/993Xs2DH16NFDL7/8stLT0yVJhmFo1qxZWrRokYqLizVw4EC98MILuvDCC22uHHCexJZxempMmlas2KfRoy+Wx+OxuyRTvPnRfv3mre3iUEcAdorMP7ElFRcXa/DgwfJ4PHr//fe1c+dO/e53v9M555zjX2fOnDmaO3eu5s+fr82bNyspKUkZGRkqLS21r3AAEc3lOjHZxSABArBRxI4APvXUU+rYsaMWL17sX9alSxf/fxuGoXnz5mnmzJkaM2aMJGnJkiVKTEzU0qVLNWHCBKtLBuAAvtNck/8A2MmSAOj1elVYWKijR4/qvPPOU+vWrU1/zffee08jR47UjTfeqDVr1qh9+/aaOHGi7r77bknS7t27VVhYqMzMTP9jYmNjNXz4cOXm5tYaAMvLy1Vefuq4Hd9IodfrldfrNXmLmhZfP+hLTfQmOCf0prq66uT/Vtd7O53Ql4aiN8HRm+DoieQyDHN2RBw5ckSvvfaaXn/9dW3atCkgOHXo0EGZmZn65S9/qQEDBpjx8oqLi5MkTZ06VTfeeKM2bdqkKVOm6Pe//71uu+025ebmavDgwcrPz1dKSor/cb/85S+1d+9effDBBzWeMysrS7Nmzaqx/A9/+IPatm1rynYAiCyb/+PSn750q0erak1Krba7HMCRDh48qLvuukv79+9Xhw4d7C7HFqaMAD777LN64okn1KVLF1133XWaPn262rdvr/j4eH333Xf69NNPtW7dOmVkZOhHP/qRnn/+eXXv3j2kNVRXV6t///7Kzs6WJF188cXasWOHFi5cqNtuu82/nu94HB/DMGos85kxY4amTp3qv52fn6/U1FQNGzYsYPcyTvx1lZOTo4yMjIg9mL+h6E1wTuhN5ccF+tOXn6htm7YaPbp/vR7jhL40FL0Jjt4Et2fPHrtLsJ0pATA3N1ePPvqoJk6cWOvJXC+55BLdcccdevHFF/Xyyy9rzZo1IQ+AycnJSk1NDVjWq1cvvf3225KkpKQkSVJhYaGSk5P96xQVFSkxMbHW54yNjVVsbKz/dklJiSTJ4/Hw4QqC3gRHb4KL5N5ER5/8TnS5znobI7kvjUVvgqM3NdEPkwLgm2++KbfbrZtvvlnt2rULul5sbKwmTpxoRgkaPHiwdu3aFbDs3//+tzp37ixJ6tq1q5KSkpSTk6OLL75YklRRUaE1a9boqaeeMqUmAGAWMIBwYNokEJMOLay3+++/X4MGDVJ2drZuuukmbdq0SYsWLdKiRYsknfgSnjJlirKzs9W9e3d1795d2dnZatasmcaOHWtr7QAi16lZwCRAAPaJ2NPADBgwQMuXL9eMGTP02GOPqWvXrpo3b55uueUW/zrTpk3TsWPHNHHiRP+JoFeuXKmEhAQbKwcQyXyHGDMCCMBOpgbA+fPna/DgwUpPT7dlluw111yja665Juj9LpdLWVlZysrKsq4oAI7mOjkGSP4DYCdTA+DChQv1+OOPy+VyqX379urXr5/S09PVr18/9evXL2DyBQA4gYszQQMIA6YGwB07dqiyslJ5eXnaunWrtm7dqj/84Q/av3+/XC6XEhMTdeDAATNLAICwEnUyAFazDxiAjUwLgL6ZbikpKUpJSdHVV1/tv++7777TRx99pG3btpn18gAQptgFDMB+tswCbt26tTIzMwMuwwYATnBqEggREIB9osx64vfff1+tWrUy6+kBoEniEEAA4cC0EcCRI0ea9dQA0GRxImgA4cCUEcB9+/ad1fr5+flmlAEAYYcRQADhwJQAOGDAAN19993atGlT0HUOHz6sl156SWlpaXrnnXfMKAMAws6p08AQAQHYx5RdwJ999pmys7N11VVXyePxqH///kpJSVFcXJyKi4u1c+dO7dixQ/3799fTTz+tUaNGmVEGAIQd/yQQe8sA4HCmjAC2bt1azzzzjA4cOKCFCxeqR48eOnjwoL744gtJ0i233KItW7Zow4YNhD8AjuI7BpDzAAKwk6kngo6Li9OYMWM0ZswYM18GAJoM9gADCAemnQYGAFATs4ABhAMCIABYiFnAAMKBpQFw3bp1kqQNGzZY+bIAEDa4EgiAcGBpAHz//fe1ceNGrVixwsqXBYCw4fKPAQKAfSwLgLNmzVJlZaUuv/xyVVZW6rHHHrPqpQEgbJwaAbS3DgDOZlkAfPTRR9W9e3f99re/Vffu3fXII49Y9dIAEDZOHQNIAgRgH0t3AVdWVuqBBx5QVVWVlS8LAGHj1HkAbS4EgKNZGgB/9atfSZImTJhg5csCQNhgEgiAcGB6APzkk09UWVlp9ssAQJPAaWAAhANTrwQiSX369FFMTIxSU1PVp08f9e3b1/+/55xzjtkvDwBhxcXFgAGEAdNHANevX6/WrVura9euKi8v16uvvqrLL79cbdq0Uc+ePfXwww/r+++/N7sMAAgL5D8A4cD0ADh58mQtWLBAb7/9tpYuXaq8vDytWrVK3bp10/jx47Vu3TpdfPHF+s9//mN2KQBgu1PXAiYCArCP6QHw888/V2pqasCy4cOH69lnn9XWrVu1atUq9e/fXw8++KDZpQCA7RgBBBAOTA+AAwYM0J/+9Kcayy+88EKtXLlSLpdLv/nNb/T3v//d7FIAIAz4TgNDBARgH9MD4IIFCzRv3jyNHTtWn3/+uSSpoqJCzz77rFq3bi1JOu+88/Ttt9+aXQoA2C6KK4EACAOmzwK+8MILtXHjRk2ePFmpqamKjY1VZWWloqOjtXjxYklSXl6eUlJSzC4FAGznmwVMAARgJ9MDoHQiBK5atUp79+7Vxx9/LLfbrfT0dCUlJUk6MQL45JNPWlEKANjKVfcqAGA6SwKgT+fOndW5c+cay4cOHWplGQBgG64EAiAcWHopOABwOtfJMUDiHwA7EQABwEIuJoEACAMEQACwgcEYIAAbEQABwEK+EcBq8h8AGxEAAcBCUZwGBkAYIAACgIVc/vPAkAAB2IcACAAW8s8CJv8BsBEBEAAs5J8FbG8ZAByOAAgAFvLtAeZE0ADsRAAEAAsxAgggHBAAAcBSHAMIwH4EQACwUJT/PIAkQAD2IQACgIVc7AMGEAYIgABgIf8kEFurAOB0BEAAsJB/AJBdwABsRAAEAAv5TwRtcx0AnI0ACAAWOjUCaG8dAJyNAAgANjAYAwRgIwIgAFiIEUAA4YAACAAWinJxImgA9iMAAoCFTp0GkAQIwD4EQACwkItLwQEIAwRAALAQFwIBEA4IgABgIf+VQBgCBGAjAiAAWIkRQABhwBEBcPbs2XK5XJoyZYp/mWEYysrKUkpKiuLj4zVixAjt2LHDviIBOALHAAIIBxEfADdv3qxFixbpoosuClg+Z84czZ07V/Pnz9fmzZuVlJSkjIwMlZaW2lQpACfwHQMosRsYgH0iOgAeOXJEt9xyi1566SWde+65/uWGYWjevHmaOXOmxowZo7S0NC1ZskRHjx7V0qVLbawYQKSLOi0Bkv8A2CXa7gLMNGnSJF199dW68sor9fjjj/uX7969W4WFhcrMzPQvi42N1fDhw5Wbm6sJEybU+nzl5eUqLy/33/aNFnq9Xnm9XpO2omny9YO+1ERvgnNCbyorT21bhdcrd5TrDGuf4IS+NBS9CY7eBEdPIjgAvvHGG9q6das2b95c477CwkJJUmJiYsDyxMRE7d27N+hzzp49W7NmzaqxfO3atdq5c2cjK45MOTk5dpcQtuhNcJHcmzKv5PvqXfH++3LXnf/8IrkvjUVvgqM3NR08eNDuEmwXkQFw//79uu+++7Ry5UrFxcUFXc/lCvzmNQyjxrLTzZgxQ1OnTvXfzs/PV2pqqoYNG6YuXbo0uu5I4vV6lZOTo4yMDHk8HrvLCSv0Jjgn9ObwMa8e/GiVJOmqq66Sx133kThO6EtD0Zvg6E1we/bssbsE20VkANyyZYuKioqUnp7uX1ZVVaW1a9dq/vz52rVrl6QTI4HJycn+dYqKimqMCp4uNjZWsbGx/tslJSWSJI/Hw4crCHoTHL0JLpJ746k89d/R0R55out/KHYk96Wx6E1w9KYm+hGhk0CuuOIKffLJJ9q2bZv/X//+/XXLLbdo27Zt6tatm5KSkgKGxSsqKrRmzRoNGjTIxsoBRLqAWcCcDRCATSJyBDAhIUFpaWkBy5o3b642bdr4l0+ZMkXZ2dnq3r27unfvruzsbDVr1kxjx461o2QADnH6QSbMAgZgl4gMgPUxbdo0HTt2TBMnTlRxcbEGDhyolStXKiEhwe7SAEQwF6eBARAGHBMAV69eHXDb5XIpKytLWVlZttQDwJmi2AUMIAxE5DGAABCuXGIEEID9CIAAYKHASSAAYA8CIADYhGsBA7ALARAALMQIIIBwQAAEAAtxDCCAcEAABAALBVxtkgAIwCYEQACw0On5r5ohQAA2IQACgIWiTj8RtI11AHA2AiAAWChgEggjgABsQgAEAAu5GAEEEAYIgABgEwYAAdiFAAgAFvMNAnItYAB2IQACgMX8O4HJfwBsQgAEAIv5jgMk/wGwCwEQACwWdXIIkPMAArALARAALOa7HBz5D4BdCIAAYDX/JBAAsAcBEAAs5psEwomgAdiFAAgAFvOfBob8B8AmBEAAsJhLrrpXAgATEQABwGKMAAKwGwEQACzmPwaQaSAAbEIABACLRZ0cAqwm/wGwCQEQAKzm3wVMAgRgDwIgAFjs1C5gALAHARAALOa/FjAJEIBNCIAAYDGX/ywwJEAA9iAAAoDFTl0JxNYyADgYARAALObfBWxzHQCciwAIABZjBBCA3QiAAGAxl/88gCRAAPYgAAKAxbgUHAC7EQABwGJcCg6A3QiAAGAxRgAB2I0ACAAWc/nHAAHAHgRAALAYI4AA7EYABACLcQwgALsRAAHAYqdOA2NzIQAciwAIABY7tQuYBAjAHgRAALCYPwDaWwYAByMAAoDFfLOAGQAEYBcCIABYzOU/CwwJEIA9CIAAYDH/LGDyHwCbEAABwGK+WcDkPwB2IQACgMUYAQRgNwIgAFjtZAKsJgECsAkBEAAsFuViFjAAexEAAcBiXAoOgN0IgABgMdepBAgAtiAAAoDF/CeCtrkOAM5FAAQAi526FrC9dQBwLgIgANiEYwAB2IUACAAWczELGIDNCIAAYLEozgMIwGYRGwBnz56tAQMGKCEhQe3atdP111+vXbt2BaxjGIaysrKUkpKi+Ph4jRgxQjt27LCpYgBO4T8G0N4yADhYxAbANWvWaNKkSfrXv/6lnJwcVVZWKjMzU2VlZf515syZo7lz52r+/PnavHmzkpKSlJGRodLSUhsrBxDpfLOASYAA7BJtdwFm+dvf/hZwe/HixWrXrp22bNmiYcOGyTAMzZs3TzNnztSYMWMkSUuWLFFiYqKWLl2qCRMm2FE2AAc4NQJIAgRgj4gNgD90+PBhSVLr1q0lSbt371ZhYaEyMzP968TGxmr48OHKzc2tNQCWl5ervLzcf9s3Uuj1euX1es0sv8nx9YO+1ERvgnNMb04e++etrKrXtjqmLw1Ab4KjN8HRE4cEQMMwNHXqVA0ZMkRpaWmSpMLCQklSYmJiwLqJiYnau3dvrc8ze/ZszZo1q8bytWvXaufOnSGuOjLk5OTYXULYojfBRXpvDh92S3Lpo80f6fhX9R8FjPS+NAa9CY7e1HTw4EG7S7CdIwLg5MmTtX37dq1fv77GfS7/NZlOMAyjxjKfGTNmaOrUqf7b+fn5Sk1N1bBhw9SlS5eQ1tzUeb1e5eTkKCMjQx6Px+5ywgq9Cc4pvXll/4fae+Sw0tPTdUWvdnWu75S+NAS9CY7eBLdnzx67S7BdxAfAe++9V++9957Wrl2rDh06+JcnJSVJOjESmJyc7F9eVFRUY1TQJzY2VrGxsf7bJSUlkiSPx8OHKwh6Exy9CS7SexN18jwwUW73WW1npPelMehNcPSmJvoRwbOADcPQ5MmT9c477+if//ynunbtGnB/165dlZSUFDA0XlFRoTVr1mjQoEFWlwvAQaJO7mWoZg4IAJtE7AjgpEmTtHTpUv35z39WQkKC/5i/Vq1aKT4+Xi6XS1OmTFF2dra6d++u7t27Kzs7W82aNdPYsWNtrh5AJDt1kAkJEIA9IjYALly4UJI0YsSIgOWLFy/W7bffLkmaNm2ajh07pokTJ6q4uFgDBw7UypUrlZCQYHG1AJzEfxoY8h8Am0RsADTq8c3qcrmUlZWlrKws8wsCgJN8J4Im/wGwS8QeAwgAYYsRQAA2IwACgMV8xwA+s3KXfrIwV0s/3GdrPQCcJ2J3AQNAuGp/TrwkaffBMu0+WKZvio9q7MBONlcFwEkIgABgscdvSNM1fZJ14PvjeujdT3W0osrukgA4DAEQACzWLCZal1+QqAPfH5MklXurba4IgNNwDCAA2CTO45YkVVRVq4qzQgOwEAEQAGwS5zn1FVxeyW5gANYhAAKATWKj3f7/Ps5uYAAWIgACgE3cUS553CdOCnPcywggAOsQAAHARnEnRwEJgACsxCxgALBRrMet0vJKHSmvVEVlzd3AUa5aHgQAjUQABAAb+SaCXDd/Q633x0ZH6bmbLrKyJAAOwC5gALDRsB7nnfH+8spqbdz9nUXVAHAKRgABwEbZN/TWjFEXqLazAC5Y9ZVeXPOVKqsMyV3LCgDQQARAALBZQpyn1uXNY06kvsrqagIggJBiFzAAhKlo94mv6EquEgIgxAiAABCmok9OAa6sIgACCC0CIACEqWg3ARCAOQiAABCmfCOA3mouEwcgtAiAABCmfMcAVnEMIIAQIwACQJjiGEAAZiEAAkCY8h0DyC5gAKHGeQABIExFR534G31X4REt+T5KOUe2KyqKv9tPV11drQMH6E1tzOhNnCdKE4afr/PPaxGS54N9CIAAEKbatoiVJB0qq9ChsihtPVRoc0Xhit4EF/reeNxReuKG3iF9TliPAAgAYWpg19ZacEs/5ReXaefOnUpNTZU7ikuCnK6quoreBBHq3mz8+pBydn6roxVVIagOdiMAAkCYiopyaXTvZHm9Xq0o3qHRl3aWx1P7ZeOcit4EF+reuFxSzs5v5a3imNRIwAETAACgTv5LEzIrPSIQAAEAQJ08vtMSMSs9IhAAAQBAnXwjgBWMAEYEAiAAAKiTx39takYAIwEBEAAA1MnDMYARhQAIAADq5Ls0IVemiQwEQAAAUCdGACMLARAAANTJf21qjgGMCARAAABQJ98IIAEwMhAAAQBAnWKifaeBIQBGAgIgAACoU+zJAFjuJQBGAgIgAACoU5zHLUkqryQARgICIAAAqJNvBPC4t8rmShAKBEAAAFCn2OhTI4CGwalgmjoCIAAAqFOs51RkYCJI00cABAAAdYo7OQIocRxgJCAAAgCAOnncLrlOnAua4wAjAAEQAADUyeVycSqYCEIABAAA9XL6RBA0bQRAAABQL5wKJnJE210AAABoGnwng57zwS61buaxuZqGK/lPod0l2I4ACAAA6qVdQqz2fXdUa//9H7tLaZTKkoN2l2A7AiAAAKiX393UR//4rEjVTfxE0Ie+zdf0hXZXYS8CIAAAqJfObZrrjiFd7S6j0fbsidJ0u4uwGZNAAAAAHIYACAAA4DAEQAAAAIchAAIAADiM4wPgggUL1LVrV8XFxSk9PV3r1q2zuyQAAABTOToALlu2TFOmTNHMmTOVl5enoUOHatSoUdq3b5/dpQEAAJjG0QFw7ty5uvPOO3XXXXepV69emjdvnjp27KiFCx1+ciAAABDRHHsewIqKCm3ZskXTpweeCSgzM1O5ubm1Pqa8vFzl5eX+26WlpZIkr9crr9drXrFNkK8f9KUmehMcvakdfQmO3gRHb4KjJw4OgAcPHlRVVZUSExMDlicmJqqwsPZrBM6ePVuzZs2qsXzt2rXauXOnKXU2dTk5OXaXELboTXD0pnb0JTh6Exy9qengQS4F59gA6ONyuQJuG4ZRY5nPjBkzNHXqVP/t/Px8paamatiwYerSpYuZZTY5Xq9XOTk5ysjIkMfTdC8YbgZ6Exy9qR19CY7eBEdvgtuzZ4/dJdjOsQGwbdu2crvdNUb7ioqKaowK+sTGxio2NtZ/u6SkRJLk8Xj4cAVBb4KjN8HRm9rRl+DoTXD0pib64eBJIDExMUpPT68xNJ6Tk6NBgwbZVBUAAID5HDsCKElTp07VuHHj1L9/f1166aVatGiR9u3bp3vuucfu0gAAAEzj6AB4880369ChQ3rsscdUUFCgtLQ0rVixQp07d67X46urqyVJBQUFio52dCtrqKys1MGDB5Wfn09vfoDeBEdvakdfgqM3wdGb4AoKCiSd+h13IpdhGIbdRTRVGzZs0JAhQ+wuAwAANMD69es1ePBgu8uwBQGwEb777ju1adNGn376qVq1aqURI0Zo9erV/vvrun02y+pz39msE4rHnElpaalSU1O1c+dOJSQkNNnehLovUuN7E6ymSO9Nfd4PkdqbH/blh6/R0M9TXbXWtR3h+F3zw9cwozd8Dzf936jDhw8rLS1Nhw4dUuvWrUP2vE0JY8KN4BtS79ixo1q2bKmYmBh16NDBf39dt89mWX3uO5t1QvGYM/HNkG7fvn2T7k2o+yI1vjfBaor03tTn/RCpvflhX374Gg39PNVVa13bEY7fNT98DTN6w/dw0/+N8r1XnLxr3LGzgM0wadKks7p9Nsvqc9/ZrBOKxzTm+ZtKb8zuS22v0ZBenWl5XfedzTqNWb8hTn+N+rwf6E3w1zejN+H4XfPD1zCjN3wPR95vlBOxC7gRSkpK1KpVKx0+fNj/1wROoDfB0Zvg6E3t6Etw9CY4ehMcvWEEsFFiY2P16KOPBpwcGifQm+DoTXD0pnb0JTh6Exy9CY7eMAIIAADgOIwAAgAAOAwBEAAAwGEIgAAAAA5DAAQAAHAYAiAAAIDDEABNsnv3bl122WVKTU1V7969VVZWZndJYSM6Olp9+/ZV3759ddddd9ldTtg5evSoOnfurAceeMDuUsJGaWmpBgwYoL59+6p379566aWX7C4pbOzfv18jRoxQamqqLrroIr355pt2lxRWbrjhBp177rn66U9/ancpYeUvf/mLevbsqe7du+sPf/iD3eWEtUh9D3EaGJMMHz5cjz/+uIYOHarvvvtOLVu2dPQlZ07Xtm1bHTx40O4ywtbMmTP1xRdfqFOnTnrmmWfsLicsVFVVqby8XM2aNdPRo0eVlpamzZs3q02bNnaXZruCggJ9++236tu3r4qKitSvXz/t2rVLzZs3t7u0sLBq1SodOXJES5Ys0VtvvWV3OWGhsrJSqampWrVqlVq2bKl+/frpww8/dOw1cesSqe8hRgBNsGPHDnk8Hg0dOlSS1Lp1a8If6uWLL77Q559/rtGjR9tdSlhxu91q1qyZJOn48eOqqqoSf7uekJycrL59+0qS2rVrp9atW+u7776zt6gwctlllykhIcHuMsLKpk2bdOGFF6p9+/ZKSEjQ6NGj9cEHH9hdVtiK1PcQAbAWa9eu1bXXXquUlBS5XC69++67NdZZsGCBunbtqri4OKWnp2vdunX++7744gu1aNFC1113nfr166fs7GwLqzdXY3sjnbgET3p6uoYMGaI1a9ZYVLn5QtGbBx54QLNnz7aoYuuEojfff/+9+vTpow4dOmjatGlq27atRdWbKxS98fnoo49UXV2tjh07mly1NULZm0jS2L4cOHBA7du399/u0KGD8vPzrSg95HiPNBwBsBZlZWXq06eP5s+fX+v9y5Yt05QpUzRz5kzl5eVp6NChGjVqlPbt2ydJ8nq9WrdunV544QVt3LhROTk5ysnJsXITTNPY3kjSnj17tGXLFr344ou67bbbVFJSYlX5pmpsb/785z+rR48e6tGjh5VlWyIU75tzzjlHH3/8sXbv3q2lS5fq22+/tap8U4WiN5J06NAh3XbbbVq0aJEVZVsiVL2JNI3tS22j5y6Xy9SazRKK90h6errS0tJq/Dtw4IBVm2EPA2ckyVi+fHnAsksuucS45557ApZdcMEFxvTp0w3DMIzc3Fxj5MiR/vvmzJljzJkzx/RardaQ3vzQVVddZWzevNmsEm3TkN5Mnz7d6NChg9G5c2ejTZs2RsuWLY1Zs2ZZVbJlQvG+ueeee4z//d//NatE2zS0N8ePHzeGDh1q/M///I8VZdqiMe+bVatWGT/5yU/MLtEWDenLhg0bjOuvv95/369//WvjtddeM71Ws4XiuyWYSHwPMQJ4lioqKrRlyxZlZmYGLM/MzFRubq4kacCAAfr2229VXFys6upqrV27Vr169bKjXEvVpzfFxcUqLy+XJH3zzTfauXOnunXrZnmtVqtPb2bPnq39+/drz549euaZZ3T33XfrkUcesaNcS9WnN99++61/pLikpERr165Vz549La/VavXpjWEYuv3223X55Zdr3LhxdpRpi/r0xonq05dLLrlEn376qfLz81VaWqoVK1Zo5MiRdpRrKt4jZ8bMhLN08OBBVVVVKTExMWB5YmKiCgsLJZ04zUl2draGDRsmwzCUmZmpa665xo5yLVWf3nz22WeaMGGCoqKi5HK59Nxzzzli5ll9euNU9enNN998ozvvvFOGYcgwDE2ePFkXXXSRHeVaqj692bBhg5YtW6aLLrrIf/zTH//4R/Xu3dvqci1V38/UyJEjtXXrVpWVlalDhw5avny5BgwYYHW5lqnvb9Tvfvc7XXbZZaqurta0adMickZ9qL53I/U9RABsoB8eL2EYRsCyUaNGadSoUVaXFRbO1JtBgwbpk08+saOssFDX+8bn9ttvt6ii8HGm3qSnp2vbtm02VBUeztSbIUOGqLq62o6ywkJdnymnzm6tqy/XXXedrrvuOqvLskV9v3eDidT3ELuAz1Lbtm3ldrtr/PVQVFRU468Mp6E3wdGb4OhNcPQmOHpTO/pyCr04MwLgWYqJiVF6enqNWb05OTkaNGiQTVWFB3oTHL0Jjt4ER2+Coze1oy+n0IszYxdwLY4cOaIvv/zSf3v37t3atm2bWrdurU6dOmnq1KkaN26c+vfvr0svvVSLFi3Svn37dM8999hYtTXoTXD0Jjh6Exy9CY7e1I6+nEIvGsGeycfhbdWqVYakGv/Gjx/vX+eFF14wOnfubMTExBj9+vUz1qxZY1/BFqI3wdGb4OhNcPQmOHpTO/pyCr1oOK4FDAAA4DAcAwgAAOAwBEAAAACHIQACAAA4DAEQAADAYQiAAAAADkMABAAAcBgCIAAAgMMQAAEAAByGAAgAAOAwBEAAjjBixAi5XC65XC5t27bN7nJ0++23++t599137S4HgMMQAAE0OX/729/84SnYv/fff7/G4+6++24VFBQoLS3Nv8wXxGq7OPzEiRPlcrl0++2316uua6+9VldeeWWt923cuFEul0tbt26VJD333HMqKCio1/MCQKgRAAE0OcOHD1dBQYH/X5s2bfTggw8GLMvIyKjxuGbNmikpKUnR0dEByzt27Kg33nhDx44d8y87fvy4Xn/9dXXq1Knedd1555365z//qb1799a475VXXlHfvn3Vr18/SVKrVq2UlJRU7+cGgFAiAAJocuLj45WUlKSkpCRVVVXp0KFDGjJkiH9ZbSHvTPr166dOnTrpnXfe8S9755131LFjR1188cUB6xqGoTlz5qhbt26Kj49Xnz599NZbb0mSrrnmGrVr106vvvpqwGOOHj2qZcuW6c4772z4RgNACBEAATRpeXl5kqT09PRGPc8vfvELLV682H/7lVde0R133FFjvYceekiLFy/WwoULtWPHDt1///269dZbtWbNGkVHR+u2227Tq6++KsMw/I958803VVFRoVtuuaVRNQJAqBAAATRpW7duVfv27dWuXbtGPc+4ceO0fv167dmzR3v37tWGDRt06623BqxTVlamuXPn6pVXXtHIkSPVrVs33X777br11lv1+9//XpJ0xx13aM+ePVq9erX/ca+88orGjBmjc889t1E1AkCo1H8fCQCEoa1bt/qPq2uMtm3b6uqrr9aSJUtkGIauvvpqtW3bNmCdnTt36vjx4zWOL6yoqPDvKr7gggs0aNAgvfLKK7rsssv01Vdfad26dVq5cmWjawSAUCEAAmjStm7dGrJj6+644w5NnjxZkvTCCy/UuL+6ulqS9Ne//lXt27cPuC82Ntb/33feeacmT56sF154QYsXL1bnzp11xRVXhKRGAAgFAiCAJuvQoUPav39/SEYAJemqq65SRUWFJGnkyJE17k9NTVVsbKz27dun4cOHB32em266Sffdd5+WLl2qJUuW6O6775bL5QpJjQAQCgRAAE3Wli1bJClkAdDtduuzzz7z//cPJSQk6IEHHtD999+v6upqDRkyRCUlJcrNzVWLFi00fvx4SVKLFi10880368EHH9Thw4frfR5BALAKARBAk5WXl6d27drV2B3bGC1btjzj/b/97W/Vrl07zZ49W19//bXOOecc9evXTw8++GDAenfeeadefvllZWZmntW5BAHACi7j9HMVAECEGjFihPr27at58+bZXUoAl8ul5cuX6/rrr7e7FAAOwmlgADjGggUL1KJFC33yySd2l6J77rlHLVq0sLsMAA7FCCAAR8jPz/df6q1Tp06KiYmxtZ6ioiKVlJRIkpKTk9W8eXNb6wHgLARAAAAAh2EXMAAAgMMQAAEAAByGAAgAAOAw/x9xgIefRp/OjAAAAABJRU5ErkJggg==' width=640.0/>\n",
       "            </div>\n",
       "        "
      ],
      "application/vnd.jupyter.widget-view+json": {
       "version_major": 2,
       "version_minor": 0,
       "model_id": "f766a966ce77459db928cf2ff86aa87b"
      }
     },
     "metadata": {},
     "output_type": "display_data"
    }
   ],
   "execution_count": 59
  },
  {
   "metadata": {},
   "cell_type": "markdown",
   "source": [
    "\\begin{equation}\n",
    "  \\boxed{T \\propto \\left[g_{\\star S}^{1/3}(T) a\\right]^{-1}}\n",
    "\\end{equation}\n"
   ],
   "id": "bffb3d2f3279ca21"
  },
  {
   "cell_type": "code",
   "id": "93253001-dc21-420a-aafb-4d86ae9e76e4",
   "metadata": {
    "ExecuteTime": {
     "end_time": "2024-12-02T21:57:46.378466Z",
     "start_time": "2024-12-02T21:57:46.373676Z"
    }
   },
   "source": [
    "def T_precise(a):\n",
    "    T_tmp = T0 / a\n",
    "    gs0 = gs_tot(T_to_MeV(T0).value, entropy=True)\n",
    "    for k in range(10):\n",
    "        T_tmp = T0 * (gs0/gs_tot(T_to_MeV(T_tmp).value, entropy=True))**(1/3) / a\n",
    "    return T_tmp\n",
    "\n",
    "T_precise(a=1e-5)"
   ],
   "outputs": [
    {
     "data": {
      "text/plain": [
       "<Quantity 272550. K>"
      ],
      "text/latex": "$272550 \\; \\mathrm{K}$"
     },
     "execution_count": 18,
     "metadata": {},
     "output_type": "execute_result"
    }
   ],
   "execution_count": 18
  },
  {
   "metadata": {
    "ExecuteTime": {
     "end_time": "2024-12-02T22:13:03.049855Z",
     "start_time": "2024-12-02T22:13:00.165675Z"
    }
   },
   "cell_type": "code",
   "source": [
    "a = np.logspace(-15, -8, 1000)\n",
    "Ts = [T_precise(aa).value for aa in a]"
   ],
   "id": "acc3cca298bf9c28",
   "outputs": [],
   "execution_count": 57
  },
  {
   "cell_type": "code",
   "id": "4a0d356b-1d1a-42ca-adb7-bc68ba2b634c",
   "metadata": {
    "ExecuteTime": {
     "end_time": "2024-12-02T22:13:03.713729Z",
     "start_time": "2024-12-02T22:13:03.051192Z"
    }
   },
   "source": [
    "#| label: Ta_plot\n",
    "fig = plt.figure()\n",
    "ax1 = plt.gca()\n",
    "ax1.plot(a, Ts)\n",
    "ax1.plot(a, T0.value/a, 'k--')\n",
    "ax1.grid()\n",
    "ax1.set_xscale(\"log\")\n",
    "ax1.set_yscale(\"log\")\n",
    "ax1.set_xlim(a.min(), a.max())\n",
    "#ax1.invert_xaxis()\n",
    "ax2 = plt.gca().twiny()\n",
    "ax2.set_xscale(\"log\")\n",
    "ticks = ax1.get_xticks()[::-1]\n",
    "ticks = ticks[(ticks>=a.min()) & (ticks<=a.max())]\n",
    "#print(ticks)\n",
    "#ticks = 10.**np.arange(6, -3, -1)\n",
    "#print(ticks)\n",
    "new_ticks = [a_to_time(tick) for tick in ticks]\n",
    "#print(new_ticks)\n",
    "ax2.set_xticks(new_ticks)\n",
    "ax2.set_xticklabels([f\"{tick:.0g}\" for tick in new_ticks])\n",
    "ax1.set_xlabel(\"$a$\")\n",
    "ax1.set_ylabel(\"$T$ [K]\")\n",
    "ax2.set_xlabel(\"$t$ [s]\")\n",
    "plt.show()"
   ],
   "outputs": [
    {
     "name": "stdout",
     "output_type": "stream",
     "text": [
      "[1.e-08 1.e-09 1.e-10 1.e-11 1.e-12 1.e-13 1.e-14 1.e-15]\n"
     ]
    },
    {
     "data": {
      "text/plain": [
       "Canvas(toolbar=Toolbar(toolitems=[('Home', 'Reset original view', 'home', 'home'), ('Back', 'Back to previous …"
      ],
      "image/png": "[encoded data removed]",
      "text/html": [
       "\n",
       "            <div style=\"display: inline-block;\">\n",
       "                <div class=\"jupyter-widgets widget-label\" style=\"text-align: center;\">\n",
       "                    Figure\n",
       "                </div>\n",
       "                <img src='data:image/png;base64,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' width=640.0/>\n",
       "            </div>\n",
       "        "
      ],
      "application/vnd.jupyter.widget-view+json": {
       "version_major": 2,
       "version_minor": 0,
       "model_id": "b60cdecb96ae455ab03ea844139c81ef"
      }
     },
     "metadata": {},
     "output_type": "display_data"
    }
   ],
   "execution_count": 58
  },
  {
   "metadata": {
    "ExecuteTime": {
     "end_time": "2024-12-02T21:57:48.256449Z",
     "start_time": "2024-12-02T21:57:48.253942Z"
    }
   },
   "cell_type": "code",
   "source": "",
   "id": "1e7c732af702dcb4",
   "outputs": [],
   "execution_count": 20
  }
 ],
 "metadata": {
  "kernelspec": {
   "display_name": "Python 3 (ipykernel)",
   "language": "python",
   "name": "python3"
  },
  "language_info": {
   "codemirror_mode": {
    "name": "ipython",
    "version": 3
   },
   "file_extension": ".py",
   "mimetype": "text/x-python",
   "name": "python",
   "nbconvert_exporter": "python",
   "pygments_lexer": "ipython3",
   "version": "3.11.5"
  }
 },
 "nbformat": 4,
 "nbformat_minor": 5
}
