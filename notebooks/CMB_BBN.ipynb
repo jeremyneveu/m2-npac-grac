{
 "cells": [
  {
   "cell_type": "markdown",
   "source": [
    "# CMB BBN"
   ],
   "metadata": {
    "collapsed": false
   }
  },
  {
   "cell_type": "code",
   "execution_count": 1,
   "metadata": {
    "collapsed": true,
    "ExecuteTime": {
     "end_time": "2024-02-02T18:32:41.394146Z",
     "start_time": "2024-02-02T18:32:26.790068Z"
    }
   },
   "outputs": [],
   "source": [
    "import numpy as np\n",
    "import matplotlib.pyplot as plt\n",
    "import astropy.constants as const\n",
    "import astropy.units as u\n",
    "from scipy.special import zeta\n",
    "from astropy.cosmology import Planck18"
   ]
  },
  {
   "cell_type": "markdown",
   "source": [
    "## Neutron freeze-out\n",
    "\n",
    "$$\\Gamma_n \\approx H$$\n",
    "$$\\Gamma_n = \\sigma_w n_\\nu c$$\n",
    "$$n_\\nu(T_\\gamma) = \\frac{3}{4}\\frac{4}{11}n_\\gamma(T_\\gamma)\\quad (only \\nu_e)$$\n",
    "$$n_\\gamma = \\frac{2 \\zeta(3) (k_B T)^3}{\\pi^2 \\hbar^3 c^3}$$\n",
    "$$\\sigma_w = (G_F^2 E^2)/(\\hbar c)^2 = G_F^2 (k_B T/(\\hbar c))^2  = 5\\times 10^{-48} \\left(\\frac{k_B T}{1\\,\\mathrm{MeV}}\\right)^2\\,\\mathrm{m}^2 $$\n",
    "$$G_F = 1.166 \\times 10^{-5}\\,\\text{GeV}^{-2}$$\n",
    "$$g_A = 1.26 \\quad\\text{(Kolb Turner p.91)}$$\n",
    "$$ H = \\sqrt{\\frac{8 \\pi^3 G}{90 \\hbar^3 c^5}} g_\\star^{1/2}(T) (k_B T)^2$$\n",
    "$$g_\\star(100\\,\\mathrm{MeV} > T > 511\\,\\mathrm{keV}) = 10.75$$\n",
    "$$g_\\star(T < 511\\,\\mathrm{keV}) = 3.36$$"
   ],
   "metadata": {
    "collapsed": false
   }
  },
  {
   "cell_type": "code",
   "execution_count": 2,
   "outputs": [],
   "source": [
    "T0 = 2.726 * u.K  # K\n",
    "Qn = 1.29 * u.MeV\n",
    "Neff = 3.046\n",
    "gstar = 10.75  # at m_e < T < 100 MeV\n",
    "gstar_after = 3.36  # at m_e > T\n",
    "GF = 1.166e-5 / (u.GeV**2)\n",
    "gA = 1.26\n",
    "taun = 878.4 * u.s"
   ],
   "metadata": {
    "collapsed": false,
    "ExecuteTime": {
     "end_time": "2024-02-02T18:32:41.405284Z",
     "start_time": "2024-02-02T18:32:41.400155Z"
    }
   }
  },
  {
   "cell_type": "code",
   "execution_count": 3,
   "outputs": [
    {
     "data": {
      "text/plain": "<Quantity 410.95293609 1 / cm3>",
      "text/latex": "$410.95294 \\; \\mathrm{\\frac{1}{cm^{3}}}$"
     },
     "execution_count": 3,
     "metadata": {},
     "output_type": "execute_result"
    }
   ],
   "source": [
    "def ng(T):\n",
    "    return 2 * zeta(3) * (const.k_B * T)**3 / (np.pi**2 * const.hbar**3 * const.c**3)\n",
    "\n",
    "ng(T0).to(1/u.cm**3)"
   ],
   "metadata": {
    "collapsed": false,
    "ExecuteTime": {
     "end_time": "2024-02-02T18:32:41.451374Z",
     "start_time": "2024-02-02T18:32:41.418114Z"
    }
   }
  },
  {
   "cell_type": "code",
   "execution_count": 4,
   "outputs": [
    {
     "data": {
      "text/plain": "<Quantity 112.07807348 1 / cm3>",
      "text/latex": "$112.07807 \\; \\mathrm{\\frac{1}{cm^{3}}}$"
     },
     "execution_count": 4,
     "metadata": {},
     "output_type": "execute_result"
    }
   ],
   "source": [
    "# 3/4 for fermion nature, only 1 of the 3 flavors\n",
    "# then 2 polarisations for photons vs g=2 for massless neutrinos\n",
    "def nnu_e(T):\n",
    "    return 4*ng(T)/11 * (3/4) #* Neff\n",
    "\n",
    "nnu_e(T0).to(1/u.cm**3)"
   ],
   "metadata": {
    "collapsed": false,
    "ExecuteTime": {
     "end_time": "2024-02-02T18:32:41.453707Z",
     "start_time": "2024-02-02T18:32:41.432357Z"
    }
   }
  },
  {
   "cell_type": "code",
   "execution_count": 5,
   "outputs": [
    {
     "data": {
      "text/plain": "<Quantity 0.67734578 1 / s>",
      "text/latex": "$0.67734578 \\; \\mathrm{\\frac{1}{s}}$"
     },
     "execution_count": 5,
     "metadata": {},
     "output_type": "execute_result"
    }
   ],
   "source": [
    "def H(T, gstar=gstar):\n",
    "    return (np.sqrt(8*np.pi**3*const.G*gstar/(90*const.hbar**3*const.c**5))*(const.k_B * T)**2).to(1/u.s)\n",
    "\n",
    "T_1MeV = (1 * u.MeV / const.k_B).to(u.K)\n",
    "T_10MeV = (10 * u.MeV / const.k_B).to(u.K)\n",
    "H(T_1MeV)  # OK with Kolb Turner formula p.91"
   ],
   "metadata": {
    "collapsed": false,
    "ExecuteTime": {
     "end_time": "2024-02-02T18:32:41.558334Z",
     "start_time": "2024-02-02T18:32:41.453641Z"
    }
   }
  },
  {
   "cell_type": "code",
   "execution_count": 6,
   "outputs": [
    {
     "data": {
      "text/plain": "(<Quantity 3.15287605e+09 K>, <Quantity 10. s>, <Quantity 9.97026951e+09 K>)"
     },
     "execution_count": 6,
     "metadata": {},
     "output_type": "execute_result"
    }
   ],
   "source": [
    "def t_to_T(t, gstar=gstar):\n",
    "    return (1/const.k_B*np.sqrt(1/(2*t)*np.sqrt(90*const.hbar**3*const.c**5/(8*np.pi**3*const.G*gstar) ))).to(u.K)\n",
    "\n",
    "def T_to_t(T, gstar=gstar):\n",
    "    return 1/(2*H(T, gstar=gstar))\n",
    "\n",
    "t_to_T(10*u.s), T_to_t(t_to_T(10*u.s)), t_to_T(1*u.s)"
   ],
   "metadata": {
    "collapsed": false,
    "ExecuteTime": {
     "end_time": "2024-02-02T18:32:41.568162Z",
     "start_time": "2024-02-02T18:32:41.472196Z"
    }
   }
  },
  {
   "cell_type": "markdown",
   "source": [
    "From equilibrium equations and rate with $G_G$ and $g_A$ :"
   ],
   "metadata": {
    "collapsed": false
   }
  },
  {
   "cell_type": "code",
   "execution_count": 7,
   "outputs": [
    {
     "data": {
      "text/plain": "<Quantity 3.05072871e-47 m2>",
      "text/latex": "$3.0507287 \\times 10^{-47} \\; \\mathrm{m^{2}}$"
     },
     "execution_count": 7,
     "metadata": {},
     "output_type": "execute_result"
    }
   ],
   "source": [
    "sigma_np = (((GF**2)  * (1+3*gA**2)  * 1*u.MeV**2).to(1/u.GeV**2)* (const.hbar * const.c)**2).to(u.m**2)\n",
    "sigma_np"
   ],
   "metadata": {
    "collapsed": false,
    "ExecuteTime": {
     "end_time": "2024-02-02T18:32:41.698695Z",
     "start_time": "2024-02-02T18:32:41.488526Z"
    }
   }
  },
  {
   "cell_type": "code",
   "execution_count": 8,
   "outputs": [
    {
     "data": {
      "text/plain": "<Quantity 0.07907673 1 / s>",
      "text/latex": "$0.079076735 \\; \\mathrm{\\frac{1}{s}}$"
     },
     "execution_count": 8,
     "metadata": {},
     "output_type": "execute_result"
    }
   ],
   "source": [
    "def Gamma_n(T):\n",
    "    return (sigma_np * (const.k_B * T / (1*u.MeV))**2 * nnu_e(T) * const.c).to(1/u.s)\n",
    "\n",
    "Gamma_n(T_1MeV)"
   ],
   "metadata": {
    "collapsed": false,
    "ExecuteTime": {
     "end_time": "2024-02-02T18:32:41.754822Z",
     "start_time": "2024-02-02T18:32:41.504899Z"
    }
   }
  },
  {
   "cell_type": "code",
   "execution_count": 9,
   "outputs": [
    {
     "data": {
      "text/plain": "<Quantity 2.04607038 MeV>",
      "text/latex": "$2.0460704 \\; \\mathrm{MeV}$"
     },
     "execution_count": 9,
     "metadata": {},
     "output_type": "execute_result"
    }
   ],
   "source": [
    "from scipy.optimize import fsolve\n",
    "Tfreeze = fsolve(lambda T: Gamma_n(T*u.K)-H(T*u.K), [1e8, 1e12])[1]\n",
    "(Tfreeze*u.K * const.k_B).to(u.MeV)"
   ],
   "metadata": {
    "collapsed": false,
    "ExecuteTime": {
     "end_time": "2024-02-02T18:32:42.251058Z",
     "start_time": "2024-02-02T18:32:41.543003Z"
    }
   }
  },
  {
   "cell_type": "code",
   "execution_count": 10,
   "outputs": [
    {
     "data": {
      "text/plain": "<Figure size 640x480 with 1 Axes>",
      "image/png": "[encoded data removed]"
     },
     "metadata": {},
     "output_type": "display_data"
    }
   ],
   "source": [
    "TT = (np.logspace(5, 7, 50) * u.eV/ const.k_B).to(u.K)\n",
    "\n",
    "fig = plt.figure()\n",
    "plt.plot(TT, Gamma_n(TT), label=\"$\\Gamma_n(T)$\")\n",
    "plt.plot(TT, H(TT), label=\"$H(T)$\")\n",
    "plt.gca().invert_xaxis()\n",
    "plt.yscale(\"log\")\n",
    "plt.xscale(\"log\")\n",
    "plt.legend()\n",
    "plt.xlabel(\"$T$ [K]\")\n",
    "plt.show()"
   ],
   "metadata": {
    "collapsed": false,
    "ExecuteTime": {
     "end_time": "2024-02-02T18:32:42.923647Z",
     "start_time": "2024-02-02T18:32:41.968875Z"
    }
   }
  },
  {
   "cell_type": "markdown",
   "source": [
    "Using Weinberg and Dodelson equations"
   ],
   "metadata": {
    "collapsed": false
   }
  },
  {
   "cell_type": "markdown",
   "source": [
    "Check equality of constant $g_V$ in Weinberg eq 15.7.9 p.547 with with Fermi constant $G_F$"
   ],
   "metadata": {
    "collapsed": false
   }
  },
  {
   "cell_type": "code",
   "execution_count": 11,
   "outputs": [
    {
     "data": {
      "text/plain": "<Quantity 1.15187785e-05 1 / GeV2>",
      "text/latex": "$1.1518778 \\times 10^{-5} \\; \\mathrm{\\frac{1}{GeV^{2}}}$"
     },
     "execution_count": 11,
     "metadata": {},
     "output_type": "execute_result"
    }
   ],
   "source": [
    "gV = 1.418e-49*u.erg*u.cm**3\n",
    "(gV/(const.hbar*const.c)**3).to(u.GeV**-2)"
   ],
   "metadata": {
    "collapsed": false,
    "ExecuteTime": {
     "end_time": "2024-02-02T18:32:42.934590Z",
     "start_time": "2024-02-02T18:32:42.927731Z"
    }
   }
  },
  {
   "cell_type": "code",
   "execution_count": 12,
   "outputs": [
    {
     "data": {
      "text/plain": "<Quantity 1.166e-05 1 / GeV2>",
      "text/latex": "$1.166 \\times 10^{-5} \\; \\mathrm{\\frac{1}{GeV^{2}}}$"
     },
     "execution_count": 12,
     "metadata": {},
     "output_type": "execute_result"
    }
   ],
   "source": [
    "GF"
   ],
   "metadata": {
    "collapsed": false,
    "ExecuteTime": {
     "end_time": "2024-02-02T18:32:42.959924Z",
     "start_time": "2024-02-02T18:32:42.936977Z"
    }
   }
  },
  {
   "cell_type": "code",
   "execution_count": 13,
   "outputs": [
    {
     "data": {
      "text/plain": "<Quantity 1.23301053e-11 1 / GeV4>",
      "text/latex": "$1.2330105 \\times 10^{-11} \\; \\mathrm{\\frac{1}{GeV^{4}}}$"
     },
     "execution_count": 13,
     "metadata": {},
     "output_type": "execute_result"
    }
   ],
   "source": [
    "A=(((gV/(const.hbar*const.c)**3)**2+3*(gA*gV/(const.hbar*const.c)**3)**2)/(2*np.pi**3)).to(u.GeV**-4)\n",
    "A #*7/15*np.pi**4"
   ],
   "metadata": {
    "collapsed": false,
    "ExecuteTime": {
     "end_time": "2024-02-02T18:32:42.962128Z",
     "start_time": "2024-02-02T18:32:42.947161Z"
    }
   }
  },
  {
   "cell_type": "code",
   "execution_count": 14,
   "outputs": [
    {
     "data": {
      "text/plain": "<Quantity 1.45769265e-11 1 / GeV4>",
      "text/latex": "$1.4576927 \\times 10^{-11} \\; \\mathrm{\\frac{1}{GeV^{4}}}$"
     },
     "execution_count": 14,
     "metadata": {},
     "output_type": "execute_result"
    }
   ],
   "source": [
    "A = GF**2*(1+3*gA**2)/(2*np.pi**3) * 1013/878\n",
    "A"
   ],
   "metadata": {
    "collapsed": false,
    "ExecuteTime": {
     "end_time": "2024-02-02T18:32:42.979865Z",
     "start_time": "2024-02-02T18:32:42.964976Z"
    }
   }
  },
  {
   "cell_type": "code",
   "execution_count": 15,
   "outputs": [
    {
     "data": {
      "text/plain": "(<Quantity 0.65549597 1 / s>,\n <Quantity 0.13069837 1 / s>,\n <Quantity 0.4335013 1 / s>)"
     },
     "execution_count": 15,
     "metadata": {},
     "output_type": "execute_result"
    }
   ],
   "source": [
    "from scipy.integrate import quad\n",
    "me = 511*u.keV\n",
    "\n",
    "integrand_lpn = lambda q, T: (A*np.sqrt(1-(me/(Qn+q))**2)*(Qn+q)**2*(q)**2/(1+np.exp(-q/(const.k_B*T)))/(1+np.exp((Qn+q)/(const.k_B * T)))).to(u.dimensionless_unscaled)\n",
    "\n",
    "integrand_lnp = lambda q, T: (A*np.sqrt(1-(me/(Qn+q))**2)*(Qn+q)**2*(q)**2/(1+np.exp(q/(const.k_B*T)))/(1+np.exp(-(Qn+q)/(const.k_B * T)))).to(u.dimensionless_unscaled)\n",
    "\n",
    "def lnp(T):\n",
    "    intp = quad(lambda q: integrand_lnp(q*u.MeV,T), (-Qn+me).to(u.MeV).value, np.inf)[0]\n",
    "    intm = quad(lambda q: integrand_lnp(q*u.MeV,T), -np.inf, (-Qn-me).to(u.MeV).value)[0]\n",
    "    return ((intp+intm)*u.MeV/const.hbar).to(1/u.s)\n",
    "\n",
    "def lpn(T):\n",
    "    intp = quad(lambda q: integrand_lpn(q*u.MeV,T), (-Qn+me).to(u.MeV).value, np.inf)[0]\n",
    "    intm = quad(lambda q: integrand_lpn(q*u.MeV,T), -np.inf, (-Qn-me).to(u.MeV).value)[0]\n",
    "    return ((intp+intm)*u.MeV/const.hbar).to(1/u.s)\n",
    "\n",
    "def lambda_np_Bernstein(T):  # Dodeslon p.67\n",
    "    x = Qn / (const.k_B * T)\n",
    "    return (255/(taun*x**5)*(12+6*x+x**2)).to(1/u.s)\n",
    "\n",
    "lnp(0.8*T_1MeV), lpn(0.8*T_1MeV) , H(0.8*T_1MeV)"
   ],
   "metadata": {
    "collapsed": false,
    "ExecuteTime": {
     "end_time": "2024-02-02T18:32:43.163850Z",
     "start_time": "2024-02-02T18:32:43.028810Z"
    }
   }
  },
  {
   "cell_type": "markdown",
   "source": [
    "Check that $\\lambda_{pn} \\sim \\lambda_{np} e^{-Qn/T}$ :"
   ],
   "metadata": {
    "collapsed": false
   }
  },
  {
   "cell_type": "code",
   "execution_count": 16,
   "outputs": [
    {
     "data": {
      "text/plain": "<Quantity 0.13069837 1 / s>",
      "text/latex": "$0.13069837 \\; \\mathrm{\\frac{1}{s}}$"
     },
     "execution_count": 16,
     "metadata": {},
     "output_type": "execute_result"
    }
   ],
   "source": [
    "lnp(0.8*T_1MeV) * np.exp(-Qn/(const.k_B * 0.8 * T_1MeV))"
   ],
   "metadata": {
    "collapsed": false,
    "ExecuteTime": {
     "end_time": "2024-02-02T18:32:43.277326Z",
     "start_time": "2024-02-02T18:32:43.210541Z"
    }
   }
  },
  {
   "cell_type": "code",
   "execution_count": 17,
   "outputs": [
    {
     "name": "stderr",
     "output_type": "stream",
     "text": [
      "/Users/jneveu/mambaforge/envs/m2-cosmo/lib/python3.11/site-packages/astropy/units/quantity.py:666: RuntimeWarning: overflow encountered in exp\n",
      "  result = super().__array_ufunc__(function, method, *arrays, **kwargs)\n"
     ]
    },
    {
     "data": {
      "text/plain": "<Figure size 640x480 with 1 Axes>",
      "image/png": "[encoded data removed]"
     },
     "metadata": {},
     "output_type": "display_data"
    }
   ],
   "source": [
    "fig = plt.figure()\n",
    "plt.plot(TT, np.array([lnp(T).value for T in TT])/u.s)\n",
    "plt.plot(TT, lambda_np_Bernstein(TT))\n",
    "plt.yscale(\"log\")\n",
    "plt.xscale(\"log\")\n",
    "plt.show()"
   ],
   "metadata": {
    "collapsed": false,
    "ExecuteTime": {
     "end_time": "2024-02-02T18:32:47.490870Z",
     "start_time": "2024-02-02T18:32:43.282220Z"
    }
   }
  },
  {
   "cell_type": "markdown",
   "source": [
    "Solve"
   ],
   "metadata": {
    "collapsed": false
   }
  },
  {
   "cell_type": "code",
   "execution_count": 18,
   "outputs": [
    {
     "data": {
      "text/plain": "(0.25519546549372635, 0.2560944761656546)"
     },
     "execution_count": 18,
     "metadata": {},
     "output_type": "execute_result"
    }
   ],
   "source": [
    "from scipy.integrate import odeint\n",
    "\n",
    "def dXndt_notaun(Xn, t):\n",
    "    return (lambda_np_Bernstein(t_to_T(t*u.s))*( (1-Xn)*np.exp(-Qn/(const.k_B*t_to_T(t*u.s))) - Xn)).value\n",
    "\n",
    "def dXndt(Xn, t):\n",
    "    return (lambda_np_Bernstein(t_to_T(t*u.s))*( (1-Xn)*np.exp(-Qn/(const.k_B*t_to_T(t*u.s))) - Xn) - Xn/taun).value\n",
    "    # return (lnp(t_to_T(t*u.s))*(-Xn + np.exp(-Qn/(const.k_B * t_to_T(t*u.s))) * (1-Xn))).value\n",
    "\n",
    "tt = np.logspace(-3, 3, 100)\n",
    "\n",
    "Xn_sol = odeint(dXndt, 1/(1+np.exp(Qn/(const.k_B * t_to_T(tt[0]*u.s)))), tt)\n",
    "Xnt = lambda t: np.interp(t, tt*u.s, Xn_sol[:, 0])\n",
    "XnT = lambda T: np.interp(T, t_to_T(tt[::-1]*u.s), Xn_sol[:, 0][::-1])\n",
    "\n",
    "Xn_sol_notaun = odeint(dXndt_notaun, 1/(1+np.exp(Qn/(const.k_B * t_to_T(tt[0]*u.s)))), tt)\n",
    "Xnt_notaun = lambda t: np.interp(t, tt*u.s, Xn_sol_notaun[:, 0])\n",
    "XnT_notaun = lambda T: np.interp(T, t_to_T(tt[::-1]*u.s), Xn_sol_notaun[:, 0][::-1])\n",
    "\n",
    "XnT(T_1MeV), Xnt(0.73*u.s)"
   ],
   "metadata": {
    "collapsed": false,
    "ExecuteTime": {
     "end_time": "2024-02-02T18:32:51.136820Z",
     "start_time": "2024-02-02T18:32:47.496509Z"
    }
   }
  },
  {
   "cell_type": "code",
   "execution_count": 19,
   "outputs": [
    {
     "data": {
      "text/plain": "(-0.05939873483434466,\n 0.23675385784674552,\n <Quantity 0.50298636 1 / s>,\n <Quantity 0.50298636 1 / s>,\n <Quantity 0.99406274 s>)"
     },
     "execution_count": 19,
     "metadata": {},
     "output_type": "execute_result"
    }
   ],
   "source": [
    "dXndt(XnT(1e10*u.K), T_to_t(1e10*u.K).value), XnT(1e10*u.K), H(1e10*u.K),1/(2*T_to_t(1e10*u.K)), T_to_t(1e10*u.K)"
   ],
   "metadata": {
    "collapsed": false,
    "ExecuteTime": {
     "end_time": "2024-02-02T18:32:51.140654Z",
     "start_time": "2024-02-02T18:32:51.110526Z"
    }
   }
  },
  {
   "cell_type": "code",
   "execution_count": 20,
   "outputs": [
    {
     "data": {
      "text/plain": "(0.05915146970508122,\n 0.2366176001893018,\n <Quantity 0.5 1 / s>,\n <Quantity 0.5 1 / s>,\n <Quantity 0.85917135 MeV>)"
     },
     "execution_count": 20,
     "metadata": {},
     "output_type": "execute_result"
    }
   ],
   "source": [
    "-dXndt(Xnt(1*u.s), 1), Xnt(1*u.s), H(t_to_T(1*u.s)), 1/(2*1*u.s), (const.k_B*t_to_T(1*u.s)).to(u.MeV)"
   ],
   "metadata": {
    "collapsed": false,
    "ExecuteTime": {
     "end_time": "2024-02-02T18:32:51.199218Z",
     "start_time": "2024-02-02T18:32:51.126311Z"
    }
   }
  },
  {
   "cell_type": "markdown",
   "source": [
    "Differential equation 3.27 from Dodelson p.67"
   ],
   "metadata": {
    "collapsed": false
   }
  },
  {
   "cell_type": "code",
   "execution_count": 21,
   "outputs": [
    {
     "data": {
      "text/plain": "array([[ 4.99750000e-01],\n       [ 4.99732027e-01],\n       [ 4.99712762e-01],\n       [ 4.99692113e-01],\n       [ 4.99669978e-01],\n       [ 4.99646252e-01],\n       [ 4.99620821e-01],\n       [ 4.99593561e-01],\n       [ 4.99564342e-01],\n       [ 4.99533022e-01],\n       [ 4.99499450e-01],\n       [ 4.99463465e-01],\n       [ 4.99424893e-01],\n       [ 4.99383548e-01],\n       [ 4.99339230e-01],\n       [ 4.99291727e-01],\n       [ 4.99240808e-01],\n       [ 4.99186229e-01],\n       [ 4.99127727e-01],\n       [ 4.99065019e-01],\n       [ 4.98997802e-01],\n       [ 4.98925754e-01],\n       [ 4.98848526e-01],\n       [ 4.98765746e-01],\n       [ 4.98677015e-01],\n       [ 4.98581904e-01],\n       [ 4.98479956e-01],\n       [ 4.98370679e-01],\n       [ 4.98253546e-01],\n       [ 4.98127992e-01],\n       [ 4.97993412e-01],\n       [ 4.97849157e-01],\n       [ 4.97694530e-01],\n       [ 4.97528788e-01],\n       [ 4.97351130e-01],\n       [ 4.97160700e-01],\n       [ 4.96956582e-01],\n       [ 4.96737795e-01],\n       [ 4.96503279e-01],\n       [ 4.96251904e-01],\n       [ 4.95982457e-01],\n       [ 4.95693653e-01],\n       [ 4.95384073e-01],\n       [ 4.95052240e-01],\n       [ 4.94696554e-01],\n       [ 4.94315301e-01],\n       [ 4.93906642e-01],\n       [ 4.93468609e-01],\n       [ 4.92999091e-01],\n       [ 4.92495824e-01],\n       [ 4.91956384e-01],\n       [ 4.91378172e-01],\n       [ 4.90758401e-01],\n       [ 4.90094834e-01],\n       [ 4.89382962e-01],\n       [ 4.88619959e-01],\n       [ 4.87802167e-01],\n       [ 4.86925653e-01],\n       [ 4.85986224e-01],\n       [ 4.84979408e-01],\n       [ 4.83900349e-01],\n       [ 4.82743902e-01],\n       [ 4.81504556e-01],\n       [ 4.80176432e-01],\n       [ 4.78753223e-01],\n       [ 4.77228200e-01],\n       [ 4.75594190e-01],\n       [ 4.73843543e-01],\n       [ 4.71968118e-01],\n       [ 4.69959279e-01],\n       [ 4.67807812e-01],\n       [ 4.65503922e-01],\n       [ 4.63037146e-01],\n       [ 4.60396312e-01],\n       [ 4.57569463e-01],\n       [ 4.54543946e-01],\n       [ 4.51306504e-01],\n       [ 4.47843362e-01],\n       [ 4.44140352e-01],\n       [ 4.40182994e-01],\n       [ 4.35956664e-01],\n       [ 4.31446691e-01],\n       [ 4.26638529e-01],\n       [ 4.21518144e-01],\n       [ 4.16071925e-01],\n       [ 4.10287074e-01],\n       [ 4.04151718e-01],\n       [ 3.97655330e-01],\n       [ 3.90789577e-01],\n       [ 3.83549444e-01],\n       [ 3.75934762e-01],\n       [ 3.67951811e-01],\n       [ 3.59614629e-01],\n       [ 3.50945697e-01],\n       [ 3.41976128e-01],\n       [ 3.32740413e-01],\n       [ 3.23297666e-01],\n       [ 3.13690719e-01],\n       [ 3.03979764e-01],\n       [ 2.94228780e-01],\n       [ 2.84505817e-01],\n       [ 2.74881745e-01],\n       [ 2.65428386e-01],\n       [ 2.56215748e-01],\n       [ 2.47309246e-01],\n       [ 2.38764471e-01],\n       [ 2.30636395e-01],\n       [ 2.22961146e-01],\n       [ 2.15767659e-01],\n       [ 2.09074573e-01],\n       [ 2.02890716e-01],\n       [ 1.97215665e-01],\n       [ 1.92040636e-01],\n       [ 1.87349560e-01],\n       [ 1.83120195e-01],\n       [ 1.79325456e-01],\n       [ 1.75934664e-01],\n       [ 1.72914673e-01],\n       [ 1.70230901e-01],\n       [ 1.67848201e-01],\n       [ 1.65731520e-01],\n       [ 1.63846538e-01],\n       [ 1.62160022e-01],\n       [ 1.60640093e-01],\n       [ 1.59256354e-01],\n       [ 1.57979885e-01],\n       [ 1.56783173e-01],\n       [ 1.55639946e-01],\n       [ 1.54524953e-01],\n       [ 1.53413694e-01],\n       [ 1.52282148e-01],\n       [ 1.51106475e-01],\n       [ 1.49862703e-01],\n       [ 1.48526470e-01],\n       [ 1.47072748e-01],\n       [ 1.45475603e-01],\n       [ 1.43708014e-01],\n       [ 1.41741733e-01],\n       [ 1.39547231e-01],\n       [ 1.37093733e-01],\n       [ 1.34349408e-01],\n       [ 1.31281738e-01],\n       [ 1.27858099e-01],\n       [ 1.24046626e-01],\n       [ 1.19817430e-01],\n       [ 1.15144192e-01],\n       [ 1.10006209e-01],\n       [ 1.04390877e-01],\n       [ 9.82966449e-02],\n       [ 9.17363196e-02],\n       [ 8.47405662e-02],\n       [ 7.73613310e-02],\n       [ 6.96747364e-02],\n       [ 6.17829304e-02],\n       [ 5.38140758e-02],\n       [ 4.59198049e-02],\n       [ 3.82693599e-02],\n       [ 3.10400002e-02],\n       [ 2.44037408e-02],\n       [ 1.85113633e-02],\n       [ 1.34756805e-02],\n       [ 9.35687663e-03],\n       [ 6.15346978e-03],\n       [ 3.80192508e-03],\n       [ 2.18646731e-03],\n       [ 1.15797389e-03],\n       [ 5.57878755e-04],\n       [ 2.41069349e-04],\n       [ 9.19319884e-05],\n       [ 3.03683527e-05],\n       [ 8.50525346e-06],\n       [ 1.97021569e-06],\n       [ 3.66736102e-07],\n       [ 5.34917855e-08],\n       [ 5.72355397e-09],\n       [ 2.79700787e-10],\n       [-4.65247464e-10],\n       [-5.35028408e-10],\n       [-2.08088594e-10],\n       [-1.81120991e-10],\n       [-1.52214651e-10],\n       [-1.21230197e-10],\n       [-8.80182287e-11],\n       [-5.24186086e-11],\n       [-1.42596849e-11],\n       [-1.40219702e-11],\n       [-2.82188545e-11],\n       [-4.34363715e-11],\n       [-5.97478960e-11],\n       [-7.02529143e-11],\n       [-6.79678487e-11],\n       [-6.55185067e-11],\n       [-6.28930783e-11],\n       [-6.00789043e-11],\n       [-5.70624157e-11],\n       [-5.38290678e-11],\n       [-5.03632702e-11],\n       [-4.66483118e-11],\n       [-4.26662802e-11],\n       [-3.83979751e-11]])"
     },
     "execution_count": 21,
     "metadata": {},
     "output_type": "execute_result"
    }
   ],
   "source": [
    "def dXndx(Xn, x):\n",
    "    T = (Qn / (const.k_B * x)).to(u.K)\n",
    "    return (x*lnp(T)/H(Qn/const.k_B)*(np.exp(-x) - Xn*(1+np.exp(-x)))).value\n",
    "\n",
    "xx = np.logspace(-3, 3, 200)\n",
    "XnDodelson_sol = odeint(dXndx, 1/(1+np.exp(xx[0])), xx)\n",
    "XnDodelson_sol"
   ],
   "metadata": {
    "collapsed": false,
    "ExecuteTime": {
     "end_time": "2024-02-02T18:34:08.740823Z",
     "start_time": "2024-02-02T18:32:51.176248Z"
    }
   }
  },
  {
   "cell_type": "code",
   "execution_count": 22,
   "outputs": [
    {
     "data": {
      "text/plain": "array([-3.83979751e-11])"
     },
     "execution_count": 22,
     "metadata": {},
     "output_type": "execute_result"
    }
   ],
   "source": [
    "XnDodelson_sol[-1]"
   ],
   "metadata": {
    "collapsed": false,
    "ExecuteTime": {
     "end_time": "2024-02-02T18:34:08.744678Z",
     "start_time": "2024-02-02T18:34:08.738294Z"
    }
   }
  },
  {
   "cell_type": "code",
   "execution_count": 23,
   "outputs": [
    {
     "data": {
      "text/plain": "<Figure size 640x480 with 1 Axes>",
      "image/png": "[encoded data removed]"
     },
     "metadata": {},
     "output_type": "display_data"
    }
   ],
   "source": [
    "fig = plt.figure()\n",
    "#plt.plot((TT*const.k_B).to(u.MeV), XnT(TT))\n",
    "plt.plot((Qn / xx).to(u.MeV), XnDodelson_sol)\n",
    "#plt.yscale(\"log\")\n",
    "plt.xscale(\"log\")\n",
    "plt.gca().invert_xaxis()\n",
    "plt.grid()\n",
    "plt.show()"
   ],
   "metadata": {
    "collapsed": false,
    "ExecuteTime": {
     "end_time": "2024-02-02T18:34:09.232897Z",
     "start_time": "2024-02-02T18:34:08.748677Z"
    }
   }
  },
  {
   "cell_type": "code",
   "execution_count": 24,
   "outputs": [
    {
     "data": {
      "text/plain": "<Figure size 640x480 with 1 Axes>",
      "image/png": "[encoded data removed]"
     },
     "metadata": {},
     "output_type": "display_data"
    }
   ],
   "source": [
    "\n",
    "\n",
    "fig = plt.figure()\n",
    "#plt.plot((TT*const.k_B).to(u.MeV), XnT(TT))\n",
    "plt.plot((Qn / xx).to(u.MeV), [-dXndx(XnDodelson_sol[k], x) for k,x in enumerate(xx)])\n",
    "plt.plot((Qn / xx).to(u.MeV), H((Qn / xx / const.k_B).to(u.K)), label=\"$H(T)$\")\n",
    "plt.yscale(\"log\")\n",
    "plt.xscale(\"log\")\n",
    "plt.gca().invert_xaxis()\n",
    "plt.grid()\n",
    "plt.show()\n",
    "\n"
   ],
   "metadata": {
    "collapsed": false,
    "ExecuteTime": {
     "end_time": "2024-02-02T18:34:23.393115Z",
     "start_time": "2024-02-02T18:34:09.306622Z"
    }
   }
  },
  {
   "cell_type": "code",
   "execution_count": 25,
   "outputs": [
    {
     "data": {
      "text/plain": "<Figure size 640x480 with 1 Axes>",
      "image/png": "[encoded data removed]"
     },
     "metadata": {},
     "output_type": "display_data"
    }
   ],
   "source": [
    "fig = plt.figure()\n",
    "plt.plot((t_to_T(tt*u.s)*const.k_B).to(u.MeV), Xn_sol)\n",
    "#plt.plot((t_to_T(tt*u.s)*const.k_B).to(u.MeV), XnDodelson_sol)\n",
    "#plt.plot((Qn / xx).to(u.MeV), XnDodelson_sol)\n",
    "#plt.plot((t_to_T(tt*u.s)*const.k_B).to(u.MeV), XnT(t_to_T(tt*u.s)))\n",
    "#plt.plot((TT*const.k_B).to(u.MeV), XnT(TT))\n",
    "#plt.plot((TT*const.k_B).to(u.MeV), Xnt(T_to_t(TT)))\n",
    "#plt.plot((Qn / xx).to(u.MeV), Xn_sol)\n",
    "#plt.yscale(\"log\")\n",
    "plt.xscale(\"log\")\n",
    "plt.gca().invert_xaxis()\n",
    "plt.grid()\n",
    "plt.xlabel(\"$T$ [K]\", fontsize=16)\n",
    "plt.ylabel(\"$X_n$\", fontsize=16)\n",
    "\n",
    "plt.show()"
   ],
   "metadata": {
    "collapsed": false,
    "ExecuteTime": {
     "end_time": "2024-02-02T18:34:23.831188Z",
     "start_time": "2024-02-02T18:34:23.394142Z"
    }
   }
  },
  {
   "cell_type": "code",
   "execution_count": 26,
   "outputs": [
    {
     "data": {
      "text/plain": "<Figure size 640x480 with 1 Axes>",
      "image/png": "[encoded data removed]"
     },
     "metadata": {},
     "output_type": "display_data"
    }
   ],
   "source": [
    "TTT = t_to_T(tt*u.s)\n",
    "\n",
    "fig = plt.figure()\n",
    "#plt.plot(tt, np.array([-dXndt(Xnt(t*u.s), t) for t in tt])/u.s, label=\"$\\Gamma_n(T)$\")\n",
    "plt.plot(tt, lambda_np_Bernstein(TTT), label=\"$\\Gamma_n(T)$\")\n",
    "#plt.plot(tt, np.array([lnp(T).value+lpn(T).value for T in TTT])/u.s, label=\"$\\Gamma_n(T)$\")\n",
    "plt.plot(tt, 1/(2*tt), label=\"$H(T)$\")\n",
    "#plt.gca().invert_xaxis()\n",
    "plt.axvline(1.7)\n",
    "plt.yscale(\"log\")\n",
    "plt.xscale(\"log\")\n",
    "plt.legend()\n",
    "plt.grid()\n",
    "plt.xlabel(\"$t$ [s]\")\n",
    "plt.show()"
   ],
   "metadata": {
    "collapsed": false,
    "ExecuteTime": {
     "end_time": "2024-02-02T18:34:24.433131Z",
     "start_time": "2024-02-02T18:34:23.842522Z"
    }
   }
  },
  {
   "cell_type": "code",
   "execution_count": 27,
   "outputs": [
    {
     "data": {
      "text/plain": "<Quantity 0.67481545 MeV>",
      "text/latex": "$0.67481545 \\; \\mathrm{MeV}$"
     },
     "execution_count": 27,
     "metadata": {},
     "output_type": "execute_result"
    }
   ],
   "source": [
    "from scipy.optimize import fsolve\n",
    "Tfreeze = fsolve(lambda T: lambda_np_Bernstein(T*u.K).value-H(T*u.K).value, [1e8, 1e12])[1] * u.K\n",
    "(Tfreeze * const.k_B).to(u.MeV)"
   ],
   "metadata": {
    "collapsed": false,
    "ExecuteTime": {
     "end_time": "2024-02-02T18:34:24.554753Z",
     "start_time": "2024-02-02T18:34:24.527439Z"
    }
   }
  },
  {
   "cell_type": "code",
   "execution_count": 28,
   "outputs": [
    {
     "data": {
      "text/plain": "0.26689641466233477"
     },
     "execution_count": 28,
     "metadata": {},
     "output_type": "execute_result"
    }
   ],
   "source": [
    "def ratio_np(T):\n",
    "    return XnT(T) / (1-XnT(T))\n",
    "\n",
    "def ratio_np_notaun(T):\n",
    "    return XnT_notaun(T) / (1-XnT_notaun(T))\n",
    "\n",
    "npfreeze = ratio_np(Tfreeze)\n",
    "npfreeze"
   ],
   "metadata": {
    "collapsed": false,
    "ExecuteTime": {
     "end_time": "2024-02-02T18:34:24.555575Z",
     "start_time": "2024-02-02T18:34:24.533590Z"
    }
   }
  },
  {
   "cell_type": "markdown",
   "source": [
    "Proportion of neutrino converging after $T_{freeze}$:"
   ],
   "metadata": {
    "collapsed": false
   }
  },
  {
   "cell_type": "code",
   "execution_count": 29,
   "outputs": [
    {
     "data": {
      "text/plain": "0.17357775885933985"
     },
     "execution_count": 29,
     "metadata": {},
     "output_type": "execute_result"
    }
   ],
   "source": [
    "npfreeze = ratio_np_notaun(1e7*u.K)\n",
    "\n",
    "npfreeze"
   ],
   "metadata": {
    "collapsed": false,
    "ExecuteTime": {
     "end_time": "2024-02-02T18:34:24.559114Z",
     "start_time": "2024-02-02T18:34:24.547818Z"
    }
   }
  },
  {
   "cell_type": "code",
   "execution_count": 30,
   "outputs": [
    {
     "ename": "NameError",
     "evalue": "name 'TTbefore' is not defined",
     "output_type": "error",
     "traceback": [
      "\u001B[0;31m---------------------------------------------------------------------------\u001B[0m",
      "\u001B[0;31mNameError\u001B[0m                                 Traceback (most recent call last)",
      "Cell \u001B[0;32mIn[30], line 2\u001B[0m\n\u001B[1;32m      1\u001B[0m fig \u001B[38;5;241m=\u001B[39m plt\u001B[38;5;241m.\u001B[39mfigure()\n\u001B[0;32m----> 2\u001B[0m p \u001B[38;5;241m=\u001B[39m plt\u001B[38;5;241m.\u001B[39mplot(\u001B[43mTTbefore\u001B[49m, ratio_np(TTbefore))\n\u001B[1;32m      3\u001B[0m plt\u001B[38;5;241m.\u001B[39mplot(TTafter, ratio_np(TTafter), linestyle\u001B[38;5;241m=\u001B[39m\u001B[38;5;124m\"\u001B[39m\u001B[38;5;124m--\u001B[39m\u001B[38;5;124m\"\u001B[39m, color\u001B[38;5;241m=\u001B[39mp[\u001B[38;5;241m0\u001B[39m]\u001B[38;5;241m.\u001B[39mget_color())\n\u001B[1;32m      4\u001B[0m plt\u001B[38;5;241m.\u001B[39maxvline(Tfreeze\u001B[38;5;241m.\u001B[39mvalue, color\u001B[38;5;241m=\u001B[39m\u001B[38;5;124m\"\u001B[39m\u001B[38;5;124mk\u001B[39m\u001B[38;5;124m\"\u001B[39m, linestyle\u001B[38;5;241m=\u001B[39m\u001B[38;5;124m\"\u001B[39m\u001B[38;5;124m--\u001B[39m\u001B[38;5;124m\"\u001B[39m)\n",
      "\u001B[0;31mNameError\u001B[0m: name 'TTbefore' is not defined"
     ]
    },
    {
     "data": {
      "text/plain": "<Figure size 640x480 with 0 Axes>"
     },
     "metadata": {},
     "output_type": "display_data"
    }
   ],
   "source": [
    "\n",
    "fig = plt.figure()\n",
    "p = plt.plot(TTbefore, ratio_np(TTbefore))\n",
    "plt.plot(TTafter, ratio_np(TTafter), linestyle=\"--\", color=p[0].get_color())\n",
    "plt.axvline(Tfreeze.value, color=\"k\", linestyle=\"--\")\n",
    "plt.xscale(\"log\")\n",
    "plt.yscale(\"log\")\n",
    "plt.gca().invert_xaxis()\n",
    "plt.grid()\n",
    "plt.show()"
   ],
   "metadata": {
    "collapsed": false,
    "ExecuteTime": {
     "end_time": "2024-02-02T18:34:24.816129Z",
     "start_time": "2024-02-02T18:34:24.556418Z"
    }
   }
  },
  {
   "cell_type": "markdown",
   "source": [
    "## Deutérium ratio"
   ],
   "metadata": {
    "collapsed": false
   }
  },
  {
   "cell_type": "code",
   "execution_count": null,
   "outputs": [],
   "source": [
    "BD = 2.22 * u.MeV\n",
    "mn = 939.6 * u.MeV\n",
    "Omegab0 = Planck18.Ob0\n",
    "age = Planck18.lookback_time(np.inf)\n",
    "rhoc0 = (3 * Planck18.H0**2 / (8 * np.pi * const.G) / const.m_p).to(1/u.m**3)"
   ],
   "metadata": {
    "collapsed": false,
    "ExecuteTime": {
     "end_time": "2024-02-02T18:34:24.830979Z",
     "start_time": "2024-02-02T18:34:24.821535Z"
    }
   }
  },
  {
   "cell_type": "code",
   "execution_count": null,
   "outputs": [],
   "source": [
    "def nb(z):\n",
    "    return Omegab0 * rhoc0 * (1+z)**3\n",
    "\n",
    "eta = nb(0) / ng(T0)\n",
    "eta"
   ],
   "metadata": {
    "collapsed": false,
    "ExecuteTime": {
     "start_time": "2024-02-02T18:34:24.824643Z"
    }
   }
  },
  {
   "cell_type": "code",
   "execution_count": null,
   "outputs": [],
   "source": [
    "def ratio_Dn(T):\n",
    "    # return (6*0.2*np.pi**3/2*eta*(const.k_B * T/(mn*const.c**2))**(3/2)*np.exp(BD/(const.k_B*T))).to(u.dimensionless_unscaled)\n",
    "    return (6*(1-XnT(T))*2*zeta(3)*(np.pi/2)*eta*(const.k_B * T/mn)**(3/2)*np.exp(BD/(const.k_B*T))).to(u.dimensionless_unscaled)\n",
    "\n",
    "ratio_Dn(Tfreeze)"
   ],
   "metadata": {
    "collapsed": false,
    "ExecuteTime": {
     "start_time": "2024-02-02T18:34:24.828793Z"
    }
   }
  },
  {
   "cell_type": "code",
   "execution_count": null,
   "outputs": [],
   "source": [
    "from scipy.optimize import brentq\n",
    "Tnuc = brentq(lambda T: ratio_Dn(T*u.K)-1, 1e8, 1e10) * u.K\n",
    "Tnuc"
   ],
   "metadata": {
    "collapsed": false,
    "ExecuteTime": {
     "end_time": "2024-02-02T18:34:24.832962Z",
     "start_time": "2024-02-02T18:34:24.832820Z"
    }
   }
  },
  {
   "cell_type": "code",
   "execution_count": null,
   "outputs": [],
   "source": [
    "(const.k_B * Tnuc).to(u.MeV)"
   ],
   "metadata": {
    "collapsed": false,
    "ExecuteTime": {
     "start_time": "2024-02-02T18:34:24.836830Z"
    }
   }
  },
  {
   "cell_type": "code",
   "execution_count": null,
   "outputs": [],
   "source": [
    "tnuc = T_to_t(Tnuc, gstar=gstar_after)\n",
    "tnuc"
   ],
   "metadata": {
    "collapsed": false,
    "ExecuteTime": {
     "start_time": "2024-02-02T18:34:24.841478Z"
    }
   }
  },
  {
   "cell_type": "code",
   "execution_count": null,
   "outputs": [],
   "source": [
    "def ratio_np_after(T):\n",
    "    return np.exp(-T_to_t(T, gstar=gstar_after)/taun)/(1/npfreeze + (1-np.exp(-T_to_t(T, gstar=gstar_after)/taun)))\n",
    "\n",
    "npnuc = ratio_np_after(Tnuc)\n",
    "npnuc"
   ],
   "metadata": {
    "collapsed": false,
    "ExecuteTime": {
     "start_time": "2024-02-02T18:34:24.847525Z"
    }
   }
  },
  {
   "cell_type": "code",
   "execution_count": null,
   "outputs": [],
   "source": [
    "T_to_t(0.1*u.MeV/const.k_B, gstar=gstar_after)"
   ],
   "metadata": {
    "collapsed": false,
    "ExecuteTime": {
     "end_time": "2024-02-02T18:34:24.867308Z",
     "start_time": "2024-02-02T18:34:24.851400Z"
    }
   }
  },
  {
   "cell_type": "code",
   "execution_count": null,
   "outputs": [],
   "source": [
    "npnuc = ratio_np(Tnuc)\n",
    "npnuc"
   ],
   "metadata": {
    "collapsed": false,
    "ExecuteTime": {
     "start_time": "2024-02-02T18:34:24.854926Z"
    }
   }
  },
  {
   "cell_type": "markdown",
   "source": [
    "Maximum helium 4 abondance (if all neutrons end in helium nuclei, no D nor Li nor...):"
   ],
   "metadata": {
    "collapsed": false
   }
  },
  {
   "cell_type": "code",
   "execution_count": null,
   "outputs": [],
   "source": [
    "def Yp(np):\n",
    "    return 2*np/(1+np)\n",
    "\n",
    "Yp(npnuc)"
   ],
   "metadata": {
    "collapsed": false,
    "ExecuteTime": {
     "start_time": "2024-02-02T18:34:24.858066Z"
    }
   }
  },
  {
   "cell_type": "markdown",
   "source": [
    "## Plots"
   ],
   "metadata": {
    "collapsed": false
   }
  },
  {
   "cell_type": "code",
   "execution_count": null,
   "outputs": [],
   "source": [
    "#| label: BBN_Xn\n",
    "\n",
    "TT = (np.logspace(np.log10(7e4), np.log10(5e7), 100) * u.eV/ const.k_B).to(u.K)\n",
    "TTafter = (np.logspace(np.log10(7e4), np.log10(5e6), 100) * u.eV/ const.k_B).to(u.K)\n",
    "npeq = np.exp(-Qn/(const.k_B * TTafter))\n",
    "\n",
    "fig = plt.figure()\n",
    "plt.plot((TT*const.k_B).to(u.MeV), XnT(TT), label=rf\"$\\tau_n={taun:.1f}$\", lw=2)\n",
    "plt.plot((TT*const.k_B).to(u.MeV), XnT_notaun(TT), linestyle=\"dotted\", label=r\"$\\tau_n \\to \\infty$\", zorder=-2, color=\"k\")\n",
    "plt.plot((TTafter*const.k_B).to(u.MeV), npeq/(1+npeq), linestyle=\"-.\", label=r\"no freeze-out\", zorder=-3, color=\"k\")\n",
    "#plt.yscale(\"log\")\n",
    "plt.xscale(\"log\")\n",
    "plt.gca().invert_xaxis()\n",
    "plt.xlabel(\"$T$ [MeV]\", fontsize=14)\n",
    "plt.ylabel(\"$X_n$\", fontsize=14)\n",
    "plt.axvline((Tfreeze * const.k_B).to(u.MeV).value, color=\"b\", linestyle=\"--\", label=\"$T_\\mathrm{freeze}$\")\n",
    "plt.axvline((Tnuc * const.k_B).to(u.MeV).value, color=\"r\", linestyle=\"--\", label=\"$T_\\mathrm{nuc}$\")\n",
    "plt.legend(fontsize=14)\n",
    "plt.grid()\n",
    "\n",
    "secax = plt.gca().twiny()\n",
    "secax.plot(tt*u.s, Xnt(tt*u.s), linestyle=\"none\")\n",
    "secax.set_xscale(\"log\")\n",
    "secax.set_xlabel('$t$ [yr]', fontsize=14)\n",
    "\n",
    "plt.show()"
   ],
   "metadata": {
    "collapsed": false,
    "ExecuteTime": {
     "start_time": "2024-02-02T18:34:24.860931Z"
    }
   }
  },
  {
   "cell_type": "code",
   "execution_count": null,
   "outputs": [],
   "source": [
    "def ratio_mass_Dp(T):\n",
    "    return 2*ratio_Dn(T)/(1+ratio_np(T))\n",
    "\n",
    "def ratio_mass_Hp(T):\n",
    "    if T > Tnuc:\n",
    "        return 1/(1+ratio_np(T))\n",
    "    else:\n",
    "        return 1/(1+ratio_np(Tnuc))\n",
    "\n",
    "def ratio_mass_Hep(T):\n",
    "    if T > Tnuc:\n",
    "        return 0\n",
    "    else:\n",
    "        return Yp(npnuc)"
   ],
   "metadata": {
    "collapsed": false,
    "ExecuteTime": {
     "start_time": "2024-02-02T18:34:24.864037Z"
    }
   }
  },
  {
   "cell_type": "code",
   "execution_count": null,
   "outputs": [],
   "source": [
    "#| label: BBN_Yp\n",
    "\n",
    "fig = plt.figure()\n",
    "plt.plot((TT*const.k_B).to(u.MeV), ratio_np(TT), label=\"n\")\n",
    "p = plt.plot((TT*const.k_B).to(u.MeV), [ratio_mass_Hp(T) for T in TT], linestyle=\"-\", label=\"H\")\n",
    "TTHe = (np.logspace(4, np.log10(3*(const.k_B * Tnuc).to(u.eV).value), 20) * u.eV/ const.k_B).to(u.K)\n",
    "plt.plot((TTHe*const.k_B).to(u.MeV), [ratio_mass_Hp(T) for T in TTHe], linestyle=\"-\", color=p[0].get_color())\n",
    "plt.plot((TT*const.k_B).to(u.MeV), ratio_mass_Dp(TT), linestyle=\"-\", label=\"D\")\n",
    "plt.plot((TTHe*const.k_B).to(u.MeV), [ratio_mass_Hep(T) for T in TTHe], linestyle=\"-\", label=\"$^4$He\")\n",
    "plt.axvline((Tfreeze * const.k_B).to(u.MeV).value, color=\"b\", linestyle=\"--\", label=\"$T_\\mathrm{freeze}$\")\n",
    "plt.axvline((Tnuc * const.k_B).to(u.MeV).value, color=\"r\", linestyle=\"--\", label=\"$T_\\mathrm{nuc}$\")\n",
    "plt.xscale(\"log\")\n",
    "#plt.yscale(\"log\")\n",
    "plt.xlabel(\"$T$ [MeV]\", fontsize=16)\n",
    "plt.ylabel(\"Element mass fractions\", fontsize=16)\n",
    "plt.gca().invert_xaxis()\n",
    "#plt.ylim(1e-2, 1)\n",
    "plt.grid()\n",
    "plt.legend(fontsize=14, loc=\"center left\")\n",
    "plt.show()"
   ],
   "metadata": {
    "collapsed": false,
    "ExecuteTime": {
     "start_time": "2024-02-02T18:34:24.866677Z"
    }
   }
  },
  {
   "cell_type": "code",
   "execution_count": null,
   "outputs": [],
   "source": [
    "#| label: BBN_Gnp\n",
    "\n",
    "E = (TT * const.k_B).to(u.MeV)\n",
    "T_before_me = np.array([T.value for T in TT if (T * const.k_B > me)])*u.K\n",
    "T_after_me = np.array([T.value for T in TT if (T * const.k_B <= me)])*u.K\n",
    "\n",
    "fig = plt.figure()\n",
    "#plt.plot(tt, np.array([-dXndt(Xnt(t*u.s), t) for t in tt])/u.s, label=\"$\\Gamma_n(T)$\")\n",
    "plt.plot(E, lambda_np_Bernstein(TT), label=\"$\\Gamma_{np}(T)$\", color=\"r\")\n",
    "#plt.plot(E, np.array([lnp(T).value+lpn(T).value for T in TTT])/u.s, label=\"$\\Gamma_n(T)$\")\n",
    "plt.plot((T_before_me * const.k_B).to(u.MeV), H(T_before_me, gstar=gstar), label=\"$H(T)$\", color=\"k\")\n",
    "plt.plot((T_after_me * const.k_B).to(u.MeV), H(T_after_me, gstar=gstar_after), color=\"k\")\n",
    "plt.gca().invert_xaxis()\n",
    "plt.axvline((Tfreeze * const.k_B).to(u.MeV).value, color=\"b\", linestyle=\"--\", label=\"$T_\\mathrm{freeze}$\")\n",
    "plt.axvline(me.to(u.MeV).value, linestyle=\":\", label=\"$m_e$\", color=\"gray\")\n",
    "plt.yscale(\"log\")\n",
    "plt.xscale(\"log\")\n",
    "plt.legend(fontsize=14)\n",
    "plt.grid()\n",
    "plt.xlabel(\"$T$ [MeV]\", fontsize=16)\n",
    "plt.ylabel(\"Rates [1/s]\", fontsize=16)\n",
    "\n",
    "secax = plt.gca().twiny()\n",
    "secax.plot(tt*u.s, H(t_to_T(tt*u.s, gstar=gstar), gstar=gstar), linestyle=\"none\")\n",
    "secax.plot(tt*u.s, H(t_to_T(tt*u.s, gstar=gstar_after), gstar=gstar_after), linestyle=\"none\")\n",
    "secax.set_xscale(\"log\")\n",
    "secax.set_xlabel('$t$ [s]', fontsize=14)\n",
    "\n",
    "plt.show()"
   ],
   "metadata": {
    "collapsed": false,
    "ExecuteTime": {
     "end_time": "2024-02-02T18:34:24.871650Z",
     "start_time": "2024-02-02T18:34:24.869284Z"
    }
   }
  },
  {
   "cell_type": "code",
   "execution_count": null,
   "outputs": [],
   "source": [
    "(13.6*u.eV / const.k_B).to(u.K)"
   ],
   "metadata": {
    "collapsed": false,
    "ExecuteTime": {
     "end_time": "2024-02-02T18:34:24.872002Z",
     "start_time": "2024-02-02T18:34:24.871966Z"
    }
   }
  },
  {
   "cell_type": "code",
   "execution_count": null,
   "outputs": [],
   "source": [],
   "metadata": {
    "collapsed": false,
    "ExecuteTime": {
     "start_time": "2024-02-02T18:34:24.874771Z"
    }
   }
  }
 ],
 "metadata": {
  "kernelspec": {
   "display_name": "Python 3",
   "language": "python",
   "name": "python3"
  },
  "language_info": {
   "codemirror_mode": {
    "name": "ipython",
    "version": 2
   },
   "file_extension": ".py",
   "mimetype": "text/x-python",
   "name": "python",
   "nbconvert_exporter": "python",
   "pygments_lexer": "ipython2",
   "version": "2.7.6"
  }
 },
 "nbformat": 4,
 "nbformat_minor": 0
}
